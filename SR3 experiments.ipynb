{
 "cells": [
  {
   "cell_type": "code",
   "id": "initial_id",
   "metadata": {
    "collapsed": true,
    "ExecuteTime": {
     "end_time": "2024-05-31T21:15:55.010622Z",
     "start_time": "2024-05-31T21:15:51.561672Z"
    }
   },
   "source": [
    "import os\n",
    "\n",
    "import PIL\n",
    "import numpy as np\n",
    "import torch\n",
    "import torchvision\n",
    "from torchvision.transforms.v2 import Compose, GaussianBlur, RandomEqualize, RandomSolarize, RandomApply\n",
    "import wandb\n",
    "from torch.utils.data import DataLoader\n",
    "from torch.utils.data import random_split\n",
    "\n",
    "from Dataset.AerialDataset import AerialDataset\n",
    "from tasks.SR3Trainer import SR3Trainer\n",
    "from models.SR3Builder import SR3Builder\n",
    "from utils.model_utils import load_model"
   ],
   "outputs": [],
   "execution_count": 1
  },
  {
   "metadata": {
    "ExecuteTime": {
     "end_time": "2024-05-31T10:30:18.423508Z",
     "start_time": "2024-05-31T10:30:18.374143Z"
    }
   },
   "cell_type": "code",
   "source": [
    "#Data\n",
    "lr_size = 64\n",
    "hr_size = 256\n",
    "batch_size = 128\n",
    "dataset_dir = 'C:\\\\Users\\\\adrianperera\\\\Desktop\\\\dataset_tfg'\n",
    "\n",
    "transforms = Compose(\n",
    "    [RandomApply(transforms= [GaussianBlur(7)], p = 0.5),\n",
    "    RandomEqualize()]\n",
    ")\n",
    "\n",
    "dataset = AerialDataset(dataset_dir, lr_size, hr_size, data_augmentation = None, aux_sat_prob= 0, sat_dataset_path= \"C:\\\\Users\\\\adrianperera\\\\Desktop\\\\dataset_tfg\\\\satelite_dataset\\\\64_256\")\n",
    "train_dataset, val_dataset, test_dataset = random_split(dataset, [0.6, 0.2, 0.2], generator=torch.Generator().manual_seed(420))\n",
    "\n",
    "train_dataloader = DataLoader(train_dataset, batch_size=batch_size, shuffle=True)\n",
    "val_dataloader = DataLoader(val_dataset, batch_size=batch_size, shuffle=True)\n",
    "test_dataloader = DataLoader(test_dataset, batch_size=batch_size, shuffle=True)\n",
    "    \n",
    "device = torch.device('cuda' if torch.cuda.is_available() else 'cpu')"
   ],
   "id": "23cc5f6f2a487382",
   "outputs": [],
   "execution_count": 13
  },
  {
   "metadata": {
    "ExecuteTime": {
     "end_time": "2024-05-31T10:30:21.177657Z",
     "start_time": "2024-05-31T10:30:21.062518Z"
    }
   },
   "cell_type": "code",
   "source": [
    "model_builder = SR3Builder()\n",
    "model_builder = model_builder.set_standart()\n",
    "model = model_builder.build()\n",
    "model.to(device)"
   ],
   "id": "47acbdbe57f480a4",
   "outputs": [
    {
     "data": {
      "text/plain": [
       "GaussianDiffusion(\n",
       "  (model): UNet(\n",
       "    (emb): GammaEmbedding(\n",
       "      (linear1): Linear(\n",
       "        (linear): Linear(in_features=3, out_features=12, bias=True)\n",
       "      )\n",
       "      (silu): SiLU()\n",
       "      (linear2): Linear(\n",
       "        (linear): Linear(in_features=12, out_features=12, bias=True)\n",
       "      )\n",
       "    )\n",
       "    (conv1): Conv2d(\n",
       "      (conv): Conv2d(6, 3, kernel_size=(3, 3), stride=(1, 1), padding=(1, 1))\n",
       "    )\n",
       "    (down): ModuleList(\n",
       "      (0-2): 3 x WideResNetBlock(\n",
       "        (gn1): GroupNorm(\n",
       "          (group_norm): GroupNorm(3, 3, eps=1e-05, affine=True)\n",
       "        )\n",
       "        (silu1): SiLU()\n",
       "        (conv1): Conv2d(\n",
       "          (conv): Conv2d(3, 3, kernel_size=(3, 3), stride=(1, 1), padding=(1, 1))\n",
       "        )\n",
       "        (silu2): SiLU()\n",
       "        (linear1): Linear(\n",
       "          (linear): Linear(in_features=12, out_features=3, bias=True)\n",
       "        )\n",
       "        (gn2): GroupNorm(\n",
       "          (group_norm): GroupNorm(3, 3, eps=1e-05, affine=True)\n",
       "        )\n",
       "        (silu3): SiLU()\n",
       "        (dropout): Dropout(p=0, inplace=False)\n",
       "        (conv2): Conv2d(\n",
       "          (conv): Conv2d(3, 3, kernel_size=(3, 3), stride=(1, 1), padding=(1, 1))\n",
       "        )\n",
       "      )\n",
       "      (3): DownBlock(\n",
       "        (conv): Conv2d(\n",
       "          (conv): Conv2d(3, 3, kernel_size=(3, 3), stride=(2, 2), padding=(1, 1))\n",
       "        )\n",
       "      )\n",
       "      (4): WideResNetBlock(\n",
       "        (gn1): GroupNorm(\n",
       "          (group_norm): GroupNorm(3, 3, eps=1e-05, affine=True)\n",
       "        )\n",
       "        (silu1): SiLU()\n",
       "        (conv1): Conv2d(\n",
       "          (conv): Conv2d(3, 6, kernel_size=(3, 3), stride=(1, 1), padding=(1, 1))\n",
       "        )\n",
       "        (silu2): SiLU()\n",
       "        (linear1): Linear(\n",
       "          (linear): Linear(in_features=12, out_features=6, bias=True)\n",
       "        )\n",
       "        (gn2): GroupNorm(\n",
       "          (group_norm): GroupNorm(3, 6, eps=1e-05, affine=True)\n",
       "        )\n",
       "        (silu3): SiLU()\n",
       "        (dropout): Dropout(p=0, inplace=False)\n",
       "        (conv2): Conv2d(\n",
       "          (conv): Conv2d(6, 6, kernel_size=(3, 3), stride=(1, 1), padding=(1, 1))\n",
       "        )\n",
       "        (linear2): Linear(\n",
       "          (linear): Linear(in_features=3, out_features=6, bias=True)\n",
       "        )\n",
       "      )\n",
       "      (5-6): 2 x WideResNetBlock(\n",
       "        (gn1): GroupNorm(\n",
       "          (group_norm): GroupNorm(3, 6, eps=1e-05, affine=True)\n",
       "        )\n",
       "        (silu1): SiLU()\n",
       "        (conv1): Conv2d(\n",
       "          (conv): Conv2d(6, 6, kernel_size=(3, 3), stride=(1, 1), padding=(1, 1))\n",
       "        )\n",
       "        (silu2): SiLU()\n",
       "        (linear1): Linear(\n",
       "          (linear): Linear(in_features=12, out_features=6, bias=True)\n",
       "        )\n",
       "        (gn2): GroupNorm(\n",
       "          (group_norm): GroupNorm(3, 6, eps=1e-05, affine=True)\n",
       "        )\n",
       "        (silu3): SiLU()\n",
       "        (dropout): Dropout(p=0, inplace=False)\n",
       "        (conv2): Conv2d(\n",
       "          (conv): Conv2d(6, 6, kernel_size=(3, 3), stride=(1, 1), padding=(1, 1))\n",
       "        )\n",
       "      )\n",
       "      (7): DownBlock(\n",
       "        (conv): Conv2d(\n",
       "          (conv): Conv2d(6, 6, kernel_size=(3, 3), stride=(2, 2), padding=(1, 1))\n",
       "        )\n",
       "      )\n",
       "      (8): WideResNetBlock(\n",
       "        (gn1): GroupNorm(\n",
       "          (group_norm): GroupNorm(3, 6, eps=1e-05, affine=True)\n",
       "        )\n",
       "        (silu1): SiLU()\n",
       "        (conv1): Conv2d(\n",
       "          (conv): Conv2d(6, 12, kernel_size=(3, 3), stride=(1, 1), padding=(1, 1))\n",
       "        )\n",
       "        (silu2): SiLU()\n",
       "        (linear1): Linear(\n",
       "          (linear): Linear(in_features=12, out_features=12, bias=True)\n",
       "        )\n",
       "        (gn2): GroupNorm(\n",
       "          (group_norm): GroupNorm(3, 12, eps=1e-05, affine=True)\n",
       "        )\n",
       "        (silu3): SiLU()\n",
       "        (dropout): Dropout(p=0, inplace=False)\n",
       "        (conv2): Conv2d(\n",
       "          (conv): Conv2d(12, 12, kernel_size=(3, 3), stride=(1, 1), padding=(1, 1))\n",
       "        )\n",
       "        (linear2): Linear(\n",
       "          (linear): Linear(in_features=6, out_features=12, bias=True)\n",
       "        )\n",
       "      )\n",
       "      (9-10): 2 x WideResNetBlock(\n",
       "        (gn1): GroupNorm(\n",
       "          (group_norm): GroupNorm(3, 12, eps=1e-05, affine=True)\n",
       "        )\n",
       "        (silu1): SiLU()\n",
       "        (conv1): Conv2d(\n",
       "          (conv): Conv2d(12, 12, kernel_size=(3, 3), stride=(1, 1), padding=(1, 1))\n",
       "        )\n",
       "        (silu2): SiLU()\n",
       "        (linear1): Linear(\n",
       "          (linear): Linear(in_features=12, out_features=12, bias=True)\n",
       "        )\n",
       "        (gn2): GroupNorm(\n",
       "          (group_norm): GroupNorm(3, 12, eps=1e-05, affine=True)\n",
       "        )\n",
       "        (silu3): SiLU()\n",
       "        (dropout): Dropout(p=0, inplace=False)\n",
       "        (conv2): Conv2d(\n",
       "          (conv): Conv2d(12, 12, kernel_size=(3, 3), stride=(1, 1), padding=(1, 1))\n",
       "        )\n",
       "      )\n",
       "      (11): DownBlock(\n",
       "        (conv): Conv2d(\n",
       "          (conv): Conv2d(12, 12, kernel_size=(3, 3), stride=(2, 2), padding=(1, 1))\n",
       "        )\n",
       "      )\n",
       "      (12-14): 3 x WideResNetBlock(\n",
       "        (gn1): GroupNorm(\n",
       "          (group_norm): GroupNorm(3, 12, eps=1e-05, affine=True)\n",
       "        )\n",
       "        (silu1): SiLU()\n",
       "        (conv1): Conv2d(\n",
       "          (conv): Conv2d(12, 12, kernel_size=(3, 3), stride=(1, 1), padding=(1, 1))\n",
       "        )\n",
       "        (silu2): SiLU()\n",
       "        (linear1): Linear(\n",
       "          (linear): Linear(in_features=12, out_features=12, bias=True)\n",
       "        )\n",
       "        (gn2): GroupNorm(\n",
       "          (group_norm): GroupNorm(3, 12, eps=1e-05, affine=True)\n",
       "        )\n",
       "        (silu3): SiLU()\n",
       "        (dropout): Dropout(p=0, inplace=False)\n",
       "        (conv2): Conv2d(\n",
       "          (conv): Conv2d(12, 12, kernel_size=(3, 3), stride=(1, 1), padding=(1, 1))\n",
       "        )\n",
       "      )\n",
       "      (15): DownBlock(\n",
       "        (conv): Conv2d(\n",
       "          (conv): Conv2d(12, 12, kernel_size=(3, 3), stride=(2, 2), padding=(1, 1))\n",
       "        )\n",
       "      )\n",
       "      (16): WideResNetBlock(\n",
       "        (gn1): GroupNorm(\n",
       "          (group_norm): GroupNorm(3, 12, eps=1e-05, affine=True)\n",
       "        )\n",
       "        (silu1): SiLU()\n",
       "        (conv1): Conv2d(\n",
       "          (conv): Conv2d(12, 24, kernel_size=(3, 3), stride=(1, 1), padding=(1, 1))\n",
       "        )\n",
       "        (silu2): SiLU()\n",
       "        (linear1): Linear(\n",
       "          (linear): Linear(in_features=12, out_features=24, bias=True)\n",
       "        )\n",
       "        (gn2): GroupNorm(\n",
       "          (group_norm): GroupNorm(3, 24, eps=1e-05, affine=True)\n",
       "        )\n",
       "        (silu3): SiLU()\n",
       "        (dropout): Dropout(p=0, inplace=False)\n",
       "        (conv2): Conv2d(\n",
       "          (conv): Conv2d(24, 24, kernel_size=(3, 3), stride=(1, 1), padding=(1, 1))\n",
       "        )\n",
       "        (linear2): Linear(\n",
       "          (linear): Linear(in_features=12, out_features=24, bias=True)\n",
       "        )\n",
       "        (att): SelfAttentionBlock(\n",
       "          (gn): GroupNorm(\n",
       "            (group_norm): GroupNorm(3, 24, eps=1e-05, affine=True)\n",
       "          )\n",
       "          (qkv): Linear(\n",
       "            (linear): Linear(in_features=24, out_features=72, bias=True)\n",
       "          )\n",
       "          (softmax): Softmax(dim=-1)\n",
       "          (proj): Linear(\n",
       "            (linear): Linear(in_features=24, out_features=24, bias=True)\n",
       "          )\n",
       "        )\n",
       "      )\n",
       "      (17-18): 2 x WideResNetBlock(\n",
       "        (gn1): GroupNorm(\n",
       "          (group_norm): GroupNorm(3, 24, eps=1e-05, affine=True)\n",
       "        )\n",
       "        (silu1): SiLU()\n",
       "        (conv1): Conv2d(\n",
       "          (conv): Conv2d(24, 24, kernel_size=(3, 3), stride=(1, 1), padding=(1, 1))\n",
       "        )\n",
       "        (silu2): SiLU()\n",
       "        (linear1): Linear(\n",
       "          (linear): Linear(in_features=12, out_features=24, bias=True)\n",
       "        )\n",
       "        (gn2): GroupNorm(\n",
       "          (group_norm): GroupNorm(3, 24, eps=1e-05, affine=True)\n",
       "        )\n",
       "        (silu3): SiLU()\n",
       "        (dropout): Dropout(p=0, inplace=False)\n",
       "        (conv2): Conv2d(\n",
       "          (conv): Conv2d(24, 24, kernel_size=(3, 3), stride=(1, 1), padding=(1, 1))\n",
       "        )\n",
       "        (att): SelfAttentionBlock(\n",
       "          (gn): GroupNorm(\n",
       "            (group_norm): GroupNorm(3, 24, eps=1e-05, affine=True)\n",
       "          )\n",
       "          (qkv): Linear(\n",
       "            (linear): Linear(in_features=24, out_features=72, bias=True)\n",
       "          )\n",
       "          (softmax): Softmax(dim=-1)\n",
       "          (proj): Linear(\n",
       "            (linear): Linear(in_features=24, out_features=24, bias=True)\n",
       "          )\n",
       "        )\n",
       "      )\n",
       "      (19): DownBlock(\n",
       "        (conv): Conv2d(\n",
       "          (conv): Conv2d(24, 24, kernel_size=(3, 3), stride=(2, 2), padding=(1, 1))\n",
       "        )\n",
       "      )\n",
       "      (20-22): 3 x WideResNetBlock(\n",
       "        (gn1): GroupNorm(\n",
       "          (group_norm): GroupNorm(3, 24, eps=1e-05, affine=True)\n",
       "        )\n",
       "        (silu1): SiLU()\n",
       "        (conv1): Conv2d(\n",
       "          (conv): Conv2d(24, 24, kernel_size=(3, 3), stride=(1, 1), padding=(1, 1))\n",
       "        )\n",
       "        (silu2): SiLU()\n",
       "        (linear1): Linear(\n",
       "          (linear): Linear(in_features=12, out_features=24, bias=True)\n",
       "        )\n",
       "        (gn2): GroupNorm(\n",
       "          (group_norm): GroupNorm(3, 24, eps=1e-05, affine=True)\n",
       "        )\n",
       "        (silu3): SiLU()\n",
       "        (dropout): Dropout(p=0, inplace=False)\n",
       "        (conv2): Conv2d(\n",
       "          (conv): Conv2d(24, 24, kernel_size=(3, 3), stride=(1, 1), padding=(1, 1))\n",
       "        )\n",
       "      )\n",
       "    )\n",
       "    (mid): ModuleList(\n",
       "      (0): WideResNetBlock(\n",
       "        (gn1): GroupNorm(\n",
       "          (group_norm): GroupNorm(3, 24, eps=1e-05, affine=True)\n",
       "        )\n",
       "        (silu1): SiLU()\n",
       "        (conv1): Conv2d(\n",
       "          (conv): Conv2d(24, 24, kernel_size=(3, 3), stride=(1, 1), padding=(1, 1))\n",
       "        )\n",
       "        (silu2): SiLU()\n",
       "        (linear1): Linear(\n",
       "          (linear): Linear(in_features=12, out_features=24, bias=True)\n",
       "        )\n",
       "        (gn2): GroupNorm(\n",
       "          (group_norm): GroupNorm(3, 24, eps=1e-05, affine=True)\n",
       "        )\n",
       "        (silu3): SiLU()\n",
       "        (dropout): Dropout(p=0, inplace=False)\n",
       "        (conv2): Conv2d(\n",
       "          (conv): Conv2d(24, 24, kernel_size=(3, 3), stride=(1, 1), padding=(1, 1))\n",
       "        )\n",
       "        (att): SelfAttentionBlock(\n",
       "          (gn): GroupNorm(\n",
       "            (group_norm): GroupNorm(3, 24, eps=1e-05, affine=True)\n",
       "          )\n",
       "          (qkv): Linear(\n",
       "            (linear): Linear(in_features=24, out_features=72, bias=True)\n",
       "          )\n",
       "          (softmax): Softmax(dim=-1)\n",
       "          (proj): Linear(\n",
       "            (linear): Linear(in_features=24, out_features=24, bias=True)\n",
       "          )\n",
       "        )\n",
       "      )\n",
       "      (1): WideResNetBlock(\n",
       "        (gn1): GroupNorm(\n",
       "          (group_norm): GroupNorm(3, 24, eps=1e-05, affine=True)\n",
       "        )\n",
       "        (silu1): SiLU()\n",
       "        (conv1): Conv2d(\n",
       "          (conv): Conv2d(24, 24, kernel_size=(3, 3), stride=(1, 1), padding=(1, 1))\n",
       "        )\n",
       "        (silu2): SiLU()\n",
       "        (linear1): Linear(\n",
       "          (linear): Linear(in_features=12, out_features=24, bias=True)\n",
       "        )\n",
       "        (gn2): GroupNorm(\n",
       "          (group_norm): GroupNorm(3, 24, eps=1e-05, affine=True)\n",
       "        )\n",
       "        (silu3): SiLU()\n",
       "        (dropout): Dropout(p=0, inplace=False)\n",
       "        (conv2): Conv2d(\n",
       "          (conv): Conv2d(24, 24, kernel_size=(3, 3), stride=(1, 1), padding=(1, 1))\n",
       "        )\n",
       "      )\n",
       "    )\n",
       "    (up): ModuleList(\n",
       "      (0-3): 4 x WideResNetBlock(\n",
       "        (gn1): GroupNorm(\n",
       "          (group_norm): GroupNorm(3, 48, eps=1e-05, affine=True)\n",
       "        )\n",
       "        (silu1): SiLU()\n",
       "        (conv1): Conv2d(\n",
       "          (conv): Conv2d(48, 24, kernel_size=(3, 3), stride=(1, 1), padding=(1, 1))\n",
       "        )\n",
       "        (silu2): SiLU()\n",
       "        (linear1): Linear(\n",
       "          (linear): Linear(in_features=12, out_features=24, bias=True)\n",
       "        )\n",
       "        (gn2): GroupNorm(\n",
       "          (group_norm): GroupNorm(3, 24, eps=1e-05, affine=True)\n",
       "        )\n",
       "        (silu3): SiLU()\n",
       "        (dropout): Dropout(p=0, inplace=False)\n",
       "        (conv2): Conv2d(\n",
       "          (conv): Conv2d(24, 24, kernel_size=(3, 3), stride=(1, 1), padding=(1, 1))\n",
       "        )\n",
       "        (linear2): Linear(\n",
       "          (linear): Linear(in_features=48, out_features=24, bias=True)\n",
       "        )\n",
       "      )\n",
       "      (4): UpBlock(\n",
       "        (upsample): Upsample(scale_factor=2.0, mode='nearest')\n",
       "        (conv): Conv2d(\n",
       "          (conv): Conv2d(24, 24, kernel_size=(3, 3), stride=(1, 1), padding=(1, 1))\n",
       "        )\n",
       "      )\n",
       "      (5-7): 3 x WideResNetBlock(\n",
       "        (gn1): GroupNorm(\n",
       "          (group_norm): GroupNorm(3, 48, eps=1e-05, affine=True)\n",
       "        )\n",
       "        (silu1): SiLU()\n",
       "        (conv1): Conv2d(\n",
       "          (conv): Conv2d(48, 24, kernel_size=(3, 3), stride=(1, 1), padding=(1, 1))\n",
       "        )\n",
       "        (silu2): SiLU()\n",
       "        (linear1): Linear(\n",
       "          (linear): Linear(in_features=12, out_features=24, bias=True)\n",
       "        )\n",
       "        (gn2): GroupNorm(\n",
       "          (group_norm): GroupNorm(3, 24, eps=1e-05, affine=True)\n",
       "        )\n",
       "        (silu3): SiLU()\n",
       "        (dropout): Dropout(p=0, inplace=False)\n",
       "        (conv2): Conv2d(\n",
       "          (conv): Conv2d(24, 24, kernel_size=(3, 3), stride=(1, 1), padding=(1, 1))\n",
       "        )\n",
       "        (linear2): Linear(\n",
       "          (linear): Linear(in_features=48, out_features=24, bias=True)\n",
       "        )\n",
       "        (att): SelfAttentionBlock(\n",
       "          (gn): GroupNorm(\n",
       "            (group_norm): GroupNorm(3, 24, eps=1e-05, affine=True)\n",
       "          )\n",
       "          (qkv): Linear(\n",
       "            (linear): Linear(in_features=24, out_features=72, bias=True)\n",
       "          )\n",
       "          (softmax): Softmax(dim=-1)\n",
       "          (proj): Linear(\n",
       "            (linear): Linear(in_features=24, out_features=24, bias=True)\n",
       "          )\n",
       "        )\n",
       "      )\n",
       "      (8): WideResNetBlock(\n",
       "        (gn1): GroupNorm(\n",
       "          (group_norm): GroupNorm(3, 36, eps=1e-05, affine=True)\n",
       "        )\n",
       "        (silu1): SiLU()\n",
       "        (conv1): Conv2d(\n",
       "          (conv): Conv2d(36, 24, kernel_size=(3, 3), stride=(1, 1), padding=(1, 1))\n",
       "        )\n",
       "        (silu2): SiLU()\n",
       "        (linear1): Linear(\n",
       "          (linear): Linear(in_features=12, out_features=24, bias=True)\n",
       "        )\n",
       "        (gn2): GroupNorm(\n",
       "          (group_norm): GroupNorm(3, 24, eps=1e-05, affine=True)\n",
       "        )\n",
       "        (silu3): SiLU()\n",
       "        (dropout): Dropout(p=0, inplace=False)\n",
       "        (conv2): Conv2d(\n",
       "          (conv): Conv2d(24, 24, kernel_size=(3, 3), stride=(1, 1), padding=(1, 1))\n",
       "        )\n",
       "        (linear2): Linear(\n",
       "          (linear): Linear(in_features=36, out_features=24, bias=True)\n",
       "        )\n",
       "        (att): SelfAttentionBlock(\n",
       "          (gn): GroupNorm(\n",
       "            (group_norm): GroupNorm(3, 24, eps=1e-05, affine=True)\n",
       "          )\n",
       "          (qkv): Linear(\n",
       "            (linear): Linear(in_features=24, out_features=72, bias=True)\n",
       "          )\n",
       "          (softmax): Softmax(dim=-1)\n",
       "          (proj): Linear(\n",
       "            (linear): Linear(in_features=24, out_features=24, bias=True)\n",
       "          )\n",
       "        )\n",
       "      )\n",
       "      (9): UpBlock(\n",
       "        (upsample): Upsample(scale_factor=2.0, mode='nearest')\n",
       "        (conv): Conv2d(\n",
       "          (conv): Conv2d(24, 24, kernel_size=(3, 3), stride=(1, 1), padding=(1, 1))\n",
       "        )\n",
       "      )\n",
       "      (10): WideResNetBlock(\n",
       "        (gn1): GroupNorm(\n",
       "          (group_norm): GroupNorm(3, 36, eps=1e-05, affine=True)\n",
       "        )\n",
       "        (silu1): SiLU()\n",
       "        (conv1): Conv2d(\n",
       "          (conv): Conv2d(36, 12, kernel_size=(3, 3), stride=(1, 1), padding=(1, 1))\n",
       "        )\n",
       "        (silu2): SiLU()\n",
       "        (linear1): Linear(\n",
       "          (linear): Linear(in_features=12, out_features=12, bias=True)\n",
       "        )\n",
       "        (gn2): GroupNorm(\n",
       "          (group_norm): GroupNorm(3, 12, eps=1e-05, affine=True)\n",
       "        )\n",
       "        (silu3): SiLU()\n",
       "        (dropout): Dropout(p=0, inplace=False)\n",
       "        (conv2): Conv2d(\n",
       "          (conv): Conv2d(12, 12, kernel_size=(3, 3), stride=(1, 1), padding=(1, 1))\n",
       "        )\n",
       "        (linear2): Linear(\n",
       "          (linear): Linear(in_features=36, out_features=12, bias=True)\n",
       "        )\n",
       "      )\n",
       "      (11-13): 3 x WideResNetBlock(\n",
       "        (gn1): GroupNorm(\n",
       "          (group_norm): GroupNorm(3, 24, eps=1e-05, affine=True)\n",
       "        )\n",
       "        (silu1): SiLU()\n",
       "        (conv1): Conv2d(\n",
       "          (conv): Conv2d(24, 12, kernel_size=(3, 3), stride=(1, 1), padding=(1, 1))\n",
       "        )\n",
       "        (silu2): SiLU()\n",
       "        (linear1): Linear(\n",
       "          (linear): Linear(in_features=12, out_features=12, bias=True)\n",
       "        )\n",
       "        (gn2): GroupNorm(\n",
       "          (group_norm): GroupNorm(3, 12, eps=1e-05, affine=True)\n",
       "        )\n",
       "        (silu3): SiLU()\n",
       "        (dropout): Dropout(p=0, inplace=False)\n",
       "        (conv2): Conv2d(\n",
       "          (conv): Conv2d(12, 12, kernel_size=(3, 3), stride=(1, 1), padding=(1, 1))\n",
       "        )\n",
       "        (linear2): Linear(\n",
       "          (linear): Linear(in_features=24, out_features=12, bias=True)\n",
       "        )\n",
       "      )\n",
       "      (14): UpBlock(\n",
       "        (upsample): Upsample(scale_factor=2.0, mode='nearest')\n",
       "        (conv): Conv2d(\n",
       "          (conv): Conv2d(12, 12, kernel_size=(3, 3), stride=(1, 1), padding=(1, 1))\n",
       "        )\n",
       "      )\n",
       "      (15-17): 3 x WideResNetBlock(\n",
       "        (gn1): GroupNorm(\n",
       "          (group_norm): GroupNorm(3, 24, eps=1e-05, affine=True)\n",
       "        )\n",
       "        (silu1): SiLU()\n",
       "        (conv1): Conv2d(\n",
       "          (conv): Conv2d(24, 12, kernel_size=(3, 3), stride=(1, 1), padding=(1, 1))\n",
       "        )\n",
       "        (silu2): SiLU()\n",
       "        (linear1): Linear(\n",
       "          (linear): Linear(in_features=12, out_features=12, bias=True)\n",
       "        )\n",
       "        (gn2): GroupNorm(\n",
       "          (group_norm): GroupNorm(3, 12, eps=1e-05, affine=True)\n",
       "        )\n",
       "        (silu3): SiLU()\n",
       "        (dropout): Dropout(p=0, inplace=False)\n",
       "        (conv2): Conv2d(\n",
       "          (conv): Conv2d(12, 12, kernel_size=(3, 3), stride=(1, 1), padding=(1, 1))\n",
       "        )\n",
       "        (linear2): Linear(\n",
       "          (linear): Linear(in_features=24, out_features=12, bias=True)\n",
       "        )\n",
       "      )\n",
       "      (18): WideResNetBlock(\n",
       "        (gn1): GroupNorm(\n",
       "          (group_norm): GroupNorm(3, 18, eps=1e-05, affine=True)\n",
       "        )\n",
       "        (silu1): SiLU()\n",
       "        (conv1): Conv2d(\n",
       "          (conv): Conv2d(18, 12, kernel_size=(3, 3), stride=(1, 1), padding=(1, 1))\n",
       "        )\n",
       "        (silu2): SiLU()\n",
       "        (linear1): Linear(\n",
       "          (linear): Linear(in_features=12, out_features=12, bias=True)\n",
       "        )\n",
       "        (gn2): GroupNorm(\n",
       "          (group_norm): GroupNorm(3, 12, eps=1e-05, affine=True)\n",
       "        )\n",
       "        (silu3): SiLU()\n",
       "        (dropout): Dropout(p=0, inplace=False)\n",
       "        (conv2): Conv2d(\n",
       "          (conv): Conv2d(12, 12, kernel_size=(3, 3), stride=(1, 1), padding=(1, 1))\n",
       "        )\n",
       "        (linear2): Linear(\n",
       "          (linear): Linear(in_features=18, out_features=12, bias=True)\n",
       "        )\n",
       "      )\n",
       "      (19): UpBlock(\n",
       "        (upsample): Upsample(scale_factor=2.0, mode='nearest')\n",
       "        (conv): Conv2d(\n",
       "          (conv): Conv2d(12, 12, kernel_size=(3, 3), stride=(1, 1), padding=(1, 1))\n",
       "        )\n",
       "      )\n",
       "      (20): WideResNetBlock(\n",
       "        (gn1): GroupNorm(\n",
       "          (group_norm): GroupNorm(3, 18, eps=1e-05, affine=True)\n",
       "        )\n",
       "        (silu1): SiLU()\n",
       "        (conv1): Conv2d(\n",
       "          (conv): Conv2d(18, 6, kernel_size=(3, 3), stride=(1, 1), padding=(1, 1))\n",
       "        )\n",
       "        (silu2): SiLU()\n",
       "        (linear1): Linear(\n",
       "          (linear): Linear(in_features=12, out_features=6, bias=True)\n",
       "        )\n",
       "        (gn2): GroupNorm(\n",
       "          (group_norm): GroupNorm(3, 6, eps=1e-05, affine=True)\n",
       "        )\n",
       "        (silu3): SiLU()\n",
       "        (dropout): Dropout(p=0, inplace=False)\n",
       "        (conv2): Conv2d(\n",
       "          (conv): Conv2d(6, 6, kernel_size=(3, 3), stride=(1, 1), padding=(1, 1))\n",
       "        )\n",
       "        (linear2): Linear(\n",
       "          (linear): Linear(in_features=18, out_features=6, bias=True)\n",
       "        )\n",
       "      )\n",
       "      (21-22): 2 x WideResNetBlock(\n",
       "        (gn1): GroupNorm(\n",
       "          (group_norm): GroupNorm(3, 12, eps=1e-05, affine=True)\n",
       "        )\n",
       "        (silu1): SiLU()\n",
       "        (conv1): Conv2d(\n",
       "          (conv): Conv2d(12, 6, kernel_size=(3, 3), stride=(1, 1), padding=(1, 1))\n",
       "        )\n",
       "        (silu2): SiLU()\n",
       "        (linear1): Linear(\n",
       "          (linear): Linear(in_features=12, out_features=6, bias=True)\n",
       "        )\n",
       "        (gn2): GroupNorm(\n",
       "          (group_norm): GroupNorm(3, 6, eps=1e-05, affine=True)\n",
       "        )\n",
       "        (silu3): SiLU()\n",
       "        (dropout): Dropout(p=0, inplace=False)\n",
       "        (conv2): Conv2d(\n",
       "          (conv): Conv2d(6, 6, kernel_size=(3, 3), stride=(1, 1), padding=(1, 1))\n",
       "        )\n",
       "        (linear2): Linear(\n",
       "          (linear): Linear(in_features=12, out_features=6, bias=True)\n",
       "        )\n",
       "      )\n",
       "      (23): WideResNetBlock(\n",
       "        (gn1): GroupNorm(\n",
       "          (group_norm): GroupNorm(3, 9, eps=1e-05, affine=True)\n",
       "        )\n",
       "        (silu1): SiLU()\n",
       "        (conv1): Conv2d(\n",
       "          (conv): Conv2d(9, 6, kernel_size=(3, 3), stride=(1, 1), padding=(1, 1))\n",
       "        )\n",
       "        (silu2): SiLU()\n",
       "        (linear1): Linear(\n",
       "          (linear): Linear(in_features=12, out_features=6, bias=True)\n",
       "        )\n",
       "        (gn2): GroupNorm(\n",
       "          (group_norm): GroupNorm(3, 6, eps=1e-05, affine=True)\n",
       "        )\n",
       "        (silu3): SiLU()\n",
       "        (dropout): Dropout(p=0, inplace=False)\n",
       "        (conv2): Conv2d(\n",
       "          (conv): Conv2d(6, 6, kernel_size=(3, 3), stride=(1, 1), padding=(1, 1))\n",
       "        )\n",
       "        (linear2): Linear(\n",
       "          (linear): Linear(in_features=9, out_features=6, bias=True)\n",
       "        )\n",
       "      )\n",
       "      (24): UpBlock(\n",
       "        (upsample): Upsample(scale_factor=2.0, mode='nearest')\n",
       "        (conv): Conv2d(\n",
       "          (conv): Conv2d(6, 6, kernel_size=(3, 3), stride=(1, 1), padding=(1, 1))\n",
       "        )\n",
       "      )\n",
       "      (25): WideResNetBlock(\n",
       "        (gn1): GroupNorm(\n",
       "          (group_norm): GroupNorm(3, 9, eps=1e-05, affine=True)\n",
       "        )\n",
       "        (silu1): SiLU()\n",
       "        (conv1): Conv2d(\n",
       "          (conv): Conv2d(9, 3, kernel_size=(3, 3), stride=(1, 1), padding=(1, 1))\n",
       "        )\n",
       "        (silu2): SiLU()\n",
       "        (linear1): Linear(\n",
       "          (linear): Linear(in_features=12, out_features=3, bias=True)\n",
       "        )\n",
       "        (gn2): GroupNorm(\n",
       "          (group_norm): GroupNorm(3, 3, eps=1e-05, affine=True)\n",
       "        )\n",
       "        (silu3): SiLU()\n",
       "        (dropout): Dropout(p=0, inplace=False)\n",
       "        (conv2): Conv2d(\n",
       "          (conv): Conv2d(3, 3, kernel_size=(3, 3), stride=(1, 1), padding=(1, 1))\n",
       "        )\n",
       "        (linear2): Linear(\n",
       "          (linear): Linear(in_features=9, out_features=3, bias=True)\n",
       "        )\n",
       "      )\n",
       "      (26-28): 3 x WideResNetBlock(\n",
       "        (gn1): GroupNorm(\n",
       "          (group_norm): GroupNorm(3, 6, eps=1e-05, affine=True)\n",
       "        )\n",
       "        (silu1): SiLU()\n",
       "        (conv1): Conv2d(\n",
       "          (conv): Conv2d(6, 3, kernel_size=(3, 3), stride=(1, 1), padding=(1, 1))\n",
       "        )\n",
       "        (silu2): SiLU()\n",
       "        (linear1): Linear(\n",
       "          (linear): Linear(in_features=12, out_features=3, bias=True)\n",
       "        )\n",
       "        (gn2): GroupNorm(\n",
       "          (group_norm): GroupNorm(3, 3, eps=1e-05, affine=True)\n",
       "        )\n",
       "        (silu3): SiLU()\n",
       "        (dropout): Dropout(p=0, inplace=False)\n",
       "        (conv2): Conv2d(\n",
       "          (conv): Conv2d(3, 3, kernel_size=(3, 3), stride=(1, 1), padding=(1, 1))\n",
       "        )\n",
       "        (linear2): Linear(\n",
       "          (linear): Linear(in_features=6, out_features=3, bias=True)\n",
       "        )\n",
       "      )\n",
       "    )\n",
       "    (gn): GroupNorm(\n",
       "      (group_norm): GroupNorm(3, 3, eps=1e-05, affine=True)\n",
       "    )\n",
       "    (silu): SiLU()\n",
       "    (conv2): Conv2d(\n",
       "      (conv): Conv2d(3, 3, kernel_size=(3, 3), stride=(1, 1), padding=(1, 1))\n",
       "    )\n",
       "  )\n",
       ")"
      ]
     },
     "execution_count": 14,
     "metadata": {},
     "output_type": "execute_result"
    }
   ],
   "execution_count": 14
  },
  {
   "metadata": {
    "ExecuteTime": {
     "end_time": "2024-06-01T10:09:21.643178Z",
     "start_time": "2024-06-01T09:34:44.942021Z"
    }
   },
   "cell_type": "code",
   "source": [
    "\n",
    "model_name =  f\"SR3 version 3\"\n",
    "lr_size = 64\n",
    "hr_size = 256\n",
    "batch_size = 64\n",
    "dataset_dir = 'C:\\\\Users\\\\adrianperera\\\\Desktop\\\\dataset_tfg'\n",
    "\n",
    "transforms = Compose(\n",
    "    [RandomApply(transforms= [GaussianBlur(7)], p = 0.5),\n",
    "    RandomEqualize()]\n",
    ")\n",
    "\n",
    "dataset = AerialDataset(dataset_dir, lr_size, hr_size, data_augmentation = None, aux_sat_prob= 0.6, sat_dataset_path= \"C:\\\\Users\\\\adrianperera\\\\Desktop\\\\dataset_tfg\\\\satelite_dataset\\\\64_256\")\n",
    "train_dataset, val_dataset, test_dataset = random_split(dataset, [0.6, 0.2, 0.2], generator=torch.Generator().manual_seed(420))\n",
    "\n",
    "train_dataloader = DataLoader(train_dataset, batch_size=batch_size, shuffle=True)\n",
    "val_dataloader = DataLoader(val_dataset, batch_size=batch_size, shuffle=True)\n",
    "test_dataloader = DataLoader(test_dataset, batch_size=batch_size, shuffle=True)\n",
    "\n",
    "device = torch.device('cuda' if torch.cuda.is_available() else 'cpu')\n",
    "\n",
    "model_builder = SR3Builder()\n",
    "model_builder = model_builder.set_sr3plus()\n",
    "model_builder = model_builder.set_steps(4000)\n",
    "model_builder = model_builder.set_sample_steps(200)\n",
    "model = model_builder.build()\n",
    "model.to(device)\n",
    "\n",
    "hyperparams = {\n",
    "    \"lr\":0.002,\n",
    "    \"epochs\":100,\n",
    "    \"eta_min\":1e-7,\n",
    "    \"decay_steps\": 100000,\n",
    "    \"gamma\" : 0.5,  \n",
    "    \"model\" : \"SR3\",\n",
    "    \"batch_size\" : batch_size,\n",
    "    \"ddp\": False,\n",
    "    \"grad_acum\": 0\n",
    "}\n",
    "hyperparams.update(model_builder.get_hyperparameters())\n",
    "optimizer = torch.optim.Adam(model.parameters(), lr=hyperparams[\"lr\"])\n",
    "scheduler = torch.optim.lr_scheduler.StepLR(optimizer, step_size=hyperparams[\"decay_steps\"], gamma=hyperparams[\"gamma\"])\n",
    "project_name = \"SR model benchmarking DA\"\n",
    "print(model_name)\n",
    "wandb.login()\n",
    "wandb.init(project=project_name, config=hyperparams, name=model_name)\n",
    "torch.backends.cudnn.benchmark = True\n",
    "\n",
    "trainer = SR3Trainer(metrics_used=(\"ssim\", \"psnr\"), model_name=model_name)\n",
    "trainer.set_model(model)\n",
    "trainer.set_optimizer(optimizer)\n",
    "trainer.set_scheduler(scheduler)\n",
    "for step in range(hyperparams[\"epochs\"]):\n",
    "    with torch.no_grad():\n",
    "        val_loss = trainer.validate(val_dataloader)\n",
    "    train_loss = trainer.train(train_dataloader, step)\n",
    "    torch.cuda.empty_cache()\n",
    "    if step % 10 == 0 and step > 0:\n",
    "        trainer.save_model(\"saved models\\\\SR3+\")\n",
    "    torch.cuda.empty_cache()\n",
    "    wandb.log({\"train_loss\": train_loss, \"validation_loss\": val_loss})\n",
    "     \n",
    "test_metrics = trainer.test(test_dataloader)\n",
    "wandb.log(test_metrics)\n",
    "wandb.finish()"
   ],
   "id": "c720aad7cdead033",
   "outputs": [
    {
     "name": "stdout",
     "output_type": "stream",
     "text": [
      "SR3 version 3\n"
     ]
    },
    {
     "data": {
      "text/plain": [
       "<IPython.core.display.HTML object>"
      ],
      "text/html": [
       "wandb version 0.17.0 is available!  To upgrade, please run:\n",
       " $ pip install wandb --upgrade"
      ]
     },
     "metadata": {},
     "output_type": "display_data"
    },
    {
     "data": {
      "text/plain": [
       "<IPython.core.display.HTML object>"
      ],
      "text/html": [
       "Tracking run with wandb version 0.16.5"
      ]
     },
     "metadata": {},
     "output_type": "display_data"
    },
    {
     "data": {
      "text/plain": [
       "<IPython.core.display.HTML object>"
      ],
      "text/html": [
       "Run data is saved locally in <code>C:\\Users\\adrianperera\\Documents\\GitHub\\SR-model-benchmarking\\wandb\\run-20240601_103445-81fiefxk</code>"
      ]
     },
     "metadata": {},
     "output_type": "display_data"
    },
    {
     "data": {
      "text/plain": [
       "<IPython.core.display.HTML object>"
      ],
      "text/html": [
       "Syncing run <strong><a href='https://wandb.ai/ladoscuro/SR%20model%20benchmarking%20DA/runs/81fiefxk/workspace' target=\"_blank\">SR3 version 3</a></strong> to <a href='https://wandb.ai/ladoscuro/SR%20model%20benchmarking%20DA' target=\"_blank\">Weights & Biases</a> (<a href='https://wandb.me/run' target=\"_blank\">docs</a>)<br/>"
      ]
     },
     "metadata": {},
     "output_type": "display_data"
    },
    {
     "data": {
      "text/plain": [
       "<IPython.core.display.HTML object>"
      ],
      "text/html": [
       " View project at <a href='https://wandb.ai/ladoscuro/SR%20model%20benchmarking%20DA' target=\"_blank\">https://wandb.ai/ladoscuro/SR%20model%20benchmarking%20DA</a>"
      ]
     },
     "metadata": {},
     "output_type": "display_data"
    },
    {
     "data": {
      "text/plain": [
       "<IPython.core.display.HTML object>"
      ],
      "text/html": [
       " View run at <a href='https://wandb.ai/ladoscuro/SR%20model%20benchmarking%20DA/runs/81fiefxk/workspace' target=\"_blank\">https://wandb.ai/ladoscuro/SR%20model%20benchmarking%20DA/runs/81fiefxk/workspace</a>"
      ]
     },
     "metadata": {},
     "output_type": "display_data"
    },
    {
     "name": "stderr",
     "output_type": "stream",
     "text": [
      "100%|██████████| 13/13 [00:04<00:00,  3.04batch/s]\n",
      "100%|██████████| 37/37 [00:14<00:00,  2.53batch/s]\n",
      "100%|██████████| 13/13 [00:04<00:00,  3.10batch/s]\n",
      "100%|██████████| 37/37 [00:14<00:00,  2.61batch/s]\n",
      "100%|██████████| 13/13 [00:04<00:00,  3.18batch/s]\n",
      "100%|██████████| 37/37 [00:14<00:00,  2.61batch/s]\n",
      "100%|██████████| 13/13 [00:04<00:00,  3.22batch/s]\n",
      "100%|██████████| 37/37 [00:14<00:00,  2.59batch/s]\n",
      "100%|██████████| 13/13 [00:04<00:00,  3.19batch/s]\n",
      "100%|██████████| 37/37 [00:14<00:00,  2.60batch/s]\n",
      "100%|██████████| 13/13 [00:04<00:00,  3.18batch/s]\n",
      "100%|██████████| 37/37 [00:14<00:00,  2.60batch/s]\n",
      "100%|██████████| 13/13 [00:04<00:00,  3.17batch/s]\n",
      "100%|██████████| 37/37 [00:14<00:00,  2.62batch/s]\n",
      "100%|██████████| 13/13 [00:04<00:00,  3.21batch/s]\n",
      "100%|██████████| 37/37 [00:14<00:00,  2.63batch/s]\n",
      "100%|██████████| 13/13 [00:04<00:00,  3.19batch/s]\n",
      "100%|██████████| 37/37 [00:14<00:00,  2.61batch/s]\n",
      "100%|██████████| 13/13 [00:04<00:00,  3.19batch/s]\n",
      "100%|██████████| 37/37 [00:14<00:00,  2.59batch/s]\n",
      "100%|██████████| 13/13 [00:04<00:00,  3.18batch/s]\n",
      "100%|██████████| 37/37 [00:14<00:00,  2.63batch/s]\n",
      "100%|██████████| 13/13 [00:04<00:00,  3.20batch/s]\n",
      "100%|██████████| 37/37 [00:14<00:00,  2.61batch/s]\n",
      "100%|██████████| 13/13 [00:04<00:00,  3.19batch/s]\n",
      "100%|██████████| 37/37 [00:14<00:00,  2.61batch/s]\n",
      "100%|██████████| 13/13 [00:04<00:00,  3.19batch/s]\n",
      "100%|██████████| 37/37 [00:14<00:00,  2.61batch/s]\n",
      "100%|██████████| 13/13 [00:04<00:00,  3.18batch/s]\n",
      "100%|██████████| 37/37 [00:14<00:00,  2.63batch/s]\n",
      "100%|██████████| 13/13 [00:04<00:00,  3.22batch/s]\n",
      "100%|██████████| 37/37 [00:14<00:00,  2.62batch/s]\n",
      "100%|██████████| 13/13 [00:04<00:00,  3.24batch/s]\n",
      "100%|██████████| 37/37 [00:14<00:00,  2.61batch/s]\n",
      "100%|██████████| 13/13 [00:03<00:00,  3.25batch/s]\n",
      "100%|██████████| 37/37 [00:14<00:00,  2.62batch/s]\n",
      "100%|██████████| 13/13 [00:04<00:00,  3.17batch/s]\n",
      "100%|██████████| 37/37 [00:14<00:00,  2.60batch/s]\n",
      "100%|██████████| 13/13 [00:04<00:00,  3.21batch/s]\n",
      "100%|██████████| 37/37 [00:14<00:00,  2.60batch/s]\n",
      "100%|██████████| 13/13 [00:04<00:00,  3.23batch/s]\n",
      "100%|██████████| 37/37 [00:14<00:00,  2.61batch/s]\n",
      "100%|██████████| 13/13 [00:04<00:00,  3.16batch/s]\n",
      "100%|██████████| 37/37 [00:14<00:00,  2.59batch/s]\n",
      "100%|██████████| 13/13 [00:04<00:00,  3.16batch/s]\n",
      "100%|██████████| 37/37 [00:14<00:00,  2.60batch/s]\n",
      "100%|██████████| 13/13 [00:04<00:00,  3.20batch/s]\n",
      "100%|██████████| 37/37 [00:14<00:00,  2.61batch/s]\n",
      "100%|██████████| 13/13 [00:04<00:00,  3.20batch/s]\n",
      "100%|██████████| 37/37 [00:14<00:00,  2.61batch/s]\n",
      "100%|██████████| 13/13 [00:04<00:00,  3.22batch/s]\n",
      "100%|██████████| 37/37 [00:14<00:00,  2.63batch/s]\n",
      "100%|██████████| 13/13 [00:04<00:00,  3.20batch/s]\n",
      "100%|██████████| 37/37 [00:14<00:00,  2.62batch/s]\n",
      "100%|██████████| 13/13 [00:04<00:00,  3.17batch/s]\n",
      "100%|██████████| 37/37 [00:14<00:00,  2.62batch/s]\n",
      "100%|██████████| 13/13 [00:04<00:00,  3.22batch/s]\n",
      "100%|██████████| 37/37 [00:14<00:00,  2.62batch/s]\n",
      "100%|██████████| 13/13 [00:04<00:00,  3.20batch/s]\n",
      "100%|██████████| 37/37 [00:14<00:00,  2.63batch/s]\n",
      "100%|██████████| 13/13 [00:04<00:00,  3.20batch/s]\n",
      "100%|██████████| 37/37 [00:14<00:00,  2.59batch/s]\n",
      "100%|██████████| 13/13 [00:04<00:00,  3.16batch/s]\n",
      "100%|██████████| 37/37 [00:14<00:00,  2.62batch/s]\n",
      "100%|██████████| 13/13 [00:04<00:00,  3.17batch/s]\n",
      "100%|██████████| 37/37 [00:14<00:00,  2.62batch/s]\n",
      "100%|██████████| 13/13 [00:04<00:00,  3.24batch/s]\n",
      "100%|██████████| 37/37 [00:14<00:00,  2.61batch/s]\n",
      "100%|██████████| 13/13 [00:04<00:00,  3.19batch/s]\n",
      "100%|██████████| 37/37 [00:14<00:00,  2.62batch/s]\n",
      "100%|██████████| 13/13 [00:04<00:00,  3.22batch/s]\n",
      "100%|██████████| 37/37 [00:14<00:00,  2.59batch/s]\n",
      "100%|██████████| 13/13 [00:04<00:00,  3.14batch/s]\n",
      "100%|██████████| 37/37 [00:14<00:00,  2.61batch/s]\n",
      "100%|██████████| 13/13 [00:04<00:00,  3.20batch/s]\n",
      "100%|██████████| 37/37 [00:14<00:00,  2.60batch/s]\n",
      "100%|██████████| 13/13 [00:04<00:00,  3.20batch/s]\n",
      "100%|██████████| 37/37 [00:14<00:00,  2.60batch/s]\n",
      "100%|██████████| 13/13 [00:04<00:00,  3.20batch/s]\n",
      "100%|██████████| 37/37 [00:14<00:00,  2.60batch/s]\n",
      "100%|██████████| 13/13 [00:04<00:00,  3.18batch/s]\n",
      "100%|██████████| 37/37 [00:14<00:00,  2.62batch/s]\n",
      "100%|██████████| 13/13 [00:04<00:00,  3.20batch/s]\n",
      "100%|██████████| 37/37 [00:14<00:00,  2.61batch/s]\n",
      "100%|██████████| 13/13 [00:04<00:00,  3.15batch/s]\n",
      "100%|██████████| 37/37 [00:14<00:00,  2.60batch/s]\n",
      "100%|██████████| 13/13 [00:04<00:00,  3.23batch/s]\n",
      "100%|██████████| 37/37 [00:14<00:00,  2.60batch/s]\n",
      "100%|██████████| 13/13 [00:04<00:00,  3.21batch/s]\n",
      "100%|██████████| 37/37 [00:14<00:00,  2.61batch/s]\n",
      "100%|██████████| 13/13 [00:04<00:00,  3.14batch/s]\n",
      "100%|██████████| 37/37 [00:14<00:00,  2.61batch/s]\n",
      "100%|██████████| 13/13 [00:04<00:00,  3.22batch/s]\n",
      "100%|██████████| 37/37 [00:14<00:00,  2.60batch/s]\n",
      "100%|██████████| 13/13 [00:04<00:00,  3.17batch/s]\n",
      "100%|██████████| 37/37 [00:14<00:00,  2.61batch/s]\n",
      "100%|██████████| 13/13 [00:04<00:00,  3.19batch/s]\n",
      "100%|██████████| 37/37 [00:14<00:00,  2.59batch/s]\n",
      "100%|██████████| 13/13 [00:04<00:00,  3.14batch/s]\n",
      "100%|██████████| 37/37 [00:14<00:00,  2.58batch/s]\n",
      "100%|██████████| 13/13 [00:04<00:00,  3.21batch/s]\n",
      "100%|██████████| 37/37 [00:14<00:00,  2.62batch/s]\n",
      "100%|██████████| 13/13 [00:04<00:00,  3.21batch/s]\n",
      "100%|██████████| 37/37 [00:14<00:00,  2.61batch/s]\n",
      "100%|██████████| 13/13 [00:04<00:00,  3.21batch/s]\n",
      "100%|██████████| 37/37 [00:14<00:00,  2.58batch/s]\n",
      "100%|██████████| 13/13 [00:04<00:00,  3.16batch/s]\n",
      "100%|██████████| 37/37 [00:14<00:00,  2.58batch/s]\n",
      "100%|██████████| 13/13 [00:04<00:00,  3.15batch/s]\n",
      "100%|██████████| 37/37 [00:14<00:00,  2.59batch/s]\n",
      "100%|██████████| 13/13 [00:04<00:00,  3.18batch/s]\n",
      "100%|██████████| 37/37 [00:14<00:00,  2.59batch/s]\n",
      "100%|██████████| 13/13 [00:04<00:00,  3.21batch/s]\n",
      "100%|██████████| 37/37 [00:14<00:00,  2.60batch/s]\n",
      "100%|██████████| 13/13 [00:04<00:00,  3.19batch/s]\n",
      "100%|██████████| 37/37 [00:14<00:00,  2.61batch/s]\n",
      "100%|██████████| 13/13 [00:04<00:00,  3.16batch/s]\n",
      "100%|██████████| 37/37 [00:14<00:00,  2.60batch/s]\n",
      "100%|██████████| 13/13 [00:04<00:00,  3.17batch/s]\n",
      "100%|██████████| 37/37 [00:14<00:00,  2.59batch/s]\n",
      "100%|██████████| 13/13 [00:04<00:00,  3.18batch/s]\n",
      "100%|██████████| 37/37 [00:14<00:00,  2.61batch/s]\n",
      "100%|██████████| 13/13 [00:04<00:00,  3.19batch/s]\n",
      "100%|██████████| 37/37 [00:14<00:00,  2.59batch/s]\n",
      "100%|██████████| 13/13 [00:04<00:00,  3.16batch/s]\n",
      "100%|██████████| 37/37 [00:14<00:00,  2.60batch/s]\n",
      "100%|██████████| 13/13 [00:04<00:00,  3.17batch/s]\n",
      "100%|██████████| 37/37 [00:14<00:00,  2.60batch/s]\n",
      "100%|██████████| 13/13 [00:04<00:00,  3.17batch/s]\n",
      "100%|██████████| 37/37 [00:14<00:00,  2.58batch/s]\n",
      "100%|██████████| 13/13 [00:04<00:00,  3.17batch/s]\n",
      "100%|██████████| 37/37 [00:14<00:00,  2.57batch/s]\n",
      "100%|██████████| 13/13 [00:04<00:00,  3.14batch/s]\n",
      "100%|██████████| 37/37 [00:14<00:00,  2.58batch/s]\n",
      "100%|██████████| 13/13 [00:04<00:00,  3.17batch/s]\n",
      "100%|██████████| 37/37 [00:14<00:00,  2.59batch/s]\n",
      "100%|██████████| 13/13 [00:04<00:00,  3.17batch/s]\n",
      "100%|██████████| 37/37 [00:14<00:00,  2.60batch/s]\n",
      "100%|██████████| 13/13 [00:04<00:00,  3.23batch/s]\n",
      "100%|██████████| 37/37 [00:14<00:00,  2.59batch/s]\n",
      "100%|██████████| 13/13 [00:04<00:00,  3.15batch/s]\n",
      "100%|██████████| 37/37 [00:14<00:00,  2.58batch/s]\n",
      "100%|██████████| 13/13 [00:04<00:00,  3.13batch/s]\n",
      "100%|██████████| 37/37 [00:14<00:00,  2.58batch/s]\n",
      "100%|██████████| 13/13 [00:04<00:00,  3.18batch/s]\n",
      "100%|██████████| 37/37 [00:14<00:00,  2.59batch/s]\n",
      "100%|██████████| 13/13 [00:04<00:00,  3.19batch/s]\n",
      "100%|██████████| 37/37 [00:14<00:00,  2.60batch/s]\n",
      "100%|██████████| 13/13 [00:04<00:00,  3.12batch/s]\n",
      "100%|██████████| 37/37 [00:14<00:00,  2.59batch/s]\n",
      "100%|██████████| 13/13 [00:04<00:00,  3.17batch/s]\n",
      "100%|██████████| 37/37 [00:14<00:00,  2.59batch/s]\n",
      "100%|██████████| 13/13 [00:04<00:00,  3.17batch/s]\n",
      "100%|██████████| 37/37 [00:14<00:00,  2.60batch/s]\n",
      "100%|██████████| 13/13 [00:04<00:00,  3.15batch/s]\n",
      "100%|██████████| 37/37 [00:14<00:00,  2.59batch/s]\n",
      "100%|██████████| 13/13 [00:04<00:00,  3.17batch/s]\n",
      "100%|██████████| 37/37 [00:14<00:00,  2.59batch/s]\n",
      "100%|██████████| 13/13 [00:04<00:00,  3.13batch/s]\n",
      "100%|██████████| 37/37 [00:14<00:00,  2.60batch/s]\n",
      "100%|██████████| 13/13 [00:04<00:00,  3.16batch/s]\n",
      "100%|██████████| 37/37 [00:14<00:00,  2.59batch/s]\n",
      "100%|██████████| 13/13 [00:04<00:00,  3.21batch/s]\n",
      "100%|██████████| 37/37 [00:14<00:00,  2.57batch/s]\n",
      "100%|██████████| 13/13 [00:04<00:00,  3.19batch/s]\n",
      "100%|██████████| 37/37 [00:15<00:00,  2.46batch/s]\n",
      "100%|██████████| 13/13 [00:04<00:00,  3.16batch/s]\n",
      "100%|██████████| 37/37 [00:14<00:00,  2.54batch/s]\n",
      "100%|██████████| 13/13 [00:04<00:00,  3.13batch/s]\n",
      "100%|██████████| 37/37 [00:14<00:00,  2.55batch/s]\n",
      "100%|██████████| 13/13 [00:04<00:00,  3.17batch/s]\n",
      "100%|██████████| 37/37 [00:14<00:00,  2.54batch/s]\n",
      "100%|██████████| 13/13 [00:04<00:00,  3.13batch/s]\n",
      "100%|██████████| 37/37 [00:14<00:00,  2.58batch/s]\n",
      "100%|██████████| 13/13 [00:04<00:00,  3.17batch/s]\n",
      "100%|██████████| 37/37 [00:14<00:00,  2.61batch/s]\n",
      "100%|██████████| 13/13 [00:04<00:00,  3.21batch/s]\n",
      "100%|██████████| 37/37 [00:14<00:00,  2.62batch/s]\n",
      "100%|██████████| 13/13 [00:04<00:00,  3.08batch/s]\n",
      "100%|██████████| 37/37 [00:14<00:00,  2.55batch/s]\n",
      "100%|██████████| 13/13 [00:04<00:00,  3.06batch/s]\n",
      "100%|██████████| 37/37 [00:14<00:00,  2.57batch/s]\n",
      "100%|██████████| 13/13 [00:04<00:00,  3.17batch/s]\n",
      "100%|██████████| 37/37 [00:14<00:00,  2.61batch/s]\n",
      "100%|██████████| 13/13 [00:04<00:00,  3.18batch/s]\n",
      "100%|██████████| 37/37 [00:14<00:00,  2.59batch/s]\n",
      "100%|██████████| 13/13 [00:04<00:00,  3.18batch/s]\n",
      "100%|██████████| 37/37 [00:14<00:00,  2.58batch/s]\n",
      "100%|██████████| 13/13 [00:04<00:00,  3.07batch/s]\n",
      "100%|██████████| 37/37 [00:14<00:00,  2.58batch/s]\n",
      "100%|██████████| 13/13 [00:04<00:00,  3.15batch/s]\n",
      "100%|██████████| 37/37 [00:14<00:00,  2.58batch/s]\n",
      "100%|██████████| 13/13 [00:04<00:00,  3.16batch/s]\n",
      "100%|██████████| 37/37 [00:14<00:00,  2.59batch/s]\n",
      "100%|██████████| 13/13 [00:04<00:00,  3.15batch/s]\n",
      "100%|██████████| 37/37 [00:14<00:00,  2.59batch/s]\n",
      "100%|██████████| 13/13 [00:04<00:00,  3.12batch/s]\n",
      "100%|██████████| 37/37 [00:14<00:00,  2.59batch/s]\n",
      "100%|██████████| 13/13 [00:04<00:00,  3.19batch/s]\n",
      "100%|██████████| 37/37 [00:14<00:00,  2.59batch/s]\n",
      "100%|██████████| 13/13 [03:36<00:00, 16.68s/batch, psnr=3.68, ssim=0.002]  \n"
     ]
    },
    {
     "data": {
      "text/plain": [
       "VBox(children=(Label(value='0.001 MB of 0.040 MB uploaded\\r'), FloatProgress(value=0.034810275748291306, max=1…"
      ],
      "application/vnd.jupyter.widget-view+json": {
       "version_major": 2,
       "version_minor": 0,
       "model_id": "cbecfa70cb9d434ab7f193a2967c06fa"
      }
     },
     "metadata": {},
     "output_type": "display_data"
    },
    {
     "data": {
      "text/plain": [
       "<IPython.core.display.HTML object>"
      ],
      "text/html": [
       "<style>\n",
       "    table.wandb td:nth-child(1) { padding: 0 10px; text-align: left ; width: auto;} td:nth-child(2) {text-align: left ; width: 100%}\n",
       "    .wandb-row { display: flex; flex-direction: row; flex-wrap: wrap; justify-content: flex-start; width: 100% }\n",
       "    .wandb-col { display: flex; flex-direction: column; flex-basis: 100%; flex: 1; padding: 10px; }\n",
       "    </style>\n",
       "<div class=\"wandb-row\"><div class=\"wandb-col\"><h3>Run history:</h3><br/><table class=\"wandb\"><tr><td>psnr</td><td>▁</td></tr><tr><td>ssim</td><td>▁</td></tr><tr><td>train_loss</td><td>█▅▃▂▂▁▁▁▁▁▁▁▁▁▁▁▁▁▁▁▁▁▁▁▁▁▁▁▁▁▁▁▁▁▁▁▁▁▁▁</td></tr><tr><td>validation_loss</td><td>█▅▃▂▂▁▁▁▁▁▁▁▁▁▁▁▁▁▁▁▁▁▁▁▁▁▁▁▁▁▁▁▁▁▁▁▁▁▁▁</td></tr></table><br/></div><div class=\"wandb-col\"><h3>Run summary:</h3><br/><table class=\"wandb\"><tr><td>psnr</td><td>4.09738</td></tr><tr><td>ssim</td><td>0.00215</td></tr><tr><td>train_loss</td><td>0.0177</td></tr><tr><td>validation_loss</td><td>0.01864</td></tr></table><br/></div></div>"
      ]
     },
     "metadata": {},
     "output_type": "display_data"
    },
    {
     "data": {
      "text/plain": [
       "<IPython.core.display.HTML object>"
      ],
      "text/html": [
       " View run <strong style=\"color:#cdcd00\">SR3 version 3</strong> at: <a href='https://wandb.ai/ladoscuro/SR%20model%20benchmarking%20DA/runs/81fiefxk/workspace' target=\"_blank\">https://wandb.ai/ladoscuro/SR%20model%20benchmarking%20DA/runs/81fiefxk/workspace</a><br/>Synced 5 W&B file(s), 0 media file(s), 0 artifact file(s) and 0 other file(s)"
      ]
     },
     "metadata": {},
     "output_type": "display_data"
    },
    {
     "data": {
      "text/plain": [
       "<IPython.core.display.HTML object>"
      ],
      "text/html": [
       "Find logs at: <code>.\\wandb\\run-20240601_103445-81fiefxk\\logs</code>"
      ]
     },
     "metadata": {},
     "output_type": "display_data"
    }
   ],
   "execution_count": 4
  },
  {
   "metadata": {
    "ExecuteTime": {
     "end_time": "2024-05-28T21:10:22.825480Z",
     "start_time": "2024-05-28T20:41:28.523332Z"
    }
   },
   "cell_type": "code",
   "source": [
    "project_name = \"SR model benchmarking\"\n",
    "run_name = \"SR3 standart 128 bach\"\n",
    "wandb.login()\n",
    "wandb.init(project=project_name, config=hyperparams, name=run_name)\n",
    "torch.backends.cudnn.benchmark = True\n",
    "\n",
    "trainer = SR3Trainer(metrics_used=(\"ssim\", \"psnr\"), model_name=\"SR3 Standart 128 bach\")\n",
    "trainer.set_model(model)\n",
    "trainer.set_optimizer(optimizer)\n",
    "trainer.set_scheduler(scheduler)\n",
    "for step in range(hyperparams[\"epochs\"]):\n",
    "    with torch.no_grad():\n",
    "        val_loss = trainer.validate(val_dataloader)\n",
    "    train_loss = trainer.train(train_dataloader, step)\n",
    "    torch.cuda.empty_cache()\n",
    "    if step % 10 == 0:\n",
    "        trainer.save_model(\"saved models\\\\SR3\")\n",
    "    torch.cuda.empty_cache()\n",
    "    wandb.log({\"train_loss\": train_loss, \"validation_loss\": val_loss})\n",
    "    \n",
    "test_metrics = trainer.test(test_dataloader)\n",
    "wandb.log(test_metrics)\n",
    "wandb.finish()"
   ],
   "id": "2ee13c55f04b587f",
   "outputs": [
    {
     "name": "stderr",
     "output_type": "stream",
     "text": [
      "\u001B[34m\u001B[1mwandb\u001B[0m: Currently logged in as: \u001B[33madrianpereramoreno\u001B[0m (\u001B[33mladoscuro\u001B[0m). Use \u001B[1m`wandb login --relogin`\u001B[0m to force relogin\n"
     ]
    },
    {
     "data": {
      "text/plain": [
       "<IPython.core.display.HTML object>"
      ],
      "text/html": [
       "wandb version 0.17.0 is available!  To upgrade, please run:\n",
       " $ pip install wandb --upgrade"
      ]
     },
     "metadata": {},
     "output_type": "display_data"
    },
    {
     "data": {
      "text/plain": [
       "<IPython.core.display.HTML object>"
      ],
      "text/html": [
       "Tracking run with wandb version 0.16.5"
      ]
     },
     "metadata": {},
     "output_type": "display_data"
    },
    {
     "data": {
      "text/plain": [
       "<IPython.core.display.HTML object>"
      ],
      "text/html": [
       "Run data is saved locally in <code>C:\\Users\\adrianperera\\Documents\\GitHub\\SR-model-benchmarking\\wandb\\run-20240528_214130-y0nopf3u</code>"
      ]
     },
     "metadata": {},
     "output_type": "display_data"
    },
    {
     "data": {
      "text/plain": [
       "<IPython.core.display.HTML object>"
      ],
      "text/html": [
       "Syncing run <strong><a href='https://wandb.ai/ladoscuro/SR%20model%20benchmarking/runs/y0nopf3u/workspace' target=\"_blank\">SR3 standart 128 bach</a></strong> to <a href='https://wandb.ai/ladoscuro/SR%20model%20benchmarking' target=\"_blank\">Weights & Biases</a> (<a href='https://wandb.me/run' target=\"_blank\">docs</a>)<br/>"
      ]
     },
     "metadata": {},
     "output_type": "display_data"
    },
    {
     "data": {
      "text/plain": [
       "<IPython.core.display.HTML object>"
      ],
      "text/html": [
       " View project at <a href='https://wandb.ai/ladoscuro/SR%20model%20benchmarking' target=\"_blank\">https://wandb.ai/ladoscuro/SR%20model%20benchmarking</a>"
      ]
     },
     "metadata": {},
     "output_type": "display_data"
    },
    {
     "data": {
      "text/plain": [
       "<IPython.core.display.HTML object>"
      ],
      "text/html": [
       " View run at <a href='https://wandb.ai/ladoscuro/SR%20model%20benchmarking/runs/y0nopf3u/workspace' target=\"_blank\">https://wandb.ai/ladoscuro/SR%20model%20benchmarking/runs/y0nopf3u/workspace</a>"
      ]
     },
     "metadata": {},
     "output_type": "display_data"
    },
    {
     "name": "stderr",
     "output_type": "stream",
     "text": [
      "100%|██████████| 7/7 [00:05<00:00,  1.27batch/s]\n",
      "100%|██████████| 19/19 [00:18<00:00,  1.04batch/s]\n",
      "100%|██████████| 7/7 [00:03<00:00,  1.79batch/s]\n",
      "100%|██████████| 19/19 [00:12<00:00,  1.53batch/s]\n",
      "100%|██████████| 7/7 [00:03<00:00,  1.83batch/s]\n",
      "100%|██████████| 19/19 [00:12<00:00,  1.54batch/s]\n",
      "100%|██████████| 7/7 [00:03<00:00,  1.80batch/s]\n",
      "100%|██████████| 19/19 [00:12<00:00,  1.55batch/s]\n",
      "100%|██████████| 7/7 [00:03<00:00,  1.78batch/s]\n",
      "100%|██████████| 19/19 [00:12<00:00,  1.55batch/s]\n",
      "100%|██████████| 7/7 [00:03<00:00,  1.83batch/s]\n",
      "100%|██████████| 19/19 [00:12<00:00,  1.56batch/s]\n",
      "100%|██████████| 7/7 [00:03<00:00,  1.81batch/s]\n",
      "100%|██████████| 19/19 [00:12<00:00,  1.55batch/s]\n",
      "100%|██████████| 7/7 [00:03<00:00,  1.82batch/s]\n",
      "100%|██████████| 19/19 [00:12<00:00,  1.55batch/s]\n",
      "100%|██████████| 7/7 [00:03<00:00,  1.81batch/s]\n",
      "100%|██████████| 19/19 [00:12<00:00,  1.55batch/s]\n",
      "100%|██████████| 7/7 [00:03<00:00,  1.82batch/s]\n",
      "100%|██████████| 19/19 [00:12<00:00,  1.55batch/s]\n",
      "100%|██████████| 7/7 [00:03<00:00,  1.84batch/s]\n",
      "100%|██████████| 19/19 [00:12<00:00,  1.55batch/s]\n",
      "100%|██████████| 7/7 [00:03<00:00,  1.79batch/s]\n",
      "100%|██████████| 19/19 [00:12<00:00,  1.56batch/s]\n",
      "100%|██████████| 7/7 [00:03<00:00,  1.80batch/s]\n",
      "100%|██████████| 19/19 [00:12<00:00,  1.56batch/s]\n",
      "100%|██████████| 7/7 [00:03<00:00,  1.82batch/s]\n",
      "100%|██████████| 19/19 [00:12<00:00,  1.56batch/s]\n",
      "100%|██████████| 7/7 [00:03<00:00,  1.83batch/s]\n",
      "100%|██████████| 19/19 [00:12<00:00,  1.56batch/s]\n",
      "100%|██████████| 7/7 [00:03<00:00,  1.79batch/s]\n",
      "100%|██████████| 19/19 [00:12<00:00,  1.54batch/s]\n",
      "100%|██████████| 7/7 [00:03<00:00,  1.80batch/s]\n",
      "100%|██████████| 19/19 [00:12<00:00,  1.54batch/s]\n",
      "100%|██████████| 7/7 [00:03<00:00,  1.79batch/s]\n",
      "100%|██████████| 19/19 [00:12<00:00,  1.56batch/s]\n",
      "100%|██████████| 7/7 [00:03<00:00,  1.81batch/s]\n",
      "100%|██████████| 19/19 [00:12<00:00,  1.55batch/s]\n",
      "100%|██████████| 7/7 [00:03<00:00,  1.81batch/s]\n",
      "100%|██████████| 19/19 [00:12<00:00,  1.54batch/s]\n",
      "100%|██████████| 7/7 [00:03<00:00,  1.82batch/s]\n",
      "100%|██████████| 19/19 [00:12<00:00,  1.55batch/s]\n",
      "100%|██████████| 7/7 [00:03<00:00,  1.83batch/s]\n",
      "100%|██████████| 19/19 [00:12<00:00,  1.55batch/s]\n",
      "100%|██████████| 7/7 [00:03<00:00,  1.80batch/s]\n",
      "100%|██████████| 19/19 [00:12<00:00,  1.55batch/s]\n",
      "100%|██████████| 7/7 [00:03<00:00,  1.81batch/s]\n",
      "100%|██████████| 19/19 [00:12<00:00,  1.54batch/s]\n",
      "100%|██████████| 7/7 [00:03<00:00,  1.82batch/s]\n",
      "100%|██████████| 19/19 [00:12<00:00,  1.54batch/s]\n",
      "100%|██████████| 7/7 [00:03<00:00,  1.82batch/s]\n",
      "100%|██████████| 19/19 [00:12<00:00,  1.54batch/s]\n",
      "100%|██████████| 7/7 [00:03<00:00,  1.80batch/s]\n",
      "100%|██████████| 19/19 [00:12<00:00,  1.55batch/s]\n",
      "100%|██████████| 7/7 [00:03<00:00,  1.80batch/s]\n",
      "100%|██████████| 19/19 [00:12<00:00,  1.55batch/s]\n",
      "100%|██████████| 7/7 [00:03<00:00,  1.79batch/s]\n",
      "100%|██████████| 19/19 [00:12<00:00,  1.55batch/s]\n",
      "100%|██████████| 7/7 [00:03<00:00,  1.82batch/s]\n",
      "100%|██████████| 19/19 [00:12<00:00,  1.55batch/s]\n",
      "100%|██████████| 7/7 [00:03<00:00,  1.81batch/s]\n",
      "100%|██████████| 19/19 [00:12<00:00,  1.55batch/s]\n",
      "100%|██████████| 7/7 [00:03<00:00,  1.82batch/s]\n",
      "100%|██████████| 19/19 [00:12<00:00,  1.54batch/s]\n",
      "100%|██████████| 7/7 [00:03<00:00,  1.81batch/s]\n",
      "100%|██████████| 19/19 [00:12<00:00,  1.53batch/s]\n",
      "100%|██████████| 7/7 [00:03<00:00,  1.81batch/s]\n",
      "100%|██████████| 19/19 [00:12<00:00,  1.52batch/s]\n",
      "100%|██████████| 7/7 [00:03<00:00,  1.81batch/s]\n",
      "100%|██████████| 19/19 [00:12<00:00,  1.54batch/s]\n",
      "100%|██████████| 7/7 [00:03<00:00,  1.80batch/s]\n",
      "100%|██████████| 19/19 [00:12<00:00,  1.54batch/s]\n",
      "100%|██████████| 7/7 [00:03<00:00,  1.81batch/s]\n",
      "100%|██████████| 19/19 [00:12<00:00,  1.54batch/s]\n",
      "100%|██████████| 7/7 [00:03<00:00,  1.79batch/s]\n",
      "100%|██████████| 19/19 [00:12<00:00,  1.53batch/s]\n",
      "100%|██████████| 7/7 [00:03<00:00,  1.78batch/s]\n",
      "100%|██████████| 19/19 [00:12<00:00,  1.54batch/s]\n",
      "100%|██████████| 7/7 [00:03<00:00,  1.76batch/s]\n",
      "100%|██████████| 19/19 [00:12<00:00,  1.53batch/s]\n",
      "100%|██████████| 7/7 [00:03<00:00,  1.82batch/s]\n",
      "100%|██████████| 19/19 [00:12<00:00,  1.53batch/s]\n",
      "100%|██████████| 7/7 [00:03<00:00,  1.80batch/s]\n",
      "100%|██████████| 19/19 [00:12<00:00,  1.52batch/s]\n",
      "100%|██████████| 7/7 [00:03<00:00,  1.79batch/s]\n",
      "100%|██████████| 19/19 [00:12<00:00,  1.54batch/s]\n",
      "100%|██████████| 7/7 [00:03<00:00,  1.81batch/s]\n",
      "100%|██████████| 19/19 [00:12<00:00,  1.53batch/s]\n",
      "100%|██████████| 7/7 [00:03<00:00,  1.79batch/s]\n",
      "100%|██████████| 19/19 [00:12<00:00,  1.52batch/s]\n",
      "100%|██████████| 7/7 [00:03<00:00,  1.81batch/s]\n",
      "100%|██████████| 19/19 [00:12<00:00,  1.53batch/s]\n",
      "100%|██████████| 7/7 [00:03<00:00,  1.79batch/s]\n",
      "100%|██████████| 19/19 [00:12<00:00,  1.53batch/s]\n",
      "100%|██████████| 7/7 [00:03<00:00,  1.75batch/s]\n",
      "100%|██████████| 19/19 [00:12<00:00,  1.53batch/s]\n",
      "100%|██████████| 7/7 [00:03<00:00,  1.79batch/s]\n",
      "100%|██████████| 19/19 [00:12<00:00,  1.53batch/s]\n",
      "100%|██████████| 7/7 [00:03<00:00,  1.78batch/s]\n",
      "100%|██████████| 19/19 [00:12<00:00,  1.51batch/s]\n",
      "100%|██████████| 7/7 [00:03<00:00,  1.83batch/s]\n",
      "100%|██████████| 19/19 [00:12<00:00,  1.54batch/s]\n",
      "100%|██████████| 7/7 [00:03<00:00,  1.81batch/s]\n",
      "100%|██████████| 19/19 [00:12<00:00,  1.52batch/s]\n",
      "100%|██████████| 7/7 [00:03<00:00,  1.80batch/s]\n",
      "100%|██████████| 19/19 [00:12<00:00,  1.53batch/s]\n",
      "100%|██████████| 7/7 [00:03<00:00,  1.78batch/s]\n",
      "100%|██████████| 19/19 [00:12<00:00,  1.54batch/s]\n",
      "100%|██████████| 7/7 [00:03<00:00,  1.81batch/s]\n",
      "100%|██████████| 19/19 [00:12<00:00,  1.55batch/s]\n",
      "100%|██████████| 7/7 [00:03<00:00,  1.81batch/s]\n",
      "100%|██████████| 19/19 [00:12<00:00,  1.55batch/s]\n",
      "100%|██████████| 7/7 [00:03<00:00,  1.81batch/s]\n",
      "100%|██████████| 19/19 [00:12<00:00,  1.54batch/s]\n",
      "100%|██████████| 7/7 [00:03<00:00,  1.80batch/s]\n",
      "100%|██████████| 19/19 [00:12<00:00,  1.53batch/s]\n",
      "100%|██████████| 7/7 [00:03<00:00,  1.80batch/s]\n",
      "100%|██████████| 19/19 [00:12<00:00,  1.56batch/s]\n",
      "100%|██████████| 7/7 [00:03<00:00,  1.78batch/s]\n",
      "100%|██████████| 19/19 [00:12<00:00,  1.54batch/s]\n",
      "100%|██████████| 7/7 [00:03<00:00,  1.79batch/s]\n",
      "100%|██████████| 19/19 [00:12<00:00,  1.54batch/s]\n",
      "100%|██████████| 7/7 [00:03<00:00,  1.83batch/s]\n",
      "100%|██████████| 19/19 [00:12<00:00,  1.54batch/s]\n",
      "100%|██████████| 7/7 [00:03<00:00,  1.80batch/s]\n",
      "100%|██████████| 19/19 [00:12<00:00,  1.53batch/s]\n",
      "100%|██████████| 7/7 [00:03<00:00,  1.80batch/s]\n",
      "100%|██████████| 19/19 [00:12<00:00,  1.54batch/s]\n",
      "100%|██████████| 7/7 [00:03<00:00,  1.83batch/s]\n",
      "100%|██████████| 19/19 [00:12<00:00,  1.54batch/s]\n",
      "100%|██████████| 7/7 [00:03<00:00,  1.80batch/s]\n",
      "100%|██████████| 19/19 [00:12<00:00,  1.54batch/s]\n",
      "100%|██████████| 7/7 [00:03<00:00,  1.78batch/s]\n",
      "100%|██████████| 19/19 [00:12<00:00,  1.53batch/s]\n",
      "100%|██████████| 7/7 [00:03<00:00,  1.81batch/s]\n",
      "100%|██████████| 19/19 [00:12<00:00,  1.54batch/s]\n",
      "100%|██████████| 7/7 [00:03<00:00,  1.78batch/s]\n",
      "100%|██████████| 19/19 [00:12<00:00,  1.54batch/s]\n",
      "100%|██████████| 7/7 [00:03<00:00,  1.80batch/s]\n",
      "100%|██████████| 19/19 [00:12<00:00,  1.52batch/s]\n",
      "100%|██████████| 7/7 [00:03<00:00,  1.80batch/s]\n",
      "100%|██████████| 19/19 [00:12<00:00,  1.53batch/s]\n",
      "100%|██████████| 7/7 [00:03<00:00,  1.77batch/s]\n",
      "100%|██████████| 19/19 [00:12<00:00,  1.53batch/s]\n",
      "100%|██████████| 7/7 [00:03<00:00,  1.80batch/s]\n",
      "100%|██████████| 19/19 [00:12<00:00,  1.53batch/s]\n",
      "100%|██████████| 7/7 [00:03<00:00,  1.81batch/s]\n",
      "100%|██████████| 19/19 [00:12<00:00,  1.52batch/s]\n",
      "100%|██████████| 7/7 [00:03<00:00,  1.78batch/s]\n",
      "100%|██████████| 19/19 [00:12<00:00,  1.54batch/s]\n",
      "100%|██████████| 7/7 [00:03<00:00,  1.80batch/s]\n",
      "100%|██████████| 19/19 [00:12<00:00,  1.54batch/s]\n",
      "100%|██████████| 7/7 [00:03<00:00,  1.80batch/s]\n",
      "100%|██████████| 19/19 [00:12<00:00,  1.54batch/s]\n",
      "100%|██████████| 7/7 [00:03<00:00,  1.82batch/s]\n",
      "100%|██████████| 19/19 [00:12<00:00,  1.52batch/s]\n",
      "100%|██████████| 7/7 [00:03<00:00,  1.81batch/s]\n",
      "100%|██████████| 19/19 [00:12<00:00,  1.54batch/s]\n",
      "100%|██████████| 7/7 [00:03<00:00,  1.79batch/s]\n",
      "100%|██████████| 19/19 [00:12<00:00,  1.53batch/s]\n",
      "100%|██████████| 7/7 [00:03<00:00,  1.77batch/s]\n",
      "100%|██████████| 19/19 [00:12<00:00,  1.53batch/s]\n",
      "100%|██████████| 7/7 [00:03<00:00,  1.77batch/s]\n",
      "100%|██████████| 19/19 [00:12<00:00,  1.54batch/s]\n",
      "100%|██████████| 7/7 [00:03<00:00,  1.82batch/s]\n",
      "100%|██████████| 19/19 [00:12<00:00,  1.53batch/s]\n",
      "100%|██████████| 7/7 [00:03<00:00,  1.81batch/s]\n",
      "100%|██████████| 19/19 [00:12<00:00,  1.54batch/s]\n",
      "100%|██████████| 7/7 [00:03<00:00,  1.81batch/s]\n",
      "100%|██████████| 19/19 [00:12<00:00,  1.54batch/s]\n",
      "100%|██████████| 7/7 [00:03<00:00,  1.82batch/s]\n",
      "100%|██████████| 19/19 [00:12<00:00,  1.54batch/s]\n",
      "100%|██████████| 7/7 [00:03<00:00,  1.81batch/s]\n",
      "100%|██████████| 19/19 [00:12<00:00,  1.54batch/s]\n",
      "100%|██████████| 7/7 [00:03<00:00,  1.80batch/s]\n",
      "100%|██████████| 19/19 [00:12<00:00,  1.54batch/s]\n",
      "100%|██████████| 7/7 [00:03<00:00,  1.82batch/s]\n",
      "100%|██████████| 19/19 [00:12<00:00,  1.53batch/s]\n",
      "100%|██████████| 7/7 [00:03<00:00,  1.79batch/s]\n",
      "100%|██████████| 19/19 [00:12<00:00,  1.54batch/s]\n",
      "100%|██████████| 7/7 [00:03<00:00,  1.76batch/s]\n",
      "100%|██████████| 19/19 [00:12<00:00,  1.55batch/s]\n",
      "100%|██████████| 7/7 [00:03<00:00,  1.78batch/s]\n",
      "100%|██████████| 19/19 [00:12<00:00,  1.52batch/s]\n",
      "100%|██████████| 7/7 [00:03<00:00,  1.79batch/s]\n",
      "100%|██████████| 19/19 [00:12<00:00,  1.52batch/s]\n",
      "100%|██████████| 7/7 [00:03<00:00,  1.79batch/s]\n",
      "100%|██████████| 19/19 [00:12<00:00,  1.52batch/s]\n",
      "100%|██████████| 7/7 [00:03<00:00,  1.79batch/s]\n",
      "100%|██████████| 19/19 [00:12<00:00,  1.53batch/s]\n",
      "100%|██████████| 7/7 [00:03<00:00,  1.81batch/s]\n",
      "100%|██████████| 19/19 [00:12<00:00,  1.52batch/s]\n",
      "100%|██████████| 7/7 [00:03<00:00,  1.80batch/s]\n",
      "100%|██████████| 19/19 [00:12<00:00,  1.54batch/s]\n",
      "100%|██████████| 7/7 [00:03<00:00,  1.80batch/s]\n",
      "100%|██████████| 19/19 [00:12<00:00,  1.53batch/s]\n",
      "100%|██████████| 7/7 [00:03<00:00,  1.80batch/s]\n",
      "100%|██████████| 19/19 [00:12<00:00,  1.53batch/s]\n",
      "100%|██████████| 7/7 [00:03<00:00,  1.79batch/s]\n",
      "100%|██████████| 19/19 [00:12<00:00,  1.55batch/s]\n",
      "100%|██████████| 7/7 [01:13<00:00, 10.53s/batch, psnr=4.02, ssim=0.00272]\n"
     ]
    },
    {
     "data": {
      "text/plain": [
       "VBox(children=(Label(value='0.001 MB of 0.001 MB uploaded\\r'), FloatProgress(value=1.0, max=1.0)))"
      ],
      "application/vnd.jupyter.widget-view+json": {
       "version_major": 2,
       "version_minor": 0,
       "model_id": "9f244a30c6a241ce8cdaf439f4f7eefa"
      }
     },
     "metadata": {},
     "output_type": "display_data"
    },
    {
     "data": {
      "text/plain": [
       "<IPython.core.display.HTML object>"
      ],
      "text/html": [
       "<style>\n",
       "    table.wandb td:nth-child(1) { padding: 0 10px; text-align: left ; width: auto;} td:nth-child(2) {text-align: left ; width: 100%}\n",
       "    .wandb-row { display: flex; flex-direction: row; flex-wrap: wrap; justify-content: flex-start; width: 100% }\n",
       "    .wandb-col { display: flex; flex-direction: column; flex-basis: 100%; flex: 1; padding: 10px; }\n",
       "    </style>\n",
       "<div class=\"wandb-row\"><div class=\"wandb-col\"><h3>Run history:</h3><br/><table class=\"wandb\"><tr><td>psnr</td><td>▁</td></tr><tr><td>ssim</td><td>▁</td></tr><tr><td>train_loss</td><td>██▇▇▆▆▆▅▅▅▅▄▄▄▄▃▃▃▃▃▃▂▂▂▂▂▂▂▂▂▁▁▁▁▁▁▁▁▁▁</td></tr><tr><td>validation_loss</td><td>██▇▇▆▆▆▅▅▅▅▄▄▄▄▃▃▃▃▃▃▂▂▂▂▂▂▂▂▂▁▁▁▁▁▁▁▁▁▁</td></tr></table><br/></div><div class=\"wandb-col\"><h3>Run summary:</h3><br/><table class=\"wandb\"><tr><td>psnr</td><td>4.24513</td></tr><tr><td>ssim</td><td>0.00269</td></tr><tr><td>train_loss</td><td>0.16762</td></tr><tr><td>validation_loss</td><td>0.16789</td></tr></table><br/></div></div>"
      ]
     },
     "metadata": {},
     "output_type": "display_data"
    },
    {
     "data": {
      "text/plain": [
       "<IPython.core.display.HTML object>"
      ],
      "text/html": [
       " View run <strong style=\"color:#cdcd00\">SR3 standart 128 bach</strong> at: <a href='https://wandb.ai/ladoscuro/SR%20model%20benchmarking/runs/y0nopf3u/workspace' target=\"_blank\">https://wandb.ai/ladoscuro/SR%20model%20benchmarking/runs/y0nopf3u/workspace</a><br/>Synced 5 W&B file(s), 0 media file(s), 2 artifact file(s) and 0 other file(s)"
      ]
     },
     "metadata": {},
     "output_type": "display_data"
    },
    {
     "data": {
      "text/plain": [
       "<IPython.core.display.HTML object>"
      ],
      "text/html": [
       "Find logs at: <code>.\\wandb\\run-20240528_214130-y0nopf3u\\logs</code>"
      ]
     },
     "metadata": {},
     "output_type": "display_data"
    }
   ],
   "execution_count": 5
  },
  {
   "metadata": {
    "ExecuteTime": {
     "end_time": "2024-05-29T07:23:21.365402Z",
     "start_time": "2024-05-29T07:23:21.358391Z"
    }
   },
   "cell_type": "code",
   "source": [
    "hyperparams = {\n",
    "    \"lr\":0.0002,\n",
    "    \"epochs\":100,\n",
    "    \"eta_min\":1e-7,\n",
    "    \"decay_steps\": 100000,\n",
    "    \"gamma\" : 0.5,  \n",
    "    \"model\" : \"SR3+\",\n",
    "    \"batch_size\" : batch_size,\n",
    "    \"ddp\": False\n",
    "}\n",
    "hyperparams.update(model_builder.get_hyperparameters())\n",
    "optimizer = torch.optim.Adam(model.parameters(), lr=hyperparams[\"lr\"])\n",
    "scheduler = torch.optim.lr_scheduler.StepLR(optimizer, step_size=hyperparams[\"decay_steps\"], gamma=hyperparams[\"gamma\"])"
   ],
   "id": "251bcb3352d85919",
   "outputs": [],
   "execution_count": 8
  },
  {
   "metadata": {
    "ExecuteTime": {
     "end_time": "2024-05-29T07:52:05.933054Z",
     "start_time": "2024-05-29T07:23:22.877270Z"
    }
   },
   "cell_type": "code",
   "source": [
    "project_name = \"SR model benchmarking\"\n",
    "run_name = \"SR3+ standart 128 bach\"\n",
    "wandb.login()\n",
    "wandb.init(project=project_name, config=hyperparams, name=run_name)\n",
    "\n",
    "trainer = SR3Trainer(metrics_used=(\"ssim\", \"psnr\"), model_name=\"SR3+ standart 128 bach\")\n",
    "trainer.set_model(model)\n",
    "trainer.set_optimizer(optimizer)\n",
    "trainer.set_scheduler(scheduler)\n",
    "for step in range(hyperparams[\"epochs\"]):\n",
    "    with torch.no_grad():\n",
    "        val_loss = trainer.validate(val_dataloader)\n",
    "    \n",
    "    train_loss = trainer.train(train_dataloader,epoch=step)\n",
    "    torch.cuda.empty_cache()\n",
    "    if step % 10 == 0:\n",
    "        trainer.save_model(\"saved models\\\\SR3+\")\n",
    "\n",
    "    torch.cuda.empty_cache()\n",
    "    wandb.log({\"train_loss\": train_loss, \"validation_loss\": val_loss})\n",
    "    \n",
    "test_metrics = trainer.test(test_dataloader)\n",
    "wandb.log(test_metrics)\n",
    "wandb.finish()   "
   ],
   "id": "c0e5e79867cbfb2b",
   "outputs": [
    {
     "name": "stderr",
     "output_type": "stream",
     "text": [
      "\u001B[34m\u001B[1mwandb\u001B[0m: \u001B[33mWARNING\u001B[0m Calling wandb.login() after wandb.init() has no effect.\n"
     ]
    },
    {
     "data": {
      "text/plain": [
       "<IPython.core.display.HTML object>"
      ],
      "text/html": [
       "Finishing last run (ID:q7p1um13) before initializing another..."
      ]
     },
     "metadata": {},
     "output_type": "display_data"
    },
    {
     "data": {
      "text/plain": [
       "VBox(children=(Label(value='0.001 MB of 0.001 MB uploaded\\r'), FloatProgress(value=1.0, max=1.0)))"
      ],
      "application/vnd.jupyter.widget-view+json": {
       "version_major": 2,
       "version_minor": 0,
       "model_id": "54a6a8f545334eb8be0525ac913996a1"
      }
     },
     "metadata": {},
     "output_type": "display_data"
    },
    {
     "data": {
      "text/plain": [
       "<IPython.core.display.HTML object>"
      ],
      "text/html": [
       "W&B sync reduced upload amount by 12.1%             "
      ]
     },
     "metadata": {},
     "output_type": "display_data"
    },
    {
     "data": {
      "text/plain": [
       "<IPython.core.display.HTML object>"
      ],
      "text/html": [
       " View run <strong style=\"color:#cdcd00\">SR3+ standart 128 bach</strong> at: <a href='https://wandb.ai/ladoscuro/SR%20model%20benchmarking/runs/q7p1um13/workspace' target=\"_blank\">https://wandb.ai/ladoscuro/SR%20model%20benchmarking/runs/q7p1um13/workspace</a><br/>Synced 5 W&B file(s), 0 media file(s), 2 artifact file(s) and 0 other file(s)"
      ]
     },
     "metadata": {},
     "output_type": "display_data"
    },
    {
     "data": {
      "text/plain": [
       "<IPython.core.display.HTML object>"
      ],
      "text/html": [
       "Find logs at: <code>.\\wandb\\run-20240528_221022-q7p1um13\\logs</code>"
      ]
     },
     "metadata": {},
     "output_type": "display_data"
    },
    {
     "data": {
      "text/plain": [
       "<IPython.core.display.HTML object>"
      ],
      "text/html": [
       "Successfully finished last run (ID:q7p1um13). Initializing new run:<br/>"
      ]
     },
     "metadata": {},
     "output_type": "display_data"
    },
    {
     "data": {
      "text/plain": [
       "VBox(children=(Label(value='Waiting for wandb.init()...\\r'), FloatProgress(value=0.01128888888957186, max=1.0)…"
      ],
      "application/vnd.jupyter.widget-view+json": {
       "version_major": 2,
       "version_minor": 0,
       "model_id": "ec2e20d3eb734e2b9e586d72d856753f"
      }
     },
     "metadata": {},
     "output_type": "display_data"
    },
    {
     "data": {
      "text/plain": [
       "<IPython.core.display.HTML object>"
      ],
      "text/html": [
       "wandb version 0.17.0 is available!  To upgrade, please run:\n",
       " $ pip install wandb --upgrade"
      ]
     },
     "metadata": {},
     "output_type": "display_data"
    },
    {
     "data": {
      "text/plain": [
       "<IPython.core.display.HTML object>"
      ],
      "text/html": [
       "Tracking run with wandb version 0.16.5"
      ]
     },
     "metadata": {},
     "output_type": "display_data"
    },
    {
     "data": {
      "text/plain": [
       "<IPython.core.display.HTML object>"
      ],
      "text/html": [
       "Run data is saved locally in <code>C:\\Users\\adrianperera\\Documents\\GitHub\\SR-model-benchmarking\\wandb\\run-20240529_082322-gbnpssn0</code>"
      ]
     },
     "metadata": {},
     "output_type": "display_data"
    },
    {
     "data": {
      "text/plain": [
       "<IPython.core.display.HTML object>"
      ],
      "text/html": [
       "Syncing run <strong><a href='https://wandb.ai/ladoscuro/SR%20model%20benchmarking/runs/gbnpssn0/workspace' target=\"_blank\">SR3+ standart 128 bach</a></strong> to <a href='https://wandb.ai/ladoscuro/SR%20model%20benchmarking' target=\"_blank\">Weights & Biases</a> (<a href='https://wandb.me/run' target=\"_blank\">docs</a>)<br/>"
      ]
     },
     "metadata": {},
     "output_type": "display_data"
    },
    {
     "data": {
      "text/plain": [
       "<IPython.core.display.HTML object>"
      ],
      "text/html": [
       " View project at <a href='https://wandb.ai/ladoscuro/SR%20model%20benchmarking' target=\"_blank\">https://wandb.ai/ladoscuro/SR%20model%20benchmarking</a>"
      ]
     },
     "metadata": {},
     "output_type": "display_data"
    },
    {
     "data": {
      "text/plain": [
       "<IPython.core.display.HTML object>"
      ],
      "text/html": [
       " View run at <a href='https://wandb.ai/ladoscuro/SR%20model%20benchmarking/runs/gbnpssn0/workspace' target=\"_blank\">https://wandb.ai/ladoscuro/SR%20model%20benchmarking/runs/gbnpssn0/workspace</a>"
      ]
     },
     "metadata": {},
     "output_type": "display_data"
    },
    {
     "name": "stderr",
     "output_type": "stream",
     "text": [
      "100%|██████████| 7/7 [00:04<00:00,  1.74batch/s]\n",
      "100%|██████████| 19/19 [00:12<00:00,  1.53batch/s]\n",
      "100%|██████████| 7/7 [00:03<00:00,  1.82batch/s]\n",
      "100%|██████████| 19/19 [00:12<00:00,  1.51batch/s]\n",
      "100%|██████████| 7/7 [00:04<00:00,  1.72batch/s]\n",
      "100%|██████████| 19/19 [00:12<00:00,  1.56batch/s]\n",
      "100%|██████████| 7/7 [00:03<00:00,  1.80batch/s]\n",
      "100%|██████████| 19/19 [00:12<00:00,  1.57batch/s]\n",
      "100%|██████████| 7/7 [00:03<00:00,  1.80batch/s]\n",
      "100%|██████████| 19/19 [00:12<00:00,  1.56batch/s]\n",
      "100%|██████████| 7/7 [00:03<00:00,  1.84batch/s]\n",
      "100%|██████████| 19/19 [00:12<00:00,  1.56batch/s]\n",
      "100%|██████████| 7/7 [00:03<00:00,  1.81batch/s]\n",
      "100%|██████████| 19/19 [00:12<00:00,  1.56batch/s]\n",
      "100%|██████████| 7/7 [00:03<00:00,  1.82batch/s]\n",
      "100%|██████████| 19/19 [00:12<00:00,  1.57batch/s]\n",
      "100%|██████████| 7/7 [00:03<00:00,  1.83batch/s]\n",
      "100%|██████████| 19/19 [00:12<00:00,  1.56batch/s]\n",
      "100%|██████████| 7/7 [00:03<00:00,  1.83batch/s]\n",
      "100%|██████████| 19/19 [00:12<00:00,  1.56batch/s]\n",
      "100%|██████████| 7/7 [00:03<00:00,  1.82batch/s]\n",
      "100%|██████████| 19/19 [00:12<00:00,  1.56batch/s]\n",
      "100%|██████████| 7/7 [00:03<00:00,  1.84batch/s]\n",
      "100%|██████████| 19/19 [00:12<00:00,  1.56batch/s]\n",
      "100%|██████████| 7/7 [00:03<00:00,  1.82batch/s]\n",
      "100%|██████████| 19/19 [00:12<00:00,  1.55batch/s]\n",
      "100%|██████████| 7/7 [00:03<00:00,  1.81batch/s]\n",
      "100%|██████████| 19/19 [00:12<00:00,  1.55batch/s]\n",
      "100%|██████████| 7/7 [00:03<00:00,  1.82batch/s]\n",
      "100%|██████████| 19/19 [00:12<00:00,  1.56batch/s]\n",
      "100%|██████████| 7/7 [00:03<00:00,  1.79batch/s]\n",
      "100%|██████████| 19/19 [00:12<00:00,  1.56batch/s]\n",
      "100%|██████████| 7/7 [00:03<00:00,  1.81batch/s]\n",
      "100%|██████████| 19/19 [00:12<00:00,  1.56batch/s]\n",
      "100%|██████████| 7/7 [00:03<00:00,  1.83batch/s]\n",
      "100%|██████████| 19/19 [00:12<00:00,  1.56batch/s]\n",
      "100%|██████████| 7/7 [00:03<00:00,  1.82batch/s]\n",
      "100%|██████████| 19/19 [00:12<00:00,  1.56batch/s]\n",
      "100%|██████████| 7/7 [00:03<00:00,  1.83batch/s]\n",
      "100%|██████████| 19/19 [00:12<00:00,  1.55batch/s]\n",
      "100%|██████████| 7/7 [00:03<00:00,  1.82batch/s]\n",
      "100%|██████████| 19/19 [00:12<00:00,  1.56batch/s]\n",
      "100%|██████████| 7/7 [00:03<00:00,  1.83batch/s]\n",
      "100%|██████████| 19/19 [00:12<00:00,  1.56batch/s]\n",
      "100%|██████████| 7/7 [00:03<00:00,  1.82batch/s]\n",
      "100%|██████████| 19/19 [00:12<00:00,  1.55batch/s]\n",
      "100%|██████████| 7/7 [00:03<00:00,  1.80batch/s]\n",
      "100%|██████████| 19/19 [00:12<00:00,  1.56batch/s]\n",
      "100%|██████████| 7/7 [00:03<00:00,  1.83batch/s]\n",
      "100%|██████████| 19/19 [00:12<00:00,  1.56batch/s]\n",
      "100%|██████████| 7/7 [00:03<00:00,  1.84batch/s]\n",
      "100%|██████████| 19/19 [00:12<00:00,  1.55batch/s]\n",
      "100%|██████████| 7/7 [00:03<00:00,  1.81batch/s]\n",
      "100%|██████████| 19/19 [00:12<00:00,  1.56batch/s]\n",
      "100%|██████████| 7/7 [00:03<00:00,  1.79batch/s]\n",
      "100%|██████████| 19/19 [00:12<00:00,  1.56batch/s]\n",
      "100%|██████████| 7/7 [00:03<00:00,  1.80batch/s]\n",
      "100%|██████████| 19/19 [00:12<00:00,  1.55batch/s]\n",
      "100%|██████████| 7/7 [00:03<00:00,  1.79batch/s]\n",
      "100%|██████████| 19/19 [00:12<00:00,  1.55batch/s]\n",
      "100%|██████████| 7/7 [00:03<00:00,  1.82batch/s]\n",
      "100%|██████████| 19/19 [00:12<00:00,  1.56batch/s]\n",
      "100%|██████████| 7/7 [00:03<00:00,  1.84batch/s]\n",
      "100%|██████████| 19/19 [00:12<00:00,  1.56batch/s]\n",
      "100%|██████████| 7/7 [00:03<00:00,  1.83batch/s]\n",
      "100%|██████████| 19/19 [00:12<00:00,  1.55batch/s]\n",
      "100%|██████████| 7/7 [00:03<00:00,  1.80batch/s]\n",
      "100%|██████████| 19/19 [00:12<00:00,  1.55batch/s]\n",
      "100%|██████████| 7/7 [00:03<00:00,  1.82batch/s]\n",
      "100%|██████████| 19/19 [00:12<00:00,  1.56batch/s]\n",
      "100%|██████████| 7/7 [00:03<00:00,  1.83batch/s]\n",
      "100%|██████████| 19/19 [00:12<00:00,  1.56batch/s]\n",
      "100%|██████████| 7/7 [00:03<00:00,  1.82batch/s]\n",
      "100%|██████████| 19/19 [00:12<00:00,  1.54batch/s]\n",
      "100%|██████████| 7/7 [00:03<00:00,  1.82batch/s]\n",
      "100%|██████████| 19/19 [00:12<00:00,  1.54batch/s]\n",
      "100%|██████████| 7/7 [00:03<00:00,  1.77batch/s]\n",
      "100%|██████████| 19/19 [00:12<00:00,  1.56batch/s]\n",
      "100%|██████████| 7/7 [00:03<00:00,  1.81batch/s]\n",
      "100%|██████████| 19/19 [00:12<00:00,  1.56batch/s]\n",
      "100%|██████████| 7/7 [00:03<00:00,  1.81batch/s]\n",
      "100%|██████████| 19/19 [00:12<00:00,  1.57batch/s]\n",
      "100%|██████████| 7/7 [00:03<00:00,  1.81batch/s]\n",
      "100%|██████████| 19/19 [00:12<00:00,  1.55batch/s]\n",
      "100%|██████████| 7/7 [00:03<00:00,  1.83batch/s]\n",
      "100%|██████████| 19/19 [00:12<00:00,  1.54batch/s]\n",
      "100%|██████████| 7/7 [00:03<00:00,  1.83batch/s]\n",
      "100%|██████████| 19/19 [00:12<00:00,  1.54batch/s]\n",
      "100%|██████████| 7/7 [00:03<00:00,  1.82batch/s]\n",
      "100%|██████████| 19/19 [00:12<00:00,  1.55batch/s]\n",
      "100%|██████████| 7/7 [00:03<00:00,  1.82batch/s]\n",
      "100%|██████████| 19/19 [00:12<00:00,  1.54batch/s]\n",
      "100%|██████████| 7/7 [00:03<00:00,  1.83batch/s]\n",
      "100%|██████████| 19/19 [00:12<00:00,  1.54batch/s]\n",
      "100%|██████████| 7/7 [00:03<00:00,  1.82batch/s]\n",
      "100%|██████████| 19/19 [00:12<00:00,  1.56batch/s]\n",
      "100%|██████████| 7/7 [00:03<00:00,  1.82batch/s]\n",
      "100%|██████████| 19/19 [00:12<00:00,  1.56batch/s]\n",
      "100%|██████████| 7/7 [00:03<00:00,  1.83batch/s]\n",
      "100%|██████████| 19/19 [00:12<00:00,  1.54batch/s]\n",
      "100%|██████████| 7/7 [00:03<00:00,  1.79batch/s]\n",
      "100%|██████████| 19/19 [00:12<00:00,  1.55batch/s]\n",
      "100%|██████████| 7/7 [00:03<00:00,  1.81batch/s]\n",
      "100%|██████████| 19/19 [00:12<00:00,  1.55batch/s]\n",
      "100%|██████████| 7/7 [00:03<00:00,  1.82batch/s]\n",
      "100%|██████████| 19/19 [00:12<00:00,  1.53batch/s]\n",
      "100%|██████████| 7/7 [00:03<00:00,  1.84batch/s]\n",
      "100%|██████████| 19/19 [00:12<00:00,  1.55batch/s]\n",
      "100%|██████████| 7/7 [00:03<00:00,  1.83batch/s]\n",
      "100%|██████████| 19/19 [00:12<00:00,  1.55batch/s]\n",
      "100%|██████████| 7/7 [00:03<00:00,  1.83batch/s]\n",
      "100%|██████████| 19/19 [00:12<00:00,  1.55batch/s]\n",
      "100%|██████████| 7/7 [00:03<00:00,  1.82batch/s]\n",
      "100%|██████████| 19/19 [00:12<00:00,  1.54batch/s]\n",
      "100%|██████████| 7/7 [00:03<00:00,  1.82batch/s]\n",
      "100%|██████████| 19/19 [00:12<00:00,  1.55batch/s]\n",
      "100%|██████████| 7/7 [00:03<00:00,  1.83batch/s]\n",
      "100%|██████████| 19/19 [00:12<00:00,  1.54batch/s]\n",
      "100%|██████████| 7/7 [00:03<00:00,  1.80batch/s]\n",
      "100%|██████████| 19/19 [00:12<00:00,  1.55batch/s]\n",
      "100%|██████████| 7/7 [00:03<00:00,  1.81batch/s]\n",
      "100%|██████████| 19/19 [00:12<00:00,  1.55batch/s]\n",
      "100%|██████████| 7/7 [00:03<00:00,  1.82batch/s]\n",
      "100%|██████████| 19/19 [00:12<00:00,  1.54batch/s]\n",
      "100%|██████████| 7/7 [00:03<00:00,  1.80batch/s]\n",
      "100%|██████████| 19/19 [00:12<00:00,  1.56batch/s]\n",
      "100%|██████████| 7/7 [00:03<00:00,  1.81batch/s]\n",
      "100%|██████████| 19/19 [00:12<00:00,  1.55batch/s]\n",
      "100%|██████████| 7/7 [00:03<00:00,  1.79batch/s]\n",
      "100%|██████████| 19/19 [00:12<00:00,  1.55batch/s]\n",
      "100%|██████████| 7/7 [00:03<00:00,  1.82batch/s]\n",
      "100%|██████████| 19/19 [00:12<00:00,  1.55batch/s]\n",
      "100%|██████████| 7/7 [00:03<00:00,  1.82batch/s]\n",
      "100%|██████████| 19/19 [00:12<00:00,  1.55batch/s]\n",
      "100%|██████████| 7/7 [00:03<00:00,  1.82batch/s]\n",
      "100%|██████████| 19/19 [00:12<00:00,  1.53batch/s]\n",
      "100%|██████████| 7/7 [00:03<00:00,  1.83batch/s]\n",
      "100%|██████████| 19/19 [00:12<00:00,  1.55batch/s]\n",
      "100%|██████████| 7/7 [00:03<00:00,  1.80batch/s]\n",
      "100%|██████████| 19/19 [00:12<00:00,  1.54batch/s]\n",
      "100%|██████████| 7/7 [00:03<00:00,  1.82batch/s]\n",
      "100%|██████████| 19/19 [00:12<00:00,  1.54batch/s]\n",
      "100%|██████████| 7/7 [00:03<00:00,  1.83batch/s]\n",
      "100%|██████████| 19/19 [00:12<00:00,  1.54batch/s]\n",
      "100%|██████████| 7/7 [00:03<00:00,  1.81batch/s]\n",
      "100%|██████████| 19/19 [00:12<00:00,  1.54batch/s]\n",
      "100%|██████████| 7/7 [00:03<00:00,  1.78batch/s]\n",
      "100%|██████████| 19/19 [00:12<00:00,  1.55batch/s]\n",
      "100%|██████████| 7/7 [00:03<00:00,  1.78batch/s]\n",
      "100%|██████████| 19/19 [00:12<00:00,  1.55batch/s]\n",
      "100%|██████████| 7/7 [00:03<00:00,  1.80batch/s]\n",
      "100%|██████████| 19/19 [00:12<00:00,  1.54batch/s]\n",
      "100%|██████████| 7/7 [00:03<00:00,  1.83batch/s]\n",
      "100%|██████████| 19/19 [00:12<00:00,  1.53batch/s]\n",
      "100%|██████████| 7/7 [00:03<00:00,  1.78batch/s]\n",
      "100%|██████████| 19/19 [00:12<00:00,  1.54batch/s]\n",
      "100%|██████████| 7/7 [00:03<00:00,  1.82batch/s]\n",
      "100%|██████████| 19/19 [00:12<00:00,  1.53batch/s]\n",
      "100%|██████████| 7/7 [00:03<00:00,  1.83batch/s]\n",
      "100%|██████████| 19/19 [00:12<00:00,  1.54batch/s]\n",
      "100%|██████████| 7/7 [00:03<00:00,  1.83batch/s]\n",
      "100%|██████████| 19/19 [00:12<00:00,  1.55batch/s]\n",
      "100%|██████████| 7/7 [00:03<00:00,  1.82batch/s]\n",
      "100%|██████████| 19/19 [00:12<00:00,  1.55batch/s]\n",
      "100%|██████████| 7/7 [00:03<00:00,  1.80batch/s]\n",
      "100%|██████████| 19/19 [00:12<00:00,  1.55batch/s]\n",
      "100%|██████████| 7/7 [00:03<00:00,  1.81batch/s]\n",
      "100%|██████████| 19/19 [00:12<00:00,  1.55batch/s]\n",
      "100%|██████████| 7/7 [00:03<00:00,  1.82batch/s]\n",
      "100%|██████████| 19/19 [00:12<00:00,  1.55batch/s]\n",
      "100%|██████████| 7/7 [00:03<00:00,  1.78batch/s]\n",
      "100%|██████████| 19/19 [00:12<00:00,  1.55batch/s]\n",
      "100%|██████████| 7/7 [00:03<00:00,  1.76batch/s]\n",
      "100%|██████████| 19/19 [00:12<00:00,  1.55batch/s]\n",
      "100%|██████████| 7/7 [00:03<00:00,  1.79batch/s]\n",
      "100%|██████████| 19/19 [00:12<00:00,  1.53batch/s]\n",
      "100%|██████████| 7/7 [00:03<00:00,  1.81batch/s]\n",
      "100%|██████████| 19/19 [00:12<00:00,  1.55batch/s]\n",
      "100%|██████████| 7/7 [00:03<00:00,  1.82batch/s]\n",
      "100%|██████████| 19/19 [00:12<00:00,  1.55batch/s]\n",
      "100%|██████████| 7/7 [00:03<00:00,  1.82batch/s]\n",
      "100%|██████████| 19/19 [00:12<00:00,  1.55batch/s]\n",
      "100%|██████████| 7/7 [00:03<00:00,  1.81batch/s]\n",
      "100%|██████████| 19/19 [00:12<00:00,  1.55batch/s]\n",
      "100%|██████████| 7/7 [00:03<00:00,  1.82batch/s]\n",
      "100%|██████████| 19/19 [00:12<00:00,  1.55batch/s]\n",
      "100%|██████████| 7/7 [00:03<00:00,  1.79batch/s]\n",
      "100%|██████████| 19/19 [00:12<00:00,  1.54batch/s]\n",
      "100%|██████████| 7/7 [00:03<00:00,  1.81batch/s]\n",
      "100%|██████████| 19/19 [00:12<00:00,  1.55batch/s]\n",
      "100%|██████████| 7/7 [00:03<00:00,  1.82batch/s]\n",
      "100%|██████████| 19/19 [00:12<00:00,  1.55batch/s]\n",
      "100%|██████████| 7/7 [00:03<00:00,  1.79batch/s]\n",
      "100%|██████████| 19/19 [00:12<00:00,  1.55batch/s]\n",
      "100%|██████████| 7/7 [00:03<00:00,  1.80batch/s]\n",
      "100%|██████████| 19/19 [00:12<00:00,  1.55batch/s]\n",
      "100%|██████████| 7/7 [00:03<00:00,  1.79batch/s]\n",
      "100%|██████████| 19/19 [00:12<00:00,  1.54batch/s]\n",
      "100%|██████████| 7/7 [00:03<00:00,  1.79batch/s]\n",
      "100%|██████████| 19/19 [00:12<00:00,  1.53batch/s]\n",
      "100%|██████████| 7/7 [01:13<00:00, 10.51s/batch, psnr=4.9, ssim=0.00749] \n"
     ]
    },
    {
     "data": {
      "text/plain": [
       "VBox(children=(Label(value='0.001 MB of 0.001 MB uploaded\\r'), FloatProgress(value=1.0, max=1.0)))"
      ],
      "application/vnd.jupyter.widget-view+json": {
       "version_major": 2,
       "version_minor": 0,
       "model_id": "077840117151487383016a29d38a535d"
      }
     },
     "metadata": {},
     "output_type": "display_data"
    },
    {
     "data": {
      "text/plain": [
       "<IPython.core.display.HTML object>"
      ],
      "text/html": [
       "W&B sync reduced upload amount by 5.6%             "
      ]
     },
     "metadata": {},
     "output_type": "display_data"
    },
    {
     "data": {
      "text/plain": [
       "<IPython.core.display.HTML object>"
      ],
      "text/html": [
       "<style>\n",
       "    table.wandb td:nth-child(1) { padding: 0 10px; text-align: left ; width: auto;} td:nth-child(2) {text-align: left ; width: 100%}\n",
       "    .wandb-row { display: flex; flex-direction: row; flex-wrap: wrap; justify-content: flex-start; width: 100% }\n",
       "    .wandb-col { display: flex; flex-direction: column; flex-basis: 100%; flex: 1; padding: 10px; }\n",
       "    </style>\n",
       "<div class=\"wandb-row\"><div class=\"wandb-col\"><h3>Run history:</h3><br/><table class=\"wandb\"><tr><td>psnr</td><td>▁</td></tr><tr><td>ssim</td><td>▁</td></tr><tr><td>train_loss</td><td>██▇▇▇▆▆▆▆▅▅▅▅▄▄▄▄▃▃▃▃▃▃▂▂▂▂▂▂▂▂▂▁▁▁▁▁▁▁▁</td></tr><tr><td>validation_loss</td><td>██▇▇▇▇▆▆▆▅▅▅▅▄▄▄▄▃▃▃▃▃▃▃▂▂▂▂▂▂▂▂▁▂▁▁▁▁▁▁</td></tr></table><br/></div><div class=\"wandb-col\"><h3>Run summary:</h3><br/><table class=\"wandb\"><tr><td>psnr</td><td>5.70733</td></tr><tr><td>ssim</td><td>0.00744</td></tr><tr><td>train_loss</td><td>0.04932</td></tr><tr><td>validation_loss</td><td>0.04944</td></tr></table><br/></div></div>"
      ]
     },
     "metadata": {},
     "output_type": "display_data"
    },
    {
     "data": {
      "text/plain": [
       "<IPython.core.display.HTML object>"
      ],
      "text/html": [
       " View run <strong style=\"color:#cdcd00\">SR3+ standart 128 bach</strong> at: <a href='https://wandb.ai/ladoscuro/SR%20model%20benchmarking/runs/gbnpssn0/workspace' target=\"_blank\">https://wandb.ai/ladoscuro/SR%20model%20benchmarking/runs/gbnpssn0/workspace</a><br/>Synced 5 W&B file(s), 0 media file(s), 2 artifact file(s) and 0 other file(s)"
      ]
     },
     "metadata": {},
     "output_type": "display_data"
    },
    {
     "data": {
      "text/plain": [
       "<IPython.core.display.HTML object>"
      ],
      "text/html": [
       "Find logs at: <code>.\\wandb\\run-20240529_082322-gbnpssn0\\logs</code>"
      ]
     },
     "metadata": {},
     "output_type": "display_data"
    }
   ],
   "execution_count": 9
  },
  {
   "metadata": {
    "ExecuteTime": {
     "end_time": "2024-05-29T07:52:06.042921Z",
     "start_time": "2024-05-29T07:52:05.934886Z"
    }
   },
   "cell_type": "code",
   "source": [
    "#Data\n",
    "lr_size = 64\n",
    "hr_size = 256\n",
    "batch_size = 128\n",
    "dataset_dir = 'C:\\\\Users\\\\adrianperera\\\\Desktop\\\\dataset_tfg'\n",
    "\n",
    "transforms = Compose(\n",
    "    [RandomApply(transforms= [GaussianBlur(7)], p = 0.5),\n",
    "    RandomEqualize()]\n",
    ")\n",
    "\n",
    "dataset = AerialDataset(dataset_dir, lr_size, hr_size, data_augmentation = transforms, aux_sat_prob= 0.6, sat_dataset_path= \"C:\\\\Users\\\\adrianperera\\\\Desktop\\\\dataset_tfg\\\\satelite_dataset\\\\64_256\")\n",
    "train_dataset, val_dataset, test_dataset = random_split(dataset, [0.6, 0.2, 0.2], generator=torch.Generator().manual_seed(420))\n",
    "\n",
    "train_dataloader = DataLoader(train_dataset, batch_size=batch_size, shuffle=True)\n",
    "val_dataloader = DataLoader(val_dataset, batch_size=batch_size, shuffle=True)\n",
    "test_dataloader = DataLoader(test_dataset, batch_size=batch_size, shuffle=True)\n",
    "    \n",
    "device = torch.device('cuda' if torch.cuda.is_available() else 'cpu')"
   ],
   "id": "d34b93b2835c22bd",
   "outputs": [],
   "execution_count": 10
  },
  {
   "metadata": {
    "ExecuteTime": {
     "end_time": "2024-05-29T08:27:12.318301Z",
     "start_time": "2024-05-29T07:52:06.043886Z"
    }
   },
   "cell_type": "code",
   "source": [
    "#Con data augmentation\n",
    "\n",
    "model_builder = SR3Builder()\n",
    "model_builder = model_builder.set_standart()\n",
    "model_builder = model_builder.set_sample_steps(1000)\n",
    "model_builder = model_builder.set_losstype(\"l1\")\n",
    "model = model_builder.build()\n",
    "model.to(device)\n",
    "\n",
    "hyperparams = {\n",
    "    \"lr\":0.0002,\n",
    "    \"epochs\":100,\n",
    "    \"eta_min\":1e-7,\n",
    "    \"decay_steps\": 100000,\n",
    "    \"gamma\" : 0.5,  \n",
    "    \"model\" : \"SR3\",\n",
    "    \"grad_acum\": 0,\n",
    "    \"ddp\": False,\n",
    "    \"batch_size\":batch_size\n",
    "}\n",
    "hyperparams.update(model_builder.get_hyperparameters())\n",
    "optimizer = torch.optim.Adam(model.parameters(), lr=hyperparams[\"lr\"])\n",
    "scheduler = torch.optim.lr_scheduler.StepLR(optimizer, step_size=hyperparams[\"decay_steps\"], gamma=hyperparams[\"gamma\"])\n",
    "\n",
    "project_name = \"SR model benchmarking\"\n",
    "run_name = \"SR3 standart l1, DA, 128Batch\"\n",
    "wandb.login()\n",
    "wandb.init(project=project_name, config=hyperparams, name=run_name)\n",
    "\n",
    "trainer = SR3Trainer(metrics_used=(\"ssim\", \"psnr\"), model_name=\"SR3 Standart l1 DA 128b\", grad_acum=hyperparams[\"grad_acum\"])\n",
    "trainer.set_model(model)\n",
    "trainer.set_optimizer(optimizer)\n",
    "trainer.set_scheduler(scheduler)\n",
    "for epoch in range(hyperparams[\"epochs\"]):  \n",
    "    with torch.no_grad():\n",
    "        val_loss = trainer.validate(val_dataloader)\n",
    "    \n",
    "    train_loss = trainer.train(train_dataloader, epoch)\n",
    "    torch.cuda.empty_cache()\n",
    "    if epoch % 10 == 0:\n",
    "        trainer.save_model(\"saved models\\\\SR3\")\n",
    "\n",
    "    torch.cuda.empty_cache()\n",
    "    wandb.log({\"train_loss\": train_loss, \"validation_loss\": val_loss})\n",
    "    \n",
    "test_metrics = trainer.test(test_dataloader)\n",
    "wandb.log(test_metrics)\n",
    "wandb.finish()   "
   ],
   "id": "25d0c3c49ec321d9",
   "outputs": [
    {
     "data": {
      "text/plain": [
       "<IPython.core.display.HTML object>"
      ],
      "text/html": [
       "wandb version 0.17.0 is available!  To upgrade, please run:\n",
       " $ pip install wandb --upgrade"
      ]
     },
     "metadata": {},
     "output_type": "display_data"
    },
    {
     "data": {
      "text/plain": [
       "<IPython.core.display.HTML object>"
      ],
      "text/html": [
       "Tracking run with wandb version 0.16.5"
      ]
     },
     "metadata": {},
     "output_type": "display_data"
    },
    {
     "data": {
      "text/plain": [
       "<IPython.core.display.HTML object>"
      ],
      "text/html": [
       "Run data is saved locally in <code>C:\\Users\\adrianperera\\Documents\\GitHub\\SR-model-benchmarking\\wandb\\run-20240529_085206-1tzmnhdb</code>"
      ]
     },
     "metadata": {},
     "output_type": "display_data"
    },
    {
     "data": {
      "text/plain": [
       "<IPython.core.display.HTML object>"
      ],
      "text/html": [
       "Syncing run <strong><a href='https://wandb.ai/ladoscuro/SR%20model%20benchmarking/runs/1tzmnhdb/workspace' target=\"_blank\">SR3 standart l1, DA, 128Batch</a></strong> to <a href='https://wandb.ai/ladoscuro/SR%20model%20benchmarking' target=\"_blank\">Weights & Biases</a> (<a href='https://wandb.me/run' target=\"_blank\">docs</a>)<br/>"
      ]
     },
     "metadata": {},
     "output_type": "display_data"
    },
    {
     "data": {
      "text/plain": [
       "<IPython.core.display.HTML object>"
      ],
      "text/html": [
       " View project at <a href='https://wandb.ai/ladoscuro/SR%20model%20benchmarking' target=\"_blank\">https://wandb.ai/ladoscuro/SR%20model%20benchmarking</a>"
      ]
     },
     "metadata": {},
     "output_type": "display_data"
    },
    {
     "data": {
      "text/plain": [
       "<IPython.core.display.HTML object>"
      ],
      "text/html": [
       " View run at <a href='https://wandb.ai/ladoscuro/SR%20model%20benchmarking/runs/1tzmnhdb/workspace' target=\"_blank\">https://wandb.ai/ladoscuro/SR%20model%20benchmarking/runs/1tzmnhdb/workspace</a>"
      ]
     },
     "metadata": {},
     "output_type": "display_data"
    },
    {
     "name": "stderr",
     "output_type": "stream",
     "text": [
      "100%|██████████| 7/7 [00:06<00:00,  1.09batch/s]\n",
      "100%|██████████| 19/19 [00:19<00:00,  1.02s/batch]\n",
      "100%|██████████| 7/7 [00:06<00:00,  1.15batch/s]\n",
      "100%|██████████| 19/19 [00:19<00:00,  1.01s/batch]\n",
      "100%|██████████| 7/7 [00:05<00:00,  1.17batch/s]\n",
      "100%|██████████| 19/19 [00:18<00:00,  1.01batch/s]\n",
      "100%|██████████| 7/7 [00:05<00:00,  1.18batch/s]\n",
      "100%|██████████| 19/19 [00:18<00:00,  1.03batch/s]\n",
      "100%|██████████| 7/7 [00:05<00:00,  1.19batch/s]\n",
      "100%|██████████| 19/19 [00:18<00:00,  1.04batch/s]\n",
      "100%|██████████| 7/7 [00:05<00:00,  1.25batch/s]\n",
      "100%|██████████| 19/19 [00:17<00:00,  1.07batch/s]\n",
      "100%|██████████| 7/7 [00:05<00:00,  1.26batch/s]\n",
      "100%|██████████| 19/19 [00:17<00:00,  1.07batch/s]\n",
      "100%|██████████| 7/7 [00:05<00:00,  1.28batch/s]\n",
      "100%|██████████| 19/19 [00:17<00:00,  1.09batch/s]\n",
      "100%|██████████| 7/7 [00:05<00:00,  1.28batch/s]\n",
      "100%|██████████| 19/19 [00:17<00:00,  1.11batch/s]\n",
      "100%|██████████| 7/7 [00:05<00:00,  1.28batch/s]\n",
      "100%|██████████| 19/19 [00:16<00:00,  1.13batch/s]\n",
      "100%|██████████| 7/7 [00:05<00:00,  1.29batch/s]\n",
      "100%|██████████| 19/19 [00:16<00:00,  1.15batch/s]\n",
      "100%|██████████| 7/7 [00:05<00:00,  1.34batch/s]\n",
      "100%|██████████| 19/19 [00:16<00:00,  1.15batch/s]\n",
      "100%|██████████| 7/7 [00:05<00:00,  1.34batch/s]\n",
      "100%|██████████| 19/19 [00:16<00:00,  1.14batch/s]\n",
      "100%|██████████| 7/7 [00:05<00:00,  1.38batch/s]\n",
      "100%|██████████| 19/19 [00:16<00:00,  1.18batch/s]\n",
      "100%|██████████| 7/7 [00:05<00:00,  1.37batch/s]\n",
      "100%|██████████| 19/19 [00:16<00:00,  1.18batch/s]\n",
      "100%|██████████| 7/7 [00:05<00:00,  1.37batch/s]\n",
      "100%|██████████| 19/19 [00:16<00:00,  1.16batch/s]\n",
      "100%|██████████| 7/7 [00:05<00:00,  1.38batch/s]\n",
      "100%|██████████| 19/19 [00:16<00:00,  1.19batch/s]\n",
      "100%|██████████| 7/7 [00:05<00:00,  1.39batch/s]\n",
      "100%|██████████| 19/19 [00:15<00:00,  1.21batch/s]\n",
      "100%|██████████| 7/7 [00:04<00:00,  1.42batch/s]\n",
      "100%|██████████| 19/19 [00:15<00:00,  1.22batch/s]\n",
      "100%|██████████| 7/7 [00:04<00:00,  1.41batch/s]\n",
      "100%|██████████| 19/19 [00:15<00:00,  1.22batch/s]\n",
      "100%|██████████| 7/7 [00:04<00:00,  1.41batch/s]\n",
      "100%|██████████| 19/19 [00:15<00:00,  1.22batch/s]\n",
      "100%|██████████| 7/7 [00:04<00:00,  1.44batch/s]\n",
      "100%|██████████| 19/19 [00:15<00:00,  1.24batch/s]\n",
      "100%|██████████| 7/7 [00:04<00:00,  1.46batch/s]\n",
      "100%|██████████| 19/19 [00:15<00:00,  1.24batch/s]\n",
      "100%|██████████| 7/7 [00:04<00:00,  1.45batch/s]\n",
      "100%|██████████| 19/19 [00:15<00:00,  1.24batch/s]\n",
      "100%|██████████| 7/7 [00:04<00:00,  1.45batch/s]\n",
      "100%|██████████| 19/19 [00:15<00:00,  1.25batch/s]\n",
      "100%|██████████| 7/7 [00:04<00:00,  1.44batch/s]\n",
      "100%|██████████| 19/19 [00:15<00:00,  1.26batch/s]\n",
      "100%|██████████| 7/7 [00:04<00:00,  1.44batch/s]\n",
      "100%|██████████| 19/19 [00:15<00:00,  1.25batch/s]\n",
      "100%|██████████| 7/7 [00:04<00:00,  1.47batch/s]\n",
      "100%|██████████| 19/19 [00:15<00:00,  1.26batch/s]\n",
      "100%|██████████| 7/7 [00:04<00:00,  1.45batch/s]\n",
      "100%|██████████| 19/19 [00:15<00:00,  1.26batch/s]\n",
      "100%|██████████| 7/7 [00:04<00:00,  1.48batch/s]\n",
      "100%|██████████| 19/19 [00:15<00:00,  1.26batch/s]\n",
      "100%|██████████| 7/7 [00:04<00:00,  1.48batch/s]\n",
      "100%|██████████| 19/19 [00:14<00:00,  1.27batch/s]\n",
      "100%|██████████| 7/7 [00:04<00:00,  1.47batch/s]\n",
      "100%|██████████| 19/19 [00:14<00:00,  1.27batch/s]\n",
      "100%|██████████| 7/7 [00:04<00:00,  1.48batch/s]\n",
      "100%|██████████| 19/19 [00:14<00:00,  1.27batch/s]\n",
      "100%|██████████| 7/7 [00:04<00:00,  1.50batch/s]\n",
      "100%|██████████| 19/19 [00:14<00:00,  1.28batch/s]\n",
      "100%|██████████| 7/7 [00:04<00:00,  1.47batch/s]\n",
      "100%|██████████| 19/19 [00:14<00:00,  1.28batch/s]\n",
      "100%|██████████| 7/7 [00:04<00:00,  1.51batch/s]\n",
      "100%|██████████| 19/19 [00:14<00:00,  1.29batch/s]\n",
      "100%|██████████| 7/7 [00:04<00:00,  1.51batch/s]\n",
      "100%|██████████| 19/19 [00:14<00:00,  1.29batch/s]\n",
      "100%|██████████| 7/7 [00:04<00:00,  1.50batch/s]\n",
      "100%|██████████| 19/19 [00:14<00:00,  1.29batch/s]\n",
      "100%|██████████| 7/7 [00:04<00:00,  1.49batch/s]\n",
      "100%|██████████| 19/19 [00:14<00:00,  1.29batch/s]\n",
      "100%|██████████| 7/7 [00:04<00:00,  1.51batch/s]\n",
      "100%|██████████| 19/19 [00:14<00:00,  1.30batch/s]\n",
      "100%|██████████| 7/7 [00:04<00:00,  1.51batch/s]\n",
      "100%|██████████| 19/19 [00:14<00:00,  1.29batch/s]\n",
      "100%|██████████| 7/7 [00:04<00:00,  1.49batch/s]\n",
      "100%|██████████| 19/19 [00:14<00:00,  1.29batch/s]\n",
      "100%|██████████| 7/7 [00:04<00:00,  1.51batch/s]\n",
      "100%|██████████| 19/19 [00:14<00:00,  1.29batch/s]\n",
      "100%|██████████| 7/7 [00:04<00:00,  1.51batch/s]\n",
      "100%|██████████| 19/19 [00:14<00:00,  1.29batch/s]\n",
      "100%|██████████| 7/7 [00:04<00:00,  1.49batch/s]\n",
      "100%|██████████| 19/19 [00:14<00:00,  1.29batch/s]\n",
      "100%|██████████| 7/7 [00:04<00:00,  1.51batch/s]\n",
      "100%|██████████| 19/19 [00:14<00:00,  1.30batch/s]\n",
      "100%|██████████| 7/7 [00:04<00:00,  1.52batch/s]\n",
      "100%|██████████| 19/19 [00:14<00:00,  1.30batch/s]\n",
      "100%|██████████| 7/7 [00:04<00:00,  1.52batch/s]\n",
      "100%|██████████| 19/19 [00:14<00:00,  1.31batch/s]\n",
      "100%|██████████| 7/7 [00:04<00:00,  1.49batch/s]\n",
      "100%|██████████| 19/19 [00:14<00:00,  1.30batch/s]\n",
      "100%|██████████| 7/7 [00:04<00:00,  1.50batch/s]\n",
      "100%|██████████| 19/19 [00:14<00:00,  1.30batch/s]\n",
      "100%|██████████| 7/7 [00:04<00:00,  1.49batch/s]\n",
      "100%|██████████| 19/19 [00:14<00:00,  1.30batch/s]\n",
      "100%|██████████| 7/7 [00:04<00:00,  1.48batch/s]\n",
      "100%|██████████| 19/19 [00:14<00:00,  1.30batch/s]\n",
      "100%|██████████| 7/7 [00:04<00:00,  1.51batch/s]\n",
      "100%|██████████| 19/19 [00:14<00:00,  1.30batch/s]\n",
      "100%|██████████| 7/7 [00:04<00:00,  1.52batch/s]\n",
      "100%|██████████| 19/19 [00:14<00:00,  1.30batch/s]\n",
      "100%|██████████| 7/7 [00:04<00:00,  1.49batch/s]\n",
      "100%|██████████| 19/19 [00:14<00:00,  1.30batch/s]\n",
      "100%|██████████| 7/7 [00:04<00:00,  1.49batch/s]\n",
      "100%|██████████| 19/19 [00:14<00:00,  1.30batch/s]\n",
      "100%|██████████| 7/7 [00:04<00:00,  1.50batch/s]\n",
      "100%|██████████| 19/19 [00:14<00:00,  1.29batch/s]\n",
      "100%|██████████| 7/7 [00:04<00:00,  1.52batch/s]\n",
      "100%|██████████| 19/19 [00:14<00:00,  1.30batch/s]\n",
      "100%|██████████| 7/7 [00:04<00:00,  1.51batch/s]\n",
      "100%|██████████| 19/19 [00:14<00:00,  1.30batch/s]\n",
      "100%|██████████| 7/7 [00:04<00:00,  1.51batch/s]\n",
      "100%|██████████| 19/19 [00:14<00:00,  1.30batch/s]\n",
      "100%|██████████| 7/7 [00:04<00:00,  1.51batch/s]\n",
      "100%|██████████| 19/19 [00:14<00:00,  1.30batch/s]\n",
      "100%|██████████| 7/7 [00:04<00:00,  1.49batch/s]\n",
      "100%|██████████| 19/19 [00:14<00:00,  1.28batch/s]\n",
      "100%|██████████| 7/7 [00:04<00:00,  1.53batch/s]\n",
      "100%|██████████| 19/19 [00:14<00:00,  1.29batch/s]\n",
      "100%|██████████| 7/7 [00:04<00:00,  1.52batch/s]\n",
      "100%|██████████| 19/19 [00:14<00:00,  1.29batch/s]\n",
      "100%|██████████| 7/7 [00:04<00:00,  1.53batch/s]\n",
      "100%|██████████| 19/19 [00:14<00:00,  1.30batch/s]\n",
      "100%|██████████| 7/7 [00:04<00:00,  1.50batch/s]\n",
      "100%|██████████| 19/19 [00:14<00:00,  1.30batch/s]\n",
      "100%|██████████| 7/7 [00:04<00:00,  1.52batch/s]\n",
      "100%|██████████| 19/19 [00:14<00:00,  1.30batch/s]\n",
      "100%|██████████| 7/7 [00:04<00:00,  1.50batch/s]\n",
      "100%|██████████| 19/19 [00:14<00:00,  1.29batch/s]\n",
      "100%|██████████| 7/7 [00:04<00:00,  1.50batch/s]\n",
      "100%|██████████| 19/19 [00:14<00:00,  1.30batch/s]\n",
      "100%|██████████| 7/7 [00:04<00:00,  1.50batch/s]\n",
      "100%|██████████| 19/19 [00:14<00:00,  1.31batch/s]\n",
      "100%|██████████| 7/7 [00:04<00:00,  1.50batch/s]\n",
      "100%|██████████| 19/19 [00:14<00:00,  1.30batch/s]\n",
      "100%|██████████| 7/7 [00:04<00:00,  1.49batch/s]\n",
      "100%|██████████| 19/19 [00:14<00:00,  1.30batch/s]\n",
      "100%|██████████| 7/7 [00:04<00:00,  1.51batch/s]\n",
      "100%|██████████| 19/19 [00:14<00:00,  1.29batch/s]\n",
      "100%|██████████| 7/7 [00:04<00:00,  1.51batch/s]\n",
      "100%|██████████| 19/19 [00:14<00:00,  1.28batch/s]\n",
      "100%|██████████| 7/7 [00:04<00:00,  1.51batch/s]\n",
      "100%|██████████| 19/19 [00:14<00:00,  1.30batch/s]\n",
      "100%|██████████| 7/7 [00:04<00:00,  1.51batch/s]\n",
      "100%|██████████| 19/19 [00:14<00:00,  1.29batch/s]\n",
      "100%|██████████| 7/7 [00:04<00:00,  1.51batch/s]\n",
      "100%|██████████| 19/19 [00:14<00:00,  1.29batch/s]\n",
      "100%|██████████| 7/7 [00:04<00:00,  1.52batch/s]\n",
      "100%|██████████| 19/19 [00:14<00:00,  1.30batch/s]\n",
      "100%|██████████| 7/7 [00:04<00:00,  1.51batch/s]\n",
      "100%|██████████| 19/19 [00:14<00:00,  1.31batch/s]\n",
      "100%|██████████| 7/7 [00:04<00:00,  1.52batch/s]\n",
      "100%|██████████| 19/19 [00:14<00:00,  1.29batch/s]\n",
      "100%|██████████| 7/7 [00:04<00:00,  1.52batch/s]\n",
      "100%|██████████| 19/19 [00:14<00:00,  1.30batch/s]\n",
      "100%|██████████| 7/7 [00:04<00:00,  1.49batch/s]\n",
      "100%|██████████| 19/19 [00:14<00:00,  1.29batch/s]\n",
      "100%|██████████| 7/7 [00:04<00:00,  1.51batch/s]\n",
      "100%|██████████| 19/19 [00:14<00:00,  1.29batch/s]\n",
      "100%|██████████| 7/7 [00:04<00:00,  1.50batch/s]\n",
      "100%|██████████| 19/19 [00:14<00:00,  1.31batch/s]\n",
      "100%|██████████| 7/7 [00:04<00:00,  1.50batch/s]\n",
      "100%|██████████| 19/19 [00:14<00:00,  1.30batch/s]\n",
      "100%|██████████| 7/7 [00:04<00:00,  1.49batch/s]\n",
      "100%|██████████| 19/19 [00:14<00:00,  1.30batch/s]\n",
      "100%|██████████| 7/7 [00:04<00:00,  1.52batch/s]\n",
      "100%|██████████| 19/19 [00:14<00:00,  1.29batch/s]\n",
      "100%|██████████| 7/7 [00:04<00:00,  1.51batch/s]\n",
      "100%|██████████| 19/19 [00:14<00:00,  1.29batch/s]\n",
      "100%|██████████| 7/7 [00:04<00:00,  1.49batch/s]\n",
      "100%|██████████| 19/19 [00:14<00:00,  1.31batch/s]\n",
      "100%|██████████| 7/7 [00:04<00:00,  1.52batch/s]\n",
      "100%|██████████| 19/19 [00:14<00:00,  1.29batch/s]\n",
      "100%|██████████| 7/7 [00:04<00:00,  1.54batch/s]\n",
      "100%|██████████| 19/19 [00:14<00:00,  1.31batch/s]\n",
      "100%|██████████| 7/7 [00:04<00:00,  1.51batch/s]\n",
      "100%|██████████| 19/19 [00:14<00:00,  1.31batch/s]\n",
      "100%|██████████| 7/7 [00:04<00:00,  1.49batch/s]\n",
      "100%|██████████| 19/19 [00:14<00:00,  1.31batch/s]\n",
      "100%|██████████| 7/7 [00:04<00:00,  1.52batch/s]\n",
      "100%|██████████| 19/19 [00:14<00:00,  1.30batch/s]\n",
      "100%|██████████| 7/7 [00:04<00:00,  1.50batch/s]\n",
      "100%|██████████| 19/19 [00:14<00:00,  1.30batch/s]\n",
      "100%|██████████| 7/7 [00:04<00:00,  1.49batch/s]\n",
      "100%|██████████| 19/19 [00:14<00:00,  1.31batch/s]\n",
      "100%|██████████| 7/7 [00:04<00:00,  1.51batch/s]\n",
      "100%|██████████| 19/19 [00:14<00:00,  1.30batch/s]\n",
      "100%|██████████| 7/7 [00:04<00:00,  1.52batch/s]\n",
      "100%|██████████| 19/19 [00:14<00:00,  1.30batch/s]\n",
      "100%|██████████| 7/7 [00:04<00:00,  1.50batch/s]\n",
      "100%|██████████| 19/19 [00:14<00:00,  1.31batch/s]\n",
      "100%|██████████| 7/7 [00:04<00:00,  1.52batch/s]\n",
      "100%|██████████| 19/19 [00:14<00:00,  1.30batch/s]\n",
      "100%|██████████| 7/7 [01:15<00:00, 10.85s/batch, psnr=3.84, ssim=0.00211]\n"
     ]
    },
    {
     "data": {
      "text/plain": [
       "VBox(children=(Label(value='0.001 MB of 0.001 MB uploaded\\r'), FloatProgress(value=1.0, max=1.0)))"
      ],
      "application/vnd.jupyter.widget-view+json": {
       "version_major": 2,
       "version_minor": 0,
       "model_id": "d14dda9cca0940568bc8e4ff767f79e4"
      }
     },
     "metadata": {},
     "output_type": "display_data"
    },
    {
     "data": {
      "text/plain": [
       "<IPython.core.display.HTML object>"
      ],
      "text/html": [
       "W&B sync reduced upload amount by 5.1%             "
      ]
     },
     "metadata": {},
     "output_type": "display_data"
    },
    {
     "data": {
      "text/plain": [
       "<IPython.core.display.HTML object>"
      ],
      "text/html": [
       "<style>\n",
       "    table.wandb td:nth-child(1) { padding: 0 10px; text-align: left ; width: auto;} td:nth-child(2) {text-align: left ; width: 100%}\n",
       "    .wandb-row { display: flex; flex-direction: row; flex-wrap: wrap; justify-content: flex-start; width: 100% }\n",
       "    .wandb-col { display: flex; flex-direction: column; flex-basis: 100%; flex: 1; padding: 10px; }\n",
       "    </style>\n",
       "<div class=\"wandb-row\"><div class=\"wandb-col\"><h3>Run history:</h3><br/><table class=\"wandb\"><tr><td>psnr</td><td>▁</td></tr><tr><td>ssim</td><td>▁</td></tr><tr><td>train_loss</td><td>██▇▇▇▇▆▆▆▆▅▅▅▅▄▄▄▄▄▃▃▃▃▃▃▂▂▂▂▂▂▂▂▂▁▁▁▁▁▁</td></tr><tr><td>validation_loss</td><td>███▇▇▇▆▆▆▆▅▅▅▅▄▄▄▄▄▃▃▃▃▃▃▂▂▂▂▂▂▂▂▂▁▁▁▁▁▁</td></tr></table><br/></div><div class=\"wandb-col\"><h3>Run summary:</h3><br/><table class=\"wandb\"><tr><td>psnr</td><td>4.33392</td></tr><tr><td>ssim</td><td>0.0022</td></tr><tr><td>train_loss</td><td>0.26871</td></tr><tr><td>validation_loss</td><td>0.27155</td></tr></table><br/></div></div>"
      ]
     },
     "metadata": {},
     "output_type": "display_data"
    },
    {
     "data": {
      "text/plain": [
       "<IPython.core.display.HTML object>"
      ],
      "text/html": [
       " View run <strong style=\"color:#cdcd00\">SR3 standart l1, DA, 128Batch</strong> at: <a href='https://wandb.ai/ladoscuro/SR%20model%20benchmarking/runs/1tzmnhdb/workspace' target=\"_blank\">https://wandb.ai/ladoscuro/SR%20model%20benchmarking/runs/1tzmnhdb/workspace</a><br/>Synced 5 W&B file(s), 0 media file(s), 2 artifact file(s) and 0 other file(s)"
      ]
     },
     "metadata": {},
     "output_type": "display_data"
    },
    {
     "data": {
      "text/plain": [
       "<IPython.core.display.HTML object>"
      ],
      "text/html": [
       "Find logs at: <code>.\\wandb\\run-20240529_085206-1tzmnhdb\\logs</code>"
      ]
     },
     "metadata": {},
     "output_type": "display_data"
    }
   ],
   "execution_count": 11
  },
  {
   "metadata": {},
   "cell_type": "code",
   "outputs": [],
   "execution_count": null,
   "source": "",
   "id": "2e777d14885b30ff"
  }
 ],
 "metadata": {
  "kernelspec": {
   "display_name": "Python 3",
   "language": "python",
   "name": "python3"
  },
  "language_info": {
   "codemirror_mode": {
    "name": "ipython",
    "version": 2
   },
   "file_extension": ".py",
   "mimetype": "text/x-python",
   "name": "python",
   "nbconvert_exporter": "python",
   "pygments_lexer": "ipython2",
   "version": "2.7.6"
  }
 },
 "nbformat": 4,
 "nbformat_minor": 5
}
