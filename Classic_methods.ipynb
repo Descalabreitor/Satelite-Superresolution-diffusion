{
 "cells": [
  {
   "metadata": {
    "ExecuteTime": {
     "end_time": "2024-05-08T22:38:29.435031Z",
     "start_time": "2024-05-08T22:38:26.458900Z"
    }
   },
   "cell_type": "code",
   "source": [
    "import numpy as np\n",
    "import torch\n",
    "from scipy.interpolate import interpn\n",
    "from torchvision import transforms\n",
    "from tqdm import tqdm\n",
    "from utils.tensor_utils import *\n",
    "import wandb\n",
    "from torch.utils.data import random_split\n",
    "\n",
    "from Dataset.AerialDataset import AerialDataset\n",
    "from utils.metrics_utils import calculate_ssim, calculate_psnr"
   ],
   "id": "f66ebbd9ed95e64d",
   "outputs": [],
   "execution_count": 2
  },
  {
   "metadata": {
    "ExecuteTime": {
     "end_time": "2024-05-08T22:38:29.454860Z",
     "start_time": "2024-05-08T22:38:29.436036Z"
    }
   },
   "cell_type": "code",
   "source": [
    "lr_size = 64\n",
    "hr_size = 256\n",
    "dataset_dir = 'E:\\\\TFG\\\\air_dataset'\n",
    "dataset = AerialDataset(dataset_dir, lr_size, hr_size)\n",
    "_, _, test_dataset = random_split(dataset, [0.6, 0.2, 0.2], generator=torch.Generator().manual_seed(420))"
   ],
   "id": "75f5bbb76ae4708",
   "outputs": [],
   "execution_count": 3
  },
  {
   "metadata": {
    "ExecuteTime": {
     "end_time": "2024-05-08T22:38:29.459156Z",
     "start_time": "2024-05-08T22:38:29.455865Z"
    }
   },
   "cell_type": "code",
   "source": [
    "def interpolation(image, objective_dim, method):\n",
    "    # Calculo nuevas dimensiones\n",
    "    height, width = image.shape[0], image.shape[1]\n",
    "    new_width, new_height = objective_dim[0], objective_dim[1]\n",
    "    new_image = np.zeros((new_height, new_width, image.shape[2]))\n",
    "\n",
    "    # Generar cuadrículas para las coordenadas X e Y de la imagen original y la interpolada\n",
    "    x = np.linspace(0, width - 1, width)\n",
    "    y = np.linspace(0, height - 1, height)\n",
    "    new_x = np.linspace(0, width - 1, new_width)\n",
    "    new_y = np.linspace(0, height - 1, new_height)\n",
    "    new_image = interpn((y, x), image, (new_y[:, None], new_x), method=method, bounds_error=False, fill_value=0)\n",
    "    return new_image"
   ],
   "id": "961a7f20830f1d4f",
   "outputs": [],
   "execution_count": 4
  },
  {
   "metadata": {},
   "cell_type": "code",
   "source": [
    "for method in [\"nearest\", \"slinear\", \"quintic\", \"cubic\"]:\n",
    "    n_samples = 0\n",
    "    ssim = 0     \n",
    "    psnr = 0\n",
    "    wandb.login()\n",
    "    wandb.init(project=\"SR model benchmarking\", name = method)\n",
    "    for images in tqdm(test_dataset):\n",
    "        if method == \"cubic\":\n",
    "            interpolated = tensor2img(images[\"bicubic\"])\n",
    "        else:    \n",
    "            lr = tensor2img(images[\"lr\"])\n",
    "            interpolated = interpolation(lr, (256,256), method)\n",
    "            \n",
    "        hr = tensor2img(images[\"hr\"])\n",
    "        ssim += calculate_ssim(interpolated, hr)\n",
    "        psnr += calculate_psnr(interpolated, hr)\n",
    "        n_samples += 1\n",
    "      \n",
    "    wandb.log({\"ssim\" : ssim / n_samples, \"psnr\" : psnr / n_samples})\n",
    "    wandb.finish()"
   ],
   "id": "778bc88f2190e29b",
   "outputs": [
    {
     "name": "stderr",
     "output_type": "stream",
     "text": [
      "100%|██████████| 785/785 [49:17<00:00,  3.77s/it]\n"
     ]
    },
    {
     "data": {
      "text/plain": [
       "VBox(children=(Label(value='0.001 MB of 0.001 MB uploaded\\r'), FloatProgress(value=1.0, max=1.0)))"
      ],
      "application/vnd.jupyter.widget-view+json": {
       "version_major": 2,
       "version_minor": 0,
       "model_id": "ddc99e71859444d197d1a830b62cf9af"
      }
     },
     "metadata": {},
     "output_type": "display_data"
    },
    {
     "data": {
      "text/plain": [
       "<IPython.core.display.HTML object>"
      ],
      "text/html": [
       "<style>\n",
       "    table.wandb td:nth-child(1) { padding: 0 10px; text-align: left ; width: auto;} td:nth-child(2) {text-align: left ; width: 100%}\n",
       "    .wandb-row { display: flex; flex-direction: row; flex-wrap: wrap; justify-content: flex-start; width: 100% }\n",
       "    .wandb-col { display: flex; flex-direction: column; flex-basis: 100%; flex: 1; padding: 10px; }\n",
       "    </style>\n",
       "<div class=\"wandb-row\"><div class=\"wandb-col\"><h3>Run history:</h3><br/><table class=\"wandb\"><tr><td>psnr</td><td>▁</td></tr><tr><td>ssim</td><td>▁</td></tr></table><br/></div><div class=\"wandb-col\"><h3>Run summary:</h3><br/><table class=\"wandb\"><tr><td>psnr</td><td>31.17007</td></tr><tr><td>ssim</td><td>0.77748</td></tr></table><br/></div></div>"
      ]
     },
     "metadata": {},
     "output_type": "display_data"
    },
    {
     "data": {
      "text/plain": [
       "<IPython.core.display.HTML object>"
      ],
      "text/html": [
       " View run <strong style=\"color:#cdcd00\">quintic</strong> at: <a href='https://wandb.ai/ladoscuro/SR%20model%20benchmarking/runs/ot9cn5x9' target=\"_blank\">https://wandb.ai/ladoscuro/SR%20model%20benchmarking/runs/ot9cn5x9</a><br/> View project at: <a href='https://wandb.ai/ladoscuro/SR%20model%20benchmarking' target=\"_blank\">https://wandb.ai/ladoscuro/SR%20model%20benchmarking</a><br/>Synced 5 W&B file(s), 0 media file(s), 0 artifact file(s) and 0 other file(s)"
      ]
     },
     "metadata": {},
     "output_type": "display_data"
    },
    {
     "data": {
      "text/plain": [
       "<IPython.core.display.HTML object>"
      ],
      "text/html": [
       "Find logs at: <code>.\\wandb\\run-20240508_000945-ot9cn5x9\\logs</code>"
      ]
     },
     "metadata": {},
     "output_type": "display_data"
    },
    {
     "data": {
      "text/plain": [
       "VBox(children=(Label(value='Waiting for wandb.init()...\\r'), FloatProgress(value=0.011111111111111112, max=1.0…"
      ],
      "application/vnd.jupyter.widget-view+json": {
       "version_major": 2,
       "version_minor": 0,
       "model_id": "14b83a00f26a4518b925580c52a41ace"
      }
     },
     "metadata": {},
     "output_type": "display_data"
    },
    {
     "data": {
      "text/plain": [
       "<IPython.core.display.HTML object>"
      ],
      "text/html": [
       "wandb version 0.17.0 is available!  To upgrade, please run:\n",
       " $ pip install wandb --upgrade"
      ]
     },
     "metadata": {},
     "output_type": "display_data"
    },
    {
     "data": {
      "text/plain": [
       "<IPython.core.display.HTML object>"
      ],
      "text/html": [
       "Tracking run with wandb version 0.16.6"
      ]
     },
     "metadata": {},
     "output_type": "display_data"
    },
    {
     "data": {
      "text/plain": [
       "<IPython.core.display.HTML object>"
      ],
      "text/html": [
       "Run data is saved locally in <code>C:\\Users\\adria\\Desktop\\TFG-code\\SR-model-benchmarking\\wandb\\run-20240508_005911-fh73f8xv</code>"
      ]
     },
     "metadata": {},
     "output_type": "display_data"
    },
    {
     "data": {
      "text/plain": [
       "<IPython.core.display.HTML object>"
      ],
      "text/html": [
       "Syncing run <strong><a href='https://wandb.ai/ladoscuro/SR%20model%20benchmarking/runs/fh73f8xv' target=\"_blank\">cubic</a></strong> to <a href='https://wandb.ai/ladoscuro/SR%20model%20benchmarking' target=\"_blank\">Weights & Biases</a> (<a href='https://wandb.me/run' target=\"_blank\">docs</a>)<br/>"
      ]
     },
     "metadata": {},
     "output_type": "display_data"
    },
    {
     "data": {
      "text/plain": [
       "<IPython.core.display.HTML object>"
      ],
      "text/html": [
       " View project at <a href='https://wandb.ai/ladoscuro/SR%20model%20benchmarking' target=\"_blank\">https://wandb.ai/ladoscuro/SR%20model%20benchmarking</a>"
      ]
     },
     "metadata": {},
     "output_type": "display_data"
    },
    {
     "data": {
      "text/plain": [
       "<IPython.core.display.HTML object>"
      ],
      "text/html": [
       " View run at <a href='https://wandb.ai/ladoscuro/SR%20model%20benchmarking/runs/fh73f8xv' target=\"_blank\">https://wandb.ai/ladoscuro/SR%20model%20benchmarking/runs/fh73f8xv</a>"
      ]
     },
     "metadata": {},
     "output_type": "display_data"
    },
    {
     "name": "stderr",
     "output_type": "stream",
     "text": [
      "  0%|          | 0/785 [00:00<?, ?it/s]\n"
     ]
    },
    {
     "ename": "ValueError",
     "evalue": "Input images must have the same dimensions.",
     "output_type": "error",
     "traceback": [
      "\u001B[1;31m---------------------------------------------------------------------------\u001B[0m",
      "\u001B[1;31mValueError\u001B[0m                                Traceback (most recent call last)",
      "Cell \u001B[1;32mIn[23], line 15\u001B[0m\n\u001B[0;32m     12\u001B[0m     interpolated \u001B[38;5;241m=\u001B[39m interpolation(lr, (\u001B[38;5;241m256\u001B[39m,\u001B[38;5;241m256\u001B[39m), method)\n\u001B[0;32m     14\u001B[0m hr \u001B[38;5;241m=\u001B[39m tensor2img(images[\u001B[38;5;124m\"\u001B[39m\u001B[38;5;124mhr\u001B[39m\u001B[38;5;124m\"\u001B[39m])\n\u001B[1;32m---> 15\u001B[0m ssim \u001B[38;5;241m+\u001B[39m\u001B[38;5;241m=\u001B[39m calculate_ssim(interpolated, hr)\n\u001B[0;32m     16\u001B[0m psnr \u001B[38;5;241m+\u001B[39m\u001B[38;5;241m=\u001B[39m calculate_psnr(interpolated, hr)\n\u001B[0;32m     17\u001B[0m n_samples \u001B[38;5;241m+\u001B[39m\u001B[38;5;241m=\u001B[39m \u001B[38;5;241m1\u001B[39m\n",
      "File \u001B[1;32m~\\Desktop\\TFG-code\\SR-model-benchmarking\\utils\\metrics_utils.py:50\u001B[0m, in \u001B[0;36mcalculate_ssim\u001B[1;34m(img1, img2)\u001B[0m\n\u001B[0;32m     45\u001B[0m \u001B[38;5;250m\u001B[39m\u001B[38;5;124;03m'''calculate SSIM\u001B[39;00m\n\u001B[0;32m     46\u001B[0m \u001B[38;5;124;03mthe same outputs as MATLAB's\u001B[39;00m\n\u001B[0;32m     47\u001B[0m \u001B[38;5;124;03mimg1, img2: [0, 255]\u001B[39;00m\n\u001B[0;32m     48\u001B[0m \u001B[38;5;124;03m'''\u001B[39;00m\n\u001B[0;32m     49\u001B[0m \u001B[38;5;28;01mif\u001B[39;00m \u001B[38;5;129;01mnot\u001B[39;00m img1\u001B[38;5;241m.\u001B[39mshape \u001B[38;5;241m==\u001B[39m img2\u001B[38;5;241m.\u001B[39mshape:\n\u001B[1;32m---> 50\u001B[0m     \u001B[38;5;28;01mraise\u001B[39;00m \u001B[38;5;167;01mValueError\u001B[39;00m(\u001B[38;5;124m'\u001B[39m\u001B[38;5;124mInput images must have the same dimensions.\u001B[39m\u001B[38;5;124m'\u001B[39m)\n\u001B[0;32m     51\u001B[0m \u001B[38;5;28;01mif\u001B[39;00m img1\u001B[38;5;241m.\u001B[39mndim \u001B[38;5;241m==\u001B[39m \u001B[38;5;241m2\u001B[39m:\n\u001B[0;32m     52\u001B[0m     \u001B[38;5;28;01mreturn\u001B[39;00m ssim(img1, img2)\n",
      "\u001B[1;31mValueError\u001B[0m: Input images must have the same dimensions."
     ]
    }
   ],
   "execution_count": 23
  },
  {
   "metadata": {},
   "cell_type": "code",
   "source": [
    "method = \"cubic\"\n",
    "n_samples = 0\n",
    "ssim = 0     \n",
    "psnr = 0\n",
    "wandb.login()\n",
    "wandb.init(project=\"SR model benchmarking\", name = method)\n",
    "for images in tqdm(test_dataset):\n",
    "    if method == \"cubic\":\n",
    "        interpolated = tensor2img(images[\"bicubic\"])\n",
    "    else:    \n",
    "        lr = tensor2img(images[\"lr\"])\n",
    "        interpolated = interpolation(lr, (256,256), method)\n",
    "        \n",
    "    hr = tensor2img(images[\"hr\"])\n",
    "    ssim += calculate_ssim(interpolated, hr)\n",
    "    psnr += calculate_psnr(interpolated, hr)\n",
    "    n_samples += 1\n",
    "  \n",
    "wandb.log({\"ssim\" : ssim / n_samples, \"psnr\" : psnr / n_samples})\n",
    "wandb.finish()"
   ],
   "id": "732208daab7d0d40",
   "outputs": [
    {
     "name": "stderr",
     "output_type": "stream",
     "text": [
      "100%|██████████| 785/785 [01:44<00:00,  7.55it/s]\n"
     ]
    },
    {
     "data": {
      "text/plain": [
       "VBox(children=(Label(value='0.001 MB of 0.005 MB uploaded\\r'), FloatProgress(value=0.27652138157894735, max=1.…"
      ],
      "application/vnd.jupyter.widget-view+json": {
       "version_major": 2,
       "version_minor": 0,
       "model_id": "ab88ea2fb9044fcdb55b4ac0a3ffa335"
      }
     },
     "metadata": {},
     "output_type": "display_data"
    },
    {
     "data": {
      "text/plain": [
       "<IPython.core.display.HTML object>"
      ],
      "text/html": [
       "<style>\n",
       "    table.wandb td:nth-child(1) { padding: 0 10px; text-align: left ; width: auto;} td:nth-child(2) {text-align: left ; width: 100%}\n",
       "    .wandb-row { display: flex; flex-direction: row; flex-wrap: wrap; justify-content: flex-start; width: 100% }\n",
       "    .wandb-col { display: flex; flex-direction: column; flex-basis: 100%; flex: 1; padding: 10px; }\n",
       "    </style>\n",
       "<div class=\"wandb-row\"><div class=\"wandb-col\"><h3>Run history:</h3><br/><table class=\"wandb\"><tr><td>psnr</td><td>▁</td></tr><tr><td>ssim</td><td>▁</td></tr></table><br/></div><div class=\"wandb-col\"><h3>Run summary:</h3><br/><table class=\"wandb\"><tr><td>psnr</td><td>31.16676</td></tr><tr><td>ssim</td><td>0.7756</td></tr></table><br/></div></div>"
      ]
     },
     "metadata": {},
     "output_type": "display_data"
    },
    {
     "data": {
      "text/plain": [
       "<IPython.core.display.HTML object>"
      ],
      "text/html": [
       " View run <strong style=\"color:#cdcd00\">cubic</strong> at: <a href='https://wandb.ai/ladoscuro/SR%20model%20benchmarking/runs/1z5b0ggt' target=\"_blank\">https://wandb.ai/ladoscuro/SR%20model%20benchmarking/runs/1z5b0ggt</a><br/> View project at: <a href='https://wandb.ai/ladoscuro/SR%20model%20benchmarking' target=\"_blank\">https://wandb.ai/ladoscuro/SR%20model%20benchmarking</a><br/>Synced 5 W&B file(s), 0 media file(s), 0 artifact file(s) and 0 other file(s)"
      ]
     },
     "metadata": {},
     "output_type": "display_data"
    },
    {
     "data": {
      "text/plain": [
       "<IPython.core.display.HTML object>"
      ],
      "text/html": [
       "Find logs at: <code>.\\wandb\\run-20240508_234051-1z5b0ggt\\logs</code>"
      ]
     },
     "metadata": {},
     "output_type": "display_data"
    }
   ],
   "execution_count": 11
  }
 ],
 "metadata": {
  "kernelspec": {
   "display_name": "Python 3",
   "language": "python",
   "name": "python3"
  },
  "language_info": {
   "codemirror_mode": {
    "name": "ipython",
    "version": 2
   },
   "file_extension": ".py",
   "mimetype": "text/x-python",
   "name": "python",
   "nbconvert_exporter": "python",
   "pygments_lexer": "ipython2",
   "version": "2.7.6"
  }
 },
 "nbformat": 4,
 "nbformat_minor": 5
}
