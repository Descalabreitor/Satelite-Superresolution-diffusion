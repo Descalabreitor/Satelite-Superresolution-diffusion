{
 "cells": [
  {
   "metadata": {
    "ExecuteTime": {
     "end_time": "2024-05-26T16:51:07.955817Z",
     "start_time": "2024-05-26T16:51:05.080845Z"
    }
   },
   "cell_type": "code",
   "source": [
    "import numpy as np\n",
    "import torch\n",
    "from PIL import Image\n",
    "from scipy.interpolate import interpn\n",
    "from torchvision import transforms\n",
    "from tqdm import tqdm\n",
    "from utils.tensor_utils import *\n",
    "import wandb\n",
    "from torch.utils.data import random_split\n",
    "\n",
    "from Dataset.AerialDataset import AerialDataset\n",
    "from utils.metrics_utils import calculate_ssim, calculate_psnr"
   ],
   "id": "f66ebbd9ed95e64d",
   "execution_count": 1,
   "outputs": []
  },
  {
   "metadata": {
    "ExecuteTime": {
     "end_time": "2024-05-26T16:51:07.975830Z",
     "start_time": "2024-05-26T16:51:07.956320Z"
    }
   },
   "cell_type": "code",
   "source": [
    "lr_size = 64\n",
    "hr_size = 256\n",
    "dataset_dir = 'E:\\\\TFG\\\\air_dataset'\n",
    "dataset = AerialDataset(dataset_dir, lr_size, hr_size, return_pil=True)\n",
    "_, _, test_dataset = random_split(dataset, [0.6, 0.2, 0.2], generator=torch.Generator().manual_seed(420))"
   ],
   "id": "75f5bbb76ae4708",
   "execution_count": 2,
   "outputs": []
  },
  {
   "metadata": {
    "ExecuteTime": {
     "end_time": "2024-05-26T16:48:07.620358Z",
     "start_time": "2024-05-26T16:48:07.617039Z"
    }
   },
   "cell_type": "code",
   "source": [
    "def interpolation(image, objective_dim, method):\n",
    "    # Calculo nuevas dimensiones\n",
    "    height, width = image.shape[0], image.shape[1]\n",
    "    new_width, new_height = objective_dim[0], objective_dim[1]\n",
    "    new_image = np.zeros((new_height, new_width, image.shape[2]))\n",
    "\n",
    "    # Generar cuadrículas para las coordenadas X e Y de la imagen original y la interpolada\n",
    "    x = np.linspace(0, width - 1, width)\n",
    "    y = np.linspace(0, height - 1, height)\n",
    "    new_x = np.linspace(0, width - 1, new_width)\n",
    "    new_y = np.linspace(0, height - 1, new_height)\n",
    "    new_image = interpn((y, x), image, (new_y[:, None], new_x), method=method, bounds_error=False, fill_value=0)\n",
    "    return new_image"
   ],
   "id": "961a7f20830f1d4f",
   "execution_count": 5,
   "outputs": []
  },
  {
   "metadata": {},
   "cell_type": "code",
   "source": [
    "for method in [\"nearest\", \"bilinear\", \"bicubic\"]:\n",
    "    n_samples = 0\n",
    "    ssim = 0     \n",
    "    psnr = 0\n",
    "    wandb.login()\n",
    "    wandb.init(project=\"SR model benchmarking\", name = method)\n",
    "    for images in tqdm(test_dataset):\n",
    "        if method == \"cubic\":\n",
    "            interpolated = images[\"bicubic\"]\n",
    "        else:    \n",
    "            lr = images[\"lr\"]\n",
    "            if method == \"nearest\":\n",
    "                interpolated = lr.resize((hr_size,hr_size), Image.NEAREST)\n",
    "            elif method == \"bilinear\":\n",
    "                interpolated = lr.resize((hr_size,hr_size), Image.BILINEAR)\n",
    "            \n",
    "        hr = images[\"hr\"]\n",
    "        ssim += calculate_ssim(np.array(interpolated), np.array(hr))\n",
    "        psnr += calculate_psnr(np.array(interpolated), np.array(hr))\n",
    "        n_samples += 1\n",
    "      \n",
    "    wandb.log({\"ssim\" : ssim / n_samples, \"psnr\" : psnr / n_samples})\n",
    "    wandb.finish()"
   ],
   "id": "778bc88f2190e29b",
   "execution_count": 5,
   "outputs": []
  },
  {
   "metadata": {},
   "cell_type": "code",
   "source": [
    "method = \"cubic\"\n",
    "n_samples = 0\n",
    "ssim = 0     \n",
    "psnr = 0\n",
    "wandb.login()\n",
    "wandb.init(project=\"SR model benchmarking\", name = method)\n",
    "for images in tqdm(test_dataset):\n",
    "    lr = images[\"lr\"]\n",
    "    interpolated = lr.resize((hr_size,hr_size), Image.BICUBIC)\n",
    "        \n",
    "    hr = images[\"hr\"]\n",
    "    ssim += calculate_ssim(np.array(interpolated), np.array(hr))\n",
    "    psnr += calculate_psnr(np.array(interpolated), np.array(hr))\n",
    "    n_samples += 1\n",
    "  \n",
    "wandb.log({\"ssim\" : ssim / n_samples, \"psnr\" : psnr / n_samples})\n",
    "wandb.finish()"
   ],
   "id": "732208daab7d0d40",
   "execution_count": 7,
   "outputs": []
  }
 ],
 "metadata": {
  "kernelspec": {
   "display_name": "Python 3",
   "language": "python",
   "name": "python3"
  },
  "language_info": {
   "codemirror_mode": {
    "name": "ipython",
    "version": 2
   },
   "file_extension": ".py",
   "mimetype": "text/x-python",
   "name": "python",
   "nbconvert_exporter": "python",
   "pygments_lexer": "ipython2",
   "version": "2.7.6"
  }
 },
 "nbformat": 4,
 "nbformat_minor": 5
}
