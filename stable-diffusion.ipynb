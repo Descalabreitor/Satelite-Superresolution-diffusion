{
 "cells": [
  {
   "metadata": {
    "ExecuteTime": {
     "end_time": "2024-06-10T09:45:53.708433Z",
     "start_time": "2024-06-10T09:45:53.705009Z"
    }
   },
   "cell_type": "code",
   "source": [
    "import PIL\n",
    "from torchmetrics.image import StructuralSimilarityIndexMeasure, PeakSignalNoiseRatio\n",
    "from torchvision import transforms\n",
    "\n",
    "def get_test_img(file):\n",
    "    test_img = PIL.Image.open(f'test pictures\\\\{file}')\n",
    "    return transforms.ToTensor()(test_img)"
   ],
   "id": "b3b25e9750f17e71",
   "execution_count": 2,
   "outputs": []
  },
  {
   "metadata": {
    "ExecuteTime": {
     "end_time": "2024-06-10T09:46:41.410307Z",
     "start_time": "2024-06-10T09:46:41.300287Z"
    }
   },
   "cell_type": "code",
   "source": [
    "import PIL\n",
    "import numpy as np\n",
    "import torch\n",
    "import torchvision\n",
    "from torchvision.transforms.v2 import Compose, GaussianBlur, RandomEqualize, RandomSolarize, RandomApply\n",
    "import wandb\n",
    "from torch.utils.data import DataLoader\n",
    "from torch.utils.data import random_split\n",
    "\n",
    "from Dataset.AerialDataset import AerialDataset\n",
    "from tasks.SRDiffTrainer import SRDiffTrainer\n",
    "from models.SRDIFFBuilder import SRDiffBuilder\n",
    "from utils.model_utils import load_model\n",
    "\n",
    "#Data\n",
    "lr_size = 64\n",
    "hr_size = 256\n",
    "batch_size = 20\n",
    "dataset_dir = 'E:\\\\TFG\\\\dataset_tfg'\n",
    "\n",
    "transforms = Compose(\n",
    "    [RandomApply(transforms= [GaussianBlur(7)], p = 0.5),\n",
    "    RandomEqualize()]\n",
    ")\n",
    "\n",
    "dataset = AerialDataset(dataset_dir, lr_size, hr_size, data_augmentation = None, aux_sat_prob= 0.4, sat_dataset_path= \"E:\\\\TFG\\\\dataset_tfg\\\\satelite_dataset\\\\64_256\")\n",
    "train_dataset, val_dataset, test_dataset = random_split(dataset, [0.6, 0.2, 0.2], generator=torch.Generator().manual_seed(420))\n",
    "\n",
    "train_dataloader = DataLoader(train_dataset, batch_size=batch_size, shuffle=True)\n",
    "val_dataloader = DataLoader(val_dataset, batch_size=batch_size, shuffle=True)\n",
    "test_dataloader = DataLoader(test_dataset, batch_size=batch_size, shuffle=True)\n",
    "    \n",
    "device = torch.device(0)"
   ],
   "id": "c99c2db17926ae44",
   "execution_count": 4,
   "outputs": []
  },
  {
   "cell_type": "code",
   "id": "initial_id",
   "metadata": {
    "collapsed": true,
    "ExecuteTime": {
     "end_time": "2024-06-10T09:55:07.862967Z",
     "start_time": "2024-06-10T09:53:46.070192Z"
    }
   },
   "source": [
    "from tqdm import tqdm\n",
    "import requests\n",
    "from PIL import Image\n",
    "from io import BytesIO\n",
    "from diffusers import StableDiffusionUpscalePipeline\n",
    "import torch\n",
    "device = torch.device(0)\n",
    "\n",
    "# load model and scheduler\n",
    "model_id = \"stabilityai/stable-diffusion-x4-upscaler\"\n",
    "pipeline = StableDiffusionUpscalePipeline.from_pretrained(\n",
    "    model_id, revision=\"fp16\", torch_dtype=torch.float16\n",
    ")\n",
    "wandb.login()\n",
    "hyperparams = {\n",
    "    \"pretrained\": True,\n",
    "    \"fine tunning\": False,\n",
    "    \"batch_size\": batch_size\n",
    "}\n",
    "wandb.init(project=\"Stable diffusion\", config=hyperparams, name=model_id + \"no tuning\")\n",
    "pipeline = pipeline.to(device)\n",
    "metrics = {\"psnr\":0, \"ssim\":0}\n",
    "for batch in tqdm(test_dataloader):\n",
    "    bicubic = batch[\"bicubic\"]\n",
    "    hr = batch[\"hr\"]\n",
    "    prompt = [\"Satelite imagery\"]*batch_size\n",
    "    sr = pipeline(prompt=prompt, image=bicubic).images[0]\n",
    "    ssim = StructuralSimilarityIndexMeasure().to(device=device)\n",
    "    psnr = PeakSignalNoiseRatio().to(device=device)\n",
    "    metrics['psnr'] += psnr(sr, hr)\n",
    "    metrics['ssim'] += ssim(sr, hr)\n",
    "\n",
    "metrics = {metric: value / len(test_dataloader) for metric, value in metrics.keys()}\n",
    "wandb.log(metrics)\n",
    "wandb.finish()"
   ],
   "execution_count": 6,
   "outputs": []
  },
  {
   "metadata": {},
   "cell_type": "code",
   "execution_count": null,
   "source": "",
   "id": "4eafef71384434f3",
   "outputs": []
  }
 ],
 "metadata": {
  "kernelspec": {
   "display_name": "Python 3",
   "language": "python",
   "name": "python3"
  },
  "language_info": {
   "codemirror_mode": {
    "name": "ipython",
    "version": 2
   },
   "file_extension": ".py",
   "mimetype": "text/x-python",
   "name": "python",
   "nbconvert_exporter": "python",
   "pygments_lexer": "ipython2",
   "version": "2.7.6"
  }
 },
 "nbformat": 4,
 "nbformat_minor": 5
}
