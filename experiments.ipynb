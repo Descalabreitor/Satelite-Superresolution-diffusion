{
 "cells": [
  {
   "cell_type": "code",
   "id": "initial_id",
   "metadata": {
    "collapsed": true,
    "ExecuteTime": {
     "end_time": "2024-05-09T15:48:59.465005Z",
     "start_time": "2024-05-09T15:48:59.462497Z"
    }
   },
   "source": [
    "import PIL\n",
    "import numpy as np\n",
    "import torch\n",
    "import wandb\n",
    "from torch.utils.data import DataLoader\n",
    "from torch.utils.data import random_split\n",
    "\n",
    "from Dataset.AerialDataset import AerialDataset\n",
    "from tasks.SRDiffTrainer import SRDiffTrainer\n",
    "from tasks.SR3Trainer import SR3Trainer\n",
    "from utils.model_utils import load_model"
   ],
   "outputs": [],
   "execution_count": 4
  },
  {
   "metadata": {},
   "cell_type": "markdown",
   "source": [
    "- Generar imagenes bicubicas\n",
    "- Construir Dataset\n",
    "- Construir Dataloader\n",
    "- SR3\n",
    "- SRdiff\n",
    "- SR3+"
   ],
   "id": "77744e547aa8b8f0"
  },
  {
   "metadata": {},
   "cell_type": "markdown",
   "source": "## 64 -> 256",
   "id": "71bab7523f2c3892"
  },
  {
   "metadata": {},
   "cell_type": "markdown",
   "source": "## Entrenamiento",
   "id": "830b031f8230ceb3"
  },
  {
   "metadata": {
    "ExecuteTime": {
     "end_time": "2024-05-09T15:49:00.754300Z",
     "start_time": "2024-05-09T15:49:00.752166Z"
    }
   },
   "cell_type": "code",
   "source": [
    "lr_size = 64\n",
    "hr_size = 256\n",
    "batch_size = 16\n",
    "dataset_dir = 'E:\\\\TFG\\\\air_dataset'"
   ],
   "id": "4e91bfd9d2a1b993",
   "outputs": [],
   "execution_count": 5
  },
  {
   "metadata": {
    "ExecuteTime": {
     "end_time": "2024-05-09T15:49:01.161929Z",
     "start_time": "2024-05-09T15:49:01.139432Z"
    }
   },
   "cell_type": "code",
   "source": [
    "dataset = AerialDataset(dataset_dir, lr_size, hr_size)\n",
    "train_dataset, val_dataset, test_dataset = random_split(dataset, [0.6, 0.2, 0.2], generator=torch.Generator().manual_seed(420))\n",
    "\n",
    "train_dataloader = DataLoader(train_dataset, batch_size=batch_size, shuffle=True)\n",
    "val_dataloader = DataLoader(val_dataset, batch_size=batch_size, shuffle=True)\n",
    "test_dataloader = DataLoader(test_dataset, batch_size=batch_size, shuffle=True)\n",
    "    \n",
    "device = torch.device('cuda' if torch.cuda.is_available() else 'cpu')"
   ],
   "id": "dc17da4936ebfe5e",
   "outputs": [],
   "execution_count": 6
  },
  {
   "metadata": {},
   "cell_type": "markdown",
   "source": "### SRDiff",
   "id": "ec73b68aba1d08bc"
  },
  {
   "metadata": {},
   "cell_type": "code",
   "source": [
    "from models.SRDiff.diffusion import GaussianDiffusion\n",
    "from models.SRDiff.diffsr_modules import Unet, RRDBNet\n",
    "losstypes = [\"l2\",\"ssim\"]\n",
    "\n",
    "for losstype in losstypes:\n",
    "    model_name = f\"SRDiff{losstype}\"\n",
    "    hidden_size = 64\n",
    "    dim_mults = [1,2,2,4]\n",
    "    rrdb_num_features = 32\n",
    "    rrdb_num_blocks = 8\n",
    "    timesteps = 100\n",
    "    \n",
    "    denoise_fn = Unet(\n",
    "        hidden_size, out_dim=3, cond_dim=rrdb_num_features, dim_mults=dim_mults, rrdb_num_block=rrdb_num_blocks, sr_scale=4)\n",
    "    \n",
    "    rrdb = RRDBNet(3, 3, rrdb_num_features, rrdb_num_blocks, rrdb_num_features// 2)\n",
    "    \n",
    "    model = GaussianDiffusion(\n",
    "        denoise_fn=denoise_fn,\n",
    "        rrdb_net=rrdb,\n",
    "        timesteps= timesteps,\n",
    "        loss_type=losstype\n",
    "    )\n",
    "    #model = load_model(model, f\"SRDiff{losstype}.pt\", \"models_state_dic\")\n",
    "    model.to(device)  \n",
    "    \n",
    "    lr= 0.0002\n",
    "    decay_steps= 100000\n",
    "    gamma = 0.5\n",
    "    \n",
    "    optimizer = torch.optim.Adam(model.parameters(), lr=lr)\n",
    "    scheduler = torch.optim.lr_scheduler.StepLR(optimizer, step_size=decay_steps, gamma=gamma)\n",
    "    max_steps = 20\n",
    "    hyperparams = {\n",
    "        \"max_steps\": 100,\n",
    "        \"model\": \"SRDiff\",\n",
    "        \"learning_rate\": lr,\n",
    "        \"decay_steps\": decay_steps,\n",
    "        \"gamma\": gamma,\n",
    "        \"batch_size\": batch_size,\n",
    "        \"hidden_size\": hidden_size,\n",
    "        \"dim_mults\": dim_mults,\n",
    "        \"rrdb_num_features\": rrdb_num_features,\n",
    "        \"rrdb_num_blocks\": rrdb_num_blocks,\n",
    "        \"loss_type\": losstype,\n",
    "        \"epochs\": max_steps\n",
    "    }\n",
    "    project_name = \"SR model benchmarking\"\n",
    "    run_name = \"SRDiff\"\n",
    "    wandb.login()\n",
    "    wandb.init(project=project_name, config=hyperparams, name=run_name)\n",
    "    \n",
    "    trainer = SRDiffTrainer(metrics_used=[\"ssim\", \"psnr\"], model_name=model_name)\n",
    "    trainer.set_model(model)\n",
    "    trainer.set_optimizer(optimizer)\n",
    "    trainer.set_scheduler(scheduler)\n",
    "    for step in range(max_steps):\n",
    "        train_loss = trainer.train(train_dataloader)\n",
    "        torch.cuda.empty_cache()\n",
    "        \n",
    "        trainer.save_model(\"models_state_dic\")\n",
    "        with torch.no_grad():\n",
    "            val_loss = trainer.validate(val_dataloader)\n",
    "        torch.cuda.empty_cache()\n",
    "        wandb.log({\"train_loss\": train_loss, \"validation_loss\": val_loss})\n",
    "        \n",
    "    test_metrics = trainer.test(test_dataloader)\n",
    "    wandb.log(test_metrics)\n",
    "    wandb.finish()   "
   ],
   "id": "5c9bcb1d2dbd771e",
   "outputs": [
    {
     "name": "stderr",
     "output_type": "stream",
     "text": [
      "100%|██████████| 50/50 [12:48<00:00, 15.37s/batch, n_samples=1, psnr=26.6, ssim=0.752]\n"
     ]
    },
    {
     "data": {
      "text/plain": [
       "VBox(children=(Label(value='0.001 MB of 0.001 MB uploaded\\r'), FloatProgress(value=1.0, max=1.0)))"
      ],
      "application/vnd.jupyter.widget-view+json": {
       "version_major": 2,
       "version_minor": 0,
       "model_id": "69747227249741f99cf894294b50b3ef"
      }
     },
     "metadata": {},
     "output_type": "display_data"
    },
    {
     "data": {
      "text/plain": [
       "<IPython.core.display.HTML object>"
      ],
      "text/html": [
       "<style>\n",
       "    table.wandb td:nth-child(1) { padding: 0 10px; text-align: left ; width: auto;} td:nth-child(2) {text-align: left ; width: 100%}\n",
       "    .wandb-row { display: flex; flex-direction: row; flex-wrap: wrap; justify-content: flex-start; width: 100% }\n",
       "    .wandb-col { display: flex; flex-direction: column; flex-basis: 100%; flex: 1; padding: 10px; }\n",
       "    </style>\n",
       "<div class=\"wandb-row\"><div class=\"wandb-col\"><h3>Run history:</h3><br/><table class=\"wandb\"><tr><td>psnr</td><td>▁</td></tr><tr><td>ssim</td><td>▁</td></tr><tr><td>train_loss</td><td>█▂▂▁▁▁▁▁▁▁▁▁▁▁▁▁▁▁▁▁</td></tr><tr><td>validation_loss</td><td>█▅▃▃▄▂▂▂▃▃▂▂▂▂▂▁▂▁▁▁</td></tr></table><br/></div><div class=\"wandb-col\"><h3>Run summary:</h3><br/><table class=\"wandb\"><tr><td>psnr</td><td>22.75909</td></tr><tr><td>ssim</td><td>0.62807</td></tr><tr><td>train_loss</td><td>0.09014</td></tr><tr><td>validation_loss</td><td>0.08974</td></tr></table><br/></div></div>"
      ]
     },
     "metadata": {},
     "output_type": "display_data"
    },
    {
     "data": {
      "text/plain": [
       "<IPython.core.display.HTML object>"
      ],
      "text/html": [
       " View run <strong style=\"color:#cdcd00\">SRDiff</strong> at: <a href='https://wandb.ai/ladoscuro/SR%20model%20benchmarking/runs/h6653msk' target=\"_blank\">https://wandb.ai/ladoscuro/SR%20model%20benchmarking/runs/h6653msk</a><br/> View project at: <a href='https://wandb.ai/ladoscuro/SR%20model%20benchmarking' target=\"_blank\">https://wandb.ai/ladoscuro/SR%20model%20benchmarking</a><br/>Synced 5 W&B file(s), 0 media file(s), 0 artifact file(s) and 0 other file(s)"
      ]
     },
     "metadata": {},
     "output_type": "display_data"
    },
    {
     "data": {
      "text/plain": [
       "<IPython.core.display.HTML object>"
      ],
      "text/html": [
       "Find logs at: <code>.\\wandb\\run-20240509_191313-h6653msk\\logs</code>"
      ]
     },
     "metadata": {},
     "output_type": "display_data"
    }
   ],
   "execution_count": 8
  },
  {
   "metadata": {},
   "cell_type": "markdown",
   "source": " ### SR3",
   "id": "56832a9822772ac4"
  },
  {
   "metadata": {
    "ExecuteTime": {
     "end_time": "2024-05-09T10:38:54.296496Z",
     "start_time": "2024-05-09T10:38:54.234697Z"
    }
   },
   "cell_type": "code",
   "source": [
    "from models.SR3.diffusion import GaussianDiffusion\n",
    "from models.SR3.model import UNet\n",
    "hyperparams = {\n",
    "    \"steps\" : 2000,\n",
    "    \"sample_steps\" : 100,\n",
    "    \"lr\":0.0002,\n",
    "    \"epochs\":100,\n",
    "    \"eta_min\":1e-7,\n",
    "    \"decay_steps\": 100000,\n",
    "    \"gamma\" : 0.5,  \n",
    "    \"model\" : \"SR3\"\n",
    "}\n",
    "model = UNet(3, hyperparams[\"steps\"]) #Valores por defecto ya que la tarea base es la misma upsample por 4\n",
    "SR3_model = GaussianDiffusion(model, hyperparams[\"steps\"], hyperparams[\"sample_steps\"])\n",
    "SR3_model.to(device)"
   ],
   "id": "d9c705c5919a2ae7",
   "outputs": [
    {
     "data": {
      "text/plain": [
       "GaussianDiffusion(\n",
       "  (model): UNet(\n",
       "    (emb): GammaEmbedding(\n",
       "      (linear1): Linear(\n",
       "        (linear): Linear(in_features=3, out_features=12, bias=True)\n",
       "      )\n",
       "      (silu): SiLU()\n",
       "      (linear2): Linear(\n",
       "        (linear): Linear(in_features=12, out_features=12, bias=True)\n",
       "      )\n",
       "    )\n",
       "    (conv1): Conv2d(\n",
       "      (conv): Conv2d(6, 3, kernel_size=(3, 3), stride=(1, 1), padding=(1, 1))\n",
       "    )\n",
       "    (down): ModuleList(\n",
       "      (0-2): 3 x WideResNetBlock(\n",
       "        (gn1): GroupNorm(\n",
       "          (group_norm): GroupNorm(3, 3, eps=1e-05, affine=True)\n",
       "        )\n",
       "        (silu1): SiLU()\n",
       "        (conv1): Conv2d(\n",
       "          (conv): Conv2d(3, 3, kernel_size=(3, 3), stride=(1, 1), padding=(1, 1))\n",
       "        )\n",
       "        (silu2): SiLU()\n",
       "        (linear1): Linear(\n",
       "          (linear): Linear(in_features=12, out_features=3, bias=True)\n",
       "        )\n",
       "        (gn2): GroupNorm(\n",
       "          (group_norm): GroupNorm(3, 3, eps=1e-05, affine=True)\n",
       "        )\n",
       "        (silu3): SiLU()\n",
       "        (dropout): Dropout(p=0.0, inplace=False)\n",
       "        (conv2): Conv2d(\n",
       "          (conv): Conv2d(3, 3, kernel_size=(3, 3), stride=(1, 1), padding=(1, 1))\n",
       "        )\n",
       "      )\n",
       "      (3): DownBlock(\n",
       "        (conv): Conv2d(\n",
       "          (conv): Conv2d(3, 3, kernel_size=(3, 3), stride=(2, 2), padding=(1, 1))\n",
       "        )\n",
       "      )\n",
       "      (4): WideResNetBlock(\n",
       "        (gn1): GroupNorm(\n",
       "          (group_norm): GroupNorm(3, 3, eps=1e-05, affine=True)\n",
       "        )\n",
       "        (silu1): SiLU()\n",
       "        (conv1): Conv2d(\n",
       "          (conv): Conv2d(3, 6, kernel_size=(3, 3), stride=(1, 1), padding=(1, 1))\n",
       "        )\n",
       "        (silu2): SiLU()\n",
       "        (linear1): Linear(\n",
       "          (linear): Linear(in_features=12, out_features=6, bias=True)\n",
       "        )\n",
       "        (gn2): GroupNorm(\n",
       "          (group_norm): GroupNorm(3, 6, eps=1e-05, affine=True)\n",
       "        )\n",
       "        (silu3): SiLU()\n",
       "        (dropout): Dropout(p=0.0, inplace=False)\n",
       "        (conv2): Conv2d(\n",
       "          (conv): Conv2d(6, 6, kernel_size=(3, 3), stride=(1, 1), padding=(1, 1))\n",
       "        )\n",
       "        (linear2): Linear(\n",
       "          (linear): Linear(in_features=3, out_features=6, bias=True)\n",
       "        )\n",
       "      )\n",
       "      (5-6): 2 x WideResNetBlock(\n",
       "        (gn1): GroupNorm(\n",
       "          (group_norm): GroupNorm(3, 6, eps=1e-05, affine=True)\n",
       "        )\n",
       "        (silu1): SiLU()\n",
       "        (conv1): Conv2d(\n",
       "          (conv): Conv2d(6, 6, kernel_size=(3, 3), stride=(1, 1), padding=(1, 1))\n",
       "        )\n",
       "        (silu2): SiLU()\n",
       "        (linear1): Linear(\n",
       "          (linear): Linear(in_features=12, out_features=6, bias=True)\n",
       "        )\n",
       "        (gn2): GroupNorm(\n",
       "          (group_norm): GroupNorm(3, 6, eps=1e-05, affine=True)\n",
       "        )\n",
       "        (silu3): SiLU()\n",
       "        (dropout): Dropout(p=0.0, inplace=False)\n",
       "        (conv2): Conv2d(\n",
       "          (conv): Conv2d(6, 6, kernel_size=(3, 3), stride=(1, 1), padding=(1, 1))\n",
       "        )\n",
       "      )\n",
       "      (7): DownBlock(\n",
       "        (conv): Conv2d(\n",
       "          (conv): Conv2d(6, 6, kernel_size=(3, 3), stride=(2, 2), padding=(1, 1))\n",
       "        )\n",
       "      )\n",
       "      (8): WideResNetBlock(\n",
       "        (gn1): GroupNorm(\n",
       "          (group_norm): GroupNorm(3, 6, eps=1e-05, affine=True)\n",
       "        )\n",
       "        (silu1): SiLU()\n",
       "        (conv1): Conv2d(\n",
       "          (conv): Conv2d(6, 12, kernel_size=(3, 3), stride=(1, 1), padding=(1, 1))\n",
       "        )\n",
       "        (silu2): SiLU()\n",
       "        (linear1): Linear(\n",
       "          (linear): Linear(in_features=12, out_features=12, bias=True)\n",
       "        )\n",
       "        (gn2): GroupNorm(\n",
       "          (group_norm): GroupNorm(3, 12, eps=1e-05, affine=True)\n",
       "        )\n",
       "        (silu3): SiLU()\n",
       "        (dropout): Dropout(p=0.0, inplace=False)\n",
       "        (conv2): Conv2d(\n",
       "          (conv): Conv2d(12, 12, kernel_size=(3, 3), stride=(1, 1), padding=(1, 1))\n",
       "        )\n",
       "        (linear2): Linear(\n",
       "          (linear): Linear(in_features=6, out_features=12, bias=True)\n",
       "        )\n",
       "      )\n",
       "      (9-10): 2 x WideResNetBlock(\n",
       "        (gn1): GroupNorm(\n",
       "          (group_norm): GroupNorm(3, 12, eps=1e-05, affine=True)\n",
       "        )\n",
       "        (silu1): SiLU()\n",
       "        (conv1): Conv2d(\n",
       "          (conv): Conv2d(12, 12, kernel_size=(3, 3), stride=(1, 1), padding=(1, 1))\n",
       "        )\n",
       "        (silu2): SiLU()\n",
       "        (linear1): Linear(\n",
       "          (linear): Linear(in_features=12, out_features=12, bias=True)\n",
       "        )\n",
       "        (gn2): GroupNorm(\n",
       "          (group_norm): GroupNorm(3, 12, eps=1e-05, affine=True)\n",
       "        )\n",
       "        (silu3): SiLU()\n",
       "        (dropout): Dropout(p=0.0, inplace=False)\n",
       "        (conv2): Conv2d(\n",
       "          (conv): Conv2d(12, 12, kernel_size=(3, 3), stride=(1, 1), padding=(1, 1))\n",
       "        )\n",
       "      )\n",
       "      (11): DownBlock(\n",
       "        (conv): Conv2d(\n",
       "          (conv): Conv2d(12, 12, kernel_size=(3, 3), stride=(2, 2), padding=(1, 1))\n",
       "        )\n",
       "      )\n",
       "      (12-14): 3 x WideResNetBlock(\n",
       "        (gn1): GroupNorm(\n",
       "          (group_norm): GroupNorm(3, 12, eps=1e-05, affine=True)\n",
       "        )\n",
       "        (silu1): SiLU()\n",
       "        (conv1): Conv2d(\n",
       "          (conv): Conv2d(12, 12, kernel_size=(3, 3), stride=(1, 1), padding=(1, 1))\n",
       "        )\n",
       "        (silu2): SiLU()\n",
       "        (linear1): Linear(\n",
       "          (linear): Linear(in_features=12, out_features=12, bias=True)\n",
       "        )\n",
       "        (gn2): GroupNorm(\n",
       "          (group_norm): GroupNorm(3, 12, eps=1e-05, affine=True)\n",
       "        )\n",
       "        (silu3): SiLU()\n",
       "        (dropout): Dropout(p=0.0, inplace=False)\n",
       "        (conv2): Conv2d(\n",
       "          (conv): Conv2d(12, 12, kernel_size=(3, 3), stride=(1, 1), padding=(1, 1))\n",
       "        )\n",
       "      )\n",
       "      (15): DownBlock(\n",
       "        (conv): Conv2d(\n",
       "          (conv): Conv2d(12, 12, kernel_size=(3, 3), stride=(2, 2), padding=(1, 1))\n",
       "        )\n",
       "      )\n",
       "      (16): WideResNetBlock(\n",
       "        (gn1): GroupNorm(\n",
       "          (group_norm): GroupNorm(3, 12, eps=1e-05, affine=True)\n",
       "        )\n",
       "        (silu1): SiLU()\n",
       "        (conv1): Conv2d(\n",
       "          (conv): Conv2d(12, 24, kernel_size=(3, 3), stride=(1, 1), padding=(1, 1))\n",
       "        )\n",
       "        (silu2): SiLU()\n",
       "        (linear1): Linear(\n",
       "          (linear): Linear(in_features=12, out_features=24, bias=True)\n",
       "        )\n",
       "        (gn2): GroupNorm(\n",
       "          (group_norm): GroupNorm(3, 24, eps=1e-05, affine=True)\n",
       "        )\n",
       "        (silu3): SiLU()\n",
       "        (dropout): Dropout(p=0.0, inplace=False)\n",
       "        (conv2): Conv2d(\n",
       "          (conv): Conv2d(24, 24, kernel_size=(3, 3), stride=(1, 1), padding=(1, 1))\n",
       "        )\n",
       "        (linear2): Linear(\n",
       "          (linear): Linear(in_features=12, out_features=24, bias=True)\n",
       "        )\n",
       "        (att): SelfAttentionBlock(\n",
       "          (gn): GroupNorm(\n",
       "            (group_norm): GroupNorm(3, 24, eps=1e-05, affine=True)\n",
       "          )\n",
       "          (qkv): Linear(\n",
       "            (linear): Linear(in_features=24, out_features=72, bias=True)\n",
       "          )\n",
       "          (softmax): Softmax(dim=-1)\n",
       "          (proj): Linear(\n",
       "            (linear): Linear(in_features=24, out_features=24, bias=True)\n",
       "          )\n",
       "        )\n",
       "      )\n",
       "      (17-18): 2 x WideResNetBlock(\n",
       "        (gn1): GroupNorm(\n",
       "          (group_norm): GroupNorm(3, 24, eps=1e-05, affine=True)\n",
       "        )\n",
       "        (silu1): SiLU()\n",
       "        (conv1): Conv2d(\n",
       "          (conv): Conv2d(24, 24, kernel_size=(3, 3), stride=(1, 1), padding=(1, 1))\n",
       "        )\n",
       "        (silu2): SiLU()\n",
       "        (linear1): Linear(\n",
       "          (linear): Linear(in_features=12, out_features=24, bias=True)\n",
       "        )\n",
       "        (gn2): GroupNorm(\n",
       "          (group_norm): GroupNorm(3, 24, eps=1e-05, affine=True)\n",
       "        )\n",
       "        (silu3): SiLU()\n",
       "        (dropout): Dropout(p=0.0, inplace=False)\n",
       "        (conv2): Conv2d(\n",
       "          (conv): Conv2d(24, 24, kernel_size=(3, 3), stride=(1, 1), padding=(1, 1))\n",
       "        )\n",
       "        (att): SelfAttentionBlock(\n",
       "          (gn): GroupNorm(\n",
       "            (group_norm): GroupNorm(3, 24, eps=1e-05, affine=True)\n",
       "          )\n",
       "          (qkv): Linear(\n",
       "            (linear): Linear(in_features=24, out_features=72, bias=True)\n",
       "          )\n",
       "          (softmax): Softmax(dim=-1)\n",
       "          (proj): Linear(\n",
       "            (linear): Linear(in_features=24, out_features=24, bias=True)\n",
       "          )\n",
       "        )\n",
       "      )\n",
       "      (19): DownBlock(\n",
       "        (conv): Conv2d(\n",
       "          (conv): Conv2d(24, 24, kernel_size=(3, 3), stride=(2, 2), padding=(1, 1))\n",
       "        )\n",
       "      )\n",
       "      (20-22): 3 x WideResNetBlock(\n",
       "        (gn1): GroupNorm(\n",
       "          (group_norm): GroupNorm(3, 24, eps=1e-05, affine=True)\n",
       "        )\n",
       "        (silu1): SiLU()\n",
       "        (conv1): Conv2d(\n",
       "          (conv): Conv2d(24, 24, kernel_size=(3, 3), stride=(1, 1), padding=(1, 1))\n",
       "        )\n",
       "        (silu2): SiLU()\n",
       "        (linear1): Linear(\n",
       "          (linear): Linear(in_features=12, out_features=24, bias=True)\n",
       "        )\n",
       "        (gn2): GroupNorm(\n",
       "          (group_norm): GroupNorm(3, 24, eps=1e-05, affine=True)\n",
       "        )\n",
       "        (silu3): SiLU()\n",
       "        (dropout): Dropout(p=0.0, inplace=False)\n",
       "        (conv2): Conv2d(\n",
       "          (conv): Conv2d(24, 24, kernel_size=(3, 3), stride=(1, 1), padding=(1, 1))\n",
       "        )\n",
       "      )\n",
       "    )\n",
       "    (mid): ModuleList(\n",
       "      (0): WideResNetBlock(\n",
       "        (gn1): GroupNorm(\n",
       "          (group_norm): GroupNorm(3, 24, eps=1e-05, affine=True)\n",
       "        )\n",
       "        (silu1): SiLU()\n",
       "        (conv1): Conv2d(\n",
       "          (conv): Conv2d(24, 24, kernel_size=(3, 3), stride=(1, 1), padding=(1, 1))\n",
       "        )\n",
       "        (silu2): SiLU()\n",
       "        (linear1): Linear(\n",
       "          (linear): Linear(in_features=12, out_features=24, bias=True)\n",
       "        )\n",
       "        (gn2): GroupNorm(\n",
       "          (group_norm): GroupNorm(3, 24, eps=1e-05, affine=True)\n",
       "        )\n",
       "        (silu3): SiLU()\n",
       "        (dropout): Dropout(p=0.0, inplace=False)\n",
       "        (conv2): Conv2d(\n",
       "          (conv): Conv2d(24, 24, kernel_size=(3, 3), stride=(1, 1), padding=(1, 1))\n",
       "        )\n",
       "        (att): SelfAttentionBlock(\n",
       "          (gn): GroupNorm(\n",
       "            (group_norm): GroupNorm(3, 24, eps=1e-05, affine=True)\n",
       "          )\n",
       "          (qkv): Linear(\n",
       "            (linear): Linear(in_features=24, out_features=72, bias=True)\n",
       "          )\n",
       "          (softmax): Softmax(dim=-1)\n",
       "          (proj): Linear(\n",
       "            (linear): Linear(in_features=24, out_features=24, bias=True)\n",
       "          )\n",
       "        )\n",
       "      )\n",
       "      (1): WideResNetBlock(\n",
       "        (gn1): GroupNorm(\n",
       "          (group_norm): GroupNorm(3, 24, eps=1e-05, affine=True)\n",
       "        )\n",
       "        (silu1): SiLU()\n",
       "        (conv1): Conv2d(\n",
       "          (conv): Conv2d(24, 24, kernel_size=(3, 3), stride=(1, 1), padding=(1, 1))\n",
       "        )\n",
       "        (silu2): SiLU()\n",
       "        (linear1): Linear(\n",
       "          (linear): Linear(in_features=12, out_features=24, bias=True)\n",
       "        )\n",
       "        (gn2): GroupNorm(\n",
       "          (group_norm): GroupNorm(3, 24, eps=1e-05, affine=True)\n",
       "        )\n",
       "        (silu3): SiLU()\n",
       "        (dropout): Dropout(p=0.0, inplace=False)\n",
       "        (conv2): Conv2d(\n",
       "          (conv): Conv2d(24, 24, kernel_size=(3, 3), stride=(1, 1), padding=(1, 1))\n",
       "        )\n",
       "      )\n",
       "    )\n",
       "    (up): ModuleList(\n",
       "      (0-3): 4 x WideResNetBlock(\n",
       "        (gn1): GroupNorm(\n",
       "          (group_norm): GroupNorm(3, 48, eps=1e-05, affine=True)\n",
       "        )\n",
       "        (silu1): SiLU()\n",
       "        (conv1): Conv2d(\n",
       "          (conv): Conv2d(48, 24, kernel_size=(3, 3), stride=(1, 1), padding=(1, 1))\n",
       "        )\n",
       "        (silu2): SiLU()\n",
       "        (linear1): Linear(\n",
       "          (linear): Linear(in_features=12, out_features=24, bias=True)\n",
       "        )\n",
       "        (gn2): GroupNorm(\n",
       "          (group_norm): GroupNorm(3, 24, eps=1e-05, affine=True)\n",
       "        )\n",
       "        (silu3): SiLU()\n",
       "        (dropout): Dropout(p=0.0, inplace=False)\n",
       "        (conv2): Conv2d(\n",
       "          (conv): Conv2d(24, 24, kernel_size=(3, 3), stride=(1, 1), padding=(1, 1))\n",
       "        )\n",
       "        (linear2): Linear(\n",
       "          (linear): Linear(in_features=48, out_features=24, bias=True)\n",
       "        )\n",
       "      )\n",
       "      (4): UpBlock(\n",
       "        (upsample): Upsample(scale_factor=2.0, mode='nearest')\n",
       "        (conv): Conv2d(\n",
       "          (conv): Conv2d(24, 24, kernel_size=(3, 3), stride=(1, 1), padding=(1, 1))\n",
       "        )\n",
       "      )\n",
       "      (5-7): 3 x WideResNetBlock(\n",
       "        (gn1): GroupNorm(\n",
       "          (group_norm): GroupNorm(3, 48, eps=1e-05, affine=True)\n",
       "        )\n",
       "        (silu1): SiLU()\n",
       "        (conv1): Conv2d(\n",
       "          (conv): Conv2d(48, 24, kernel_size=(3, 3), stride=(1, 1), padding=(1, 1))\n",
       "        )\n",
       "        (silu2): SiLU()\n",
       "        (linear1): Linear(\n",
       "          (linear): Linear(in_features=12, out_features=24, bias=True)\n",
       "        )\n",
       "        (gn2): GroupNorm(\n",
       "          (group_norm): GroupNorm(3, 24, eps=1e-05, affine=True)\n",
       "        )\n",
       "        (silu3): SiLU()\n",
       "        (dropout): Dropout(p=0.0, inplace=False)\n",
       "        (conv2): Conv2d(\n",
       "          (conv): Conv2d(24, 24, kernel_size=(3, 3), stride=(1, 1), padding=(1, 1))\n",
       "        )\n",
       "        (linear2): Linear(\n",
       "          (linear): Linear(in_features=48, out_features=24, bias=True)\n",
       "        )\n",
       "        (att): SelfAttentionBlock(\n",
       "          (gn): GroupNorm(\n",
       "            (group_norm): GroupNorm(3, 24, eps=1e-05, affine=True)\n",
       "          )\n",
       "          (qkv): Linear(\n",
       "            (linear): Linear(in_features=24, out_features=72, bias=True)\n",
       "          )\n",
       "          (softmax): Softmax(dim=-1)\n",
       "          (proj): Linear(\n",
       "            (linear): Linear(in_features=24, out_features=24, bias=True)\n",
       "          )\n",
       "        )\n",
       "      )\n",
       "      (8): WideResNetBlock(\n",
       "        (gn1): GroupNorm(\n",
       "          (group_norm): GroupNorm(3, 36, eps=1e-05, affine=True)\n",
       "        )\n",
       "        (silu1): SiLU()\n",
       "        (conv1): Conv2d(\n",
       "          (conv): Conv2d(36, 24, kernel_size=(3, 3), stride=(1, 1), padding=(1, 1))\n",
       "        )\n",
       "        (silu2): SiLU()\n",
       "        (linear1): Linear(\n",
       "          (linear): Linear(in_features=12, out_features=24, bias=True)\n",
       "        )\n",
       "        (gn2): GroupNorm(\n",
       "          (group_norm): GroupNorm(3, 24, eps=1e-05, affine=True)\n",
       "        )\n",
       "        (silu3): SiLU()\n",
       "        (dropout): Dropout(p=0.0, inplace=False)\n",
       "        (conv2): Conv2d(\n",
       "          (conv): Conv2d(24, 24, kernel_size=(3, 3), stride=(1, 1), padding=(1, 1))\n",
       "        )\n",
       "        (linear2): Linear(\n",
       "          (linear): Linear(in_features=36, out_features=24, bias=True)\n",
       "        )\n",
       "        (att): SelfAttentionBlock(\n",
       "          (gn): GroupNorm(\n",
       "            (group_norm): GroupNorm(3, 24, eps=1e-05, affine=True)\n",
       "          )\n",
       "          (qkv): Linear(\n",
       "            (linear): Linear(in_features=24, out_features=72, bias=True)\n",
       "          )\n",
       "          (softmax): Softmax(dim=-1)\n",
       "          (proj): Linear(\n",
       "            (linear): Linear(in_features=24, out_features=24, bias=True)\n",
       "          )\n",
       "        )\n",
       "      )\n",
       "      (9): UpBlock(\n",
       "        (upsample): Upsample(scale_factor=2.0, mode='nearest')\n",
       "        (conv): Conv2d(\n",
       "          (conv): Conv2d(24, 24, kernel_size=(3, 3), stride=(1, 1), padding=(1, 1))\n",
       "        )\n",
       "      )\n",
       "      (10): WideResNetBlock(\n",
       "        (gn1): GroupNorm(\n",
       "          (group_norm): GroupNorm(3, 36, eps=1e-05, affine=True)\n",
       "        )\n",
       "        (silu1): SiLU()\n",
       "        (conv1): Conv2d(\n",
       "          (conv): Conv2d(36, 12, kernel_size=(3, 3), stride=(1, 1), padding=(1, 1))\n",
       "        )\n",
       "        (silu2): SiLU()\n",
       "        (linear1): Linear(\n",
       "          (linear): Linear(in_features=12, out_features=12, bias=True)\n",
       "        )\n",
       "        (gn2): GroupNorm(\n",
       "          (group_norm): GroupNorm(3, 12, eps=1e-05, affine=True)\n",
       "        )\n",
       "        (silu3): SiLU()\n",
       "        (dropout): Dropout(p=0.0, inplace=False)\n",
       "        (conv2): Conv2d(\n",
       "          (conv): Conv2d(12, 12, kernel_size=(3, 3), stride=(1, 1), padding=(1, 1))\n",
       "        )\n",
       "        (linear2): Linear(\n",
       "          (linear): Linear(in_features=36, out_features=12, bias=True)\n",
       "        )\n",
       "      )\n",
       "      (11-13): 3 x WideResNetBlock(\n",
       "        (gn1): GroupNorm(\n",
       "          (group_norm): GroupNorm(3, 24, eps=1e-05, affine=True)\n",
       "        )\n",
       "        (silu1): SiLU()\n",
       "        (conv1): Conv2d(\n",
       "          (conv): Conv2d(24, 12, kernel_size=(3, 3), stride=(1, 1), padding=(1, 1))\n",
       "        )\n",
       "        (silu2): SiLU()\n",
       "        (linear1): Linear(\n",
       "          (linear): Linear(in_features=12, out_features=12, bias=True)\n",
       "        )\n",
       "        (gn2): GroupNorm(\n",
       "          (group_norm): GroupNorm(3, 12, eps=1e-05, affine=True)\n",
       "        )\n",
       "        (silu3): SiLU()\n",
       "        (dropout): Dropout(p=0.0, inplace=False)\n",
       "        (conv2): Conv2d(\n",
       "          (conv): Conv2d(12, 12, kernel_size=(3, 3), stride=(1, 1), padding=(1, 1))\n",
       "        )\n",
       "        (linear2): Linear(\n",
       "          (linear): Linear(in_features=24, out_features=12, bias=True)\n",
       "        )\n",
       "      )\n",
       "      (14): UpBlock(\n",
       "        (upsample): Upsample(scale_factor=2.0, mode='nearest')\n",
       "        (conv): Conv2d(\n",
       "          (conv): Conv2d(12, 12, kernel_size=(3, 3), stride=(1, 1), padding=(1, 1))\n",
       "        )\n",
       "      )\n",
       "      (15-17): 3 x WideResNetBlock(\n",
       "        (gn1): GroupNorm(\n",
       "          (group_norm): GroupNorm(3, 24, eps=1e-05, affine=True)\n",
       "        )\n",
       "        (silu1): SiLU()\n",
       "        (conv1): Conv2d(\n",
       "          (conv): Conv2d(24, 12, kernel_size=(3, 3), stride=(1, 1), padding=(1, 1))\n",
       "        )\n",
       "        (silu2): SiLU()\n",
       "        (linear1): Linear(\n",
       "          (linear): Linear(in_features=12, out_features=12, bias=True)\n",
       "        )\n",
       "        (gn2): GroupNorm(\n",
       "          (group_norm): GroupNorm(3, 12, eps=1e-05, affine=True)\n",
       "        )\n",
       "        (silu3): SiLU()\n",
       "        (dropout): Dropout(p=0.0, inplace=False)\n",
       "        (conv2): Conv2d(\n",
       "          (conv): Conv2d(12, 12, kernel_size=(3, 3), stride=(1, 1), padding=(1, 1))\n",
       "        )\n",
       "        (linear2): Linear(\n",
       "          (linear): Linear(in_features=24, out_features=12, bias=True)\n",
       "        )\n",
       "      )\n",
       "      (18): WideResNetBlock(\n",
       "        (gn1): GroupNorm(\n",
       "          (group_norm): GroupNorm(3, 18, eps=1e-05, affine=True)\n",
       "        )\n",
       "        (silu1): SiLU()\n",
       "        (conv1): Conv2d(\n",
       "          (conv): Conv2d(18, 12, kernel_size=(3, 3), stride=(1, 1), padding=(1, 1))\n",
       "        )\n",
       "        (silu2): SiLU()\n",
       "        (linear1): Linear(\n",
       "          (linear): Linear(in_features=12, out_features=12, bias=True)\n",
       "        )\n",
       "        (gn2): GroupNorm(\n",
       "          (group_norm): GroupNorm(3, 12, eps=1e-05, affine=True)\n",
       "        )\n",
       "        (silu3): SiLU()\n",
       "        (dropout): Dropout(p=0.0, inplace=False)\n",
       "        (conv2): Conv2d(\n",
       "          (conv): Conv2d(12, 12, kernel_size=(3, 3), stride=(1, 1), padding=(1, 1))\n",
       "        )\n",
       "        (linear2): Linear(\n",
       "          (linear): Linear(in_features=18, out_features=12, bias=True)\n",
       "        )\n",
       "      )\n",
       "      (19): UpBlock(\n",
       "        (upsample): Upsample(scale_factor=2.0, mode='nearest')\n",
       "        (conv): Conv2d(\n",
       "          (conv): Conv2d(12, 12, kernel_size=(3, 3), stride=(1, 1), padding=(1, 1))\n",
       "        )\n",
       "      )\n",
       "      (20): WideResNetBlock(\n",
       "        (gn1): GroupNorm(\n",
       "          (group_norm): GroupNorm(3, 18, eps=1e-05, affine=True)\n",
       "        )\n",
       "        (silu1): SiLU()\n",
       "        (conv1): Conv2d(\n",
       "          (conv): Conv2d(18, 6, kernel_size=(3, 3), stride=(1, 1), padding=(1, 1))\n",
       "        )\n",
       "        (silu2): SiLU()\n",
       "        (linear1): Linear(\n",
       "          (linear): Linear(in_features=12, out_features=6, bias=True)\n",
       "        )\n",
       "        (gn2): GroupNorm(\n",
       "          (group_norm): GroupNorm(3, 6, eps=1e-05, affine=True)\n",
       "        )\n",
       "        (silu3): SiLU()\n",
       "        (dropout): Dropout(p=0.0, inplace=False)\n",
       "        (conv2): Conv2d(\n",
       "          (conv): Conv2d(6, 6, kernel_size=(3, 3), stride=(1, 1), padding=(1, 1))\n",
       "        )\n",
       "        (linear2): Linear(\n",
       "          (linear): Linear(in_features=18, out_features=6, bias=True)\n",
       "        )\n",
       "      )\n",
       "      (21-22): 2 x WideResNetBlock(\n",
       "        (gn1): GroupNorm(\n",
       "          (group_norm): GroupNorm(3, 12, eps=1e-05, affine=True)\n",
       "        )\n",
       "        (silu1): SiLU()\n",
       "        (conv1): Conv2d(\n",
       "          (conv): Conv2d(12, 6, kernel_size=(3, 3), stride=(1, 1), padding=(1, 1))\n",
       "        )\n",
       "        (silu2): SiLU()\n",
       "        (linear1): Linear(\n",
       "          (linear): Linear(in_features=12, out_features=6, bias=True)\n",
       "        )\n",
       "        (gn2): GroupNorm(\n",
       "          (group_norm): GroupNorm(3, 6, eps=1e-05, affine=True)\n",
       "        )\n",
       "        (silu3): SiLU()\n",
       "        (dropout): Dropout(p=0.0, inplace=False)\n",
       "        (conv2): Conv2d(\n",
       "          (conv): Conv2d(6, 6, kernel_size=(3, 3), stride=(1, 1), padding=(1, 1))\n",
       "        )\n",
       "        (linear2): Linear(\n",
       "          (linear): Linear(in_features=12, out_features=6, bias=True)\n",
       "        )\n",
       "      )\n",
       "      (23): WideResNetBlock(\n",
       "        (gn1): GroupNorm(\n",
       "          (group_norm): GroupNorm(3, 9, eps=1e-05, affine=True)\n",
       "        )\n",
       "        (silu1): SiLU()\n",
       "        (conv1): Conv2d(\n",
       "          (conv): Conv2d(9, 6, kernel_size=(3, 3), stride=(1, 1), padding=(1, 1))\n",
       "        )\n",
       "        (silu2): SiLU()\n",
       "        (linear1): Linear(\n",
       "          (linear): Linear(in_features=12, out_features=6, bias=True)\n",
       "        )\n",
       "        (gn2): GroupNorm(\n",
       "          (group_norm): GroupNorm(3, 6, eps=1e-05, affine=True)\n",
       "        )\n",
       "        (silu3): SiLU()\n",
       "        (dropout): Dropout(p=0.0, inplace=False)\n",
       "        (conv2): Conv2d(\n",
       "          (conv): Conv2d(6, 6, kernel_size=(3, 3), stride=(1, 1), padding=(1, 1))\n",
       "        )\n",
       "        (linear2): Linear(\n",
       "          (linear): Linear(in_features=9, out_features=6, bias=True)\n",
       "        )\n",
       "      )\n",
       "      (24): UpBlock(\n",
       "        (upsample): Upsample(scale_factor=2.0, mode='nearest')\n",
       "        (conv): Conv2d(\n",
       "          (conv): Conv2d(6, 6, kernel_size=(3, 3), stride=(1, 1), padding=(1, 1))\n",
       "        )\n",
       "      )\n",
       "      (25): WideResNetBlock(\n",
       "        (gn1): GroupNorm(\n",
       "          (group_norm): GroupNorm(3, 9, eps=1e-05, affine=True)\n",
       "        )\n",
       "        (silu1): SiLU()\n",
       "        (conv1): Conv2d(\n",
       "          (conv): Conv2d(9, 3, kernel_size=(3, 3), stride=(1, 1), padding=(1, 1))\n",
       "        )\n",
       "        (silu2): SiLU()\n",
       "        (linear1): Linear(\n",
       "          (linear): Linear(in_features=12, out_features=3, bias=True)\n",
       "        )\n",
       "        (gn2): GroupNorm(\n",
       "          (group_norm): GroupNorm(3, 3, eps=1e-05, affine=True)\n",
       "        )\n",
       "        (silu3): SiLU()\n",
       "        (dropout): Dropout(p=0.0, inplace=False)\n",
       "        (conv2): Conv2d(\n",
       "          (conv): Conv2d(3, 3, kernel_size=(3, 3), stride=(1, 1), padding=(1, 1))\n",
       "        )\n",
       "        (linear2): Linear(\n",
       "          (linear): Linear(in_features=9, out_features=3, bias=True)\n",
       "        )\n",
       "      )\n",
       "      (26-28): 3 x WideResNetBlock(\n",
       "        (gn1): GroupNorm(\n",
       "          (group_norm): GroupNorm(3, 6, eps=1e-05, affine=True)\n",
       "        )\n",
       "        (silu1): SiLU()\n",
       "        (conv1): Conv2d(\n",
       "          (conv): Conv2d(6, 3, kernel_size=(3, 3), stride=(1, 1), padding=(1, 1))\n",
       "        )\n",
       "        (silu2): SiLU()\n",
       "        (linear1): Linear(\n",
       "          (linear): Linear(in_features=12, out_features=3, bias=True)\n",
       "        )\n",
       "        (gn2): GroupNorm(\n",
       "          (group_norm): GroupNorm(3, 3, eps=1e-05, affine=True)\n",
       "        )\n",
       "        (silu3): SiLU()\n",
       "        (dropout): Dropout(p=0.0, inplace=False)\n",
       "        (conv2): Conv2d(\n",
       "          (conv): Conv2d(3, 3, kernel_size=(3, 3), stride=(1, 1), padding=(1, 1))\n",
       "        )\n",
       "        (linear2): Linear(\n",
       "          (linear): Linear(in_features=6, out_features=3, bias=True)\n",
       "        )\n",
       "      )\n",
       "    )\n",
       "    (gn): GroupNorm(\n",
       "      (group_norm): GroupNorm(3, 3, eps=1e-05, affine=True)\n",
       "    )\n",
       "    (silu): SiLU()\n",
       "    (conv2): Conv2d(\n",
       "      (conv): Conv2d(3, 3, kernel_size=(3, 3), stride=(1, 1), padding=(1, 1))\n",
       "    )\n",
       "  )\n",
       ")"
      ]
     },
     "execution_count": 9,
     "metadata": {},
     "output_type": "execute_result"
    }
   ],
   "execution_count": 9
  },
  {
   "metadata": {
    "ExecuteTime": {
     "end_time": "2024-05-09T10:38:54.301844Z",
     "start_time": "2024-05-09T10:38:54.296496Z"
    }
   },
   "cell_type": "code",
   "source": [
    "optimizer = torch.optim.Adam(SR3_model.parameters(), lr=hyperparams[\"lr\"])\n",
    "scheduler = torch.optim.lr_scheduler.StepLR(optimizer, step_size=hyperparams[\"decay_steps\"], gamma=hyperparams[\"gamma\"])"
   ],
   "id": "8de1ea6ba92768e5",
   "outputs": [],
   "execution_count": 10
  },
  {
   "metadata": {
    "ExecuteTime": {
     "end_time": "2024-05-09T11:21:14.385704Z",
     "start_time": "2024-05-09T10:38:54.301844Z"
    }
   },
   "cell_type": "code",
   "source": [
    "project_name = \"SR model benchmarking\"\n",
    "run_name = \"SR3\"\n",
    "wandb.login()\n",
    "wandb.init(project=project_name, config=hyperparams, name=run_name)\n",
    "\n",
    "trainer = SR3Trainer(metrics_used=[\"ssim\", \"psnr\"], model_name=\"SR3\")\n",
    "trainer.set_model(SR3_model)\n",
    "trainer.set_optimizer(optimizer)\n",
    "trainer.set_scheduler(scheduler)\n",
    "for step in range(hyperparams[\"epochs\"]):\n",
    "    train_loss = trainer.train(train_dataloader)\n",
    "    torch.cuda.empty_cache()\n",
    "    print(train_loss)\n",
    "    trainer.save_model(\"models_state_dic\")\n",
    "    with torch.no_grad():\n",
    "        val_loss = trainer.validate(val_dataloader)\n",
    "    torch.cuda.empty_cache()\n",
    "    wandb.log({\"train_loss\": train_loss, \"validation_loss\": val_loss})\n",
    "    \n",
    "test_metrics = trainer.test(test_dataloader)\n",
    "wandb.log(test_metrics)\n",
    "wandb.finish()  "
   ],
   "id": "50a99affdb90aa21",
   "outputs": [
    {
     "data": {
      "text/plain": [
       "VBox(children=(Label(value='Waiting for wandb.init()...\\r'), FloatProgress(value=0.011277777777932999, max=1.0…"
      ],
      "application/vnd.jupyter.widget-view+json": {
       "version_major": 2,
       "version_minor": 0,
       "model_id": "09c9b7d15509417aabd51ecbb2856bbe"
      }
     },
     "metadata": {},
     "output_type": "display_data"
    },
    {
     "data": {
      "text/plain": [
       "<IPython.core.display.HTML object>"
      ],
      "text/html": [
       "wandb version 0.17.0 is available!  To upgrade, please run:\n",
       " $ pip install wandb --upgrade"
      ]
     },
     "metadata": {},
     "output_type": "display_data"
    },
    {
     "data": {
      "text/plain": [
       "<IPython.core.display.HTML object>"
      ],
      "text/html": [
       "Tracking run with wandb version 0.16.6"
      ]
     },
     "metadata": {},
     "output_type": "display_data"
    },
    {
     "data": {
      "text/plain": [
       "<IPython.core.display.HTML object>"
      ],
      "text/html": [
       "Run data is saved locally in <code>C:\\Users\\adria\\Desktop\\TFG-code\\SR-model-benchmarking\\wandb\\run-20240509_113854-0xm6fppf</code>"
      ]
     },
     "metadata": {},
     "output_type": "display_data"
    },
    {
     "data": {
      "text/plain": [
       "<IPython.core.display.HTML object>"
      ],
      "text/html": [
       "Syncing run <strong><a href='https://wandb.ai/ladoscuro/SR%20model%20benchmarking/runs/0xm6fppf' target=\"_blank\">SR3</a></strong> to <a href='https://wandb.ai/ladoscuro/SR%20model%20benchmarking' target=\"_blank\">Weights & Biases</a> (<a href='https://wandb.me/run' target=\"_blank\">docs</a>)<br/>"
      ]
     },
     "metadata": {},
     "output_type": "display_data"
    },
    {
     "data": {
      "text/plain": [
       "<IPython.core.display.HTML object>"
      ],
      "text/html": [
       " View project at <a href='https://wandb.ai/ladoscuro/SR%20model%20benchmarking' target=\"_blank\">https://wandb.ai/ladoscuro/SR%20model%20benchmarking</a>"
      ]
     },
     "metadata": {},
     "output_type": "display_data"
    },
    {
     "data": {
      "text/plain": [
       "<IPython.core.display.HTML object>"
      ],
      "text/html": [
       " View run at <a href='https://wandb.ai/ladoscuro/SR%20model%20benchmarking/runs/0xm6fppf' target=\"_blank\">https://wandb.ai/ladoscuro/SR%20model%20benchmarking/runs/0xm6fppf</a>"
      ]
     },
     "metadata": {},
     "output_type": "display_data"
    },
    {
     "name": "stderr",
     "output_type": "stream",
     "text": [
      "100%|██████████| 148/148 [00:20<00:00,  7.30batch/s]\n"
     ]
    },
    {
     "name": "stdout",
     "output_type": "stream",
     "text": [
      "tensor(0.7701, device='cuda:0', grad_fn=<DivBackward0>)\n"
     ]
    },
    {
     "name": "stderr",
     "output_type": "stream",
     "text": [
      "100%|██████████| 50/50 [00:04<00:00, 11.98batch/s]\n",
      "100%|██████████| 148/148 [00:19<00:00,  7.41batch/s]\n"
     ]
    },
    {
     "name": "stdout",
     "output_type": "stream",
     "text": [
      "tensor(0.7091, device='cuda:0', grad_fn=<DivBackward0>)\n"
     ]
    },
    {
     "name": "stderr",
     "output_type": "stream",
     "text": [
      "100%|██████████| 50/50 [00:04<00:00, 12.23batch/s]\n",
      "100%|██████████| 148/148 [00:19<00:00,  7.55batch/s]\n"
     ]
    },
    {
     "name": "stdout",
     "output_type": "stream",
     "text": [
      "tensor(0.6470, device='cuda:0', grad_fn=<DivBackward0>)\n"
     ]
    },
    {
     "name": "stderr",
     "output_type": "stream",
     "text": [
      "100%|██████████| 50/50 [00:04<00:00, 12.31batch/s]\n",
      "100%|██████████| 148/148 [00:19<00:00,  7.56batch/s]\n"
     ]
    },
    {
     "name": "stdout",
     "output_type": "stream",
     "text": [
      "tensor(0.5869, device='cuda:0', grad_fn=<DivBackward0>)\n"
     ]
    },
    {
     "name": "stderr",
     "output_type": "stream",
     "text": [
      "100%|██████████| 50/50 [00:04<00:00, 12.31batch/s]\n",
      "100%|██████████| 148/148 [00:19<00:00,  7.52batch/s]\n"
     ]
    },
    {
     "name": "stdout",
     "output_type": "stream",
     "text": [
      "tensor(0.5341, device='cuda:0', grad_fn=<DivBackward0>)\n"
     ]
    },
    {
     "name": "stderr",
     "output_type": "stream",
     "text": [
      "100%|██████████| 50/50 [00:04<00:00, 12.18batch/s]\n",
      "100%|██████████| 148/148 [00:19<00:00,  7.55batch/s]\n"
     ]
    },
    {
     "name": "stdout",
     "output_type": "stream",
     "text": [
      "tensor(0.4859, device='cuda:0', grad_fn=<DivBackward0>)\n"
     ]
    },
    {
     "name": "stderr",
     "output_type": "stream",
     "text": [
      "100%|██████████| 50/50 [00:04<00:00, 12.30batch/s]\n",
      "100%|██████████| 148/148 [00:19<00:00,  7.54batch/s]\n"
     ]
    },
    {
     "name": "stdout",
     "output_type": "stream",
     "text": [
      "tensor(0.4423, device='cuda:0', grad_fn=<DivBackward0>)\n"
     ]
    },
    {
     "name": "stderr",
     "output_type": "stream",
     "text": [
      "100%|██████████| 50/50 [00:04<00:00, 12.26batch/s]\n",
      "100%|██████████| 148/148 [00:19<00:00,  7.54batch/s]\n"
     ]
    },
    {
     "name": "stdout",
     "output_type": "stream",
     "text": [
      "tensor(0.4069, device='cuda:0', grad_fn=<DivBackward0>)\n"
     ]
    },
    {
     "name": "stderr",
     "output_type": "stream",
     "text": [
      "100%|██████████| 50/50 [00:04<00:00, 12.21batch/s]\n",
      "100%|██████████| 148/148 [00:19<00:00,  7.53batch/s]\n"
     ]
    },
    {
     "name": "stdout",
     "output_type": "stream",
     "text": [
      "tensor(0.3779, device='cuda:0', grad_fn=<DivBackward0>)\n"
     ]
    },
    {
     "name": "stderr",
     "output_type": "stream",
     "text": [
      "100%|██████████| 50/50 [00:04<00:00, 12.21batch/s]\n",
      "100%|██████████| 148/148 [00:19<00:00,  7.46batch/s]\n"
     ]
    },
    {
     "name": "stdout",
     "output_type": "stream",
     "text": [
      "tensor(0.3560, device='cuda:0', grad_fn=<DivBackward0>)\n"
     ]
    },
    {
     "name": "stderr",
     "output_type": "stream",
     "text": [
      "100%|██████████| 50/50 [00:04<00:00, 12.28batch/s]\n",
      "100%|██████████| 148/148 [00:19<00:00,  7.59batch/s]\n"
     ]
    },
    {
     "name": "stdout",
     "output_type": "stream",
     "text": [
      "tensor(0.3391, device='cuda:0', grad_fn=<DivBackward0>)\n"
     ]
    },
    {
     "name": "stderr",
     "output_type": "stream",
     "text": [
      "100%|██████████| 50/50 [00:04<00:00, 12.23batch/s]\n",
      "100%|██████████| 148/148 [00:19<00:00,  7.58batch/s]\n"
     ]
    },
    {
     "name": "stdout",
     "output_type": "stream",
     "text": [
      "tensor(0.3247, device='cuda:0', grad_fn=<DivBackward0>)\n"
     ]
    },
    {
     "name": "stderr",
     "output_type": "stream",
     "text": [
      "100%|██████████| 50/50 [00:04<00:00, 12.31batch/s]\n",
      "100%|██████████| 148/148 [00:19<00:00,  7.62batch/s]\n"
     ]
    },
    {
     "name": "stdout",
     "output_type": "stream",
     "text": [
      "tensor(0.3117, device='cuda:0', grad_fn=<DivBackward0>)\n"
     ]
    },
    {
     "name": "stderr",
     "output_type": "stream",
     "text": [
      "100%|██████████| 50/50 [00:04<00:00, 12.20batch/s]\n",
      "100%|██████████| 148/148 [00:19<00:00,  7.61batch/s]\n"
     ]
    },
    {
     "name": "stdout",
     "output_type": "stream",
     "text": [
      "tensor(0.2974, device='cuda:0', grad_fn=<DivBackward0>)\n"
     ]
    },
    {
     "name": "stderr",
     "output_type": "stream",
     "text": [
      "100%|██████████| 50/50 [00:04<00:00, 12.29batch/s]\n",
      "100%|██████████| 148/148 [00:19<00:00,  7.63batch/s]\n"
     ]
    },
    {
     "name": "stdout",
     "output_type": "stream",
     "text": [
      "tensor(0.2830, device='cuda:0', grad_fn=<DivBackward0>)\n"
     ]
    },
    {
     "name": "stderr",
     "output_type": "stream",
     "text": [
      "100%|██████████| 50/50 [00:04<00:00, 12.21batch/s]\n",
      "100%|██████████| 148/148 [00:19<00:00,  7.59batch/s]\n"
     ]
    },
    {
     "name": "stdout",
     "output_type": "stream",
     "text": [
      "tensor(0.2717, device='cuda:0', grad_fn=<DivBackward0>)\n"
     ]
    },
    {
     "name": "stderr",
     "output_type": "stream",
     "text": [
      "100%|██████████| 50/50 [00:04<00:00, 12.21batch/s]\n",
      "100%|██████████| 148/148 [00:19<00:00,  7.57batch/s]\n"
     ]
    },
    {
     "name": "stdout",
     "output_type": "stream",
     "text": [
      "tensor(0.2566, device='cuda:0', grad_fn=<DivBackward0>)\n"
     ]
    },
    {
     "name": "stderr",
     "output_type": "stream",
     "text": [
      "100%|██████████| 50/50 [00:04<00:00, 12.27batch/s]\n",
      "100%|██████████| 148/148 [00:19<00:00,  7.65batch/s]\n"
     ]
    },
    {
     "name": "stdout",
     "output_type": "stream",
     "text": [
      "tensor(0.2433, device='cuda:0', grad_fn=<DivBackward0>)\n"
     ]
    },
    {
     "name": "stderr",
     "output_type": "stream",
     "text": [
      "100%|██████████| 50/50 [00:04<00:00, 12.32batch/s]\n",
      "100%|██████████| 148/148 [00:19<00:00,  7.49batch/s]\n"
     ]
    },
    {
     "name": "stdout",
     "output_type": "stream",
     "text": [
      "tensor(0.2341, device='cuda:0', grad_fn=<DivBackward0>)\n"
     ]
    },
    {
     "name": "stderr",
     "output_type": "stream",
     "text": [
      "100%|██████████| 50/50 [00:04<00:00, 12.22batch/s]\n",
      "100%|██████████| 148/148 [00:19<00:00,  7.56batch/s]\n"
     ]
    },
    {
     "name": "stdout",
     "output_type": "stream",
     "text": [
      "tensor(0.2251, device='cuda:0', grad_fn=<DivBackward0>)\n"
     ]
    },
    {
     "name": "stderr",
     "output_type": "stream",
     "text": [
      "100%|██████████| 50/50 [00:04<00:00, 12.29batch/s]\n",
      "100%|██████████| 148/148 [00:19<00:00,  7.56batch/s]\n"
     ]
    },
    {
     "name": "stdout",
     "output_type": "stream",
     "text": [
      "tensor(0.2160, device='cuda:0', grad_fn=<DivBackward0>)\n"
     ]
    },
    {
     "name": "stderr",
     "output_type": "stream",
     "text": [
      "100%|██████████| 50/50 [00:04<00:00, 12.18batch/s]\n",
      "100%|██████████| 148/148 [00:19<00:00,  7.53batch/s]\n"
     ]
    },
    {
     "name": "stdout",
     "output_type": "stream",
     "text": [
      "tensor(0.2106, device='cuda:0', grad_fn=<DivBackward0>)\n"
     ]
    },
    {
     "name": "stderr",
     "output_type": "stream",
     "text": [
      "100%|██████████| 50/50 [00:04<00:00, 12.24batch/s]\n",
      "100%|██████████| 148/148 [00:19<00:00,  7.56batch/s]\n"
     ]
    },
    {
     "name": "stdout",
     "output_type": "stream",
     "text": [
      "tensor(0.1995, device='cuda:0', grad_fn=<DivBackward0>)\n"
     ]
    },
    {
     "name": "stderr",
     "output_type": "stream",
     "text": [
      "100%|██████████| 50/50 [00:04<00:00, 12.26batch/s]\n",
      "100%|██████████| 148/148 [00:19<00:00,  7.55batch/s]\n"
     ]
    },
    {
     "name": "stdout",
     "output_type": "stream",
     "text": [
      "tensor(0.1941, device='cuda:0', grad_fn=<DivBackward0>)\n"
     ]
    },
    {
     "name": "stderr",
     "output_type": "stream",
     "text": [
      "100%|██████████| 50/50 [00:04<00:00, 12.19batch/s]\n",
      "100%|██████████| 148/148 [00:19<00:00,  7.52batch/s]\n"
     ]
    },
    {
     "name": "stdout",
     "output_type": "stream",
     "text": [
      "tensor(0.1885, device='cuda:0', grad_fn=<DivBackward0>)\n"
     ]
    },
    {
     "name": "stderr",
     "output_type": "stream",
     "text": [
      "100%|██████████| 50/50 [00:04<00:00, 12.14batch/s]\n",
      "100%|██████████| 148/148 [00:19<00:00,  7.56batch/s]\n"
     ]
    },
    {
     "name": "stdout",
     "output_type": "stream",
     "text": [
      "tensor(0.1815, device='cuda:0', grad_fn=<DivBackward0>)\n"
     ]
    },
    {
     "name": "stderr",
     "output_type": "stream",
     "text": [
      "100%|██████████| 50/50 [00:04<00:00, 12.17batch/s]\n",
      "100%|██████████| 148/148 [00:19<00:00,  7.54batch/s]\n"
     ]
    },
    {
     "name": "stdout",
     "output_type": "stream",
     "text": [
      "tensor(0.1777, device='cuda:0', grad_fn=<DivBackward0>)\n"
     ]
    },
    {
     "name": "stderr",
     "output_type": "stream",
     "text": [
      "100%|██████████| 50/50 [00:04<00:00, 12.22batch/s]\n",
      "100%|██████████| 148/148 [00:19<00:00,  7.49batch/s]\n"
     ]
    },
    {
     "name": "stdout",
     "output_type": "stream",
     "text": [
      "tensor(0.1744, device='cuda:0', grad_fn=<DivBackward0>)\n"
     ]
    },
    {
     "name": "stderr",
     "output_type": "stream",
     "text": [
      "100%|██████████| 50/50 [00:04<00:00, 12.23batch/s]\n",
      "100%|██████████| 148/148 [00:19<00:00,  7.50batch/s]\n"
     ]
    },
    {
     "name": "stdout",
     "output_type": "stream",
     "text": [
      "tensor(0.1706, device='cuda:0', grad_fn=<DivBackward0>)\n"
     ]
    },
    {
     "name": "stderr",
     "output_type": "stream",
     "text": [
      "100%|██████████| 50/50 [00:04<00:00, 12.23batch/s]\n",
      "100%|██████████| 148/148 [00:19<00:00,  7.50batch/s]\n"
     ]
    },
    {
     "name": "stdout",
     "output_type": "stream",
     "text": [
      "tensor(0.1664, device='cuda:0', grad_fn=<DivBackward0>)\n"
     ]
    },
    {
     "name": "stderr",
     "output_type": "stream",
     "text": [
      "100%|██████████| 50/50 [00:04<00:00, 12.33batch/s]\n",
      "100%|██████████| 148/148 [00:19<00:00,  7.52batch/s]\n"
     ]
    },
    {
     "name": "stdout",
     "output_type": "stream",
     "text": [
      "tensor(0.1615, device='cuda:0', grad_fn=<DivBackward0>)\n"
     ]
    },
    {
     "name": "stderr",
     "output_type": "stream",
     "text": [
      "100%|██████████| 50/50 [00:04<00:00, 12.05batch/s]\n",
      "100%|██████████| 148/148 [00:19<00:00,  7.60batch/s]\n"
     ]
    },
    {
     "name": "stdout",
     "output_type": "stream",
     "text": [
      "tensor(0.1597, device='cuda:0', grad_fn=<DivBackward0>)\n"
     ]
    },
    {
     "name": "stderr",
     "output_type": "stream",
     "text": [
      "100%|██████████| 50/50 [00:04<00:00, 12.33batch/s]\n",
      "100%|██████████| 148/148 [00:19<00:00,  7.58batch/s]\n"
     ]
    },
    {
     "name": "stdout",
     "output_type": "stream",
     "text": [
      "tensor(0.1547, device='cuda:0', grad_fn=<DivBackward0>)\n"
     ]
    },
    {
     "name": "stderr",
     "output_type": "stream",
     "text": [
      "100%|██████████| 50/50 [00:04<00:00, 12.27batch/s]\n",
      "100%|██████████| 148/148 [00:19<00:00,  7.59batch/s]\n"
     ]
    },
    {
     "name": "stdout",
     "output_type": "stream",
     "text": [
      "tensor(0.1537, device='cuda:0', grad_fn=<DivBackward0>)\n"
     ]
    },
    {
     "name": "stderr",
     "output_type": "stream",
     "text": [
      "100%|██████████| 50/50 [00:04<00:00, 12.35batch/s]\n",
      "100%|██████████| 148/148 [00:19<00:00,  7.58batch/s]\n"
     ]
    },
    {
     "name": "stdout",
     "output_type": "stream",
     "text": [
      "tensor(0.1509, device='cuda:0', grad_fn=<DivBackward0>)\n"
     ]
    },
    {
     "name": "stderr",
     "output_type": "stream",
     "text": [
      "100%|██████████| 50/50 [00:04<00:00, 12.29batch/s]\n",
      "100%|██████████| 148/148 [00:19<00:00,  7.64batch/s]\n"
     ]
    },
    {
     "name": "stdout",
     "output_type": "stream",
     "text": [
      "tensor(0.1481, device='cuda:0', grad_fn=<DivBackward0>)\n"
     ]
    },
    {
     "name": "stderr",
     "output_type": "stream",
     "text": [
      "100%|██████████| 50/50 [00:04<00:00, 12.29batch/s]\n",
      "100%|██████████| 148/148 [00:19<00:00,  7.62batch/s]\n"
     ]
    },
    {
     "name": "stdout",
     "output_type": "stream",
     "text": [
      "tensor(0.1478, device='cuda:0', grad_fn=<DivBackward0>)\n"
     ]
    },
    {
     "name": "stderr",
     "output_type": "stream",
     "text": [
      "100%|██████████| 50/50 [00:04<00:00, 12.28batch/s]\n",
      "100%|██████████| 148/148 [00:19<00:00,  7.60batch/s]\n"
     ]
    },
    {
     "name": "stdout",
     "output_type": "stream",
     "text": [
      "tensor(0.1439, device='cuda:0', grad_fn=<DivBackward0>)\n"
     ]
    },
    {
     "name": "stderr",
     "output_type": "stream",
     "text": [
      "100%|██████████| 50/50 [00:04<00:00, 12.31batch/s]\n",
      "100%|██████████| 148/148 [00:19<00:00,  7.61batch/s]\n"
     ]
    },
    {
     "name": "stdout",
     "output_type": "stream",
     "text": [
      "tensor(0.1447, device='cuda:0', grad_fn=<DivBackward0>)\n"
     ]
    },
    {
     "name": "stderr",
     "output_type": "stream",
     "text": [
      "100%|██████████| 50/50 [00:04<00:00, 12.30batch/s]\n",
      "100%|██████████| 148/148 [00:19<00:00,  7.56batch/s]\n"
     ]
    },
    {
     "name": "stdout",
     "output_type": "stream",
     "text": [
      "tensor(0.1422, device='cuda:0', grad_fn=<DivBackward0>)\n"
     ]
    },
    {
     "name": "stderr",
     "output_type": "stream",
     "text": [
      "100%|██████████| 50/50 [00:04<00:00, 12.27batch/s]\n",
      "100%|██████████| 148/148 [00:19<00:00,  7.55batch/s]\n"
     ]
    },
    {
     "name": "stdout",
     "output_type": "stream",
     "text": [
      "tensor(0.1416, device='cuda:0', grad_fn=<DivBackward0>)\n"
     ]
    },
    {
     "name": "stderr",
     "output_type": "stream",
     "text": [
      "100%|██████████| 50/50 [00:04<00:00, 12.26batch/s]\n",
      "100%|██████████| 148/148 [00:19<00:00,  7.54batch/s]\n"
     ]
    },
    {
     "name": "stdout",
     "output_type": "stream",
     "text": [
      "tensor(0.1440, device='cuda:0', grad_fn=<DivBackward0>)\n"
     ]
    },
    {
     "name": "stderr",
     "output_type": "stream",
     "text": [
      "100%|██████████| 50/50 [00:04<00:00, 12.35batch/s]\n",
      "100%|██████████| 148/148 [00:19<00:00,  7.65batch/s]\n"
     ]
    },
    {
     "name": "stdout",
     "output_type": "stream",
     "text": [
      "tensor(0.1381, device='cuda:0', grad_fn=<DivBackward0>)\n"
     ]
    },
    {
     "name": "stderr",
     "output_type": "stream",
     "text": [
      "100%|██████████| 50/50 [00:04<00:00, 12.12batch/s]\n",
      "100%|██████████| 148/148 [00:19<00:00,  7.61batch/s]\n"
     ]
    },
    {
     "name": "stdout",
     "output_type": "stream",
     "text": [
      "tensor(0.1336, device='cuda:0', grad_fn=<DivBackward0>)\n"
     ]
    },
    {
     "name": "stderr",
     "output_type": "stream",
     "text": [
      "100%|██████████| 50/50 [00:04<00:00, 12.08batch/s]\n",
      "100%|██████████| 148/148 [00:19<00:00,  7.60batch/s]\n"
     ]
    },
    {
     "name": "stdout",
     "output_type": "stream",
     "text": [
      "tensor(0.1375, device='cuda:0', grad_fn=<DivBackward0>)\n"
     ]
    },
    {
     "name": "stderr",
     "output_type": "stream",
     "text": [
      "100%|██████████| 50/50 [00:04<00:00, 12.19batch/s]\n",
      "100%|██████████| 148/148 [00:19<00:00,  7.61batch/s]\n"
     ]
    },
    {
     "name": "stdout",
     "output_type": "stream",
     "text": [
      "tensor(0.1330, device='cuda:0', grad_fn=<DivBackward0>)\n"
     ]
    },
    {
     "name": "stderr",
     "output_type": "stream",
     "text": [
      "100%|██████████| 50/50 [00:04<00:00, 12.28batch/s]\n",
      "100%|██████████| 148/148 [00:19<00:00,  7.63batch/s]\n"
     ]
    },
    {
     "name": "stdout",
     "output_type": "stream",
     "text": [
      "tensor(0.1331, device='cuda:0', grad_fn=<DivBackward0>)\n"
     ]
    },
    {
     "name": "stderr",
     "output_type": "stream",
     "text": [
      "100%|██████████| 50/50 [00:04<00:00, 12.28batch/s]\n",
      "100%|██████████| 148/148 [00:19<00:00,  7.57batch/s]\n"
     ]
    },
    {
     "name": "stdout",
     "output_type": "stream",
     "text": [
      "tensor(0.1300, device='cuda:0', grad_fn=<DivBackward0>)\n"
     ]
    },
    {
     "name": "stderr",
     "output_type": "stream",
     "text": [
      "100%|██████████| 50/50 [00:04<00:00, 12.30batch/s]\n",
      "100%|██████████| 148/148 [00:19<00:00,  7.62batch/s]\n"
     ]
    },
    {
     "name": "stdout",
     "output_type": "stream",
     "text": [
      "tensor(0.1318, device='cuda:0', grad_fn=<DivBackward0>)\n"
     ]
    },
    {
     "name": "stderr",
     "output_type": "stream",
     "text": [
      "100%|██████████| 50/50 [00:04<00:00, 12.38batch/s]\n",
      "100%|██████████| 148/148 [00:19<00:00,  7.56batch/s]\n"
     ]
    },
    {
     "name": "stdout",
     "output_type": "stream",
     "text": [
      "tensor(0.1312, device='cuda:0', grad_fn=<DivBackward0>)\n"
     ]
    },
    {
     "name": "stderr",
     "output_type": "stream",
     "text": [
      "100%|██████████| 50/50 [00:04<00:00, 12.34batch/s]\n",
      "100%|██████████| 148/148 [00:19<00:00,  7.62batch/s]\n"
     ]
    },
    {
     "name": "stdout",
     "output_type": "stream",
     "text": [
      "tensor(0.1306, device='cuda:0', grad_fn=<DivBackward0>)\n"
     ]
    },
    {
     "name": "stderr",
     "output_type": "stream",
     "text": [
      "100%|██████████| 50/50 [00:04<00:00, 12.25batch/s]\n",
      "100%|██████████| 148/148 [00:19<00:00,  7.61batch/s]\n"
     ]
    },
    {
     "name": "stdout",
     "output_type": "stream",
     "text": [
      "tensor(0.1260, device='cuda:0', grad_fn=<DivBackward0>)\n"
     ]
    },
    {
     "name": "stderr",
     "output_type": "stream",
     "text": [
      "100%|██████████| 50/50 [00:04<00:00, 12.30batch/s]\n",
      "100%|██████████| 148/148 [00:19<00:00,  7.62batch/s]\n"
     ]
    },
    {
     "name": "stdout",
     "output_type": "stream",
     "text": [
      "tensor(0.1271, device='cuda:0', grad_fn=<DivBackward0>)\n"
     ]
    },
    {
     "name": "stderr",
     "output_type": "stream",
     "text": [
      "100%|██████████| 50/50 [00:04<00:00, 12.41batch/s]\n",
      "100%|██████████| 148/148 [00:19<00:00,  7.60batch/s]\n"
     ]
    },
    {
     "name": "stdout",
     "output_type": "stream",
     "text": [
      "tensor(0.1275, device='cuda:0', grad_fn=<DivBackward0>)\n"
     ]
    },
    {
     "name": "stderr",
     "output_type": "stream",
     "text": [
      "100%|██████████| 50/50 [00:04<00:00, 12.29batch/s]\n",
      "100%|██████████| 148/148 [00:19<00:00,  7.62batch/s]\n"
     ]
    },
    {
     "name": "stdout",
     "output_type": "stream",
     "text": [
      "tensor(0.1278, device='cuda:0', grad_fn=<DivBackward0>)\n"
     ]
    },
    {
     "name": "stderr",
     "output_type": "stream",
     "text": [
      "100%|██████████| 50/50 [00:04<00:00, 12.34batch/s]\n",
      "100%|██████████| 148/148 [00:19<00:00,  7.53batch/s]\n"
     ]
    },
    {
     "name": "stdout",
     "output_type": "stream",
     "text": [
      "tensor(0.1240, device='cuda:0', grad_fn=<DivBackward0>)\n"
     ]
    },
    {
     "name": "stderr",
     "output_type": "stream",
     "text": [
      "100%|██████████| 50/50 [00:04<00:00, 12.32batch/s]\n",
      "100%|██████████| 148/148 [00:19<00:00,  7.62batch/s]\n"
     ]
    },
    {
     "name": "stdout",
     "output_type": "stream",
     "text": [
      "tensor(0.1248, device='cuda:0', grad_fn=<DivBackward0>)\n"
     ]
    },
    {
     "name": "stderr",
     "output_type": "stream",
     "text": [
      "100%|██████████| 50/50 [00:04<00:00, 12.43batch/s]\n",
      "100%|██████████| 148/148 [00:19<00:00,  7.56batch/s]\n"
     ]
    },
    {
     "name": "stdout",
     "output_type": "stream",
     "text": [
      "tensor(0.1242, device='cuda:0', grad_fn=<DivBackward0>)\n"
     ]
    },
    {
     "name": "stderr",
     "output_type": "stream",
     "text": [
      "100%|██████████| 50/50 [00:04<00:00, 12.33batch/s]\n",
      "100%|██████████| 148/148 [00:19<00:00,  7.58batch/s]\n"
     ]
    },
    {
     "name": "stdout",
     "output_type": "stream",
     "text": [
      "tensor(0.1239, device='cuda:0', grad_fn=<DivBackward0>)\n"
     ]
    },
    {
     "name": "stderr",
     "output_type": "stream",
     "text": [
      "100%|██████████| 50/50 [00:04<00:00, 12.32batch/s]\n",
      "100%|██████████| 148/148 [00:19<00:00,  7.60batch/s]\n"
     ]
    },
    {
     "name": "stdout",
     "output_type": "stream",
     "text": [
      "tensor(0.1215, device='cuda:0', grad_fn=<DivBackward0>)\n"
     ]
    },
    {
     "name": "stderr",
     "output_type": "stream",
     "text": [
      "100%|██████████| 50/50 [00:04<00:00, 12.36batch/s]\n",
      "100%|██████████| 148/148 [00:19<00:00,  7.62batch/s]\n"
     ]
    },
    {
     "name": "stdout",
     "output_type": "stream",
     "text": [
      "tensor(0.1237, device='cuda:0', grad_fn=<DivBackward0>)\n"
     ]
    },
    {
     "name": "stderr",
     "output_type": "stream",
     "text": [
      "100%|██████████| 50/50 [00:04<00:00, 12.39batch/s]\n",
      "100%|██████████| 148/148 [00:19<00:00,  7.60batch/s]\n"
     ]
    },
    {
     "name": "stdout",
     "output_type": "stream",
     "text": [
      "tensor(0.1226, device='cuda:0', grad_fn=<DivBackward0>)\n"
     ]
    },
    {
     "name": "stderr",
     "output_type": "stream",
     "text": [
      "100%|██████████| 50/50 [00:04<00:00, 12.18batch/s]\n",
      "100%|██████████| 148/148 [00:19<00:00,  7.58batch/s]\n"
     ]
    },
    {
     "name": "stdout",
     "output_type": "stream",
     "text": [
      "tensor(0.1201, device='cuda:0', grad_fn=<DivBackward0>)\n"
     ]
    },
    {
     "name": "stderr",
     "output_type": "stream",
     "text": [
      "100%|██████████| 50/50 [00:04<00:00, 12.24batch/s]\n",
      "100%|██████████| 148/148 [00:19<00:00,  7.59batch/s]\n"
     ]
    },
    {
     "name": "stdout",
     "output_type": "stream",
     "text": [
      "tensor(0.1239, device='cuda:0', grad_fn=<DivBackward0>)\n"
     ]
    },
    {
     "name": "stderr",
     "output_type": "stream",
     "text": [
      "100%|██████████| 50/50 [00:04<00:00, 12.30batch/s]\n",
      "100%|██████████| 148/148 [00:19<00:00,  7.57batch/s]\n"
     ]
    },
    {
     "name": "stdout",
     "output_type": "stream",
     "text": [
      "tensor(0.1194, device='cuda:0', grad_fn=<DivBackward0>)\n"
     ]
    },
    {
     "name": "stderr",
     "output_type": "stream",
     "text": [
      "100%|██████████| 50/50 [00:04<00:00, 12.26batch/s]\n",
      "100%|██████████| 148/148 [00:19<00:00,  7.59batch/s]\n"
     ]
    },
    {
     "name": "stdout",
     "output_type": "stream",
     "text": [
      "tensor(0.1191, device='cuda:0', grad_fn=<DivBackward0>)\n"
     ]
    },
    {
     "name": "stderr",
     "output_type": "stream",
     "text": [
      "100%|██████████| 50/50 [00:04<00:00, 12.23batch/s]\n",
      "100%|██████████| 148/148 [00:19<00:00,  7.60batch/s]\n"
     ]
    },
    {
     "name": "stdout",
     "output_type": "stream",
     "text": [
      "tensor(0.1218, device='cuda:0', grad_fn=<DivBackward0>)\n"
     ]
    },
    {
     "name": "stderr",
     "output_type": "stream",
     "text": [
      "100%|██████████| 50/50 [00:04<00:00, 12.28batch/s]\n",
      "100%|██████████| 148/148 [00:19<00:00,  7.63batch/s]\n"
     ]
    },
    {
     "name": "stdout",
     "output_type": "stream",
     "text": [
      "tensor(0.1184, device='cuda:0', grad_fn=<DivBackward0>)\n"
     ]
    },
    {
     "name": "stderr",
     "output_type": "stream",
     "text": [
      "100%|██████████| 50/50 [00:04<00:00, 12.41batch/s]\n",
      "100%|██████████| 148/148 [00:19<00:00,  7.58batch/s]\n"
     ]
    },
    {
     "name": "stdout",
     "output_type": "stream",
     "text": [
      "tensor(0.1193, device='cuda:0', grad_fn=<DivBackward0>)\n"
     ]
    },
    {
     "name": "stderr",
     "output_type": "stream",
     "text": [
      "100%|██████████| 50/50 [00:04<00:00, 12.32batch/s]\n",
      "100%|██████████| 148/148 [00:19<00:00,  7.61batch/s]\n"
     ]
    },
    {
     "name": "stdout",
     "output_type": "stream",
     "text": [
      "tensor(0.1172, device='cuda:0', grad_fn=<DivBackward0>)\n"
     ]
    },
    {
     "name": "stderr",
     "output_type": "stream",
     "text": [
      "100%|██████████| 50/50 [00:04<00:00, 12.30batch/s]\n",
      "100%|██████████| 148/148 [00:19<00:00,  7.56batch/s]\n"
     ]
    },
    {
     "name": "stdout",
     "output_type": "stream",
     "text": [
      "tensor(0.1166, device='cuda:0', grad_fn=<DivBackward0>)\n"
     ]
    },
    {
     "name": "stderr",
     "output_type": "stream",
     "text": [
      "100%|██████████| 50/50 [00:04<00:00, 12.35batch/s]\n",
      "100%|██████████| 148/148 [00:19<00:00,  7.58batch/s]\n"
     ]
    },
    {
     "name": "stdout",
     "output_type": "stream",
     "text": [
      "tensor(0.1197, device='cuda:0', grad_fn=<DivBackward0>)\n"
     ]
    },
    {
     "name": "stderr",
     "output_type": "stream",
     "text": [
      "100%|██████████| 50/50 [00:04<00:00, 12.34batch/s]\n",
      "100%|██████████| 148/148 [00:19<00:00,  7.57batch/s]\n"
     ]
    },
    {
     "name": "stdout",
     "output_type": "stream",
     "text": [
      "tensor(0.1159, device='cuda:0', grad_fn=<DivBackward0>)\n"
     ]
    },
    {
     "name": "stderr",
     "output_type": "stream",
     "text": [
      "100%|██████████| 50/50 [00:04<00:00, 12.37batch/s]\n",
      "100%|██████████| 148/148 [00:19<00:00,  7.65batch/s]\n"
     ]
    },
    {
     "name": "stdout",
     "output_type": "stream",
     "text": [
      "tensor(0.1186, device='cuda:0', grad_fn=<DivBackward0>)\n"
     ]
    },
    {
     "name": "stderr",
     "output_type": "stream",
     "text": [
      "100%|██████████| 50/50 [00:04<00:00, 12.21batch/s]\n",
      "100%|██████████| 148/148 [00:19<00:00,  7.60batch/s]\n"
     ]
    },
    {
     "name": "stdout",
     "output_type": "stream",
     "text": [
      "tensor(0.1196, device='cuda:0', grad_fn=<DivBackward0>)\n"
     ]
    },
    {
     "name": "stderr",
     "output_type": "stream",
     "text": [
      "100%|██████████| 50/50 [00:04<00:00, 12.38batch/s]\n",
      "100%|██████████| 148/148 [00:19<00:00,  7.59batch/s]\n"
     ]
    },
    {
     "name": "stdout",
     "output_type": "stream",
     "text": [
      "tensor(0.1147, device='cuda:0', grad_fn=<DivBackward0>)\n"
     ]
    },
    {
     "name": "stderr",
     "output_type": "stream",
     "text": [
      "100%|██████████| 50/50 [00:04<00:00, 12.24batch/s]\n",
      "100%|██████████| 148/148 [00:19<00:00,  7.64batch/s]\n"
     ]
    },
    {
     "name": "stdout",
     "output_type": "stream",
     "text": [
      "tensor(0.1144, device='cuda:0', grad_fn=<DivBackward0>)\n"
     ]
    },
    {
     "name": "stderr",
     "output_type": "stream",
     "text": [
      "100%|██████████| 50/50 [00:04<00:00, 12.37batch/s]\n",
      "100%|██████████| 148/148 [00:19<00:00,  7.63batch/s]\n"
     ]
    },
    {
     "name": "stdout",
     "output_type": "stream",
     "text": [
      "tensor(0.1172, device='cuda:0', grad_fn=<DivBackward0>)\n"
     ]
    },
    {
     "name": "stderr",
     "output_type": "stream",
     "text": [
      "100%|██████████| 50/50 [00:04<00:00, 12.41batch/s]\n",
      "100%|██████████| 148/148 [00:19<00:00,  7.57batch/s]\n"
     ]
    },
    {
     "name": "stdout",
     "output_type": "stream",
     "text": [
      "tensor(0.1123, device='cuda:0', grad_fn=<DivBackward0>)\n"
     ]
    },
    {
     "name": "stderr",
     "output_type": "stream",
     "text": [
      "100%|██████████| 50/50 [00:04<00:00, 12.37batch/s]\n",
      "100%|██████████| 148/148 [00:19<00:00,  7.63batch/s]\n"
     ]
    },
    {
     "name": "stdout",
     "output_type": "stream",
     "text": [
      "tensor(0.1131, device='cuda:0', grad_fn=<DivBackward0>)\n"
     ]
    },
    {
     "name": "stderr",
     "output_type": "stream",
     "text": [
      "100%|██████████| 50/50 [00:04<00:00, 12.28batch/s]\n",
      "100%|██████████| 148/148 [00:19<00:00,  7.63batch/s]\n"
     ]
    },
    {
     "name": "stdout",
     "output_type": "stream",
     "text": [
      "tensor(0.1118, device='cuda:0', grad_fn=<DivBackward0>)\n"
     ]
    },
    {
     "name": "stderr",
     "output_type": "stream",
     "text": [
      "100%|██████████| 50/50 [00:04<00:00, 12.40batch/s]\n",
      "100%|██████████| 148/148 [00:19<00:00,  7.69batch/s]\n"
     ]
    },
    {
     "name": "stdout",
     "output_type": "stream",
     "text": [
      "tensor(0.1116, device='cuda:0', grad_fn=<DivBackward0>)\n"
     ]
    },
    {
     "name": "stderr",
     "output_type": "stream",
     "text": [
      "100%|██████████| 50/50 [00:04<00:00, 12.37batch/s]\n",
      "100%|██████████| 148/148 [00:19<00:00,  7.65batch/s]\n"
     ]
    },
    {
     "name": "stdout",
     "output_type": "stream",
     "text": [
      "tensor(0.1111, device='cuda:0', grad_fn=<DivBackward0>)\n"
     ]
    },
    {
     "name": "stderr",
     "output_type": "stream",
     "text": [
      "100%|██████████| 50/50 [00:04<00:00, 12.34batch/s]\n",
      "100%|██████████| 148/148 [00:19<00:00,  7.65batch/s]\n"
     ]
    },
    {
     "name": "stdout",
     "output_type": "stream",
     "text": [
      "tensor(0.1135, device='cuda:0', grad_fn=<DivBackward0>)\n"
     ]
    },
    {
     "name": "stderr",
     "output_type": "stream",
     "text": [
      "100%|██████████| 50/50 [00:04<00:00, 12.28batch/s]\n",
      "100%|██████████| 148/148 [00:19<00:00,  7.66batch/s]\n"
     ]
    },
    {
     "name": "stdout",
     "output_type": "stream",
     "text": [
      "tensor(0.1116, device='cuda:0', grad_fn=<DivBackward0>)\n"
     ]
    },
    {
     "name": "stderr",
     "output_type": "stream",
     "text": [
      "100%|██████████| 50/50 [00:04<00:00, 12.32batch/s]\n",
      "100%|██████████| 148/148 [00:19<00:00,  7.58batch/s]\n"
     ]
    },
    {
     "name": "stdout",
     "output_type": "stream",
     "text": [
      "tensor(0.1132, device='cuda:0', grad_fn=<DivBackward0>)\n"
     ]
    },
    {
     "name": "stderr",
     "output_type": "stream",
     "text": [
      "100%|██████████| 50/50 [00:04<00:00, 12.37batch/s]\n",
      "100%|██████████| 148/148 [00:19<00:00,  7.68batch/s]\n"
     ]
    },
    {
     "name": "stdout",
     "output_type": "stream",
     "text": [
      "tensor(0.1096, device='cuda:0', grad_fn=<DivBackward0>)\n"
     ]
    },
    {
     "name": "stderr",
     "output_type": "stream",
     "text": [
      "100%|██████████| 50/50 [00:04<00:00, 12.31batch/s]\n",
      "100%|██████████| 148/148 [00:19<00:00,  7.64batch/s]\n"
     ]
    },
    {
     "name": "stdout",
     "output_type": "stream",
     "text": [
      "tensor(0.1101, device='cuda:0', grad_fn=<DivBackward0>)\n"
     ]
    },
    {
     "name": "stderr",
     "output_type": "stream",
     "text": [
      "100%|██████████| 50/50 [00:04<00:00, 12.31batch/s]\n",
      "100%|██████████| 148/148 [00:19<00:00,  7.61batch/s]\n"
     ]
    },
    {
     "name": "stdout",
     "output_type": "stream",
     "text": [
      "tensor(0.1096, device='cuda:0', grad_fn=<DivBackward0>)\n"
     ]
    },
    {
     "name": "stderr",
     "output_type": "stream",
     "text": [
      "100%|██████████| 50/50 [00:04<00:00, 12.25batch/s]\n",
      "100%|██████████| 148/148 [00:19<00:00,  7.65batch/s]\n"
     ]
    },
    {
     "name": "stdout",
     "output_type": "stream",
     "text": [
      "tensor(0.1105, device='cuda:0', grad_fn=<DivBackward0>)\n"
     ]
    },
    {
     "name": "stderr",
     "output_type": "stream",
     "text": [
      "100%|██████████| 50/50 [00:04<00:00, 12.29batch/s]\n",
      "100%|██████████| 148/148 [00:19<00:00,  7.63batch/s]\n"
     ]
    },
    {
     "name": "stdout",
     "output_type": "stream",
     "text": [
      "tensor(0.1082, device='cuda:0', grad_fn=<DivBackward0>)\n"
     ]
    },
    {
     "name": "stderr",
     "output_type": "stream",
     "text": [
      "100%|██████████| 50/50 [00:04<00:00, 12.46batch/s]\n",
      "100%|██████████| 148/148 [00:19<00:00,  7.66batch/s]\n"
     ]
    },
    {
     "name": "stdout",
     "output_type": "stream",
     "text": [
      "tensor(0.1123, device='cuda:0', grad_fn=<DivBackward0>)\n"
     ]
    },
    {
     "name": "stderr",
     "output_type": "stream",
     "text": [
      "100%|██████████| 50/50 [00:04<00:00, 12.20batch/s]\n",
      "100%|██████████| 148/148 [00:19<00:00,  7.64batch/s]\n"
     ]
    },
    {
     "name": "stdout",
     "output_type": "stream",
     "text": [
      "tensor(0.1090, device='cuda:0', grad_fn=<DivBackward0>)\n"
     ]
    },
    {
     "name": "stderr",
     "output_type": "stream",
     "text": [
      "100%|██████████| 50/50 [00:04<00:00, 12.35batch/s]\n",
      "100%|██████████| 148/148 [00:19<00:00,  7.57batch/s]\n"
     ]
    },
    {
     "name": "stdout",
     "output_type": "stream",
     "text": [
      "tensor(0.1112, device='cuda:0', grad_fn=<DivBackward0>)\n"
     ]
    },
    {
     "name": "stderr",
     "output_type": "stream",
     "text": [
      "100%|██████████| 50/50 [00:04<00:00, 12.26batch/s]\n",
      "100%|██████████| 148/148 [00:19<00:00,  7.64batch/s]\n"
     ]
    },
    {
     "name": "stdout",
     "output_type": "stream",
     "text": [
      "tensor(0.1086, device='cuda:0', grad_fn=<DivBackward0>)\n"
     ]
    },
    {
     "name": "stderr",
     "output_type": "stream",
     "text": [
      "100%|██████████| 50/50 [00:04<00:00, 12.27batch/s]\n",
      "100%|██████████| 148/148 [00:19<00:00,  7.62batch/s]\n"
     ]
    },
    {
     "name": "stdout",
     "output_type": "stream",
     "text": [
      "tensor(0.1074, device='cuda:0', grad_fn=<DivBackward0>)\n"
     ]
    },
    {
     "name": "stderr",
     "output_type": "stream",
     "text": [
      "100%|██████████| 50/50 [00:04<00:00, 12.38batch/s]\n",
      "100%|██████████| 148/148 [00:19<00:00,  7.63batch/s]\n"
     ]
    },
    {
     "name": "stdout",
     "output_type": "stream",
     "text": [
      "tensor(0.1076, device='cuda:0', grad_fn=<DivBackward0>)\n"
     ]
    },
    {
     "name": "stderr",
     "output_type": "stream",
     "text": [
      "100%|██████████| 50/50 [00:04<00:00, 12.30batch/s]\n",
      "100%|██████████| 148/148 [00:19<00:00,  7.63batch/s]\n"
     ]
    },
    {
     "name": "stdout",
     "output_type": "stream",
     "text": [
      "tensor(0.1082, device='cuda:0', grad_fn=<DivBackward0>)\n"
     ]
    },
    {
     "name": "stderr",
     "output_type": "stream",
     "text": [
      "100%|██████████| 50/50 [00:04<00:00, 12.36batch/s]\n",
      "100%|██████████| 148/148 [00:19<00:00,  7.65batch/s]\n"
     ]
    },
    {
     "name": "stdout",
     "output_type": "stream",
     "text": [
      "tensor(0.1074, device='cuda:0', grad_fn=<DivBackward0>)\n"
     ]
    },
    {
     "name": "stderr",
     "output_type": "stream",
     "text": [
      "100%|██████████| 50/50 [00:04<00:00, 12.15batch/s]\n",
      "100%|██████████| 148/148 [00:19<00:00,  7.63batch/s]\n"
     ]
    },
    {
     "name": "stdout",
     "output_type": "stream",
     "text": [
      "tensor(0.1070, device='cuda:0', grad_fn=<DivBackward0>)\n"
     ]
    },
    {
     "name": "stderr",
     "output_type": "stream",
     "text": [
      "100%|██████████| 50/50 [00:04<00:00, 12.36batch/s]\n",
      "100%|██████████| 50/50 [02:39<00:00,  3.20s/batch]\n"
     ]
    },
    {
     "data": {
      "text/plain": [
       "VBox(children=(Label(value='0.001 MB of 0.001 MB uploaded\\r'), FloatProgress(value=1.0, max=1.0)))"
      ],
      "application/vnd.jupyter.widget-view+json": {
       "version_major": 2,
       "version_minor": 0,
       "model_id": "b3086035fb764cfe857dc50b3ca4be64"
      }
     },
     "metadata": {},
     "output_type": "display_data"
    },
    {
     "data": {
      "text/plain": [
       "<IPython.core.display.HTML object>"
      ],
      "text/html": [
       "<style>\n",
       "    table.wandb td:nth-child(1) { padding: 0 10px; text-align: left ; width: auto;} td:nth-child(2) {text-align: left ; width: 100%}\n",
       "    .wandb-row { display: flex; flex-direction: row; flex-wrap: wrap; justify-content: flex-start; width: 100% }\n",
       "    .wandb-col { display: flex; flex-direction: column; flex-basis: 100%; flex: 1; padding: 10px; }\n",
       "    </style>\n",
       "<div class=\"wandb-row\"><div class=\"wandb-col\"><h3>Run history:</h3><br/><table class=\"wandb\"><tr><td>psnr</td><td>▁</td></tr><tr><td>ssim</td><td>▁</td></tr><tr><td>train_loss</td><td>█▇▅▄▃▃▃▂▂▂▂▂▂▁▁▁▁▁▁▁▁▁▁▁▁▁▁▁▁▁▁▁▁▁▁▁▁▁▁▁</td></tr><tr><td>validation_loss</td><td>█▇▅▄▄▃▃▂▂▂▂▂▂▂▁▁▁▁▁▁▁▁▁▁▁▁▁▁▁▁▁▁▁▁▁▁▁▁▁▁</td></tr></table><br/></div><div class=\"wandb-col\"><h3>Run summary:</h3><br/><table class=\"wandb\"><tr><td>psnr</td><td>7.38325</td></tr><tr><td>ssim</td><td>0.02394</td></tr><tr><td>train_loss</td><td>0.10705</td></tr><tr><td>validation_loss</td><td>0.10943</td></tr></table><br/></div></div>"
      ]
     },
     "metadata": {},
     "output_type": "display_data"
    },
    {
     "data": {
      "text/plain": [
       "<IPython.core.display.HTML object>"
      ],
      "text/html": [
       " View run <strong style=\"color:#cdcd00\">SR3</strong> at: <a href='https://wandb.ai/ladoscuro/SR%20model%20benchmarking/runs/0xm6fppf' target=\"_blank\">https://wandb.ai/ladoscuro/SR%20model%20benchmarking/runs/0xm6fppf</a><br/> View project at: <a href='https://wandb.ai/ladoscuro/SR%20model%20benchmarking' target=\"_blank\">https://wandb.ai/ladoscuro/SR%20model%20benchmarking</a><br/>Synced 5 W&B file(s), 0 media file(s), 0 artifact file(s) and 0 other file(s)"
      ]
     },
     "metadata": {},
     "output_type": "display_data"
    },
    {
     "data": {
      "text/plain": [
       "<IPython.core.display.HTML object>"
      ],
      "text/html": [
       "Find logs at: <code>.\\wandb\\run-20240509_113854-0xm6fppf\\logs</code>"
      ]
     },
     "metadata": {},
     "output_type": "display_data"
    }
   ],
   "execution_count": 11
  },
  {
   "metadata": {},
   "cell_type": "markdown",
   "source": "#### SR3+",
   "id": "169eea58514820d7"
  },
  {
   "metadata": {
    "ExecuteTime": {
     "end_time": "2024-05-09T11:21:14.446858Z",
     "start_time": "2024-05-09T11:21:14.386708Z"
    }
   },
   "cell_type": "code",
   "source": [
    "from models.SR3plus.diffusion import GaussianDiffusion\n",
    "from models.SR3plus.model import UNet\n",
    "hyperparams = {\n",
    "    \"steps\" : 8000,\n",
    "    \"sample_steps\" : 100,\n",
    "    \"lr\":0.0002,\n",
    "    \"epochs\":100,\n",
    "    \"eta_min\":1e-7,\n",
    "    \"decay_steps\": 100000,\n",
    "    \"gamma\" : 0.5,\n",
    "    \"model\" : \"SR3+\"\n",
    "}\n",
    "model = UNet(3, hyperparams[\"steps\"], channel_expansions= [1, 2, 4, 4, 4, 8, 8, 8])\n",
    "SR3plus_model = GaussianDiffusion(model, hyperparams[\"steps\"], hyperparams[\"sample_steps\"])\n",
    "SR3plus_model.to(device)"
   ],
   "id": "9f6bbb6f14180686",
   "outputs": [
    {
     "data": {
      "text/plain": [
       "GaussianDiffusion(\n",
       "  (model): UNet(\n",
       "    (emb): GammaEmbedding(\n",
       "      (linear1): Linear(\n",
       "        (linear): Linear(in_features=3, out_features=12, bias=True)\n",
       "      )\n",
       "      (silu): SiLU()\n",
       "      (linear2): Linear(\n",
       "        (linear): Linear(in_features=12, out_features=12, bias=True)\n",
       "      )\n",
       "    )\n",
       "    (conv1): Conv2d(\n",
       "      (conv): Conv2d(6, 3, kernel_size=(3, 3), stride=(1, 1), padding=(1, 1))\n",
       "    )\n",
       "    (down): ModuleList(\n",
       "      (0-2): 3 x WideResNetBlock(\n",
       "        (gn1): GroupNorm(\n",
       "          (group_norm): GroupNorm(3, 3, eps=1e-05, affine=True)\n",
       "        )\n",
       "        (silu1): SiLU()\n",
       "        (conv1): Conv2d(\n",
       "          (conv): Conv2d(3, 3, kernel_size=(3, 3), stride=(1, 1), padding=(1, 1))\n",
       "        )\n",
       "        (silu2): SiLU()\n",
       "        (linear1): Linear(\n",
       "          (linear): Linear(in_features=12, out_features=3, bias=True)\n",
       "        )\n",
       "        (gn2): GroupNorm(\n",
       "          (group_norm): GroupNorm(3, 3, eps=1e-05, affine=True)\n",
       "        )\n",
       "        (silu3): SiLU()\n",
       "        (dropout): Dropout(p=0.0, inplace=False)\n",
       "        (conv2): Conv2d(\n",
       "          (conv): Conv2d(3, 3, kernel_size=(3, 3), stride=(1, 1), padding=(1, 1))\n",
       "        )\n",
       "      )\n",
       "      (3): DownBlock(\n",
       "        (conv): Conv2d(\n",
       "          (conv): Conv2d(3, 3, kernel_size=(3, 3), stride=(2, 2), padding=(1, 1))\n",
       "        )\n",
       "      )\n",
       "      (4): WideResNetBlock(\n",
       "        (gn1): GroupNorm(\n",
       "          (group_norm): GroupNorm(3, 3, eps=1e-05, affine=True)\n",
       "        )\n",
       "        (silu1): SiLU()\n",
       "        (conv1): Conv2d(\n",
       "          (conv): Conv2d(3, 6, kernel_size=(3, 3), stride=(1, 1), padding=(1, 1))\n",
       "        )\n",
       "        (silu2): SiLU()\n",
       "        (linear1): Linear(\n",
       "          (linear): Linear(in_features=12, out_features=6, bias=True)\n",
       "        )\n",
       "        (gn2): GroupNorm(\n",
       "          (group_norm): GroupNorm(3, 6, eps=1e-05, affine=True)\n",
       "        )\n",
       "        (silu3): SiLU()\n",
       "        (dropout): Dropout(p=0.0, inplace=False)\n",
       "        (conv2): Conv2d(\n",
       "          (conv): Conv2d(6, 6, kernel_size=(3, 3), stride=(1, 1), padding=(1, 1))\n",
       "        )\n",
       "        (linear2): Linear(\n",
       "          (linear): Linear(in_features=3, out_features=6, bias=True)\n",
       "        )\n",
       "      )\n",
       "      (5-6): 2 x WideResNetBlock(\n",
       "        (gn1): GroupNorm(\n",
       "          (group_norm): GroupNorm(3, 6, eps=1e-05, affine=True)\n",
       "        )\n",
       "        (silu1): SiLU()\n",
       "        (conv1): Conv2d(\n",
       "          (conv): Conv2d(6, 6, kernel_size=(3, 3), stride=(1, 1), padding=(1, 1))\n",
       "        )\n",
       "        (silu2): SiLU()\n",
       "        (linear1): Linear(\n",
       "          (linear): Linear(in_features=12, out_features=6, bias=True)\n",
       "        )\n",
       "        (gn2): GroupNorm(\n",
       "          (group_norm): GroupNorm(3, 6, eps=1e-05, affine=True)\n",
       "        )\n",
       "        (silu3): SiLU()\n",
       "        (dropout): Dropout(p=0.0, inplace=False)\n",
       "        (conv2): Conv2d(\n",
       "          (conv): Conv2d(6, 6, kernel_size=(3, 3), stride=(1, 1), padding=(1, 1))\n",
       "        )\n",
       "      )\n",
       "      (7): DownBlock(\n",
       "        (conv): Conv2d(\n",
       "          (conv): Conv2d(6, 6, kernel_size=(3, 3), stride=(2, 2), padding=(1, 1))\n",
       "        )\n",
       "      )\n",
       "      (8): WideResNetBlock(\n",
       "        (gn1): GroupNorm(\n",
       "          (group_norm): GroupNorm(3, 6, eps=1e-05, affine=True)\n",
       "        )\n",
       "        (silu1): SiLU()\n",
       "        (conv1): Conv2d(\n",
       "          (conv): Conv2d(6, 12, kernel_size=(3, 3), stride=(1, 1), padding=(1, 1))\n",
       "        )\n",
       "        (silu2): SiLU()\n",
       "        (linear1): Linear(\n",
       "          (linear): Linear(in_features=12, out_features=12, bias=True)\n",
       "        )\n",
       "        (gn2): GroupNorm(\n",
       "          (group_norm): GroupNorm(3, 12, eps=1e-05, affine=True)\n",
       "        )\n",
       "        (silu3): SiLU()\n",
       "        (dropout): Dropout(p=0.0, inplace=False)\n",
       "        (conv2): Conv2d(\n",
       "          (conv): Conv2d(12, 12, kernel_size=(3, 3), stride=(1, 1), padding=(1, 1))\n",
       "        )\n",
       "        (linear2): Linear(\n",
       "          (linear): Linear(in_features=6, out_features=12, bias=True)\n",
       "        )\n",
       "      )\n",
       "      (9-10): 2 x WideResNetBlock(\n",
       "        (gn1): GroupNorm(\n",
       "          (group_norm): GroupNorm(3, 12, eps=1e-05, affine=True)\n",
       "        )\n",
       "        (silu1): SiLU()\n",
       "        (conv1): Conv2d(\n",
       "          (conv): Conv2d(12, 12, kernel_size=(3, 3), stride=(1, 1), padding=(1, 1))\n",
       "        )\n",
       "        (silu2): SiLU()\n",
       "        (linear1): Linear(\n",
       "          (linear): Linear(in_features=12, out_features=12, bias=True)\n",
       "        )\n",
       "        (gn2): GroupNorm(\n",
       "          (group_norm): GroupNorm(3, 12, eps=1e-05, affine=True)\n",
       "        )\n",
       "        (silu3): SiLU()\n",
       "        (dropout): Dropout(p=0.0, inplace=False)\n",
       "        (conv2): Conv2d(\n",
       "          (conv): Conv2d(12, 12, kernel_size=(3, 3), stride=(1, 1), padding=(1, 1))\n",
       "        )\n",
       "      )\n",
       "      (11): DownBlock(\n",
       "        (conv): Conv2d(\n",
       "          (conv): Conv2d(12, 12, kernel_size=(3, 3), stride=(2, 2), padding=(1, 1))\n",
       "        )\n",
       "      )\n",
       "      (12-14): 3 x WideResNetBlock(\n",
       "        (gn1): GroupNorm(\n",
       "          (group_norm): GroupNorm(3, 12, eps=1e-05, affine=True)\n",
       "        )\n",
       "        (silu1): SiLU()\n",
       "        (conv1): Conv2d(\n",
       "          (conv): Conv2d(12, 12, kernel_size=(3, 3), stride=(1, 1), padding=(1, 1))\n",
       "        )\n",
       "        (silu2): SiLU()\n",
       "        (linear1): Linear(\n",
       "          (linear): Linear(in_features=12, out_features=12, bias=True)\n",
       "        )\n",
       "        (gn2): GroupNorm(\n",
       "          (group_norm): GroupNorm(3, 12, eps=1e-05, affine=True)\n",
       "        )\n",
       "        (silu3): SiLU()\n",
       "        (dropout): Dropout(p=0.0, inplace=False)\n",
       "        (conv2): Conv2d(\n",
       "          (conv): Conv2d(12, 12, kernel_size=(3, 3), stride=(1, 1), padding=(1, 1))\n",
       "        )\n",
       "      )\n",
       "      (15): DownBlock(\n",
       "        (conv): Conv2d(\n",
       "          (conv): Conv2d(12, 12, kernel_size=(3, 3), stride=(2, 2), padding=(1, 1))\n",
       "        )\n",
       "      )\n",
       "      (16-18): 3 x WideResNetBlock(\n",
       "        (gn1): GroupNorm(\n",
       "          (group_norm): GroupNorm(3, 12, eps=1e-05, affine=True)\n",
       "        )\n",
       "        (silu1): SiLU()\n",
       "        (conv1): Conv2d(\n",
       "          (conv): Conv2d(12, 12, kernel_size=(3, 3), stride=(1, 1), padding=(1, 1))\n",
       "        )\n",
       "        (silu2): SiLU()\n",
       "        (linear1): Linear(\n",
       "          (linear): Linear(in_features=12, out_features=12, bias=True)\n",
       "        )\n",
       "        (gn2): GroupNorm(\n",
       "          (group_norm): GroupNorm(3, 12, eps=1e-05, affine=True)\n",
       "        )\n",
       "        (silu3): SiLU()\n",
       "        (dropout): Dropout(p=0.0, inplace=False)\n",
       "        (conv2): Conv2d(\n",
       "          (conv): Conv2d(12, 12, kernel_size=(3, 3), stride=(1, 1), padding=(1, 1))\n",
       "        )\n",
       "      )\n",
       "      (19): DownBlock(\n",
       "        (conv): Conv2d(\n",
       "          (conv): Conv2d(12, 12, kernel_size=(3, 3), stride=(2, 2), padding=(1, 1))\n",
       "        )\n",
       "      )\n",
       "      (20): WideResNetBlock(\n",
       "        (gn1): GroupNorm(\n",
       "          (group_norm): GroupNorm(3, 12, eps=1e-05, affine=True)\n",
       "        )\n",
       "        (silu1): SiLU()\n",
       "        (conv1): Conv2d(\n",
       "          (conv): Conv2d(12, 24, kernel_size=(3, 3), stride=(1, 1), padding=(1, 1))\n",
       "        )\n",
       "        (silu2): SiLU()\n",
       "        (linear1): Linear(\n",
       "          (linear): Linear(in_features=12, out_features=24, bias=True)\n",
       "        )\n",
       "        (gn2): GroupNorm(\n",
       "          (group_norm): GroupNorm(3, 24, eps=1e-05, affine=True)\n",
       "        )\n",
       "        (silu3): SiLU()\n",
       "        (dropout): Dropout(p=0.0, inplace=False)\n",
       "        (conv2): Conv2d(\n",
       "          (conv): Conv2d(24, 24, kernel_size=(3, 3), stride=(1, 1), padding=(1, 1))\n",
       "        )\n",
       "        (linear2): Linear(\n",
       "          (linear): Linear(in_features=12, out_features=24, bias=True)\n",
       "        )\n",
       "      )\n",
       "      (21-22): 2 x WideResNetBlock(\n",
       "        (gn1): GroupNorm(\n",
       "          (group_norm): GroupNorm(3, 24, eps=1e-05, affine=True)\n",
       "        )\n",
       "        (silu1): SiLU()\n",
       "        (conv1): Conv2d(\n",
       "          (conv): Conv2d(24, 24, kernel_size=(3, 3), stride=(1, 1), padding=(1, 1))\n",
       "        )\n",
       "        (silu2): SiLU()\n",
       "        (linear1): Linear(\n",
       "          (linear): Linear(in_features=12, out_features=24, bias=True)\n",
       "        )\n",
       "        (gn2): GroupNorm(\n",
       "          (group_norm): GroupNorm(3, 24, eps=1e-05, affine=True)\n",
       "        )\n",
       "        (silu3): SiLU()\n",
       "        (dropout): Dropout(p=0.0, inplace=False)\n",
       "        (conv2): Conv2d(\n",
       "          (conv): Conv2d(24, 24, kernel_size=(3, 3), stride=(1, 1), padding=(1, 1))\n",
       "        )\n",
       "      )\n",
       "      (23): DownBlock(\n",
       "        (conv): Conv2d(\n",
       "          (conv): Conv2d(24, 24, kernel_size=(3, 3), stride=(2, 2), padding=(1, 1))\n",
       "        )\n",
       "      )\n",
       "      (24-26): 3 x WideResNetBlock(\n",
       "        (gn1): GroupNorm(\n",
       "          (group_norm): GroupNorm(3, 24, eps=1e-05, affine=True)\n",
       "        )\n",
       "        (silu1): SiLU()\n",
       "        (conv1): Conv2d(\n",
       "          (conv): Conv2d(24, 24, kernel_size=(3, 3), stride=(1, 1), padding=(1, 1))\n",
       "        )\n",
       "        (silu2): SiLU()\n",
       "        (linear1): Linear(\n",
       "          (linear): Linear(in_features=12, out_features=24, bias=True)\n",
       "        )\n",
       "        (gn2): GroupNorm(\n",
       "          (group_norm): GroupNorm(3, 24, eps=1e-05, affine=True)\n",
       "        )\n",
       "        (silu3): SiLU()\n",
       "        (dropout): Dropout(p=0.0, inplace=False)\n",
       "        (conv2): Conv2d(\n",
       "          (conv): Conv2d(24, 24, kernel_size=(3, 3), stride=(1, 1), padding=(1, 1))\n",
       "        )\n",
       "      )\n",
       "      (27): DownBlock(\n",
       "        (conv): Conv2d(\n",
       "          (conv): Conv2d(24, 24, kernel_size=(3, 3), stride=(2, 2), padding=(1, 1))\n",
       "        )\n",
       "      )\n",
       "      (28-30): 3 x WideResNetBlock(\n",
       "        (gn1): GroupNorm(\n",
       "          (group_norm): GroupNorm(3, 24, eps=1e-05, affine=True)\n",
       "        )\n",
       "        (silu1): SiLU()\n",
       "        (conv1): Conv2d(\n",
       "          (conv): Conv2d(24, 24, kernel_size=(3, 3), stride=(1, 1), padding=(1, 1))\n",
       "        )\n",
       "        (silu2): SiLU()\n",
       "        (linear1): Linear(\n",
       "          (linear): Linear(in_features=12, out_features=24, bias=True)\n",
       "        )\n",
       "        (gn2): GroupNorm(\n",
       "          (group_norm): GroupNorm(3, 24, eps=1e-05, affine=True)\n",
       "        )\n",
       "        (silu3): SiLU()\n",
       "        (dropout): Dropout(p=0.0, inplace=False)\n",
       "        (conv2): Conv2d(\n",
       "          (conv): Conv2d(24, 24, kernel_size=(3, 3), stride=(1, 1), padding=(1, 1))\n",
       "        )\n",
       "      )\n",
       "    )\n",
       "    (mid): ModuleList(\n",
       "      (0-1): 2 x WideResNetBlock(\n",
       "        (gn1): GroupNorm(\n",
       "          (group_norm): GroupNorm(3, 24, eps=1e-05, affine=True)\n",
       "        )\n",
       "        (silu1): SiLU()\n",
       "        (conv1): Conv2d(\n",
       "          (conv): Conv2d(24, 24, kernel_size=(3, 3), stride=(1, 1), padding=(1, 1))\n",
       "        )\n",
       "        (silu2): SiLU()\n",
       "        (linear1): Linear(\n",
       "          (linear): Linear(in_features=12, out_features=24, bias=True)\n",
       "        )\n",
       "        (gn2): GroupNorm(\n",
       "          (group_norm): GroupNorm(3, 24, eps=1e-05, affine=True)\n",
       "        )\n",
       "        (silu3): SiLU()\n",
       "        (dropout): Dropout(p=0.0, inplace=False)\n",
       "        (conv2): Conv2d(\n",
       "          (conv): Conv2d(24, 24, kernel_size=(3, 3), stride=(1, 1), padding=(1, 1))\n",
       "        )\n",
       "      )\n",
       "    )\n",
       "    (up): ModuleList(\n",
       "      (0-3): 4 x WideResNetBlock(\n",
       "        (gn1): GroupNorm(\n",
       "          (group_norm): GroupNorm(3, 48, eps=1e-05, affine=True)\n",
       "        )\n",
       "        (silu1): SiLU()\n",
       "        (conv1): Conv2d(\n",
       "          (conv): Conv2d(48, 24, kernel_size=(3, 3), stride=(1, 1), padding=(1, 1))\n",
       "        )\n",
       "        (silu2): SiLU()\n",
       "        (linear1): Linear(\n",
       "          (linear): Linear(in_features=12, out_features=24, bias=True)\n",
       "        )\n",
       "        (gn2): GroupNorm(\n",
       "          (group_norm): GroupNorm(3, 24, eps=1e-05, affine=True)\n",
       "        )\n",
       "        (silu3): SiLU()\n",
       "        (dropout): Dropout(p=0.0, inplace=False)\n",
       "        (conv2): Conv2d(\n",
       "          (conv): Conv2d(24, 24, kernel_size=(3, 3), stride=(1, 1), padding=(1, 1))\n",
       "        )\n",
       "        (linear2): Linear(\n",
       "          (linear): Linear(in_features=48, out_features=24, bias=True)\n",
       "        )\n",
       "      )\n",
       "      (4): UpBlock(\n",
       "        (upsample): Upsample(scale_factor=2.0, mode='nearest')\n",
       "        (conv): Conv2d(\n",
       "          (conv): Conv2d(24, 24, kernel_size=(3, 3), stride=(1, 1), padding=(1, 1))\n",
       "        )\n",
       "      )\n",
       "      (5-8): 4 x WideResNetBlock(\n",
       "        (gn1): GroupNorm(\n",
       "          (group_norm): GroupNorm(3, 48, eps=1e-05, affine=True)\n",
       "        )\n",
       "        (silu1): SiLU()\n",
       "        (conv1): Conv2d(\n",
       "          (conv): Conv2d(48, 24, kernel_size=(3, 3), stride=(1, 1), padding=(1, 1))\n",
       "        )\n",
       "        (silu2): SiLU()\n",
       "        (linear1): Linear(\n",
       "          (linear): Linear(in_features=12, out_features=24, bias=True)\n",
       "        )\n",
       "        (gn2): GroupNorm(\n",
       "          (group_norm): GroupNorm(3, 24, eps=1e-05, affine=True)\n",
       "        )\n",
       "        (silu3): SiLU()\n",
       "        (dropout): Dropout(p=0.0, inplace=False)\n",
       "        (conv2): Conv2d(\n",
       "          (conv): Conv2d(24, 24, kernel_size=(3, 3), stride=(1, 1), padding=(1, 1))\n",
       "        )\n",
       "        (linear2): Linear(\n",
       "          (linear): Linear(in_features=48, out_features=24, bias=True)\n",
       "        )\n",
       "      )\n",
       "      (9): UpBlock(\n",
       "        (upsample): Upsample(scale_factor=2.0, mode='nearest')\n",
       "        (conv): Conv2d(\n",
       "          (conv): Conv2d(24, 24, kernel_size=(3, 3), stride=(1, 1), padding=(1, 1))\n",
       "        )\n",
       "      )\n",
       "      (10-12): 3 x WideResNetBlock(\n",
       "        (gn1): GroupNorm(\n",
       "          (group_norm): GroupNorm(3, 48, eps=1e-05, affine=True)\n",
       "        )\n",
       "        (silu1): SiLU()\n",
       "        (conv1): Conv2d(\n",
       "          (conv): Conv2d(48, 24, kernel_size=(3, 3), stride=(1, 1), padding=(1, 1))\n",
       "        )\n",
       "        (silu2): SiLU()\n",
       "        (linear1): Linear(\n",
       "          (linear): Linear(in_features=12, out_features=24, bias=True)\n",
       "        )\n",
       "        (gn2): GroupNorm(\n",
       "          (group_norm): GroupNorm(3, 24, eps=1e-05, affine=True)\n",
       "        )\n",
       "        (silu3): SiLU()\n",
       "        (dropout): Dropout(p=0.0, inplace=False)\n",
       "        (conv2): Conv2d(\n",
       "          (conv): Conv2d(24, 24, kernel_size=(3, 3), stride=(1, 1), padding=(1, 1))\n",
       "        )\n",
       "        (linear2): Linear(\n",
       "          (linear): Linear(in_features=48, out_features=24, bias=True)\n",
       "        )\n",
       "      )\n",
       "      (13): WideResNetBlock(\n",
       "        (gn1): GroupNorm(\n",
       "          (group_norm): GroupNorm(3, 36, eps=1e-05, affine=True)\n",
       "        )\n",
       "        (silu1): SiLU()\n",
       "        (conv1): Conv2d(\n",
       "          (conv): Conv2d(36, 24, kernel_size=(3, 3), stride=(1, 1), padding=(1, 1))\n",
       "        )\n",
       "        (silu2): SiLU()\n",
       "        (linear1): Linear(\n",
       "          (linear): Linear(in_features=12, out_features=24, bias=True)\n",
       "        )\n",
       "        (gn2): GroupNorm(\n",
       "          (group_norm): GroupNorm(3, 24, eps=1e-05, affine=True)\n",
       "        )\n",
       "        (silu3): SiLU()\n",
       "        (dropout): Dropout(p=0.0, inplace=False)\n",
       "        (conv2): Conv2d(\n",
       "          (conv): Conv2d(24, 24, kernel_size=(3, 3), stride=(1, 1), padding=(1, 1))\n",
       "        )\n",
       "        (linear2): Linear(\n",
       "          (linear): Linear(in_features=36, out_features=24, bias=True)\n",
       "        )\n",
       "      )\n",
       "      (14): UpBlock(\n",
       "        (upsample): Upsample(scale_factor=2.0, mode='nearest')\n",
       "        (conv): Conv2d(\n",
       "          (conv): Conv2d(24, 24, kernel_size=(3, 3), stride=(1, 1), padding=(1, 1))\n",
       "        )\n",
       "      )\n",
       "      (15): WideResNetBlock(\n",
       "        (gn1): GroupNorm(\n",
       "          (group_norm): GroupNorm(3, 36, eps=1e-05, affine=True)\n",
       "        )\n",
       "        (silu1): SiLU()\n",
       "        (conv1): Conv2d(\n",
       "          (conv): Conv2d(36, 12, kernel_size=(3, 3), stride=(1, 1), padding=(1, 1))\n",
       "        )\n",
       "        (silu2): SiLU()\n",
       "        (linear1): Linear(\n",
       "          (linear): Linear(in_features=12, out_features=12, bias=True)\n",
       "        )\n",
       "        (gn2): GroupNorm(\n",
       "          (group_norm): GroupNorm(3, 12, eps=1e-05, affine=True)\n",
       "        )\n",
       "        (silu3): SiLU()\n",
       "        (dropout): Dropout(p=0.0, inplace=False)\n",
       "        (conv2): Conv2d(\n",
       "          (conv): Conv2d(12, 12, kernel_size=(3, 3), stride=(1, 1), padding=(1, 1))\n",
       "        )\n",
       "        (linear2): Linear(\n",
       "          (linear): Linear(in_features=36, out_features=12, bias=True)\n",
       "        )\n",
       "      )\n",
       "      (16-18): 3 x WideResNetBlock(\n",
       "        (gn1): GroupNorm(\n",
       "          (group_norm): GroupNorm(3, 24, eps=1e-05, affine=True)\n",
       "        )\n",
       "        (silu1): SiLU()\n",
       "        (conv1): Conv2d(\n",
       "          (conv): Conv2d(24, 12, kernel_size=(3, 3), stride=(1, 1), padding=(1, 1))\n",
       "        )\n",
       "        (silu2): SiLU()\n",
       "        (linear1): Linear(\n",
       "          (linear): Linear(in_features=12, out_features=12, bias=True)\n",
       "        )\n",
       "        (gn2): GroupNorm(\n",
       "          (group_norm): GroupNorm(3, 12, eps=1e-05, affine=True)\n",
       "        )\n",
       "        (silu3): SiLU()\n",
       "        (dropout): Dropout(p=0.0, inplace=False)\n",
       "        (conv2): Conv2d(\n",
       "          (conv): Conv2d(12, 12, kernel_size=(3, 3), stride=(1, 1), padding=(1, 1))\n",
       "        )\n",
       "        (linear2): Linear(\n",
       "          (linear): Linear(in_features=24, out_features=12, bias=True)\n",
       "        )\n",
       "      )\n",
       "      (19): UpBlock(\n",
       "        (upsample): Upsample(scale_factor=2.0, mode='nearest')\n",
       "        (conv): Conv2d(\n",
       "          (conv): Conv2d(12, 12, kernel_size=(3, 3), stride=(1, 1), padding=(1, 1))\n",
       "        )\n",
       "      )\n",
       "      (20-23): 4 x WideResNetBlock(\n",
       "        (gn1): GroupNorm(\n",
       "          (group_norm): GroupNorm(3, 24, eps=1e-05, affine=True)\n",
       "        )\n",
       "        (silu1): SiLU()\n",
       "        (conv1): Conv2d(\n",
       "          (conv): Conv2d(24, 12, kernel_size=(3, 3), stride=(1, 1), padding=(1, 1))\n",
       "        )\n",
       "        (silu2): SiLU()\n",
       "        (linear1): Linear(\n",
       "          (linear): Linear(in_features=12, out_features=12, bias=True)\n",
       "        )\n",
       "        (gn2): GroupNorm(\n",
       "          (group_norm): GroupNorm(3, 12, eps=1e-05, affine=True)\n",
       "        )\n",
       "        (silu3): SiLU()\n",
       "        (dropout): Dropout(p=0.0, inplace=False)\n",
       "        (conv2): Conv2d(\n",
       "          (conv): Conv2d(12, 12, kernel_size=(3, 3), stride=(1, 1), padding=(1, 1))\n",
       "        )\n",
       "        (linear2): Linear(\n",
       "          (linear): Linear(in_features=24, out_features=12, bias=True)\n",
       "        )\n",
       "      )\n",
       "      (24): UpBlock(\n",
       "        (upsample): Upsample(scale_factor=2.0, mode='nearest')\n",
       "        (conv): Conv2d(\n",
       "          (conv): Conv2d(12, 12, kernel_size=(3, 3), stride=(1, 1), padding=(1, 1))\n",
       "        )\n",
       "      )\n",
       "      (25-27): 3 x WideResNetBlock(\n",
       "        (gn1): GroupNorm(\n",
       "          (group_norm): GroupNorm(3, 24, eps=1e-05, affine=True)\n",
       "        )\n",
       "        (silu1): SiLU()\n",
       "        (conv1): Conv2d(\n",
       "          (conv): Conv2d(24, 12, kernel_size=(3, 3), stride=(1, 1), padding=(1, 1))\n",
       "        )\n",
       "        (silu2): SiLU()\n",
       "        (linear1): Linear(\n",
       "          (linear): Linear(in_features=12, out_features=12, bias=True)\n",
       "        )\n",
       "        (gn2): GroupNorm(\n",
       "          (group_norm): GroupNorm(3, 12, eps=1e-05, affine=True)\n",
       "        )\n",
       "        (silu3): SiLU()\n",
       "        (dropout): Dropout(p=0.0, inplace=False)\n",
       "        (conv2): Conv2d(\n",
       "          (conv): Conv2d(12, 12, kernel_size=(3, 3), stride=(1, 1), padding=(1, 1))\n",
       "        )\n",
       "        (linear2): Linear(\n",
       "          (linear): Linear(in_features=24, out_features=12, bias=True)\n",
       "        )\n",
       "      )\n",
       "      (28): WideResNetBlock(\n",
       "        (gn1): GroupNorm(\n",
       "          (group_norm): GroupNorm(3, 18, eps=1e-05, affine=True)\n",
       "        )\n",
       "        (silu1): SiLU()\n",
       "        (conv1): Conv2d(\n",
       "          (conv): Conv2d(18, 12, kernel_size=(3, 3), stride=(1, 1), padding=(1, 1))\n",
       "        )\n",
       "        (silu2): SiLU()\n",
       "        (linear1): Linear(\n",
       "          (linear): Linear(in_features=12, out_features=12, bias=True)\n",
       "        )\n",
       "        (gn2): GroupNorm(\n",
       "          (group_norm): GroupNorm(3, 12, eps=1e-05, affine=True)\n",
       "        )\n",
       "        (silu3): SiLU()\n",
       "        (dropout): Dropout(p=0.0, inplace=False)\n",
       "        (conv2): Conv2d(\n",
       "          (conv): Conv2d(12, 12, kernel_size=(3, 3), stride=(1, 1), padding=(1, 1))\n",
       "        )\n",
       "        (linear2): Linear(\n",
       "          (linear): Linear(in_features=18, out_features=12, bias=True)\n",
       "        )\n",
       "      )\n",
       "      (29): UpBlock(\n",
       "        (upsample): Upsample(scale_factor=2.0, mode='nearest')\n",
       "        (conv): Conv2d(\n",
       "          (conv): Conv2d(12, 12, kernel_size=(3, 3), stride=(1, 1), padding=(1, 1))\n",
       "        )\n",
       "      )\n",
       "      (30): WideResNetBlock(\n",
       "        (gn1): GroupNorm(\n",
       "          (group_norm): GroupNorm(3, 18, eps=1e-05, affine=True)\n",
       "        )\n",
       "        (silu1): SiLU()\n",
       "        (conv1): Conv2d(\n",
       "          (conv): Conv2d(18, 6, kernel_size=(3, 3), stride=(1, 1), padding=(1, 1))\n",
       "        )\n",
       "        (silu2): SiLU()\n",
       "        (linear1): Linear(\n",
       "          (linear): Linear(in_features=12, out_features=6, bias=True)\n",
       "        )\n",
       "        (gn2): GroupNorm(\n",
       "          (group_norm): GroupNorm(3, 6, eps=1e-05, affine=True)\n",
       "        )\n",
       "        (silu3): SiLU()\n",
       "        (dropout): Dropout(p=0.0, inplace=False)\n",
       "        (conv2): Conv2d(\n",
       "          (conv): Conv2d(6, 6, kernel_size=(3, 3), stride=(1, 1), padding=(1, 1))\n",
       "        )\n",
       "        (linear2): Linear(\n",
       "          (linear): Linear(in_features=18, out_features=6, bias=True)\n",
       "        )\n",
       "      )\n",
       "      (31-32): 2 x WideResNetBlock(\n",
       "        (gn1): GroupNorm(\n",
       "          (group_norm): GroupNorm(3, 12, eps=1e-05, affine=True)\n",
       "        )\n",
       "        (silu1): SiLU()\n",
       "        (conv1): Conv2d(\n",
       "          (conv): Conv2d(12, 6, kernel_size=(3, 3), stride=(1, 1), padding=(1, 1))\n",
       "        )\n",
       "        (silu2): SiLU()\n",
       "        (linear1): Linear(\n",
       "          (linear): Linear(in_features=12, out_features=6, bias=True)\n",
       "        )\n",
       "        (gn2): GroupNorm(\n",
       "          (group_norm): GroupNorm(3, 6, eps=1e-05, affine=True)\n",
       "        )\n",
       "        (silu3): SiLU()\n",
       "        (dropout): Dropout(p=0.0, inplace=False)\n",
       "        (conv2): Conv2d(\n",
       "          (conv): Conv2d(6, 6, kernel_size=(3, 3), stride=(1, 1), padding=(1, 1))\n",
       "        )\n",
       "        (linear2): Linear(\n",
       "          (linear): Linear(in_features=12, out_features=6, bias=True)\n",
       "        )\n",
       "      )\n",
       "      (33): WideResNetBlock(\n",
       "        (gn1): GroupNorm(\n",
       "          (group_norm): GroupNorm(3, 9, eps=1e-05, affine=True)\n",
       "        )\n",
       "        (silu1): SiLU()\n",
       "        (conv1): Conv2d(\n",
       "          (conv): Conv2d(9, 6, kernel_size=(3, 3), stride=(1, 1), padding=(1, 1))\n",
       "        )\n",
       "        (silu2): SiLU()\n",
       "        (linear1): Linear(\n",
       "          (linear): Linear(in_features=12, out_features=6, bias=True)\n",
       "        )\n",
       "        (gn2): GroupNorm(\n",
       "          (group_norm): GroupNorm(3, 6, eps=1e-05, affine=True)\n",
       "        )\n",
       "        (silu3): SiLU()\n",
       "        (dropout): Dropout(p=0.0, inplace=False)\n",
       "        (conv2): Conv2d(\n",
       "          (conv): Conv2d(6, 6, kernel_size=(3, 3), stride=(1, 1), padding=(1, 1))\n",
       "        )\n",
       "        (linear2): Linear(\n",
       "          (linear): Linear(in_features=9, out_features=6, bias=True)\n",
       "        )\n",
       "      )\n",
       "      (34): UpBlock(\n",
       "        (upsample): Upsample(scale_factor=2.0, mode='nearest')\n",
       "        (conv): Conv2d(\n",
       "          (conv): Conv2d(6, 6, kernel_size=(3, 3), stride=(1, 1), padding=(1, 1))\n",
       "        )\n",
       "      )\n",
       "      (35): WideResNetBlock(\n",
       "        (gn1): GroupNorm(\n",
       "          (group_norm): GroupNorm(3, 9, eps=1e-05, affine=True)\n",
       "        )\n",
       "        (silu1): SiLU()\n",
       "        (conv1): Conv2d(\n",
       "          (conv): Conv2d(9, 3, kernel_size=(3, 3), stride=(1, 1), padding=(1, 1))\n",
       "        )\n",
       "        (silu2): SiLU()\n",
       "        (linear1): Linear(\n",
       "          (linear): Linear(in_features=12, out_features=3, bias=True)\n",
       "        )\n",
       "        (gn2): GroupNorm(\n",
       "          (group_norm): GroupNorm(3, 3, eps=1e-05, affine=True)\n",
       "        )\n",
       "        (silu3): SiLU()\n",
       "        (dropout): Dropout(p=0.0, inplace=False)\n",
       "        (conv2): Conv2d(\n",
       "          (conv): Conv2d(3, 3, kernel_size=(3, 3), stride=(1, 1), padding=(1, 1))\n",
       "        )\n",
       "        (linear2): Linear(\n",
       "          (linear): Linear(in_features=9, out_features=3, bias=True)\n",
       "        )\n",
       "      )\n",
       "      (36-38): 3 x WideResNetBlock(\n",
       "        (gn1): GroupNorm(\n",
       "          (group_norm): GroupNorm(3, 6, eps=1e-05, affine=True)\n",
       "        )\n",
       "        (silu1): SiLU()\n",
       "        (conv1): Conv2d(\n",
       "          (conv): Conv2d(6, 3, kernel_size=(3, 3), stride=(1, 1), padding=(1, 1))\n",
       "        )\n",
       "        (silu2): SiLU()\n",
       "        (linear1): Linear(\n",
       "          (linear): Linear(in_features=12, out_features=3, bias=True)\n",
       "        )\n",
       "        (gn2): GroupNorm(\n",
       "          (group_norm): GroupNorm(3, 3, eps=1e-05, affine=True)\n",
       "        )\n",
       "        (silu3): SiLU()\n",
       "        (dropout): Dropout(p=0.0, inplace=False)\n",
       "        (conv2): Conv2d(\n",
       "          (conv): Conv2d(3, 3, kernel_size=(3, 3), stride=(1, 1), padding=(1, 1))\n",
       "        )\n",
       "        (linear2): Linear(\n",
       "          (linear): Linear(in_features=6, out_features=3, bias=True)\n",
       "        )\n",
       "      )\n",
       "    )\n",
       "    (gn): GroupNorm(\n",
       "      (group_norm): GroupNorm(3, 3, eps=1e-05, affine=True)\n",
       "    )\n",
       "    (silu): SiLU()\n",
       "    (conv2): Conv2d(\n",
       "      (conv): Conv2d(3, 3, kernel_size=(3, 3), stride=(1, 1), padding=(1, 1))\n",
       "    )\n",
       "  )\n",
       ")"
      ]
     },
     "execution_count": 12,
     "metadata": {},
     "output_type": "execute_result"
    }
   ],
   "execution_count": 12
  },
  {
   "metadata": {
    "ExecuteTime": {
     "end_time": "2024-05-09T11:21:14.451918Z",
     "start_time": "2024-05-09T11:21:14.447864Z"
    }
   },
   "cell_type": "code",
   "source": [
    "optimizer = torch.optim.Adam(SR3plus_model.parameters(), lr=hyperparams[\"lr\"])\n",
    "scheduler = torch.optim.lr_scheduler.StepLR(optimizer, step_size=hyperparams[\"decay_steps\"], gamma=hyperparams[\"gamma\"])"
   ],
   "id": "2ec55b27c77c26fc",
   "outputs": [],
   "execution_count": 13
  },
  {
   "metadata": {
    "ExecuteTime": {
     "end_time": "2024-05-09T12:06:53.095632Z",
     "start_time": "2024-05-09T11:21:14.452925Z"
    }
   },
   "cell_type": "code",
   "source": [
    "project_name = \"SR model benchmarking\"\n",
    "run_name = \"SR3+\"\n",
    "wandb.login()\n",
    "wandb.init(project=project_name, config=hyperparams, name=run_name)\n",
    "\n",
    "trainer = SR3Trainer(metrics_used=[\"ssim\", \"psnr\"], model_name=\"SR3+\")\n",
    "trainer.set_model(SR3plus_model)\n",
    "trainer.set_optimizer(optimizer)\n",
    "trainer.set_scheduler(scheduler)\n",
    "for step in range(hyperparams[\"epochs\"]):\n",
    "    train_loss = trainer.train(train_dataloader)\n",
    "    torch.cuda.empty_cache()\n",
    "    trainer.save_model(\"models_state_dic\") \n",
    "    with torch.no_grad():\n",
    "        val_loss = trainer.validate(val_dataloader)\n",
    "    torch.cuda.empty_cache()\n",
    "    wandb.log({\"train_loss\": train_loss, \"validation_loss\": val_loss})\n",
    "    \n",
    "test_metrics = trainer.test(test_dataloader)\n",
    "wandb.log(test_metrics)\n",
    "wandb.finish()   "
   ],
   "id": "18c1250e157ff968",
   "outputs": [
    {
     "data": {
      "text/plain": [
       "VBox(children=(Label(value='Waiting for wandb.init()...\\r'), FloatProgress(value=0.011111111111111112, max=1.0…"
      ],
      "application/vnd.jupyter.widget-view+json": {
       "version_major": 2,
       "version_minor": 0,
       "model_id": "aad093fb7c004521a2945a830d3e5f0d"
      }
     },
     "metadata": {},
     "output_type": "display_data"
    },
    {
     "data": {
      "text/plain": [
       "<IPython.core.display.HTML object>"
      ],
      "text/html": [
       "wandb version 0.17.0 is available!  To upgrade, please run:\n",
       " $ pip install wandb --upgrade"
      ]
     },
     "metadata": {},
     "output_type": "display_data"
    },
    {
     "data": {
      "text/plain": [
       "<IPython.core.display.HTML object>"
      ],
      "text/html": [
       "Tracking run with wandb version 0.16.6"
      ]
     },
     "metadata": {},
     "output_type": "display_data"
    },
    {
     "data": {
      "text/plain": [
       "<IPython.core.display.HTML object>"
      ],
      "text/html": [
       "Run data is saved locally in <code>C:\\Users\\adria\\Desktop\\TFG-code\\SR-model-benchmarking\\wandb\\run-20240509_122114-cbzutc9o</code>"
      ]
     },
     "metadata": {},
     "output_type": "display_data"
    },
    {
     "data": {
      "text/plain": [
       "<IPython.core.display.HTML object>"
      ],
      "text/html": [
       "Syncing run <strong><a href='https://wandb.ai/ladoscuro/SR%20model%20benchmarking/runs/cbzutc9o' target=\"_blank\">SR3+</a></strong> to <a href='https://wandb.ai/ladoscuro/SR%20model%20benchmarking' target=\"_blank\">Weights & Biases</a> (<a href='https://wandb.me/run' target=\"_blank\">docs</a>)<br/>"
      ]
     },
     "metadata": {},
     "output_type": "display_data"
    },
    {
     "data": {
      "text/plain": [
       "<IPython.core.display.HTML object>"
      ],
      "text/html": [
       " View project at <a href='https://wandb.ai/ladoscuro/SR%20model%20benchmarking' target=\"_blank\">https://wandb.ai/ladoscuro/SR%20model%20benchmarking</a>"
      ]
     },
     "metadata": {},
     "output_type": "display_data"
    },
    {
     "data": {
      "text/plain": [
       "<IPython.core.display.HTML object>"
      ],
      "text/html": [
       " View run at <a href='https://wandb.ai/ladoscuro/SR%20model%20benchmarking/runs/cbzutc9o' target=\"_blank\">https://wandb.ai/ladoscuro/SR%20model%20benchmarking/runs/cbzutc9o</a>"
      ]
     },
     "metadata": {},
     "output_type": "display_data"
    },
    {
     "name": "stderr",
     "output_type": "stream",
     "text": [
      "100%|██████████| 148/148 [00:21<00:00,  6.83batch/s]\n",
      "100%|██████████| 50/50 [00:04<00:00, 11.69batch/s]\n",
      "100%|██████████| 148/148 [00:21<00:00,  6.97batch/s]\n",
      "100%|██████████| 50/50 [00:04<00:00, 11.92batch/s]\n",
      "100%|██████████| 148/148 [00:21<00:00,  6.93batch/s]\n",
      "100%|██████████| 50/50 [00:04<00:00, 11.87batch/s]\n",
      "100%|██████████| 148/148 [00:21<00:00,  6.96batch/s]\n",
      "100%|██████████| 50/50 [00:04<00:00, 11.84batch/s]\n",
      "100%|██████████| 148/148 [00:21<00:00,  6.95batch/s]\n",
      "100%|██████████| 50/50 [00:04<00:00, 11.79batch/s]\n",
      "100%|██████████| 148/148 [00:21<00:00,  6.98batch/s]\n",
      "100%|██████████| 50/50 [00:04<00:00, 11.84batch/s]\n",
      "100%|██████████| 148/148 [00:21<00:00,  6.95batch/s]\n",
      "100%|██████████| 50/50 [00:04<00:00, 11.81batch/s]\n",
      "100%|██████████| 148/148 [00:21<00:00,  6.98batch/s]\n",
      "100%|██████████| 50/50 [00:04<00:00, 11.97batch/s]\n",
      "100%|██████████| 148/148 [00:21<00:00,  6.92batch/s]\n",
      "100%|██████████| 50/50 [00:04<00:00, 11.91batch/s]\n",
      "100%|██████████| 148/148 [00:21<00:00,  6.92batch/s]\n",
      "100%|██████████| 50/50 [00:04<00:00, 11.84batch/s]\n",
      "100%|██████████| 148/148 [00:21<00:00,  6.95batch/s]\n",
      "100%|██████████| 50/50 [00:04<00:00, 11.90batch/s]\n",
      "100%|██████████| 148/148 [00:21<00:00,  7.02batch/s]\n",
      "100%|██████████| 50/50 [00:04<00:00, 11.84batch/s]\n",
      "100%|██████████| 148/148 [00:21<00:00,  6.92batch/s]\n",
      "100%|██████████| 50/50 [00:04<00:00, 11.82batch/s]\n",
      "100%|██████████| 148/148 [00:21<00:00,  6.98batch/s]\n",
      "100%|██████████| 50/50 [00:04<00:00, 11.94batch/s]\n",
      "100%|██████████| 148/148 [00:21<00:00,  6.97batch/s]\n",
      "100%|██████████| 50/50 [00:04<00:00, 11.94batch/s]\n",
      "100%|██████████| 148/148 [00:21<00:00,  7.00batch/s]\n",
      "100%|██████████| 50/50 [00:04<00:00, 11.97batch/s]\n",
      "100%|██████████| 148/148 [00:21<00:00,  7.03batch/s]\n",
      "100%|██████████| 50/50 [00:04<00:00, 11.84batch/s]\n",
      "100%|██████████| 148/148 [00:21<00:00,  6.97batch/s]\n",
      "100%|██████████| 50/50 [00:04<00:00, 11.96batch/s]\n",
      "100%|██████████| 148/148 [00:21<00:00,  6.94batch/s]\n",
      "100%|██████████| 50/50 [00:04<00:00, 11.90batch/s]\n",
      "100%|██████████| 148/148 [00:21<00:00,  6.97batch/s]\n",
      "100%|██████████| 50/50 [00:04<00:00, 11.86batch/s]\n",
      "100%|██████████| 148/148 [00:21<00:00,  6.94batch/s]\n",
      "100%|██████████| 50/50 [00:04<00:00, 11.85batch/s]\n",
      "100%|██████████| 148/148 [00:21<00:00,  6.98batch/s]\n",
      "100%|██████████| 50/50 [00:04<00:00, 11.86batch/s]\n",
      "100%|██████████| 148/148 [00:21<00:00,  6.96batch/s]\n",
      "100%|██████████| 50/50 [00:04<00:00, 11.86batch/s]\n",
      "100%|██████████| 148/148 [00:21<00:00,  6.97batch/s]\n",
      "100%|██████████| 50/50 [00:04<00:00, 12.03batch/s]\n",
      "100%|██████████| 148/148 [00:21<00:00,  6.95batch/s]\n",
      "100%|██████████| 50/50 [00:04<00:00, 11.88batch/s]\n",
      "100%|██████████| 148/148 [00:21<00:00,  6.99batch/s]\n",
      "100%|██████████| 50/50 [00:04<00:00, 11.88batch/s]\n",
      "100%|██████████| 148/148 [00:21<00:00,  6.93batch/s]\n",
      "100%|██████████| 50/50 [00:04<00:00, 11.92batch/s]\n",
      "100%|██████████| 148/148 [00:21<00:00,  6.95batch/s]\n",
      "100%|██████████| 50/50 [00:04<00:00, 11.96batch/s]\n",
      "100%|██████████| 148/148 [00:21<00:00,  7.02batch/s]\n",
      "100%|██████████| 50/50 [00:04<00:00, 11.88batch/s]\n",
      "100%|██████████| 148/148 [00:21<00:00,  6.97batch/s]\n",
      "100%|██████████| 50/50 [00:04<00:00, 11.78batch/s]\n",
      "100%|██████████| 148/148 [00:21<00:00,  6.96batch/s]\n",
      "100%|██████████| 50/50 [00:04<00:00, 11.87batch/s]\n",
      "100%|██████████| 148/148 [00:21<00:00,  7.01batch/s]\n",
      "100%|██████████| 50/50 [00:04<00:00, 11.85batch/s]\n",
      "100%|██████████| 148/148 [00:21<00:00,  6.99batch/s]\n",
      "100%|██████████| 50/50 [00:04<00:00, 11.87batch/s]\n",
      "100%|██████████| 148/148 [00:21<00:00,  6.98batch/s]\n",
      "100%|██████████| 50/50 [00:04<00:00, 11.86batch/s]\n",
      "100%|██████████| 148/148 [00:21<00:00,  7.00batch/s]\n",
      "100%|██████████| 50/50 [00:04<00:00, 11.95batch/s]\n",
      "100%|██████████| 148/148 [00:21<00:00,  6.95batch/s]\n",
      "100%|██████████| 50/50 [00:04<00:00, 11.91batch/s]\n",
      "100%|██████████| 148/148 [00:21<00:00,  6.96batch/s]\n",
      "100%|██████████| 50/50 [00:04<00:00, 11.92batch/s]\n",
      "100%|██████████| 148/148 [00:21<00:00,  6.99batch/s]\n",
      "100%|██████████| 50/50 [00:04<00:00, 11.85batch/s]\n",
      "100%|██████████| 148/148 [00:21<00:00,  7.02batch/s]\n",
      "100%|██████████| 50/50 [00:04<00:00, 11.88batch/s]\n",
      "100%|██████████| 148/148 [00:21<00:00,  6.97batch/s]\n",
      "100%|██████████| 50/50 [00:04<00:00, 11.95batch/s]\n",
      "100%|██████████| 148/148 [00:21<00:00,  7.00batch/s]\n",
      "100%|██████████| 50/50 [00:04<00:00, 11.83batch/s]\n",
      "100%|██████████| 148/148 [00:21<00:00,  7.02batch/s]\n",
      "100%|██████████| 50/50 [00:04<00:00, 11.99batch/s]\n",
      "100%|██████████| 148/148 [00:21<00:00,  7.00batch/s]\n",
      "100%|██████████| 50/50 [00:04<00:00, 11.82batch/s]\n",
      "100%|██████████| 148/148 [00:21<00:00,  6.95batch/s]\n",
      "100%|██████████| 50/50 [00:04<00:00, 11.95batch/s]\n",
      "100%|██████████| 148/148 [00:21<00:00,  7.00batch/s]\n",
      "100%|██████████| 50/50 [00:04<00:00, 11.89batch/s]\n",
      "100%|██████████| 148/148 [00:21<00:00,  6.98batch/s]\n",
      "100%|██████████| 50/50 [00:04<00:00, 11.91batch/s]\n",
      "100%|██████████| 148/148 [00:21<00:00,  6.99batch/s]\n",
      "100%|██████████| 50/50 [00:04<00:00, 11.93batch/s]\n",
      "100%|██████████| 148/148 [00:21<00:00,  6.99batch/s]\n",
      "100%|██████████| 50/50 [00:04<00:00, 11.86batch/s]\n",
      "100%|██████████| 148/148 [00:21<00:00,  6.98batch/s]\n",
      "100%|██████████| 50/50 [00:04<00:00, 11.89batch/s]\n",
      "100%|██████████| 148/148 [00:21<00:00,  6.96batch/s]\n",
      "100%|██████████| 50/50 [00:04<00:00, 11.98batch/s]\n",
      "100%|██████████| 148/148 [00:21<00:00,  6.98batch/s]\n",
      "100%|██████████| 50/50 [00:04<00:00, 12.00batch/s]\n",
      "100%|██████████| 148/148 [00:20<00:00,  7.06batch/s]\n",
      "100%|██████████| 50/50 [00:04<00:00, 11.86batch/s]\n",
      "100%|██████████| 148/148 [00:21<00:00,  6.95batch/s]\n",
      "100%|██████████| 50/50 [00:04<00:00, 11.68batch/s]\n",
      "100%|██████████| 148/148 [00:21<00:00,  6.98batch/s]\n",
      "100%|██████████| 50/50 [00:04<00:00, 11.77batch/s]\n",
      "100%|██████████| 148/148 [00:21<00:00,  6.98batch/s]\n",
      "100%|██████████| 50/50 [00:04<00:00, 11.79batch/s]\n",
      "100%|██████████| 148/148 [00:21<00:00,  6.94batch/s]\n",
      "100%|██████████| 50/50 [00:04<00:00, 11.95batch/s]\n",
      "100%|██████████| 148/148 [00:21<00:00,  6.97batch/s]\n",
      "100%|██████████| 50/50 [00:04<00:00, 11.82batch/s]\n",
      "100%|██████████| 148/148 [00:21<00:00,  6.95batch/s]\n",
      "100%|██████████| 50/50 [00:04<00:00, 11.91batch/s]\n",
      "100%|██████████| 148/148 [00:21<00:00,  6.97batch/s]\n",
      "100%|██████████| 50/50 [00:04<00:00, 11.93batch/s]\n",
      "100%|██████████| 148/148 [00:21<00:00,  7.01batch/s]\n",
      "100%|██████████| 50/50 [00:04<00:00, 11.96batch/s]\n",
      "100%|██████████| 148/148 [00:21<00:00,  6.97batch/s]\n",
      "100%|██████████| 50/50 [00:04<00:00, 11.88batch/s]\n",
      "100%|██████████| 148/148 [00:21<00:00,  6.96batch/s]\n",
      "100%|██████████| 50/50 [00:04<00:00, 11.92batch/s]\n",
      "100%|██████████| 148/148 [00:21<00:00,  6.96batch/s]\n",
      "100%|██████████| 50/50 [00:04<00:00, 11.96batch/s]\n",
      "100%|██████████| 148/148 [00:21<00:00,  7.00batch/s]\n",
      "100%|██████████| 50/50 [00:04<00:00, 11.82batch/s]\n",
      "100%|██████████| 148/148 [00:21<00:00,  6.99batch/s]\n",
      "100%|██████████| 50/50 [00:04<00:00, 11.90batch/s]\n",
      "100%|██████████| 148/148 [00:21<00:00,  7.01batch/s]\n",
      "100%|██████████| 50/50 [00:04<00:00, 11.95batch/s]\n",
      "100%|██████████| 148/148 [00:21<00:00,  7.01batch/s]\n",
      "100%|██████████| 50/50 [00:04<00:00, 11.89batch/s]\n",
      "100%|██████████| 148/148 [00:21<00:00,  6.94batch/s]\n",
      "100%|██████████| 50/50 [00:04<00:00, 11.96batch/s]\n",
      "100%|██████████| 148/148 [00:21<00:00,  6.94batch/s]\n",
      "100%|██████████| 50/50 [00:04<00:00, 11.90batch/s]\n",
      "100%|██████████| 148/148 [00:21<00:00,  7.01batch/s]\n",
      "100%|██████████| 50/50 [00:04<00:00, 11.95batch/s]\n",
      "100%|██████████| 148/148 [00:21<00:00,  7.00batch/s]\n",
      "100%|██████████| 50/50 [00:04<00:00, 11.98batch/s]\n",
      "100%|██████████| 148/148 [00:21<00:00,  7.00batch/s]\n",
      "100%|██████████| 50/50 [00:04<00:00, 11.88batch/s]\n",
      "100%|██████████| 148/148 [00:21<00:00,  6.98batch/s]\n",
      "100%|██████████| 50/50 [00:04<00:00, 11.89batch/s]\n",
      "100%|██████████| 148/148 [00:21<00:00,  6.98batch/s]\n",
      "100%|██████████| 50/50 [00:04<00:00, 11.95batch/s]\n",
      "100%|██████████| 148/148 [00:21<00:00,  6.96batch/s]\n",
      "100%|██████████| 50/50 [00:04<00:00, 11.84batch/s]\n",
      "100%|██████████| 148/148 [00:21<00:00,  7.00batch/s]\n",
      "100%|██████████| 50/50 [00:04<00:00, 11.85batch/s]\n",
      "100%|██████████| 148/148 [00:21<00:00,  7.01batch/s]\n",
      "100%|██████████| 50/50 [00:04<00:00, 11.75batch/s]\n",
      "100%|██████████| 148/148 [00:21<00:00,  6.99batch/s]\n",
      "100%|██████████| 50/50 [00:04<00:00, 11.87batch/s]\n",
      "100%|██████████| 148/148 [00:21<00:00,  6.94batch/s]\n",
      "100%|██████████| 50/50 [00:04<00:00, 11.58batch/s]\n",
      "100%|██████████| 148/148 [00:21<00:00,  6.96batch/s]\n",
      "100%|██████████| 50/50 [00:04<00:00, 11.92batch/s]\n",
      "100%|██████████| 148/148 [00:21<00:00,  6.91batch/s]\n",
      "100%|██████████| 50/50 [00:04<00:00, 11.92batch/s]\n",
      "100%|██████████| 148/148 [00:21<00:00,  7.02batch/s]\n",
      "100%|██████████| 50/50 [00:04<00:00, 11.91batch/s]\n",
      "100%|██████████| 148/148 [00:21<00:00,  7.00batch/s]\n",
      "100%|██████████| 50/50 [00:04<00:00, 11.83batch/s]\n",
      "100%|██████████| 148/148 [00:21<00:00,  6.99batch/s]\n",
      "100%|██████████| 50/50 [00:04<00:00, 11.95batch/s]\n",
      "100%|██████████| 148/148 [00:21<00:00,  7.00batch/s]\n",
      "100%|██████████| 50/50 [00:04<00:00, 11.92batch/s]\n",
      "100%|██████████| 148/148 [00:21<00:00,  6.99batch/s]\n",
      "100%|██████████| 50/50 [00:04<00:00, 11.91batch/s]\n",
      "100%|██████████| 148/148 [00:21<00:00,  6.98batch/s]\n",
      "100%|██████████| 50/50 [00:04<00:00, 11.85batch/s]\n",
      "100%|██████████| 148/148 [00:21<00:00,  7.03batch/s]\n",
      "100%|██████████| 50/50 [00:04<00:00, 11.86batch/s]\n",
      "100%|██████████| 148/148 [00:21<00:00,  7.02batch/s]\n",
      "100%|██████████| 50/50 [00:04<00:00, 11.87batch/s]\n",
      "100%|██████████| 148/148 [00:21<00:00,  7.01batch/s]\n",
      "100%|██████████| 50/50 [00:04<00:00, 11.89batch/s]\n",
      "100%|██████████| 148/148 [00:21<00:00,  6.95batch/s]\n",
      "100%|██████████| 50/50 [00:04<00:00, 11.90batch/s]\n",
      "100%|██████████| 148/148 [00:21<00:00,  6.99batch/s]\n",
      "100%|██████████| 50/50 [00:04<00:00, 11.95batch/s]\n",
      "100%|██████████| 148/148 [00:21<00:00,  6.93batch/s]\n",
      "100%|██████████| 50/50 [00:04<00:00, 12.06batch/s]\n",
      "100%|██████████| 148/148 [00:21<00:00,  6.98batch/s]\n",
      "100%|██████████| 50/50 [00:04<00:00, 11.88batch/s]\n",
      "100%|██████████| 148/148 [00:21<00:00,  7.00batch/s]\n",
      "100%|██████████| 50/50 [00:04<00:00, 11.83batch/s]\n",
      "100%|██████████| 148/148 [00:21<00:00,  6.95batch/s]\n",
      "100%|██████████| 50/50 [00:04<00:00, 11.90batch/s]\n",
      "100%|██████████| 148/148 [00:21<00:00,  6.97batch/s]\n",
      "100%|██████████| 50/50 [00:04<00:00, 11.84batch/s]\n",
      "100%|██████████| 148/148 [00:21<00:00,  7.01batch/s]\n",
      "100%|██████████| 50/50 [00:04<00:00, 11.88batch/s]\n",
      "100%|██████████| 148/148 [00:21<00:00,  6.97batch/s]\n",
      "100%|██████████| 50/50 [00:04<00:00, 11.85batch/s]\n",
      "100%|██████████| 148/148 [00:21<00:00,  6.95batch/s]\n",
      "100%|██████████| 50/50 [00:04<00:00, 11.94batch/s]\n",
      "100%|██████████| 50/50 [02:54<00:00,  3.48s/batch]\n"
     ]
    },
    {
     "data": {
      "text/plain": [
       "VBox(children=(Label(value='0.001 MB of 0.054 MB uploaded\\r'), FloatProgress(value=0.023535003256526254, max=1…"
      ],
      "application/vnd.jupyter.widget-view+json": {
       "version_major": 2,
       "version_minor": 0,
       "model_id": "9603e955babe487f9acbecec7460918b"
      }
     },
     "metadata": {},
     "output_type": "display_data"
    },
    {
     "data": {
      "text/plain": [
       "<IPython.core.display.HTML object>"
      ],
      "text/html": [
       "<style>\n",
       "    table.wandb td:nth-child(1) { padding: 0 10px; text-align: left ; width: auto;} td:nth-child(2) {text-align: left ; width: 100%}\n",
       "    .wandb-row { display: flex; flex-direction: row; flex-wrap: wrap; justify-content: flex-start; width: 100% }\n",
       "    .wandb-col { display: flex; flex-direction: column; flex-basis: 100%; flex: 1; padding: 10px; }\n",
       "    </style>\n",
       "<div class=\"wandb-row\"><div class=\"wandb-col\"><h3>Run history:</h3><br/><table class=\"wandb\"><tr><td>psnr</td><td>▁</td></tr><tr><td>ssim</td><td>▁</td></tr><tr><td>train_loss</td><td>█▆▄▄▃▂▂▂▂▂▁▁▁▁▁▁▁▁▁▁▁▁▁▁▁▁▁▁▁▁▁▁▁▁▁▁▁▁▁▁</td></tr><tr><td>validation_loss</td><td>█▆▅▄▃▂▂▂▂▂▁▁▁▁▁▁▁▁▁▁▁▁▁▁▁▁▁▁▁▁▁▁▁▁▁▁▁▁▁▁</td></tr></table><br/></div><div class=\"wandb-col\"><h3>Run summary:</h3><br/><table class=\"wandb\"><tr><td>psnr</td><td>6.91966</td></tr><tr><td>ssim</td><td>0.05656</td></tr><tr><td>train_loss</td><td>0.28559</td></tr><tr><td>validation_loss</td><td>0.2854</td></tr></table><br/></div></div>"
      ]
     },
     "metadata": {},
     "output_type": "display_data"
    },
    {
     "data": {
      "text/plain": [
       "<IPython.core.display.HTML object>"
      ],
      "text/html": [
       " View run <strong style=\"color:#cdcd00\">SR3+</strong> at: <a href='https://wandb.ai/ladoscuro/SR%20model%20benchmarking/runs/cbzutc9o' target=\"_blank\">https://wandb.ai/ladoscuro/SR%20model%20benchmarking/runs/cbzutc9o</a><br/> View project at: <a href='https://wandb.ai/ladoscuro/SR%20model%20benchmarking' target=\"_blank\">https://wandb.ai/ladoscuro/SR%20model%20benchmarking</a><br/>Synced 5 W&B file(s), 0 media file(s), 0 artifact file(s) and 0 other file(s)"
      ]
     },
     "metadata": {},
     "output_type": "display_data"
    },
    {
     "data": {
      "text/plain": [
       "<IPython.core.display.HTML object>"
      ],
      "text/html": [
       "Find logs at: <code>.\\wandb\\run-20240509_122114-cbzutc9o\\logs</code>"
      ]
     },
     "metadata": {},
     "output_type": "display_data"
    }
   ],
   "execution_count": 14
  },
  {
   "metadata": {
    "ExecuteTime": {
     "end_time": "2024-05-09T12:06:53.098100Z",
     "start_time": "2024-05-09T12:06:53.095632Z"
    }
   },
   "cell_type": "code",
   "source": "",
   "id": "6ea9177085a4cdd5",
   "outputs": [],
   "execution_count": 14
  }
 ],
 "metadata": {
  "kernelspec": {
   "display_name": "Python 3",
   "language": "python",
   "name": "python3"
  },
  "language_info": {
   "codemirror_mode": {
    "name": "ipython",
    "version": 2
   },
   "file_extension": ".py",
   "mimetype": "text/x-python",
   "name": "python",
   "nbconvert_exporter": "python",
   "pygments_lexer": "ipython2",
   "version": "2.7.6"
  }
 },
 "nbformat": 4,
 "nbformat_minor": 5
}
