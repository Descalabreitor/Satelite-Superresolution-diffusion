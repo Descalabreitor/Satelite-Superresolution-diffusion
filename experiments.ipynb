{
 "cells": [
  {
   "cell_type": "code",
   "id": "initial_id",
   "metadata": {
    "collapsed": true,
    "ExecuteTime": {
     "end_time": "2024-04-13T10:51:22.866557Z",
     "start_time": "2024-04-13T10:51:22.863608Z"
    }
   },
   "source": [
    "import PIL\n",
    "import torch\n",
    "from torch.utils.data import DataLoader\n",
    "from torch.utils.data import random_split\n",
    "\n",
    "from Dataset.AerialDataset import AerialDataset\n",
    "from tasks.trainer import Trainer"
   ],
   "outputs": [],
   "execution_count": 5
  },
  {
   "metadata": {},
   "cell_type": "markdown",
   "source": [
    "- Generar imagenes bicubicas\n",
    "- Construir Dataset\n",
    "- Construir Dataloader\n",
    "- SR3\n",
    "- SRdiff\n",
    "- SR3+"
   ],
   "id": "77744e547aa8b8f0"
  },
  {
   "metadata": {},
   "cell_type": "markdown",
   "source": [
    "## 64 -> 256\n",
    "\n",
    "\n",
    "#### Generación de imagenes bicubicas"
   ],
   "id": "71bab7523f2c3892"
  },
  {
   "metadata": {},
   "cell_type": "markdown",
   "source": "",
   "id": "f8dda06f98beef4d"
  },
  {
   "metadata": {
    "ExecuteTime": {
     "end_time": "2024-04-15T02:16:43.176489Z",
     "start_time": "2024-04-14T22:45:39.579578Z"
    }
   },
   "cell_type": "code",
   "source": [
    "\n",
    "import os\n",
    "import numpy as np\n",
    "from scipy.interpolate import interpn\n",
    "from PIL import Image\n",
    "from tqdm import tqdm\n",
    "\n",
    "##TODO Mover esto a su propio modulo donde poder usarlo para preparar los datos a posteriori.\n",
    "## TODO cambiar metodo para q vaya más rapido.\n",
    "\n",
    "\n",
    "def bicubic_interpolation(image, objective_dim): # De momento lo implementare para 1 sola foto a la vez\n",
    "    #Calculo nuevas dimensiones\n",
    "    height, width = image.shape[0] , image.shape[1]\n",
    "    new_width, new_height = objective_dim[0], objective_dim[1]\n",
    "    new_image = np.zeros((new_height, new_width, image.shape[2]))\n",
    "    \n",
    "     # Generar cuadrículas para las coordenadas X e Y de la imagen original y la interpolada\n",
    "    x = np.linspace(0, width - 1, width)\n",
    "    y = np.linspace(0, height - 1, height)\n",
    "    new_x = np.linspace(0, width - 1, new_width)\n",
    "    new_y = np.linspace(0, height - 1, new_height)\n",
    "    new_image = interpn((y, x), image, (new_y[:,None], new_x), method='cubic', bounds_error=False, fill_value=0)\n",
    "    return new_image\n",
    "\n",
    "dataset_dir = 'E:\\\\TFG\\\\air_dataset\\\\64'\n",
    "for image_file in tqdm(os.listdir(dataset_dir)):\n",
    "    image = Image.open(os.path.join(dataset_dir, image_file))\n",
    "    image = np.array(image)\n",
    "    interpolated = bicubic_interpolation(image, (256, 256))\n",
    "    interpolated_image = Image.fromarray(interpolated.astype(np.uint8))\n",
    "    interpolated_image.save(f'E:\\\\TFG\\\\air_dataset\\\\sr\\\\64_256\\\\{image_file}')\n",
    "    "
   ],
   "id": "2c0f2381994a51d9",
   "outputs": [
    {
     "name": "stderr",
     "output_type": "stream",
     "text": [
      "100%|██████████| 3927/3927 [3:31:03<00:00,  3.22s/it]  \n"
     ]
    }
   ],
   "execution_count": 20
  },
  {
   "metadata": {},
   "cell_type": "markdown",
   "source": "",
   "id": "830b031f8230ceb3"
  },
  {
   "metadata": {
    "ExecuteTime": {
     "end_time": "2024-04-13T10:51:22.871972Z",
     "start_time": "2024-04-13T10:51:22.869562Z"
    }
   },
   "cell_type": "code",
   "source": [
    "lr_size = 64\n",
    "hr_size = 256\n",
    "batch_size = 64\n",
    "epochs = 5\n",
    "learning_rate = 0.001\n",
    "dataset_dir = 'E:\\\\TFG\\\\air_dataset'\n",
    "\n",
    "logs_dir = 'E:\\\\TFG\\\\logs'"
   ],
   "id": "4e91bfd9d2a1b993",
   "outputs": [],
   "execution_count": 6
  },
  {
   "metadata": {
    "ExecuteTime": {
     "end_time": "2024-04-13T10:52:07.904896Z",
     "start_time": "2024-04-13T10:52:07.889357Z"
    }
   },
   "cell_type": "code",
   "source": [
    "dataset = AerialDataset(dataset_dir, lr_size, hr_size)\n",
    "train_dataset, val_dataset, test_dataset = random_split(dataset, [0.6, 0.2, 0.2])\n",
    "\n",
    "train_dataloader = DataLoader(train_dataset, batch_size=batch_size, shuffle=True)\n",
    "val_dataloader = DataLoader(val_dataset, batch_size=batch_size, shuffle=True)\n",
    "test_dataloader = DataLoader(test_dataset, batch_size=batch_size, shuffle=True)\n",
    "\n",
    "device = torch.device('cuda' if torch.cuda.is_available() else 'cpu')\n",
    "print(f'Device: {device}')\n",
    "\n",
    "trainer = Trainer(logs_dir=logs_dir)\n",
    "for epoch in range(epochs):\n",
    "    \n"
   ],
   "id": "dc17da4936ebfe5e",
   "outputs": [
    {
     "name": "stdout",
     "output_type": "stream",
     "text": [
      "Device: cuda\n",
      "Number of GPUs: 1\n"
     ]
    }
   ],
   "execution_count": 8
  }
 ],
 "metadata": {
  "kernelspec": {
   "display_name": "Python 3",
   "language": "python",
   "name": "python3"
  },
  "language_info": {
   "codemirror_mode": {
    "name": "ipython",
    "version": 2
   },
   "file_extension": ".py",
   "mimetype": "text/x-python",
   "name": "python",
   "nbconvert_exporter": "python",
   "pygments_lexer": "ipython2",
   "version": "2.7.6"
  }
 },
 "nbformat": 4,
 "nbformat_minor": 5
}
