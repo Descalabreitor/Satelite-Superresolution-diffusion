{
 "cells": [
  {
   "cell_type": "code",
   "id": "initial_id",
   "metadata": {
    "collapsed": true,
    "ExecuteTime": {
     "end_time": "2024-04-23T16:20:41.898828Z",
     "start_time": "2024-04-23T16:20:39.865932Z"
    }
   },
   "source": [
    "import PIL\n",
    "import torch\n",
    "from torch.utils.data import DataLoader\n",
    "from torch.utils.data import random_split\n",
    "\n",
    "from Dataset.AerialDataset import AerialDataset\n"
   ],
   "outputs": [],
   "execution_count": 1
  },
  {
   "metadata": {},
   "cell_type": "markdown",
   "source": [
    "- Generar imagenes bicubicas\n",
    "- Construir Dataset\n",
    "- Construir Dataloader\n",
    "- SR3\n",
    "- SRdiff\n",
    "- SR3+"
   ],
   "id": "77744e547aa8b8f0"
  },
  {
   "metadata": {},
   "cell_type": "markdown",
   "source": [
    "## 64 -> 256\n",
    "\n",
    "\n",
    "#### Generación de imagenes bicubicas"
   ],
   "id": "71bab7523f2c3892"
  },
  {
   "metadata": {},
   "cell_type": "markdown",
   "source": "",
   "id": "f8dda06f98beef4d"
  },
  {
   "metadata": {},
   "cell_type": "markdown",
   "source": [
    "import os\n",
    "import numpy as np\n",
    "from scipy.interpolate import interpn\n",
    "from PIL import Image\n",
    "from tqdm import tqdm\n",
    "\n",
    "##TODO Mover esto a su propio modulo donde poder usarlo para preparar los datos a posteriori.\n",
    "## TODO cambiar metodo para q vaya más rapido.\n",
    "\n",
    "\n",
    "def bicubic_interpolation(image, objective_dim): # De momento lo implementare para 1 sola foto a la vez\n",
    "    #Calculo nuevas dimensiones\n",
    "    height, width = image.shape[0] , image.shape[1]\n",
    "    new_width, new_height = objective_dim[0], objective_dim[1]\n",
    "    new_image = np.zeros((new_height, new_width, image.shape[2]))\n",
    "    \n",
    "     # Generar cuadrículas para las coordenadas X e Y de la imagen original y la interpolada\n",
    "    x = np.linspace(0, width - 1, width)\n",
    "    y = np.linspace(0, height - 1, height)\n",
    "    new_x = np.linspace(0, width - 1, new_width)\n",
    "    new_y = np.linspace(0, height - 1, new_height)\n",
    "    new_image = interpn((y, x), image, (new_y[:,None], new_x), method='cubic', bounds_error=False, fill_value=0)\n",
    "    return new_image\n",
    "\n",
    "dataset_dir = 'E:\\\\TFG\\\\air_dataset\\\\64'\n",
    "for image_file in tqdm(os.listdir(dataset_dir)):\n",
    "    image = Image.open(os.path.join(dataset_dir, image_file))\n",
    "    image = np.array(image)\n",
    "    interpolated = bicubic_interpolation(image, (256, 256))\n",
    "    interpolated_image = Image.fromarray(interpolated.astype(np.uint8))\n",
    "    interpolated_image.save(f'E:\\\\TFG\\\\air_dataset\\\\sr\\\\64_256\\\\{image_file}')\n",
    "    "
   ],
   "id": "f0ea57b4a9efc3e"
  },
  {
   "metadata": {},
   "cell_type": "markdown",
   "source": "## Entrenamiento",
   "id": "830b031f8230ceb3"
  },
  {
   "metadata": {
    "ExecuteTime": {
     "end_time": "2024-04-23T16:20:41.901888Z",
     "start_time": "2024-04-23T16:20:41.899838Z"
    }
   },
   "cell_type": "code",
   "source": [
    "lr_size = 64\n",
    "hr_size = 256\n",
    "batch_size = 16\n",
    "dataset_dir = 'E:\\\\TFG\\\\air_dataset'"
   ],
   "id": "4e91bfd9d2a1b993",
   "outputs": [],
   "execution_count": 2
  },
  {
   "metadata": {
    "ExecuteTime": {
     "end_time": "2024-04-23T16:20:41.938095Z",
     "start_time": "2024-04-23T16:20:41.901888Z"
    }
   },
   "cell_type": "code",
   "source": [
    "dataset = AerialDataset(dataset_dir, lr_size, hr_size)\n",
    "train_dataset, val_dataset, test_dataset = random_split(dataset, [0.6, 0.2, 0.2])\n",
    "\n",
    "train_dataloader = DataLoader(train_dataset, batch_size=batch_size, shuffle=True)\n",
    "val_dataloader = DataLoader(val_dataset, batch_size=batch_size, shuffle=True)\n",
    "test_dataloader = DataLoader(test_dataset, batch_size=batch_size, shuffle=True)\n",
    "    \n",
    "device = torch.device('cuda' if torch.cuda.is_available() else 'cpu')"
   ],
   "id": "dc17da4936ebfe5e",
   "outputs": [],
   "execution_count": 3
  },
  {
   "metadata": {},
   "cell_type": "markdown",
   "source": [
    "### SRDiff\n",
    "\n",
    "#### Modelo"
   ],
   "id": "623af87a8c0ca129"
  },
  {
   "metadata": {
    "ExecuteTime": {
     "end_time": "2024-04-23T16:20:42.091876Z",
     "start_time": "2024-04-23T16:20:41.939099Z"
    }
   },
   "cell_type": "code",
   "source": [
    "from models.SRDiff.diffusion import GaussianDiffusion\n",
    "from models.SRDiff.diffsr_modules import Unet, RRDBNet\n",
    "\n",
    "hidden_size = 64\n",
    "dim_mults = [1,2,2,4]\n",
    "rrdb_num_features = 32\n",
    "rrdb_num_blocks = 8\n",
    "timesteps = 100\n",
    "losstype = 'l1'\n",
    "\n",
    "denoise_fn = Unet(\n",
    "    hidden_size, out_dim=3, cond_dim=rrdb_num_features, dim_mults=dim_mults, rrdb_num_block=rrdb_num_blocks, sr_scale=4)\n",
    "\n",
    "rrdb = RRDBNet(3, 3, rrdb_num_features, rrdb_num_blocks, rrdb_num_features// 2)\n",
    "\n",
    "model = GaussianDiffusion(\n",
    "    denoise_fn=denoise_fn,\n",
    "    rrdb_net=rrdb,\n",
    "    timesteps= timesteps,\n",
    "    loss_type=losstype\n",
    ")\n",
    "\n",
    "model.to(device)"
   ],
   "id": "a01af5a02108db9",
   "outputs": [
    {
     "data": {
      "text/plain": [
       "GaussianDiffusion(\n",
       "  (denoise_fn): Unet(\n",
       "    (cond_proj): ConvTranspose2d(96, 64, kernel_size=(8, 8), stride=(4, 4), padding=(2, 2))\n",
       "    (time_pos_emb): SinusoidalPosEmb()\n",
       "    (mlp): Sequential(\n",
       "      (0): Linear(in_features=64, out_features=256, bias=True)\n",
       "      (1): Mish()\n",
       "      (2): Linear(in_features=256, out_features=64, bias=True)\n",
       "    )\n",
       "    (downs): ModuleList(\n",
       "      (0): ModuleList(\n",
       "        (0): ResnetBlock(\n",
       "          (mlp): Sequential(\n",
       "            (0): Mish()\n",
       "            (1): Linear(in_features=64, out_features=64, bias=True)\n",
       "          )\n",
       "          (block1): Block(\n",
       "            (block): Sequential(\n",
       "              (0): ReflectionPad2d((1, 1, 1, 1))\n",
       "              (1): Conv2d(3, 64, kernel_size=(3, 3), stride=(1, 1))\n",
       "              (2): Mish()\n",
       "            )\n",
       "          )\n",
       "          (block2): Block(\n",
       "            (block): Sequential(\n",
       "              (0): ReflectionPad2d((1, 1, 1, 1))\n",
       "              (1): Conv2d(64, 64, kernel_size=(3, 3), stride=(1, 1))\n",
       "              (2): Mish()\n",
       "            )\n",
       "          )\n",
       "          (res_conv): Conv2d(3, 64, kernel_size=(1, 1), stride=(1, 1))\n",
       "        )\n",
       "        (1): ResnetBlock(\n",
       "          (mlp): Sequential(\n",
       "            (0): Mish()\n",
       "            (1): Linear(in_features=64, out_features=64, bias=True)\n",
       "          )\n",
       "          (block1): Block(\n",
       "            (block): Sequential(\n",
       "              (0): ReflectionPad2d((1, 1, 1, 1))\n",
       "              (1): Conv2d(64, 64, kernel_size=(3, 3), stride=(1, 1))\n",
       "              (2): Mish()\n",
       "            )\n",
       "          )\n",
       "          (block2): Block(\n",
       "            (block): Sequential(\n",
       "              (0): ReflectionPad2d((1, 1, 1, 1))\n",
       "              (1): Conv2d(64, 64, kernel_size=(3, 3), stride=(1, 1))\n",
       "              (2): Mish()\n",
       "            )\n",
       "          )\n",
       "          (res_conv): Identity()\n",
       "        )\n",
       "        (2): Downsample(\n",
       "          (conv): Sequential(\n",
       "            (0): ReflectionPad2d((1, 1, 1, 1))\n",
       "            (1): Conv2d(64, 64, kernel_size=(3, 3), stride=(2, 2))\n",
       "          )\n",
       "        )\n",
       "      )\n",
       "      (1): ModuleList(\n",
       "        (0): ResnetBlock(\n",
       "          (mlp): Sequential(\n",
       "            (0): Mish()\n",
       "            (1): Linear(in_features=64, out_features=128, bias=True)\n",
       "          )\n",
       "          (block1): Block(\n",
       "            (block): Sequential(\n",
       "              (0): ReflectionPad2d((1, 1, 1, 1))\n",
       "              (1): Conv2d(64, 128, kernel_size=(3, 3), stride=(1, 1))\n",
       "              (2): Mish()\n",
       "            )\n",
       "          )\n",
       "          (block2): Block(\n",
       "            (block): Sequential(\n",
       "              (0): ReflectionPad2d((1, 1, 1, 1))\n",
       "              (1): Conv2d(128, 128, kernel_size=(3, 3), stride=(1, 1))\n",
       "              (2): Mish()\n",
       "            )\n",
       "          )\n",
       "          (res_conv): Conv2d(64, 128, kernel_size=(1, 1), stride=(1, 1))\n",
       "        )\n",
       "        (1): ResnetBlock(\n",
       "          (mlp): Sequential(\n",
       "            (0): Mish()\n",
       "            (1): Linear(in_features=64, out_features=128, bias=True)\n",
       "          )\n",
       "          (block1): Block(\n",
       "            (block): Sequential(\n",
       "              (0): ReflectionPad2d((1, 1, 1, 1))\n",
       "              (1): Conv2d(128, 128, kernel_size=(3, 3), stride=(1, 1))\n",
       "              (2): Mish()\n",
       "            )\n",
       "          )\n",
       "          (block2): Block(\n",
       "            (block): Sequential(\n",
       "              (0): ReflectionPad2d((1, 1, 1, 1))\n",
       "              (1): Conv2d(128, 128, kernel_size=(3, 3), stride=(1, 1))\n",
       "              (2): Mish()\n",
       "            )\n",
       "          )\n",
       "          (res_conv): Identity()\n",
       "        )\n",
       "        (2): Downsample(\n",
       "          (conv): Sequential(\n",
       "            (0): ReflectionPad2d((1, 1, 1, 1))\n",
       "            (1): Conv2d(128, 128, kernel_size=(3, 3), stride=(2, 2))\n",
       "          )\n",
       "        )\n",
       "      )\n",
       "      (2): ModuleList(\n",
       "        (0-1): 2 x ResnetBlock(\n",
       "          (mlp): Sequential(\n",
       "            (0): Mish()\n",
       "            (1): Linear(in_features=64, out_features=128, bias=True)\n",
       "          )\n",
       "          (block1): Block(\n",
       "            (block): Sequential(\n",
       "              (0): ReflectionPad2d((1, 1, 1, 1))\n",
       "              (1): Conv2d(128, 128, kernel_size=(3, 3), stride=(1, 1))\n",
       "              (2): Mish()\n",
       "            )\n",
       "          )\n",
       "          (block2): Block(\n",
       "            (block): Sequential(\n",
       "              (0): ReflectionPad2d((1, 1, 1, 1))\n",
       "              (1): Conv2d(128, 128, kernel_size=(3, 3), stride=(1, 1))\n",
       "              (2): Mish()\n",
       "            )\n",
       "          )\n",
       "          (res_conv): Identity()\n",
       "        )\n",
       "        (2): Downsample(\n",
       "          (conv): Sequential(\n",
       "            (0): ReflectionPad2d((1, 1, 1, 1))\n",
       "            (1): Conv2d(128, 128, kernel_size=(3, 3), stride=(2, 2))\n",
       "          )\n",
       "        )\n",
       "      )\n",
       "      (3): ModuleList(\n",
       "        (0): ResnetBlock(\n",
       "          (mlp): Sequential(\n",
       "            (0): Mish()\n",
       "            (1): Linear(in_features=64, out_features=256, bias=True)\n",
       "          )\n",
       "          (block1): Block(\n",
       "            (block): Sequential(\n",
       "              (0): ReflectionPad2d((1, 1, 1, 1))\n",
       "              (1): Conv2d(128, 256, kernel_size=(3, 3), stride=(1, 1))\n",
       "              (2): Mish()\n",
       "            )\n",
       "          )\n",
       "          (block2): Block(\n",
       "            (block): Sequential(\n",
       "              (0): ReflectionPad2d((1, 1, 1, 1))\n",
       "              (1): Conv2d(256, 256, kernel_size=(3, 3), stride=(1, 1))\n",
       "              (2): Mish()\n",
       "            )\n",
       "          )\n",
       "          (res_conv): Conv2d(128, 256, kernel_size=(1, 1), stride=(1, 1))\n",
       "        )\n",
       "        (1): ResnetBlock(\n",
       "          (mlp): Sequential(\n",
       "            (0): Mish()\n",
       "            (1): Linear(in_features=64, out_features=256, bias=True)\n",
       "          )\n",
       "          (block1): Block(\n",
       "            (block): Sequential(\n",
       "              (0): ReflectionPad2d((1, 1, 1, 1))\n",
       "              (1): Conv2d(256, 256, kernel_size=(3, 3), stride=(1, 1))\n",
       "              (2): Mish()\n",
       "            )\n",
       "          )\n",
       "          (block2): Block(\n",
       "            (block): Sequential(\n",
       "              (0): ReflectionPad2d((1, 1, 1, 1))\n",
       "              (1): Conv2d(256, 256, kernel_size=(3, 3), stride=(1, 1))\n",
       "              (2): Mish()\n",
       "            )\n",
       "          )\n",
       "          (res_conv): Identity()\n",
       "        )\n",
       "        (2): Identity()\n",
       "      )\n",
       "    )\n",
       "    (ups): ModuleList(\n",
       "      (0): ModuleList(\n",
       "        (0): ResnetBlock(\n",
       "          (mlp): Sequential(\n",
       "            (0): Mish()\n",
       "            (1): Linear(in_features=64, out_features=128, bias=True)\n",
       "          )\n",
       "          (block1): Block(\n",
       "            (block): Sequential(\n",
       "              (0): ReflectionPad2d((1, 1, 1, 1))\n",
       "              (1): Conv2d(512, 128, kernel_size=(3, 3), stride=(1, 1))\n",
       "              (2): Mish()\n",
       "            )\n",
       "          )\n",
       "          (block2): Block(\n",
       "            (block): Sequential(\n",
       "              (0): ReflectionPad2d((1, 1, 1, 1))\n",
       "              (1): Conv2d(128, 128, kernel_size=(3, 3), stride=(1, 1))\n",
       "              (2): Mish()\n",
       "            )\n",
       "          )\n",
       "          (res_conv): Conv2d(512, 128, kernel_size=(1, 1), stride=(1, 1))\n",
       "        )\n",
       "        (1): ResnetBlock(\n",
       "          (mlp): Sequential(\n",
       "            (0): Mish()\n",
       "            (1): Linear(in_features=64, out_features=128, bias=True)\n",
       "          )\n",
       "          (block1): Block(\n",
       "            (block): Sequential(\n",
       "              (0): ReflectionPad2d((1, 1, 1, 1))\n",
       "              (1): Conv2d(128, 128, kernel_size=(3, 3), stride=(1, 1))\n",
       "              (2): Mish()\n",
       "            )\n",
       "          )\n",
       "          (block2): Block(\n",
       "            (block): Sequential(\n",
       "              (0): ReflectionPad2d((1, 1, 1, 1))\n",
       "              (1): Conv2d(128, 128, kernel_size=(3, 3), stride=(1, 1))\n",
       "              (2): Mish()\n",
       "            )\n",
       "          )\n",
       "          (res_conv): Identity()\n",
       "        )\n",
       "        (2): Upsample(\n",
       "          (conv): Sequential(\n",
       "            (0): ConvTranspose2d(128, 128, kernel_size=(4, 4), stride=(2, 2), padding=(1, 1))\n",
       "          )\n",
       "        )\n",
       "      )\n",
       "      (1): ModuleList(\n",
       "        (0): ResnetBlock(\n",
       "          (mlp): Sequential(\n",
       "            (0): Mish()\n",
       "            (1): Linear(in_features=64, out_features=128, bias=True)\n",
       "          )\n",
       "          (block1): Block(\n",
       "            (block): Sequential(\n",
       "              (0): ReflectionPad2d((1, 1, 1, 1))\n",
       "              (1): Conv2d(256, 128, kernel_size=(3, 3), stride=(1, 1))\n",
       "              (2): Mish()\n",
       "            )\n",
       "          )\n",
       "          (block2): Block(\n",
       "            (block): Sequential(\n",
       "              (0): ReflectionPad2d((1, 1, 1, 1))\n",
       "              (1): Conv2d(128, 128, kernel_size=(3, 3), stride=(1, 1))\n",
       "              (2): Mish()\n",
       "            )\n",
       "          )\n",
       "          (res_conv): Conv2d(256, 128, kernel_size=(1, 1), stride=(1, 1))\n",
       "        )\n",
       "        (1): ResnetBlock(\n",
       "          (mlp): Sequential(\n",
       "            (0): Mish()\n",
       "            (1): Linear(in_features=64, out_features=128, bias=True)\n",
       "          )\n",
       "          (block1): Block(\n",
       "            (block): Sequential(\n",
       "              (0): ReflectionPad2d((1, 1, 1, 1))\n",
       "              (1): Conv2d(128, 128, kernel_size=(3, 3), stride=(1, 1))\n",
       "              (2): Mish()\n",
       "            )\n",
       "          )\n",
       "          (block2): Block(\n",
       "            (block): Sequential(\n",
       "              (0): ReflectionPad2d((1, 1, 1, 1))\n",
       "              (1): Conv2d(128, 128, kernel_size=(3, 3), stride=(1, 1))\n",
       "              (2): Mish()\n",
       "            )\n",
       "          )\n",
       "          (res_conv): Identity()\n",
       "        )\n",
       "        (2): Upsample(\n",
       "          (conv): Sequential(\n",
       "            (0): ConvTranspose2d(128, 128, kernel_size=(4, 4), stride=(2, 2), padding=(1, 1))\n",
       "          )\n",
       "        )\n",
       "      )\n",
       "      (2): ModuleList(\n",
       "        (0): ResnetBlock(\n",
       "          (mlp): Sequential(\n",
       "            (0): Mish()\n",
       "            (1): Linear(in_features=64, out_features=64, bias=True)\n",
       "          )\n",
       "          (block1): Block(\n",
       "            (block): Sequential(\n",
       "              (0): ReflectionPad2d((1, 1, 1, 1))\n",
       "              (1): Conv2d(256, 64, kernel_size=(3, 3), stride=(1, 1))\n",
       "              (2): Mish()\n",
       "            )\n",
       "          )\n",
       "          (block2): Block(\n",
       "            (block): Sequential(\n",
       "              (0): ReflectionPad2d((1, 1, 1, 1))\n",
       "              (1): Conv2d(64, 64, kernel_size=(3, 3), stride=(1, 1))\n",
       "              (2): Mish()\n",
       "            )\n",
       "          )\n",
       "          (res_conv): Conv2d(256, 64, kernel_size=(1, 1), stride=(1, 1))\n",
       "        )\n",
       "        (1): ResnetBlock(\n",
       "          (mlp): Sequential(\n",
       "            (0): Mish()\n",
       "            (1): Linear(in_features=64, out_features=64, bias=True)\n",
       "          )\n",
       "          (block1): Block(\n",
       "            (block): Sequential(\n",
       "              (0): ReflectionPad2d((1, 1, 1, 1))\n",
       "              (1): Conv2d(64, 64, kernel_size=(3, 3), stride=(1, 1))\n",
       "              (2): Mish()\n",
       "            )\n",
       "          )\n",
       "          (block2): Block(\n",
       "            (block): Sequential(\n",
       "              (0): ReflectionPad2d((1, 1, 1, 1))\n",
       "              (1): Conv2d(64, 64, kernel_size=(3, 3), stride=(1, 1))\n",
       "              (2): Mish()\n",
       "            )\n",
       "          )\n",
       "          (res_conv): Identity()\n",
       "        )\n",
       "        (2): Upsample(\n",
       "          (conv): Sequential(\n",
       "            (0): ConvTranspose2d(64, 64, kernel_size=(4, 4), stride=(2, 2), padding=(1, 1))\n",
       "          )\n",
       "        )\n",
       "      )\n",
       "    )\n",
       "    (mid_block1): ResnetBlock(\n",
       "      (mlp): Sequential(\n",
       "        (0): Mish()\n",
       "        (1): Linear(in_features=64, out_features=256, bias=True)\n",
       "      )\n",
       "      (block1): Block(\n",
       "        (block): Sequential(\n",
       "          (0): ReflectionPad2d((1, 1, 1, 1))\n",
       "          (1): Conv2d(256, 256, kernel_size=(3, 3), stride=(1, 1))\n",
       "          (2): Mish()\n",
       "        )\n",
       "      )\n",
       "      (block2): Block(\n",
       "        (block): Sequential(\n",
       "          (0): ReflectionPad2d((1, 1, 1, 1))\n",
       "          (1): Conv2d(256, 256, kernel_size=(3, 3), stride=(1, 1))\n",
       "          (2): Mish()\n",
       "        )\n",
       "      )\n",
       "      (res_conv): Identity()\n",
       "    )\n",
       "    (mid_block2): ResnetBlock(\n",
       "      (mlp): Sequential(\n",
       "        (0): Mish()\n",
       "        (1): Linear(in_features=64, out_features=256, bias=True)\n",
       "      )\n",
       "      (block1): Block(\n",
       "        (block): Sequential(\n",
       "          (0): ReflectionPad2d((1, 1, 1, 1))\n",
       "          (1): Conv2d(256, 256, kernel_size=(3, 3), stride=(1, 1))\n",
       "          (2): Mish()\n",
       "        )\n",
       "      )\n",
       "      (block2): Block(\n",
       "        (block): Sequential(\n",
       "          (0): ReflectionPad2d((1, 1, 1, 1))\n",
       "          (1): Conv2d(256, 256, kernel_size=(3, 3), stride=(1, 1))\n",
       "          (2): Mish()\n",
       "        )\n",
       "      )\n",
       "      (res_conv): Identity()\n",
       "    )\n",
       "    (final_conv): Sequential(\n",
       "      (0): Block(\n",
       "        (block): Sequential(\n",
       "          (0): ReflectionPad2d((1, 1, 1, 1))\n",
       "          (1): Conv2d(64, 64, kernel_size=(3, 3), stride=(1, 1))\n",
       "          (2): Mish()\n",
       "        )\n",
       "      )\n",
       "      (1): Conv2d(64, 3, kernel_size=(1, 1), stride=(1, 1))\n",
       "    )\n",
       "  )\n",
       "  (rrdb): RRDBNet(\n",
       "    (conv_first): Conv2d(3, 32, kernel_size=(3, 3), stride=(1, 1), padding=(1, 1))\n",
       "    (RRDB_trunk): ModuleList(\n",
       "      (0-7): 8 x RRDB(\n",
       "        (RDB1): ResidualDenseBlock_5C(\n",
       "          (conv1): Conv2d(32, 16, kernel_size=(3, 3), stride=(1, 1), padding=(1, 1))\n",
       "          (conv2): Conv2d(48, 16, kernel_size=(3, 3), stride=(1, 1), padding=(1, 1))\n",
       "          (conv3): Conv2d(64, 16, kernel_size=(3, 3), stride=(1, 1), padding=(1, 1))\n",
       "          (conv4): Conv2d(80, 16, kernel_size=(3, 3), stride=(1, 1), padding=(1, 1))\n",
       "          (conv5): Conv2d(96, 32, kernel_size=(3, 3), stride=(1, 1), padding=(1, 1))\n",
       "          (lrelu): LeakyReLU(negative_slope=0.2, inplace=True)\n",
       "        )\n",
       "        (RDB2): ResidualDenseBlock_5C(\n",
       "          (conv1): Conv2d(32, 16, kernel_size=(3, 3), stride=(1, 1), padding=(1, 1))\n",
       "          (conv2): Conv2d(48, 16, kernel_size=(3, 3), stride=(1, 1), padding=(1, 1))\n",
       "          (conv3): Conv2d(64, 16, kernel_size=(3, 3), stride=(1, 1), padding=(1, 1))\n",
       "          (conv4): Conv2d(80, 16, kernel_size=(3, 3), stride=(1, 1), padding=(1, 1))\n",
       "          (conv5): Conv2d(96, 32, kernel_size=(3, 3), stride=(1, 1), padding=(1, 1))\n",
       "          (lrelu): LeakyReLU(negative_slope=0.2, inplace=True)\n",
       "        )\n",
       "        (RDB3): ResidualDenseBlock_5C(\n",
       "          (conv1): Conv2d(32, 16, kernel_size=(3, 3), stride=(1, 1), padding=(1, 1))\n",
       "          (conv2): Conv2d(48, 16, kernel_size=(3, 3), stride=(1, 1), padding=(1, 1))\n",
       "          (conv3): Conv2d(64, 16, kernel_size=(3, 3), stride=(1, 1), padding=(1, 1))\n",
       "          (conv4): Conv2d(80, 16, kernel_size=(3, 3), stride=(1, 1), padding=(1, 1))\n",
       "          (conv5): Conv2d(96, 32, kernel_size=(3, 3), stride=(1, 1), padding=(1, 1))\n",
       "          (lrelu): LeakyReLU(negative_slope=0.2, inplace=True)\n",
       "        )\n",
       "      )\n",
       "    )\n",
       "    (trunk_conv): Conv2d(32, 32, kernel_size=(3, 3), stride=(1, 1), padding=(1, 1))\n",
       "    (upconv1): Conv2d(32, 32, kernel_size=(3, 3), stride=(1, 1), padding=(1, 1))\n",
       "    (upconv2): Conv2d(32, 32, kernel_size=(3, 3), stride=(1, 1), padding=(1, 1))\n",
       "    (HRconv): Conv2d(32, 32, kernel_size=(3, 3), stride=(1, 1), padding=(1, 1))\n",
       "    (conv_last): Conv2d(32, 3, kernel_size=(3, 3), stride=(1, 1), padding=(1, 1))\n",
       "    (lrelu): LeakyReLU(negative_slope=0.2)\n",
       "  )\n",
       "  (ssim_loss): SSIM()\n",
       ")"
      ]
     },
     "execution_count": 4,
     "metadata": {},
     "output_type": "execute_result"
    }
   ],
   "execution_count": 4
  },
  {
   "metadata": {},
   "cell_type": "markdown",
   "source": "#### Optimizador y scheduler",
   "id": "5ed0a92eaccb64c0"
  },
  {
   "metadata": {
    "ExecuteTime": {
     "end_time": "2024-04-23T16:20:42.096150Z",
     "start_time": "2024-04-23T16:20:42.091876Z"
    }
   },
   "cell_type": "code",
   "source": [
    "lr= 0.0002\n",
    "decay_steps= 100000\n",
    "gamma = 0.5\n",
    "\n",
    "optimizer = torch.optim.Adam(model.parameters(), lr=lr)\n",
    "scheduler = torch.optim.lr_scheduler.StepLR(optimizer, step_size=decay_steps, gamma=gamma)"
   ],
   "id": "5c9bcb1d2dbd771e",
   "outputs": [],
   "execution_count": 5
  },
  {
   "metadata": {},
   "cell_type": "code",
   "source": [
    "import wandb\n",
    "from tasks.Trainer import Trainer\n",
    "\n",
    "max_steps = 5\n",
    "hyperparams = {\n",
    "    \"max_steps\": 100,\n",
    "    \"model\": \"SRDiff\",\n",
    "    \"learning_rate\": lr,\n",
    "    \"decay_steps\": decay_steps,\n",
    "    \"gamma\": gamma,\n",
    "    \"batch_size\": batch_size,\n",
    "    \"hidden_size\": hidden_size,\n",
    "    \"dim_mults\": dim_mults,\n",
    "    \"rrdb_num_features\": rrdb_num_features,\n",
    "    \"rrdb_num_blocks\": rrdb_num_blocks,\n",
    "    \"loss_type\": losstype\n",
    "}\n",
    "project_name = \"SR model benchmarking\"\n",
    "run_name = \"SRDiff Standart Params\"\n",
    "wandb.login()\n",
    "wandb.init(project=project_name, config=hyperparams, name=run_name)\n",
    "\n",
    "trainer = Trainer(metrics_used=[\"ssim\", \"psnr\"])\n",
    "trainer.set_model(model)\n",
    "trainer.set_optimizer(optimizer)\n",
    "trainer.set_scheduler(scheduler)\n",
    "for step in range(max_steps):\n",
    "    train_loss = trainer.train(train_dataloader)\n",
    "    torch.cuda.empty_cache()\n",
    "    \n",
    "    trainer.save_model(\"checkpoints\\\\SRDiff\", step)\n",
    "    with torch.no_grad():\n",
    "        val_loss = trainer.validate(val_dataloader)\n",
    "    torch.cuda.empty_cache()\n",
    "    wandb.log({\"train_loss\": train_loss, \"validation_loss\": val_loss})\n",
    "    \n",
    "test_metrics = trainer.test(test_dataloader)\n",
    "wandb.log(test_metrics)\n",
    "wandb.finish() "
   ],
   "id": "5a1c4e72f15d724",
   "outputs": [
    {
     "name": "stderr",
     "output_type": "stream",
     "text": [
      "100%|██████████| 148/148 [06:30<00:00,  2.64s/batch, q=0.13] \n"
     ]
    },
    {
     "name": "stdout",
     "output_type": "stream",
     "text": [
      "Step@0: saving model to checkpoints\\SRDiff\\model_ckpt_steps_0.ckpt\n"
     ]
    },
    {
     "name": "stderr",
     "output_type": "stream",
     "text": [
      "100%|██████████| 50/50 [00:12<00:00,  4.03batch/s, q=0.118]\n",
      "100%|██████████| 148/148 [05:45<00:00,  2.33s/batch, q=0.101] \n"
     ]
    },
    {
     "name": "stdout",
     "output_type": "stream",
     "text": [
      "Step@1: saving model to checkpoints\\SRDiff\\model_ckpt_steps_1.ckpt\n"
     ]
    },
    {
     "name": "stderr",
     "output_type": "stream",
     "text": [
      "100%|██████████| 50/50 [00:11<00:00,  4.30batch/s, q=0.0817]\n",
      "100%|██████████| 148/148 [07:59<00:00,  3.24s/batch, q=0.151] \n"
     ]
    },
    {
     "name": "stdout",
     "output_type": "stream",
     "text": [
      "Step@2: saving model to checkpoints\\SRDiff\\model_ckpt_steps_2.ckpt\n"
     ]
    },
    {
     "name": "stderr",
     "output_type": "stream",
     "text": [
      "100%|██████████| 50/50 [00:16<00:00,  3.03batch/s, q=0.0726]\n",
      "100%|██████████| 148/148 [05:45<00:00,  2.34s/batch, q=0.282] \n"
     ]
    },
    {
     "name": "stdout",
     "output_type": "stream",
     "text": [
      "Step@3: saving model to checkpoints\\SRDiff\\model_ckpt_steps_3.ckpt\n"
     ]
    },
    {
     "name": "stderr",
     "output_type": "stream",
     "text": [
      "100%|██████████| 50/50 [00:12<00:00,  3.94batch/s, q=0.067] \n",
      "100%|██████████| 148/148 [06:26<00:00,  2.61s/batch, q=0.189] \n"
     ]
    },
    {
     "name": "stdout",
     "output_type": "stream",
     "text": [
      "Step@4: saving model to checkpoints\\SRDiff\\model_ckpt_steps_4.ckpt\n"
     ]
    },
    {
     "name": "stderr",
     "output_type": "stream",
     "text": [
      "100%|██████████| 50/50 [00:11<00:00,  4.28batch/s, q=0.0528]\n",
      "100%|██████████| 50/50 [13:08<00:00, 15.76s/batch, n_samples=1, psnr=36, ssim=0.904] \n"
     ]
    },
    {
     "data": {
      "text/plain": [
       "VBox(children=(Label(value='0.001 MB of 0.001 MB uploaded\\r'), FloatProgress(value=1.0, max=1.0)))"
      ],
      "application/vnd.jupyter.widget-view+json": {
       "version_major": 2,
       "version_minor": 0,
       "model_id": "af59b033f0ad495e9747fedc2a7b95a5"
      }
     },
     "metadata": {},
     "output_type": "display_data"
    },
    {
     "data": {
      "text/plain": [
       "<IPython.core.display.HTML object>"
      ],
      "text/html": [
       "W&B sync reduced upload amount by 22.0%             "
      ]
     },
     "metadata": {},
     "output_type": "display_data"
    },
    {
     "data": {
      "text/plain": [
       "<IPython.core.display.HTML object>"
      ],
      "text/html": [
       "<style>\n",
       "    table.wandb td:nth-child(1) { padding: 0 10px; text-align: left ; width: auto;} td:nth-child(2) {text-align: left ; width: 100%}\n",
       "    .wandb-row { display: flex; flex-direction: row; flex-wrap: wrap; justify-content: flex-start; width: 100% }\n",
       "    .wandb-col { display: flex; flex-direction: column; flex-basis: 100%; flex: 1; padding: 10px; }\n",
       "    </style>\n",
       "<div class=\"wandb-row\"><div class=\"wandb-col\"><h3>Run history:</h3><br/><table class=\"wandb\"><tr><td>psnr</td><td>▁</td></tr><tr><td>ssim</td><td>▁</td></tr><tr><td>train_loss</td><td>█▂▁▁▁</td></tr><tr><td>validation_loss</td><td>█▄▂▂▁</td></tr></table><br/></div><div class=\"wandb-col\"><h3>Run summary:</h3><br/><table class=\"wandb\"><tr><td>psnr</td><td>33.64265</td></tr><tr><td>ssim</td><td>0.83523</td></tr><tr><td>train_loss</td><td>0.10148</td></tr><tr><td>validation_loss</td><td>0.09788</td></tr></table><br/></div></div>"
      ]
     },
     "metadata": {},
     "output_type": "display_data"
    },
    {
     "data": {
      "text/plain": [
       "<IPython.core.display.HTML object>"
      ],
      "text/html": [
       " View run <strong style=\"color:#cdcd00\">SRDiff Standart Params</strong> at: <a href='https://wandb.ai/ladoscuro/SR%20model%20benchmarking/runs/zlg9eah0' target=\"_blank\">https://wandb.ai/ladoscuro/SR%20model%20benchmarking/runs/zlg9eah0</a><br/> View project at: <a href='https://wandb.ai/ladoscuro/SR%20model%20benchmarking' target=\"_blank\">https://wandb.ai/ladoscuro/SR%20model%20benchmarking</a><br/>Synced 5 W&B file(s), 0 media file(s), 2 artifact file(s) and 0 other file(s)"
      ]
     },
     "metadata": {},
     "output_type": "display_data"
    },
    {
     "data": {
      "text/plain": [
       "<IPython.core.display.HTML object>"
      ],
      "text/html": [
       "Find logs at: <code>.\\wandb\\run-20240423_172044-zlg9eah0\\logs</code>"
      ]
     },
     "metadata": {},
     "output_type": "display_data"
    }
   ],
   "execution_count": 6
  },
  {
   "metadata": {},
   "cell_type": "markdown",
   "source": "",
   "id": "9cc14dffb7f3aee0"
  },
  {
   "metadata": {},
   "cell_type": "markdown",
   "source": "",
   "id": "fd511f8cb9ecdc9f"
  }
 ],
 "metadata": {
  "kernelspec": {
   "display_name": "Python 3",
   "language": "python",
   "name": "python3"
  },
  "language_info": {
   "codemirror_mode": {
    "name": "ipython",
    "version": 2
   },
   "file_extension": ".py",
   "mimetype": "text/x-python",
   "name": "python",
   "nbconvert_exporter": "python",
   "pygments_lexer": "ipython2",
   "version": "2.7.6"
  }
 },
 "nbformat": 4,
 "nbformat_minor": 5
}
