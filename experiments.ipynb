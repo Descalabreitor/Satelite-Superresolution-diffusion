{
 "cells": [
  {
   "cell_type": "code",
   "id": "initial_id",
   "metadata": {
    "collapsed": true,
    "ExecuteTime": {
     "end_time": "2024-05-11T00:19:08.433175Z",
     "start_time": "2024-05-11T00:19:05.887545Z"
    }
   },
   "source": [
    "import PIL\n",
    "import numpy as np\n",
    "import torch\n",
    "from torchvision.transforms.v2 import Compose, GaussianBlur, RandomEqualize, RandomSolarize, RandomApply\n",
    "\n",
    "import wandb\n",
    "from torch.utils.data import DataLoader\n",
    "from torch.utils.data import random_split\n",
    "\n",
    "from Dataset.AerialDataset import AerialDataset\n",
    "from tasks.SRDiffTrainer import SRDiffTrainer\n",
    "from tasks.SR3Trainer import SR3Trainer\n",
    "from utils.model_utils import load_model"
   ],
   "outputs": [],
   "execution_count": 1
  },
  {
   "metadata": {},
   "cell_type": "markdown",
   "source": [
    "- Generar imagenes bicubicas\n",
    "- Construir Dataset\n",
    "- Construir Dataloader\n",
    "- SR3\n",
    "- SRdiff\n",
    "- SR3+"
   ],
   "id": "77744e547aa8b8f0"
  },
  {
   "metadata": {},
   "cell_type": "markdown",
   "source": "## 64 -> 256",
   "id": "71bab7523f2c3892"
  },
  {
   "metadata": {},
   "cell_type": "markdown",
   "source": "## Entrenamiento",
   "id": "830b031f8230ceb3"
  },
  {
   "metadata": {
    "ExecuteTime": {
     "end_time": "2024-05-11T00:19:08.436687Z",
     "start_time": "2024-05-11T00:19:08.434183Z"
    }
   },
   "cell_type": "code",
   "source": [
    "lr_size = 64\n",
    "hr_size = 256\n",
    "batch_size = 16\n",
    "dataset_dir = 'E:\\\\TFG\\\\air_dataset'"
   ],
   "id": "4e91bfd9d2a1b993",
   "outputs": [],
   "execution_count": 2
  },
  {
   "metadata": {
    "ExecuteTime": {
     "end_time": "2024-05-11T00:19:08.469851Z",
     "start_time": "2024-05-11T00:19:08.436687Z"
    }
   },
   "cell_type": "code",
   "source": [
    "transforms = Compose(\n",
    "    [RandomApply(transforms= [GaussianBlur(7)], p = 0.5),\n",
    "    RandomEqualize()]\n",
    ")\n",
    "\n",
    "dataset = AerialDataset(dataset_dir, lr_size, hr_size, data_augmentation = transforms)\n",
    "train_dataset, val_dataset, test_dataset = random_split(dataset, [0.6, 0.2, 0.2], generator=torch.Generator().manual_seed(420))\n",
    "\n",
    "train_dataloader = DataLoader(train_dataset, batch_size=batch_size, shuffle=True)\n",
    "val_dataloader = DataLoader(val_dataset, batch_size=batch_size, shuffle=True)\n",
    "test_dataloader = DataLoader(test_dataset, batch_size=batch_size, shuffle=True)\n",
    "    \n",
    "device = torch.device('cuda' if torch.cuda.is_available() else 'cpu')"
   ],
   "id": "dc17da4936ebfe5e",
   "outputs": [],
   "execution_count": 3
  },
  {
   "metadata": {},
   "cell_type": "markdown",
   "source": "### SRDiff",
   "id": "ec73b68aba1d08bc"
  },
  {
   "metadata": {
    "ExecuteTime": {
     "end_time": "2024-05-11T03:55:13.882193Z",
     "start_time": "2024-05-11T00:19:08.469851Z"
    }
   },
   "cell_type": "code",
   "source": [
    "from models.SRDiff.diffusion import GaussianDiffusion\n",
    "from models.SRDiff.diffsr_modules import Unet, RRDBNet\n",
    "losstype = \"l2\"\n",
    "model_name = f\"SRDiff{losstype}DA\"\n",
    "hidden_size = 64\n",
    "dim_mults = [1,2,2,4]\n",
    "rrdb_num_features = 32\n",
    "rrdb_num_blocks = 8\n",
    "timesteps = 100\n",
    "\n",
    "denoise_fn = Unet(\n",
    "    hidden_size, out_dim=3, cond_dim=rrdb_num_features, dim_mults=dim_mults, rrdb_num_block=rrdb_num_blocks, sr_scale=4)\n",
    "\n",
    "rrdb = RRDBNet(3, 3, rrdb_num_features, rrdb_num_blocks, rrdb_num_features// 2)\n",
    "\n",
    "model = GaussianDiffusion(\n",
    "    denoise_fn=denoise_fn,\n",
    "    rrdb_net=rrdb,\n",
    "    timesteps= timesteps,\n",
    "    loss_type=losstype\n",
    ")\n",
    "#model = load_model(model, f\"SRDiff{losstype}.pt\", \"models_state_dic\")\n",
    "model.to(device)  \n",
    "\n",
    "lr= 0.0002\n",
    "decay_steps= 100000\n",
    "gamma = 0.5\n",
    "\n",
    "optimizer = torch.optim.Adam(model.parameters(), lr=lr)\n",
    "scheduler = torch.optim.lr_scheduler.StepLR(optimizer, step_size=decay_steps, gamma=gamma)\n",
    "max_steps = 30\n",
    "hyperparams = {\n",
    "    \"max_steps\": 100,\n",
    "    \"model\": \"SRDiff\",\n",
    "    \"learning_rate\": lr,\n",
    "    \"decay_steps\": decay_steps,\n",
    "    \"gamma\": gamma,\n",
    "    \"batch_size\": batch_size,\n",
    "    \"hidden_size\": hidden_size,\n",
    "    \"dim_mults\": dim_mults,\n",
    "    \"rrdb_num_features\": rrdb_num_features,\n",
    "    \"rrdb_num_blocks\": rrdb_num_blocks,\n",
    "    \"loss_type\": losstype,\n",
    "    \"epochs\": max_steps\n",
    "}\n",
    "project_name = \"SR model benchmarking\"\n",
    "run_name = \"SRDiff with data augmentation\"\n",
    "wandb.login()\n",
    "wandb.init(project=project_name, config=hyperparams, name=run_name)\n",
    "\n",
    "trainer = SRDiffTrainer(metrics_used=[\"ssim\", \"psnr\"], model_name=model_name)\n",
    "trainer.set_model(model)\n",
    "trainer.set_optimizer(optimizer)\n",
    "trainer.set_scheduler(scheduler)\n",
    "for step in range(max_steps):\n",
    "    with torch.no_grad():\n",
    "        val_loss = trainer.validate(val_dataloader)\n",
    "    train_loss = trainer.train(train_dataloader)\n",
    "    torch.cuda.empty_cache()\n",
    "    trainer.save_model(\"models_state_dic\")\n",
    "    torch.cuda.empty_cache()\n",
    "    wandb.log({\"train_loss\": train_loss, \"validation_loss\": val_loss})\n",
    "    \n",
    "test_metrics = trainer.test(test_dataloader)\n",
    "wandb.log(test_metrics)\n",
    "wandb.finish()   "
   ],
   "id": "5c9bcb1d2dbd771e",
   "outputs": [
    {
     "name": "stderr",
     "output_type": "stream",
     "text": [
      "\u001B[34m\u001B[1mwandb\u001B[0m: Currently logged in as: \u001B[33madrianpereramoreno\u001B[0m (\u001B[33mladoscuro\u001B[0m). Use \u001B[1m`wandb login --relogin`\u001B[0m to force relogin\n"
     ]
    },
    {
     "data": {
      "text/plain": [
       "<IPython.core.display.HTML object>"
      ],
      "text/html": [
       "wandb version 0.17.0 is available!  To upgrade, please run:\n",
       " $ pip install wandb --upgrade"
      ]
     },
     "metadata": {},
     "output_type": "display_data"
    },
    {
     "data": {
      "text/plain": [
       "<IPython.core.display.HTML object>"
      ],
      "text/html": [
       "Tracking run with wandb version 0.16.6"
      ]
     },
     "metadata": {},
     "output_type": "display_data"
    },
    {
     "data": {
      "text/plain": [
       "<IPython.core.display.HTML object>"
      ],
      "text/html": [
       "Run data is saved locally in <code>C:\\Users\\adria\\Desktop\\TFG-code\\SR-model-benchmarking\\wandb\\run-20240511_011910-539mye0k</code>"
      ]
     },
     "metadata": {},
     "output_type": "display_data"
    },
    {
     "data": {
      "text/plain": [
       "<IPython.core.display.HTML object>"
      ],
      "text/html": [
       "Syncing run <strong><a href='https://wandb.ai/ladoscuro/SR%20model%20benchmarking/runs/539mye0k' target=\"_blank\">SRDiff with data augmentation</a></strong> to <a href='https://wandb.ai/ladoscuro/SR%20model%20benchmarking' target=\"_blank\">Weights & Biases</a> (<a href='https://wandb.me/run' target=\"_blank\">docs</a>)<br/>"
      ]
     },
     "metadata": {},
     "output_type": "display_data"
    },
    {
     "data": {
      "text/plain": [
       "<IPython.core.display.HTML object>"
      ],
      "text/html": [
       " View project at <a href='https://wandb.ai/ladoscuro/SR%20model%20benchmarking' target=\"_blank\">https://wandb.ai/ladoscuro/SR%20model%20benchmarking</a>"
      ]
     },
     "metadata": {},
     "output_type": "display_data"
    },
    {
     "data": {
      "text/plain": [
       "<IPython.core.display.HTML object>"
      ],
      "text/html": [
       " View run at <a href='https://wandb.ai/ladoscuro/SR%20model%20benchmarking/runs/539mye0k' target=\"_blank\">https://wandb.ai/ladoscuro/SR%20model%20benchmarking/runs/539mye0k</a>"
      ]
     },
     "metadata": {},
     "output_type": "display_data"
    },
    {
     "name": "stderr",
     "output_type": "stream",
     "text": [
      "100%|██████████| 50/50 [00:12<00:00,  4.03batch/s, q=0.996]\n",
      "100%|██████████| 148/148 [12:37<00:00,  5.12s/batch, q=0.0578]\n",
      "100%|██████████| 50/50 [00:13<00:00,  3.67batch/s, q=0.0505]\n",
      "100%|██████████| 148/148 [05:45<00:00,  2.34s/batch, q=0.0393]\n",
      "100%|██████████| 50/50 [00:11<00:00,  4.25batch/s, q=0.0275]\n",
      "100%|██████████| 148/148 [06:09<00:00,  2.50s/batch, q=0.287] \n",
      "100%|██████████| 50/50 [00:16<00:00,  3.03batch/s, q=0.034] \n",
      "100%|██████████| 148/148 [06:39<00:00,  2.70s/batch, q=0.0219]\n",
      "100%|██████████| 50/50 [00:11<00:00,  4.24batch/s, q=0.113] \n",
      "100%|██████████| 148/148 [07:35<00:00,  3.08s/batch, q=0.156] \n",
      "100%|██████████| 50/50 [00:16<00:00,  3.03batch/s, q=0.022] \n",
      "100%|██████████| 148/148 [06:24<00:00,  2.60s/batch, q=0.075] \n",
      "100%|██████████| 50/50 [00:11<00:00,  4.25batch/s, q=0.0101]\n",
      "100%|██████████| 148/148 [07:28<00:00,  3.03s/batch, q=0.00994]\n",
      "100%|██████████| 50/50 [00:11<00:00,  4.21batch/s, q=0.0107]\n",
      "100%|██████████| 148/148 [05:51<00:00,  2.37s/batch, q=0.0859]\n",
      "100%|██████████| 50/50 [00:11<00:00,  4.25batch/s, q=0.0105]\n",
      "100%|██████████| 148/148 [06:21<00:00,  2.58s/batch, q=0.0172]\n",
      "100%|██████████| 50/50 [00:11<00:00,  4.22batch/s, q=0.0406]\n",
      "100%|██████████| 148/148 [06:29<00:00,  2.63s/batch, q=0.0114]\n",
      "100%|██████████| 50/50 [00:11<00:00,  4.23batch/s, q=0.01]  \n",
      "100%|██████████| 148/148 [05:49<00:00,  2.36s/batch, q=0.02]   \n",
      "100%|██████████| 50/50 [00:16<00:00,  3.02batch/s, q=0.0128] \n",
      "100%|██████████| 148/148 [06:55<00:00,  2.81s/batch, q=0.00612]\n",
      "100%|██████████| 50/50 [00:11<00:00,  4.25batch/s, q=0.00584]\n",
      "100%|██████████| 148/148 [06:19<00:00,  2.56s/batch, q=0.021]  \n",
      "100%|██████████| 50/50 [00:16<00:00,  3.04batch/s, q=0.0501]\n",
      "100%|██████████| 148/148 [06:16<00:00,  2.54s/batch, q=0.117] \n",
      "100%|██████████| 50/50 [00:11<00:00,  4.24batch/s, q=0.0626]\n",
      "100%|██████████| 148/148 [05:58<00:00,  2.42s/batch, q=0.0649] \n",
      "100%|██████████| 50/50 [00:11<00:00,  4.21batch/s, q=0.0127] \n",
      "100%|██████████| 148/148 [08:45<00:00,  3.55s/batch, q=0.0146]\n",
      "100%|██████████| 50/50 [00:11<00:00,  4.25batch/s, q=0.00338]\n",
      "100%|██████████| 148/148 [05:45<00:00,  2.33s/batch, q=0.0764]\n",
      "100%|██████████| 50/50 [00:16<00:00,  3.08batch/s, q=0.00229]\n",
      "100%|██████████| 148/148 [06:13<00:00,  2.52s/batch, q=0.0524] \n",
      "100%|██████████| 50/50 [00:11<00:00,  4.25batch/s, q=0.0125]\n",
      "100%|██████████| 148/148 [05:29<00:00,  2.23s/batch, q=0.00822]\n",
      "100%|██████████| 50/50 [00:11<00:00,  4.25batch/s, q=0.0388]\n",
      "100%|██████████| 148/148 [06:07<00:00,  2.48s/batch, q=0.0373] \n",
      "100%|██████████| 50/50 [00:11<00:00,  4.24batch/s, q=0.00268]\n",
      "100%|██████████| 148/148 [06:13<00:00,  2.53s/batch, q=0.0122]\n",
      "100%|██████████| 50/50 [00:11<00:00,  4.23batch/s, q=0.0463] \n",
      "100%|██████████| 148/148 [06:05<00:00,  2.47s/batch, q=0.109] \n",
      "100%|██████████| 50/50 [00:11<00:00,  4.24batch/s, q=0.0205] \n",
      "100%|██████████| 148/148 [05:29<00:00,  2.23s/batch, q=0.0344] \n",
      "100%|██████████| 50/50 [00:15<00:00,  3.24batch/s, q=0.0102] \n",
      "100%|██████████| 148/148 [07:14<00:00,  2.94s/batch, q=0.00267]\n",
      "100%|██████████| 50/50 [00:11<00:00,  4.24batch/s, q=0.0155] \n",
      "100%|██████████| 148/148 [05:51<00:00,  2.37s/batch, q=0.0202] \n",
      "100%|██████████| 50/50 [00:11<00:00,  4.22batch/s, q=0.00976]\n",
      "100%|██████████| 148/148 [05:44<00:00,  2.32s/batch, q=0.00907]\n",
      "100%|██████████| 50/50 [00:11<00:00,  4.24batch/s, q=0.0784]\n",
      "100%|██████████| 148/148 [05:57<00:00,  2.42s/batch, q=0.0986] \n",
      "100%|██████████| 50/50 [00:18<00:00,  2.72batch/s, q=0.122]  \n",
      "100%|██████████| 148/148 [06:40<00:00,  2.70s/batch, q=0.00674]\n",
      "100%|██████████| 50/50 [00:11<00:00,  4.25batch/s, q=0.00225]\n",
      "100%|██████████| 148/148 [05:43<00:00,  2.32s/batch, q=0.00469]\n",
      "100%|██████████| 50/50 [00:23<00:00,  2.10batch/s, q=0.0272] \n",
      "100%|██████████| 148/148 [06:12<00:00,  2.52s/batch, q=0.015]  \n",
      "100%|██████████| 50/50 [12:47<00:00, 15.36s/batch, n_samples=1, psnr=5.78, ssim=0.0329]\n"
     ]
    },
    {
     "data": {
      "text/plain": [
       "VBox(children=(Label(value='0.001 MB of 0.001 MB uploaded\\r'), FloatProgress(value=1.0, max=1.0)))"
      ],
      "application/vnd.jupyter.widget-view+json": {
       "version_major": 2,
       "version_minor": 0,
       "model_id": "a501dde40b774b6396c9112e385769bb"
      }
     },
     "metadata": {},
     "output_type": "display_data"
    },
    {
     "data": {
      "text/plain": [
       "<IPython.core.display.HTML object>"
      ],
      "text/html": [
       "<style>\n",
       "    table.wandb td:nth-child(1) { padding: 0 10px; text-align: left ; width: auto;} td:nth-child(2) {text-align: left ; width: 100%}\n",
       "    .wandb-row { display: flex; flex-direction: row; flex-wrap: wrap; justify-content: flex-start; width: 100% }\n",
       "    .wandb-col { display: flex; flex-direction: column; flex-basis: 100%; flex: 1; padding: 10px; }\n",
       "    </style>\n",
       "<div class=\"wandb-row\"><div class=\"wandb-col\"><h3>Run history:</h3><br/><table class=\"wandb\"><tr><td>psnr</td><td>▁</td></tr><tr><td>ssim</td><td>▁</td></tr><tr><td>train_loss</td><td>█▂▂▂▂▁▁▁▁▁▁▁▁▁▁▁▁▁▁▁▁▁▁▁▁▁▁▁▁▁</td></tr><tr><td>validation_loss</td><td>█▂▁▁▁▁▁▁▁▁▁▁▁▁▁▁▁▁▁▁▁▁▁▁▁▁▁▁▁▁</td></tr></table><br/></div><div class=\"wandb-col\"><h3>Run summary:</h3><br/><table class=\"wandb\"><tr><td>psnr</td><td>5.5199</td></tr><tr><td>ssim</td><td>0.08398</td></tr><tr><td>train_loss</td><td>0.03607</td></tr><tr><td>validation_loss</td><td>0.03739</td></tr></table><br/></div></div>"
      ]
     },
     "metadata": {},
     "output_type": "display_data"
    },
    {
     "data": {
      "text/plain": [
       "<IPython.core.display.HTML object>"
      ],
      "text/html": [
       " View run <strong style=\"color:#cdcd00\">SRDiff with data augmentation</strong> at: <a href='https://wandb.ai/ladoscuro/SR%20model%20benchmarking/runs/539mye0k' target=\"_blank\">https://wandb.ai/ladoscuro/SR%20model%20benchmarking/runs/539mye0k</a><br/> View project at: <a href='https://wandb.ai/ladoscuro/SR%20model%20benchmarking' target=\"_blank\">https://wandb.ai/ladoscuro/SR%20model%20benchmarking</a><br/>Synced 5 W&B file(s), 0 media file(s), 0 artifact file(s) and 0 other file(s)"
      ]
     },
     "metadata": {},
     "output_type": "display_data"
    },
    {
     "data": {
      "text/plain": [
       "<IPython.core.display.HTML object>"
      ],
      "text/html": [
       "Find logs at: <code>.\\wandb\\run-20240511_011910-539mye0k\\logs</code>"
      ]
     },
     "metadata": {},
     "output_type": "display_data"
    }
   ],
   "execution_count": 4
  },
  {
   "metadata": {},
   "cell_type": "markdown",
   "source": " ### SR3",
   "id": "56832a9822772ac4"
  },
  {
   "metadata": {
    "ExecuteTime": {
     "end_time": "2024-05-11T03:55:13.932819Z",
     "start_time": "2024-05-11T03:55:13.883198Z"
    }
   },
   "cell_type": "code",
   "source": [
    "from models.SR3.diffusion import GaussianDiffusion\n",
    "from models.SR3.model import UNet\n",
    "hyperparams = {\n",
    "    \"steps\" : 2000,\n",
    "    \"sample_steps\" : 100,\n",
    "    \"lr\":0.0002,\n",
    "    \"epochs\":50,\n",
    "    \"eta_min\":1e-7,\n",
    "    \"decay_steps\": 100000,\n",
    "    \"gamma\" : 0.5,  \n",
    "    \"model\" : \"SR3\"\n",
    "}\n",
    "model = UNet(3, hyperparams[\"steps\"]) #Valores por defecto ya que la tarea base es la misma upsample por 4\n",
    "SR3_model = GaussianDiffusion(model, hyperparams[\"steps\"], hyperparams[\"sample_steps\"])\n",
    "SR3_model.to(device)"
   ],
   "id": "d9c705c5919a2ae7",
   "outputs": [
    {
     "data": {
      "text/plain": [
       "GaussianDiffusion(\n",
       "  (model): UNet(\n",
       "    (emb): GammaEmbedding(\n",
       "      (linear1): Linear(\n",
       "        (linear): Linear(in_features=3, out_features=12, bias=True)\n",
       "      )\n",
       "      (silu): SiLU()\n",
       "      (linear2): Linear(\n",
       "        (linear): Linear(in_features=12, out_features=12, bias=True)\n",
       "      )\n",
       "    )\n",
       "    (conv1): Conv2d(\n",
       "      (conv): Conv2d(6, 3, kernel_size=(3, 3), stride=(1, 1), padding=(1, 1))\n",
       "    )\n",
       "    (down): ModuleList(\n",
       "      (0-2): 3 x WideResNetBlock(\n",
       "        (gn1): GroupNorm(\n",
       "          (group_norm): GroupNorm(3, 3, eps=1e-05, affine=True)\n",
       "        )\n",
       "        (silu1): SiLU()\n",
       "        (conv1): Conv2d(\n",
       "          (conv): Conv2d(3, 3, kernel_size=(3, 3), stride=(1, 1), padding=(1, 1))\n",
       "        )\n",
       "        (silu2): SiLU()\n",
       "        (linear1): Linear(\n",
       "          (linear): Linear(in_features=12, out_features=3, bias=True)\n",
       "        )\n",
       "        (gn2): GroupNorm(\n",
       "          (group_norm): GroupNorm(3, 3, eps=1e-05, affine=True)\n",
       "        )\n",
       "        (silu3): SiLU()\n",
       "        (dropout): Dropout(p=0.0, inplace=False)\n",
       "        (conv2): Conv2d(\n",
       "          (conv): Conv2d(3, 3, kernel_size=(3, 3), stride=(1, 1), padding=(1, 1))\n",
       "        )\n",
       "      )\n",
       "      (3): DownBlock(\n",
       "        (conv): Conv2d(\n",
       "          (conv): Conv2d(3, 3, kernel_size=(3, 3), stride=(2, 2), padding=(1, 1))\n",
       "        )\n",
       "      )\n",
       "      (4): WideResNetBlock(\n",
       "        (gn1): GroupNorm(\n",
       "          (group_norm): GroupNorm(3, 3, eps=1e-05, affine=True)\n",
       "        )\n",
       "        (silu1): SiLU()\n",
       "        (conv1): Conv2d(\n",
       "          (conv): Conv2d(3, 6, kernel_size=(3, 3), stride=(1, 1), padding=(1, 1))\n",
       "        )\n",
       "        (silu2): SiLU()\n",
       "        (linear1): Linear(\n",
       "          (linear): Linear(in_features=12, out_features=6, bias=True)\n",
       "        )\n",
       "        (gn2): GroupNorm(\n",
       "          (group_norm): GroupNorm(3, 6, eps=1e-05, affine=True)\n",
       "        )\n",
       "        (silu3): SiLU()\n",
       "        (dropout): Dropout(p=0.0, inplace=False)\n",
       "        (conv2): Conv2d(\n",
       "          (conv): Conv2d(6, 6, kernel_size=(3, 3), stride=(1, 1), padding=(1, 1))\n",
       "        )\n",
       "        (linear2): Linear(\n",
       "          (linear): Linear(in_features=3, out_features=6, bias=True)\n",
       "        )\n",
       "      )\n",
       "      (5-6): 2 x WideResNetBlock(\n",
       "        (gn1): GroupNorm(\n",
       "          (group_norm): GroupNorm(3, 6, eps=1e-05, affine=True)\n",
       "        )\n",
       "        (silu1): SiLU()\n",
       "        (conv1): Conv2d(\n",
       "          (conv): Conv2d(6, 6, kernel_size=(3, 3), stride=(1, 1), padding=(1, 1))\n",
       "        )\n",
       "        (silu2): SiLU()\n",
       "        (linear1): Linear(\n",
       "          (linear): Linear(in_features=12, out_features=6, bias=True)\n",
       "        )\n",
       "        (gn2): GroupNorm(\n",
       "          (group_norm): GroupNorm(3, 6, eps=1e-05, affine=True)\n",
       "        )\n",
       "        (silu3): SiLU()\n",
       "        (dropout): Dropout(p=0.0, inplace=False)\n",
       "        (conv2): Conv2d(\n",
       "          (conv): Conv2d(6, 6, kernel_size=(3, 3), stride=(1, 1), padding=(1, 1))\n",
       "        )\n",
       "      )\n",
       "      (7): DownBlock(\n",
       "        (conv): Conv2d(\n",
       "          (conv): Conv2d(6, 6, kernel_size=(3, 3), stride=(2, 2), padding=(1, 1))\n",
       "        )\n",
       "      )\n",
       "      (8): WideResNetBlock(\n",
       "        (gn1): GroupNorm(\n",
       "          (group_norm): GroupNorm(3, 6, eps=1e-05, affine=True)\n",
       "        )\n",
       "        (silu1): SiLU()\n",
       "        (conv1): Conv2d(\n",
       "          (conv): Conv2d(6, 12, kernel_size=(3, 3), stride=(1, 1), padding=(1, 1))\n",
       "        )\n",
       "        (silu2): SiLU()\n",
       "        (linear1): Linear(\n",
       "          (linear): Linear(in_features=12, out_features=12, bias=True)\n",
       "        )\n",
       "        (gn2): GroupNorm(\n",
       "          (group_norm): GroupNorm(3, 12, eps=1e-05, affine=True)\n",
       "        )\n",
       "        (silu3): SiLU()\n",
       "        (dropout): Dropout(p=0.0, inplace=False)\n",
       "        (conv2): Conv2d(\n",
       "          (conv): Conv2d(12, 12, kernel_size=(3, 3), stride=(1, 1), padding=(1, 1))\n",
       "        )\n",
       "        (linear2): Linear(\n",
       "          (linear): Linear(in_features=6, out_features=12, bias=True)\n",
       "        )\n",
       "      )\n",
       "      (9-10): 2 x WideResNetBlock(\n",
       "        (gn1): GroupNorm(\n",
       "          (group_norm): GroupNorm(3, 12, eps=1e-05, affine=True)\n",
       "        )\n",
       "        (silu1): SiLU()\n",
       "        (conv1): Conv2d(\n",
       "          (conv): Conv2d(12, 12, kernel_size=(3, 3), stride=(1, 1), padding=(1, 1))\n",
       "        )\n",
       "        (silu2): SiLU()\n",
       "        (linear1): Linear(\n",
       "          (linear): Linear(in_features=12, out_features=12, bias=True)\n",
       "        )\n",
       "        (gn2): GroupNorm(\n",
       "          (group_norm): GroupNorm(3, 12, eps=1e-05, affine=True)\n",
       "        )\n",
       "        (silu3): SiLU()\n",
       "        (dropout): Dropout(p=0.0, inplace=False)\n",
       "        (conv2): Conv2d(\n",
       "          (conv): Conv2d(12, 12, kernel_size=(3, 3), stride=(1, 1), padding=(1, 1))\n",
       "        )\n",
       "      )\n",
       "      (11): DownBlock(\n",
       "        (conv): Conv2d(\n",
       "          (conv): Conv2d(12, 12, kernel_size=(3, 3), stride=(2, 2), padding=(1, 1))\n",
       "        )\n",
       "      )\n",
       "      (12-14): 3 x WideResNetBlock(\n",
       "        (gn1): GroupNorm(\n",
       "          (group_norm): GroupNorm(3, 12, eps=1e-05, affine=True)\n",
       "        )\n",
       "        (silu1): SiLU()\n",
       "        (conv1): Conv2d(\n",
       "          (conv): Conv2d(12, 12, kernel_size=(3, 3), stride=(1, 1), padding=(1, 1))\n",
       "        )\n",
       "        (silu2): SiLU()\n",
       "        (linear1): Linear(\n",
       "          (linear): Linear(in_features=12, out_features=12, bias=True)\n",
       "        )\n",
       "        (gn2): GroupNorm(\n",
       "          (group_norm): GroupNorm(3, 12, eps=1e-05, affine=True)\n",
       "        )\n",
       "        (silu3): SiLU()\n",
       "        (dropout): Dropout(p=0.0, inplace=False)\n",
       "        (conv2): Conv2d(\n",
       "          (conv): Conv2d(12, 12, kernel_size=(3, 3), stride=(1, 1), padding=(1, 1))\n",
       "        )\n",
       "      )\n",
       "      (15): DownBlock(\n",
       "        (conv): Conv2d(\n",
       "          (conv): Conv2d(12, 12, kernel_size=(3, 3), stride=(2, 2), padding=(1, 1))\n",
       "        )\n",
       "      )\n",
       "      (16): WideResNetBlock(\n",
       "        (gn1): GroupNorm(\n",
       "          (group_norm): GroupNorm(3, 12, eps=1e-05, affine=True)\n",
       "        )\n",
       "        (silu1): SiLU()\n",
       "        (conv1): Conv2d(\n",
       "          (conv): Conv2d(12, 24, kernel_size=(3, 3), stride=(1, 1), padding=(1, 1))\n",
       "        )\n",
       "        (silu2): SiLU()\n",
       "        (linear1): Linear(\n",
       "          (linear): Linear(in_features=12, out_features=24, bias=True)\n",
       "        )\n",
       "        (gn2): GroupNorm(\n",
       "          (group_norm): GroupNorm(3, 24, eps=1e-05, affine=True)\n",
       "        )\n",
       "        (silu3): SiLU()\n",
       "        (dropout): Dropout(p=0.0, inplace=False)\n",
       "        (conv2): Conv2d(\n",
       "          (conv): Conv2d(24, 24, kernel_size=(3, 3), stride=(1, 1), padding=(1, 1))\n",
       "        )\n",
       "        (linear2): Linear(\n",
       "          (linear): Linear(in_features=12, out_features=24, bias=True)\n",
       "        )\n",
       "        (att): SelfAttentionBlock(\n",
       "          (gn): GroupNorm(\n",
       "            (group_norm): GroupNorm(3, 24, eps=1e-05, affine=True)\n",
       "          )\n",
       "          (qkv): Linear(\n",
       "            (linear): Linear(in_features=24, out_features=72, bias=True)\n",
       "          )\n",
       "          (softmax): Softmax(dim=-1)\n",
       "          (proj): Linear(\n",
       "            (linear): Linear(in_features=24, out_features=24, bias=True)\n",
       "          )\n",
       "        )\n",
       "      )\n",
       "      (17-18): 2 x WideResNetBlock(\n",
       "        (gn1): GroupNorm(\n",
       "          (group_norm): GroupNorm(3, 24, eps=1e-05, affine=True)\n",
       "        )\n",
       "        (silu1): SiLU()\n",
       "        (conv1): Conv2d(\n",
       "          (conv): Conv2d(24, 24, kernel_size=(3, 3), stride=(1, 1), padding=(1, 1))\n",
       "        )\n",
       "        (silu2): SiLU()\n",
       "        (linear1): Linear(\n",
       "          (linear): Linear(in_features=12, out_features=24, bias=True)\n",
       "        )\n",
       "        (gn2): GroupNorm(\n",
       "          (group_norm): GroupNorm(3, 24, eps=1e-05, affine=True)\n",
       "        )\n",
       "        (silu3): SiLU()\n",
       "        (dropout): Dropout(p=0.0, inplace=False)\n",
       "        (conv2): Conv2d(\n",
       "          (conv): Conv2d(24, 24, kernel_size=(3, 3), stride=(1, 1), padding=(1, 1))\n",
       "        )\n",
       "        (att): SelfAttentionBlock(\n",
       "          (gn): GroupNorm(\n",
       "            (group_norm): GroupNorm(3, 24, eps=1e-05, affine=True)\n",
       "          )\n",
       "          (qkv): Linear(\n",
       "            (linear): Linear(in_features=24, out_features=72, bias=True)\n",
       "          )\n",
       "          (softmax): Softmax(dim=-1)\n",
       "          (proj): Linear(\n",
       "            (linear): Linear(in_features=24, out_features=24, bias=True)\n",
       "          )\n",
       "        )\n",
       "      )\n",
       "      (19): DownBlock(\n",
       "        (conv): Conv2d(\n",
       "          (conv): Conv2d(24, 24, kernel_size=(3, 3), stride=(2, 2), padding=(1, 1))\n",
       "        )\n",
       "      )\n",
       "      (20-22): 3 x WideResNetBlock(\n",
       "        (gn1): GroupNorm(\n",
       "          (group_norm): GroupNorm(3, 24, eps=1e-05, affine=True)\n",
       "        )\n",
       "        (silu1): SiLU()\n",
       "        (conv1): Conv2d(\n",
       "          (conv): Conv2d(24, 24, kernel_size=(3, 3), stride=(1, 1), padding=(1, 1))\n",
       "        )\n",
       "        (silu2): SiLU()\n",
       "        (linear1): Linear(\n",
       "          (linear): Linear(in_features=12, out_features=24, bias=True)\n",
       "        )\n",
       "        (gn2): GroupNorm(\n",
       "          (group_norm): GroupNorm(3, 24, eps=1e-05, affine=True)\n",
       "        )\n",
       "        (silu3): SiLU()\n",
       "        (dropout): Dropout(p=0.0, inplace=False)\n",
       "        (conv2): Conv2d(\n",
       "          (conv): Conv2d(24, 24, kernel_size=(3, 3), stride=(1, 1), padding=(1, 1))\n",
       "        )\n",
       "      )\n",
       "    )\n",
       "    (mid): ModuleList(\n",
       "      (0): WideResNetBlock(\n",
       "        (gn1): GroupNorm(\n",
       "          (group_norm): GroupNorm(3, 24, eps=1e-05, affine=True)\n",
       "        )\n",
       "        (silu1): SiLU()\n",
       "        (conv1): Conv2d(\n",
       "          (conv): Conv2d(24, 24, kernel_size=(3, 3), stride=(1, 1), padding=(1, 1))\n",
       "        )\n",
       "        (silu2): SiLU()\n",
       "        (linear1): Linear(\n",
       "          (linear): Linear(in_features=12, out_features=24, bias=True)\n",
       "        )\n",
       "        (gn2): GroupNorm(\n",
       "          (group_norm): GroupNorm(3, 24, eps=1e-05, affine=True)\n",
       "        )\n",
       "        (silu3): SiLU()\n",
       "        (dropout): Dropout(p=0.0, inplace=False)\n",
       "        (conv2): Conv2d(\n",
       "          (conv): Conv2d(24, 24, kernel_size=(3, 3), stride=(1, 1), padding=(1, 1))\n",
       "        )\n",
       "        (att): SelfAttentionBlock(\n",
       "          (gn): GroupNorm(\n",
       "            (group_norm): GroupNorm(3, 24, eps=1e-05, affine=True)\n",
       "          )\n",
       "          (qkv): Linear(\n",
       "            (linear): Linear(in_features=24, out_features=72, bias=True)\n",
       "          )\n",
       "          (softmax): Softmax(dim=-1)\n",
       "          (proj): Linear(\n",
       "            (linear): Linear(in_features=24, out_features=24, bias=True)\n",
       "          )\n",
       "        )\n",
       "      )\n",
       "      (1): WideResNetBlock(\n",
       "        (gn1): GroupNorm(\n",
       "          (group_norm): GroupNorm(3, 24, eps=1e-05, affine=True)\n",
       "        )\n",
       "        (silu1): SiLU()\n",
       "        (conv1): Conv2d(\n",
       "          (conv): Conv2d(24, 24, kernel_size=(3, 3), stride=(1, 1), padding=(1, 1))\n",
       "        )\n",
       "        (silu2): SiLU()\n",
       "        (linear1): Linear(\n",
       "          (linear): Linear(in_features=12, out_features=24, bias=True)\n",
       "        )\n",
       "        (gn2): GroupNorm(\n",
       "          (group_norm): GroupNorm(3, 24, eps=1e-05, affine=True)\n",
       "        )\n",
       "        (silu3): SiLU()\n",
       "        (dropout): Dropout(p=0.0, inplace=False)\n",
       "        (conv2): Conv2d(\n",
       "          (conv): Conv2d(24, 24, kernel_size=(3, 3), stride=(1, 1), padding=(1, 1))\n",
       "        )\n",
       "      )\n",
       "    )\n",
       "    (up): ModuleList(\n",
       "      (0-3): 4 x WideResNetBlock(\n",
       "        (gn1): GroupNorm(\n",
       "          (group_norm): GroupNorm(3, 48, eps=1e-05, affine=True)\n",
       "        )\n",
       "        (silu1): SiLU()\n",
       "        (conv1): Conv2d(\n",
       "          (conv): Conv2d(48, 24, kernel_size=(3, 3), stride=(1, 1), padding=(1, 1))\n",
       "        )\n",
       "        (silu2): SiLU()\n",
       "        (linear1): Linear(\n",
       "          (linear): Linear(in_features=12, out_features=24, bias=True)\n",
       "        )\n",
       "        (gn2): GroupNorm(\n",
       "          (group_norm): GroupNorm(3, 24, eps=1e-05, affine=True)\n",
       "        )\n",
       "        (silu3): SiLU()\n",
       "        (dropout): Dropout(p=0.0, inplace=False)\n",
       "        (conv2): Conv2d(\n",
       "          (conv): Conv2d(24, 24, kernel_size=(3, 3), stride=(1, 1), padding=(1, 1))\n",
       "        )\n",
       "        (linear2): Linear(\n",
       "          (linear): Linear(in_features=48, out_features=24, bias=True)\n",
       "        )\n",
       "      )\n",
       "      (4): UpBlock(\n",
       "        (upsample): Upsample(scale_factor=2.0, mode='nearest')\n",
       "        (conv): Conv2d(\n",
       "          (conv): Conv2d(24, 24, kernel_size=(3, 3), stride=(1, 1), padding=(1, 1))\n",
       "        )\n",
       "      )\n",
       "      (5-7): 3 x WideResNetBlock(\n",
       "        (gn1): GroupNorm(\n",
       "          (group_norm): GroupNorm(3, 48, eps=1e-05, affine=True)\n",
       "        )\n",
       "        (silu1): SiLU()\n",
       "        (conv1): Conv2d(\n",
       "          (conv): Conv2d(48, 24, kernel_size=(3, 3), stride=(1, 1), padding=(1, 1))\n",
       "        )\n",
       "        (silu2): SiLU()\n",
       "        (linear1): Linear(\n",
       "          (linear): Linear(in_features=12, out_features=24, bias=True)\n",
       "        )\n",
       "        (gn2): GroupNorm(\n",
       "          (group_norm): GroupNorm(3, 24, eps=1e-05, affine=True)\n",
       "        )\n",
       "        (silu3): SiLU()\n",
       "        (dropout): Dropout(p=0.0, inplace=False)\n",
       "        (conv2): Conv2d(\n",
       "          (conv): Conv2d(24, 24, kernel_size=(3, 3), stride=(1, 1), padding=(1, 1))\n",
       "        )\n",
       "        (linear2): Linear(\n",
       "          (linear): Linear(in_features=48, out_features=24, bias=True)\n",
       "        )\n",
       "        (att): SelfAttentionBlock(\n",
       "          (gn): GroupNorm(\n",
       "            (group_norm): GroupNorm(3, 24, eps=1e-05, affine=True)\n",
       "          )\n",
       "          (qkv): Linear(\n",
       "            (linear): Linear(in_features=24, out_features=72, bias=True)\n",
       "          )\n",
       "          (softmax): Softmax(dim=-1)\n",
       "          (proj): Linear(\n",
       "            (linear): Linear(in_features=24, out_features=24, bias=True)\n",
       "          )\n",
       "        )\n",
       "      )\n",
       "      (8): WideResNetBlock(\n",
       "        (gn1): GroupNorm(\n",
       "          (group_norm): GroupNorm(3, 36, eps=1e-05, affine=True)\n",
       "        )\n",
       "        (silu1): SiLU()\n",
       "        (conv1): Conv2d(\n",
       "          (conv): Conv2d(36, 24, kernel_size=(3, 3), stride=(1, 1), padding=(1, 1))\n",
       "        )\n",
       "        (silu2): SiLU()\n",
       "        (linear1): Linear(\n",
       "          (linear): Linear(in_features=12, out_features=24, bias=True)\n",
       "        )\n",
       "        (gn2): GroupNorm(\n",
       "          (group_norm): GroupNorm(3, 24, eps=1e-05, affine=True)\n",
       "        )\n",
       "        (silu3): SiLU()\n",
       "        (dropout): Dropout(p=0.0, inplace=False)\n",
       "        (conv2): Conv2d(\n",
       "          (conv): Conv2d(24, 24, kernel_size=(3, 3), stride=(1, 1), padding=(1, 1))\n",
       "        )\n",
       "        (linear2): Linear(\n",
       "          (linear): Linear(in_features=36, out_features=24, bias=True)\n",
       "        )\n",
       "        (att): SelfAttentionBlock(\n",
       "          (gn): GroupNorm(\n",
       "            (group_norm): GroupNorm(3, 24, eps=1e-05, affine=True)\n",
       "          )\n",
       "          (qkv): Linear(\n",
       "            (linear): Linear(in_features=24, out_features=72, bias=True)\n",
       "          )\n",
       "          (softmax): Softmax(dim=-1)\n",
       "          (proj): Linear(\n",
       "            (linear): Linear(in_features=24, out_features=24, bias=True)\n",
       "          )\n",
       "        )\n",
       "      )\n",
       "      (9): UpBlock(\n",
       "        (upsample): Upsample(scale_factor=2.0, mode='nearest')\n",
       "        (conv): Conv2d(\n",
       "          (conv): Conv2d(24, 24, kernel_size=(3, 3), stride=(1, 1), padding=(1, 1))\n",
       "        )\n",
       "      )\n",
       "      (10): WideResNetBlock(\n",
       "        (gn1): GroupNorm(\n",
       "          (group_norm): GroupNorm(3, 36, eps=1e-05, affine=True)\n",
       "        )\n",
       "        (silu1): SiLU()\n",
       "        (conv1): Conv2d(\n",
       "          (conv): Conv2d(36, 12, kernel_size=(3, 3), stride=(1, 1), padding=(1, 1))\n",
       "        )\n",
       "        (silu2): SiLU()\n",
       "        (linear1): Linear(\n",
       "          (linear): Linear(in_features=12, out_features=12, bias=True)\n",
       "        )\n",
       "        (gn2): GroupNorm(\n",
       "          (group_norm): GroupNorm(3, 12, eps=1e-05, affine=True)\n",
       "        )\n",
       "        (silu3): SiLU()\n",
       "        (dropout): Dropout(p=0.0, inplace=False)\n",
       "        (conv2): Conv2d(\n",
       "          (conv): Conv2d(12, 12, kernel_size=(3, 3), stride=(1, 1), padding=(1, 1))\n",
       "        )\n",
       "        (linear2): Linear(\n",
       "          (linear): Linear(in_features=36, out_features=12, bias=True)\n",
       "        )\n",
       "      )\n",
       "      (11-13): 3 x WideResNetBlock(\n",
       "        (gn1): GroupNorm(\n",
       "          (group_norm): GroupNorm(3, 24, eps=1e-05, affine=True)\n",
       "        )\n",
       "        (silu1): SiLU()\n",
       "        (conv1): Conv2d(\n",
       "          (conv): Conv2d(24, 12, kernel_size=(3, 3), stride=(1, 1), padding=(1, 1))\n",
       "        )\n",
       "        (silu2): SiLU()\n",
       "        (linear1): Linear(\n",
       "          (linear): Linear(in_features=12, out_features=12, bias=True)\n",
       "        )\n",
       "        (gn2): GroupNorm(\n",
       "          (group_norm): GroupNorm(3, 12, eps=1e-05, affine=True)\n",
       "        )\n",
       "        (silu3): SiLU()\n",
       "        (dropout): Dropout(p=0.0, inplace=False)\n",
       "        (conv2): Conv2d(\n",
       "          (conv): Conv2d(12, 12, kernel_size=(3, 3), stride=(1, 1), padding=(1, 1))\n",
       "        )\n",
       "        (linear2): Linear(\n",
       "          (linear): Linear(in_features=24, out_features=12, bias=True)\n",
       "        )\n",
       "      )\n",
       "      (14): UpBlock(\n",
       "        (upsample): Upsample(scale_factor=2.0, mode='nearest')\n",
       "        (conv): Conv2d(\n",
       "          (conv): Conv2d(12, 12, kernel_size=(3, 3), stride=(1, 1), padding=(1, 1))\n",
       "        )\n",
       "      )\n",
       "      (15-17): 3 x WideResNetBlock(\n",
       "        (gn1): GroupNorm(\n",
       "          (group_norm): GroupNorm(3, 24, eps=1e-05, affine=True)\n",
       "        )\n",
       "        (silu1): SiLU()\n",
       "        (conv1): Conv2d(\n",
       "          (conv): Conv2d(24, 12, kernel_size=(3, 3), stride=(1, 1), padding=(1, 1))\n",
       "        )\n",
       "        (silu2): SiLU()\n",
       "        (linear1): Linear(\n",
       "          (linear): Linear(in_features=12, out_features=12, bias=True)\n",
       "        )\n",
       "        (gn2): GroupNorm(\n",
       "          (group_norm): GroupNorm(3, 12, eps=1e-05, affine=True)\n",
       "        )\n",
       "        (silu3): SiLU()\n",
       "        (dropout): Dropout(p=0.0, inplace=False)\n",
       "        (conv2): Conv2d(\n",
       "          (conv): Conv2d(12, 12, kernel_size=(3, 3), stride=(1, 1), padding=(1, 1))\n",
       "        )\n",
       "        (linear2): Linear(\n",
       "          (linear): Linear(in_features=24, out_features=12, bias=True)\n",
       "        )\n",
       "      )\n",
       "      (18): WideResNetBlock(\n",
       "        (gn1): GroupNorm(\n",
       "          (group_norm): GroupNorm(3, 18, eps=1e-05, affine=True)\n",
       "        )\n",
       "        (silu1): SiLU()\n",
       "        (conv1): Conv2d(\n",
       "          (conv): Conv2d(18, 12, kernel_size=(3, 3), stride=(1, 1), padding=(1, 1))\n",
       "        )\n",
       "        (silu2): SiLU()\n",
       "        (linear1): Linear(\n",
       "          (linear): Linear(in_features=12, out_features=12, bias=True)\n",
       "        )\n",
       "        (gn2): GroupNorm(\n",
       "          (group_norm): GroupNorm(3, 12, eps=1e-05, affine=True)\n",
       "        )\n",
       "        (silu3): SiLU()\n",
       "        (dropout): Dropout(p=0.0, inplace=False)\n",
       "        (conv2): Conv2d(\n",
       "          (conv): Conv2d(12, 12, kernel_size=(3, 3), stride=(1, 1), padding=(1, 1))\n",
       "        )\n",
       "        (linear2): Linear(\n",
       "          (linear): Linear(in_features=18, out_features=12, bias=True)\n",
       "        )\n",
       "      )\n",
       "      (19): UpBlock(\n",
       "        (upsample): Upsample(scale_factor=2.0, mode='nearest')\n",
       "        (conv): Conv2d(\n",
       "          (conv): Conv2d(12, 12, kernel_size=(3, 3), stride=(1, 1), padding=(1, 1))\n",
       "        )\n",
       "      )\n",
       "      (20): WideResNetBlock(\n",
       "        (gn1): GroupNorm(\n",
       "          (group_norm): GroupNorm(3, 18, eps=1e-05, affine=True)\n",
       "        )\n",
       "        (silu1): SiLU()\n",
       "        (conv1): Conv2d(\n",
       "          (conv): Conv2d(18, 6, kernel_size=(3, 3), stride=(1, 1), padding=(1, 1))\n",
       "        )\n",
       "        (silu2): SiLU()\n",
       "        (linear1): Linear(\n",
       "          (linear): Linear(in_features=12, out_features=6, bias=True)\n",
       "        )\n",
       "        (gn2): GroupNorm(\n",
       "          (group_norm): GroupNorm(3, 6, eps=1e-05, affine=True)\n",
       "        )\n",
       "        (silu3): SiLU()\n",
       "        (dropout): Dropout(p=0.0, inplace=False)\n",
       "        (conv2): Conv2d(\n",
       "          (conv): Conv2d(6, 6, kernel_size=(3, 3), stride=(1, 1), padding=(1, 1))\n",
       "        )\n",
       "        (linear2): Linear(\n",
       "          (linear): Linear(in_features=18, out_features=6, bias=True)\n",
       "        )\n",
       "      )\n",
       "      (21-22): 2 x WideResNetBlock(\n",
       "        (gn1): GroupNorm(\n",
       "          (group_norm): GroupNorm(3, 12, eps=1e-05, affine=True)\n",
       "        )\n",
       "        (silu1): SiLU()\n",
       "        (conv1): Conv2d(\n",
       "          (conv): Conv2d(12, 6, kernel_size=(3, 3), stride=(1, 1), padding=(1, 1))\n",
       "        )\n",
       "        (silu2): SiLU()\n",
       "        (linear1): Linear(\n",
       "          (linear): Linear(in_features=12, out_features=6, bias=True)\n",
       "        )\n",
       "        (gn2): GroupNorm(\n",
       "          (group_norm): GroupNorm(3, 6, eps=1e-05, affine=True)\n",
       "        )\n",
       "        (silu3): SiLU()\n",
       "        (dropout): Dropout(p=0.0, inplace=False)\n",
       "        (conv2): Conv2d(\n",
       "          (conv): Conv2d(6, 6, kernel_size=(3, 3), stride=(1, 1), padding=(1, 1))\n",
       "        )\n",
       "        (linear2): Linear(\n",
       "          (linear): Linear(in_features=12, out_features=6, bias=True)\n",
       "        )\n",
       "      )\n",
       "      (23): WideResNetBlock(\n",
       "        (gn1): GroupNorm(\n",
       "          (group_norm): GroupNorm(3, 9, eps=1e-05, affine=True)\n",
       "        )\n",
       "        (silu1): SiLU()\n",
       "        (conv1): Conv2d(\n",
       "          (conv): Conv2d(9, 6, kernel_size=(3, 3), stride=(1, 1), padding=(1, 1))\n",
       "        )\n",
       "        (silu2): SiLU()\n",
       "        (linear1): Linear(\n",
       "          (linear): Linear(in_features=12, out_features=6, bias=True)\n",
       "        )\n",
       "        (gn2): GroupNorm(\n",
       "          (group_norm): GroupNorm(3, 6, eps=1e-05, affine=True)\n",
       "        )\n",
       "        (silu3): SiLU()\n",
       "        (dropout): Dropout(p=0.0, inplace=False)\n",
       "        (conv2): Conv2d(\n",
       "          (conv): Conv2d(6, 6, kernel_size=(3, 3), stride=(1, 1), padding=(1, 1))\n",
       "        )\n",
       "        (linear2): Linear(\n",
       "          (linear): Linear(in_features=9, out_features=6, bias=True)\n",
       "        )\n",
       "      )\n",
       "      (24): UpBlock(\n",
       "        (upsample): Upsample(scale_factor=2.0, mode='nearest')\n",
       "        (conv): Conv2d(\n",
       "          (conv): Conv2d(6, 6, kernel_size=(3, 3), stride=(1, 1), padding=(1, 1))\n",
       "        )\n",
       "      )\n",
       "      (25): WideResNetBlock(\n",
       "        (gn1): GroupNorm(\n",
       "          (group_norm): GroupNorm(3, 9, eps=1e-05, affine=True)\n",
       "        )\n",
       "        (silu1): SiLU()\n",
       "        (conv1): Conv2d(\n",
       "          (conv): Conv2d(9, 3, kernel_size=(3, 3), stride=(1, 1), padding=(1, 1))\n",
       "        )\n",
       "        (silu2): SiLU()\n",
       "        (linear1): Linear(\n",
       "          (linear): Linear(in_features=12, out_features=3, bias=True)\n",
       "        )\n",
       "        (gn2): GroupNorm(\n",
       "          (group_norm): GroupNorm(3, 3, eps=1e-05, affine=True)\n",
       "        )\n",
       "        (silu3): SiLU()\n",
       "        (dropout): Dropout(p=0.0, inplace=False)\n",
       "        (conv2): Conv2d(\n",
       "          (conv): Conv2d(3, 3, kernel_size=(3, 3), stride=(1, 1), padding=(1, 1))\n",
       "        )\n",
       "        (linear2): Linear(\n",
       "          (linear): Linear(in_features=9, out_features=3, bias=True)\n",
       "        )\n",
       "      )\n",
       "      (26-28): 3 x WideResNetBlock(\n",
       "        (gn1): GroupNorm(\n",
       "          (group_norm): GroupNorm(3, 6, eps=1e-05, affine=True)\n",
       "        )\n",
       "        (silu1): SiLU()\n",
       "        (conv1): Conv2d(\n",
       "          (conv): Conv2d(6, 3, kernel_size=(3, 3), stride=(1, 1), padding=(1, 1))\n",
       "        )\n",
       "        (silu2): SiLU()\n",
       "        (linear1): Linear(\n",
       "          (linear): Linear(in_features=12, out_features=3, bias=True)\n",
       "        )\n",
       "        (gn2): GroupNorm(\n",
       "          (group_norm): GroupNorm(3, 3, eps=1e-05, affine=True)\n",
       "        )\n",
       "        (silu3): SiLU()\n",
       "        (dropout): Dropout(p=0.0, inplace=False)\n",
       "        (conv2): Conv2d(\n",
       "          (conv): Conv2d(3, 3, kernel_size=(3, 3), stride=(1, 1), padding=(1, 1))\n",
       "        )\n",
       "        (linear2): Linear(\n",
       "          (linear): Linear(in_features=6, out_features=3, bias=True)\n",
       "        )\n",
       "      )\n",
       "    )\n",
       "    (gn): GroupNorm(\n",
       "      (group_norm): GroupNorm(3, 3, eps=1e-05, affine=True)\n",
       "    )\n",
       "    (silu): SiLU()\n",
       "    (conv2): Conv2d(\n",
       "      (conv): Conv2d(3, 3, kernel_size=(3, 3), stride=(1, 1), padding=(1, 1))\n",
       "    )\n",
       "  )\n",
       ")"
      ]
     },
     "execution_count": 5,
     "metadata": {},
     "output_type": "execute_result"
    }
   ],
   "execution_count": 5
  },
  {
   "metadata": {
    "ExecuteTime": {
     "end_time": "2024-05-11T03:55:13.937440Z",
     "start_time": "2024-05-11T03:55:13.932819Z"
    }
   },
   "cell_type": "code",
   "source": [
    "optimizer = torch.optim.Adam(SR3_model.parameters(), lr=hyperparams[\"lr\"])\n",
    "scheduler = torch.optim.lr_scheduler.StepLR(optimizer, step_size=hyperparams[\"decay_steps\"], gamma=hyperparams[\"gamma\"])"
   ],
   "id": "8de1ea6ba92768e5",
   "outputs": [],
   "execution_count": 6
  },
  {
   "metadata": {
    "ExecuteTime": {
     "end_time": "2024-05-11T04:19:08.995184Z",
     "start_time": "2024-05-11T03:55:13.937440Z"
    }
   },
   "cell_type": "code",
   "source": [
    "project_name = \"SR model benchmarking\"\n",
    "run_name = \"SR3 with data aug\"\n",
    "wandb.login()\n",
    "wandb.init(project=project_name, config=hyperparams, name=run_name)\n",
    "\n",
    "trainer = SR3Trainer(metrics_used=[\"ssim\", \"psnr\"], model_name=\"SR3\")\n",
    "trainer.set_model(SR3_model)\n",
    "trainer.set_optimizer(optimizer)\n",
    "trainer.set_scheduler(scheduler)\n",
    "for step in range(hyperparams[\"epochs\"]):\n",
    "    with torch.no_grad():\n",
    "        val_loss = trainer.validate(val_dataloader)\n",
    "    \n",
    "    train_loss = trainer.train(train_dataloader)\n",
    "    torch.cuda.empty_cache()\n",
    "    print(train_loss)\n",
    "    trainer.save_model(\"models_state_dic\")\n",
    "\n",
    "    torch.cuda.empty_cache()\n",
    "    wandb.log({\"train_loss\": train_loss, \"validation_loss\": val_loss})\n",
    "    \n",
    "test_metrics = trainer.test(test_dataloader)\n",
    "wandb.log(test_metrics)\n",
    "wandb.finish()   "
   ],
   "id": "50a99affdb90aa21",
   "outputs": [
    {
     "data": {
      "text/plain": [
       "VBox(children=(Label(value='Waiting for wandb.init()...\\r'), FloatProgress(value=0.011111111111111112, max=1.0…"
      ],
      "application/vnd.jupyter.widget-view+json": {
       "version_major": 2,
       "version_minor": 0,
       "model_id": "ceb073ae7dc94f48a56fd1a9f33a7813"
      }
     },
     "metadata": {},
     "output_type": "display_data"
    },
    {
     "data": {
      "text/plain": [
       "<IPython.core.display.HTML object>"
      ],
      "text/html": [
       "wandb version 0.17.0 is available!  To upgrade, please run:\n",
       " $ pip install wandb --upgrade"
      ]
     },
     "metadata": {},
     "output_type": "display_data"
    },
    {
     "data": {
      "text/plain": [
       "<IPython.core.display.HTML object>"
      ],
      "text/html": [
       "Tracking run with wandb version 0.16.6"
      ]
     },
     "metadata": {},
     "output_type": "display_data"
    },
    {
     "data": {
      "text/plain": [
       "<IPython.core.display.HTML object>"
      ],
      "text/html": [
       "Run data is saved locally in <code>C:\\Users\\adria\\Desktop\\TFG-code\\SR-model-benchmarking\\wandb\\run-20240511_045513-mmpdx7td</code>"
      ]
     },
     "metadata": {},
     "output_type": "display_data"
    },
    {
     "data": {
      "text/plain": [
       "<IPython.core.display.HTML object>"
      ],
      "text/html": [
       "Syncing run <strong><a href='https://wandb.ai/ladoscuro/SR%20model%20benchmarking/runs/mmpdx7td' target=\"_blank\">SR3 with data aug</a></strong> to <a href='https://wandb.ai/ladoscuro/SR%20model%20benchmarking' target=\"_blank\">Weights & Biases</a> (<a href='https://wandb.me/run' target=\"_blank\">docs</a>)<br/>"
      ]
     },
     "metadata": {},
     "output_type": "display_data"
    },
    {
     "data": {
      "text/plain": [
       "<IPython.core.display.HTML object>"
      ],
      "text/html": [
       " View project at <a href='https://wandb.ai/ladoscuro/SR%20model%20benchmarking' target=\"_blank\">https://wandb.ai/ladoscuro/SR%20model%20benchmarking</a>"
      ]
     },
     "metadata": {},
     "output_type": "display_data"
    },
    {
     "data": {
      "text/plain": [
       "<IPython.core.display.HTML object>"
      ],
      "text/html": [
       " View run at <a href='https://wandb.ai/ladoscuro/SR%20model%20benchmarking/runs/mmpdx7td' target=\"_blank\">https://wandb.ai/ladoscuro/SR%20model%20benchmarking/runs/mmpdx7td</a>"
      ]
     },
     "metadata": {},
     "output_type": "display_data"
    },
    {
     "name": "stderr",
     "output_type": "stream",
     "text": [
      "100%|██████████| 50/50 [00:04<00:00, 10.42batch/s]\n",
      "100%|██████████| 148/148 [00:21<00:00,  7.01batch/s]\n"
     ]
    },
    {
     "name": "stdout",
     "output_type": "stream",
     "text": [
      "tensor(0.7691, device='cuda:0', grad_fn=<DivBackward0>)\n"
     ]
    },
    {
     "name": "stderr",
     "output_type": "stream",
     "text": [
      "100%|██████████| 50/50 [00:04<00:00, 11.23batch/s]\n",
      "100%|██████████| 148/148 [00:20<00:00,  7.14batch/s]\n"
     ]
    },
    {
     "name": "stdout",
     "output_type": "stream",
     "text": [
      "tensor(0.7041, device='cuda:0', grad_fn=<DivBackward0>)\n"
     ]
    },
    {
     "name": "stderr",
     "output_type": "stream",
     "text": [
      "100%|██████████| 50/50 [00:04<00:00, 11.33batch/s]\n",
      "100%|██████████| 148/148 [00:20<00:00,  7.17batch/s]\n"
     ]
    },
    {
     "name": "stdout",
     "output_type": "stream",
     "text": [
      "tensor(0.6417, device='cuda:0', grad_fn=<DivBackward0>)\n"
     ]
    },
    {
     "name": "stderr",
     "output_type": "stream",
     "text": [
      "100%|██████████| 50/50 [00:04<00:00, 11.11batch/s]\n",
      "100%|██████████| 148/148 [00:20<00:00,  7.08batch/s]\n"
     ]
    },
    {
     "name": "stdout",
     "output_type": "stream",
     "text": [
      "tensor(0.5873, device='cuda:0', grad_fn=<DivBackward0>)\n"
     ]
    },
    {
     "name": "stderr",
     "output_type": "stream",
     "text": [
      "100%|██████████| 50/50 [00:04<00:00, 11.12batch/s]\n",
      "100%|██████████| 148/148 [00:20<00:00,  7.19batch/s]\n"
     ]
    },
    {
     "name": "stdout",
     "output_type": "stream",
     "text": [
      "tensor(0.5395, device='cuda:0', grad_fn=<DivBackward0>)\n"
     ]
    },
    {
     "name": "stderr",
     "output_type": "stream",
     "text": [
      "100%|██████████| 50/50 [00:04<00:00, 11.35batch/s]\n",
      "100%|██████████| 148/148 [00:20<00:00,  7.15batch/s]\n"
     ]
    },
    {
     "name": "stdout",
     "output_type": "stream",
     "text": [
      "tensor(0.4928, device='cuda:0', grad_fn=<DivBackward0>)\n"
     ]
    },
    {
     "name": "stderr",
     "output_type": "stream",
     "text": [
      "100%|██████████| 50/50 [00:04<00:00, 11.34batch/s]\n",
      "100%|██████████| 148/148 [00:20<00:00,  7.17batch/s]\n"
     ]
    },
    {
     "name": "stdout",
     "output_type": "stream",
     "text": [
      "tensor(0.4484, device='cuda:0', grad_fn=<DivBackward0>)\n"
     ]
    },
    {
     "name": "stderr",
     "output_type": "stream",
     "text": [
      "100%|██████████| 50/50 [00:04<00:00, 11.19batch/s]\n",
      "100%|██████████| 148/148 [00:20<00:00,  7.12batch/s]\n"
     ]
    },
    {
     "name": "stdout",
     "output_type": "stream",
     "text": [
      "tensor(0.4076, device='cuda:0', grad_fn=<DivBackward0>)\n"
     ]
    },
    {
     "name": "stderr",
     "output_type": "stream",
     "text": [
      "100%|██████████| 50/50 [00:04<00:00, 11.30batch/s]\n",
      "100%|██████████| 148/148 [00:20<00:00,  7.15batch/s]\n"
     ]
    },
    {
     "name": "stdout",
     "output_type": "stream",
     "text": [
      "tensor(0.3739, device='cuda:0', grad_fn=<DivBackward0>)\n"
     ]
    },
    {
     "name": "stderr",
     "output_type": "stream",
     "text": [
      "100%|██████████| 50/50 [00:04<00:00, 11.31batch/s]\n",
      "100%|██████████| 148/148 [00:20<00:00,  7.11batch/s]\n"
     ]
    },
    {
     "name": "stdout",
     "output_type": "stream",
     "text": [
      "tensor(0.3480, device='cuda:0', grad_fn=<DivBackward0>)\n"
     ]
    },
    {
     "name": "stderr",
     "output_type": "stream",
     "text": [
      "100%|██████████| 50/50 [00:04<00:00, 11.20batch/s]\n",
      "100%|██████████| 148/148 [00:20<00:00,  7.17batch/s]\n"
     ]
    },
    {
     "name": "stdout",
     "output_type": "stream",
     "text": [
      "tensor(0.3260, device='cuda:0', grad_fn=<DivBackward0>)\n"
     ]
    },
    {
     "name": "stderr",
     "output_type": "stream",
     "text": [
      "100%|██████████| 50/50 [00:04<00:00, 11.20batch/s]\n",
      "100%|██████████| 148/148 [00:20<00:00,  7.15batch/s]\n"
     ]
    },
    {
     "name": "stdout",
     "output_type": "stream",
     "text": [
      "tensor(0.3090, device='cuda:0', grad_fn=<DivBackward0>)\n"
     ]
    },
    {
     "name": "stderr",
     "output_type": "stream",
     "text": [
      "100%|██████████| 50/50 [00:04<00:00, 11.30batch/s]\n",
      "100%|██████████| 148/148 [00:20<00:00,  7.18batch/s]\n"
     ]
    },
    {
     "name": "stdout",
     "output_type": "stream",
     "text": [
      "tensor(0.2916, device='cuda:0', grad_fn=<DivBackward0>)\n"
     ]
    },
    {
     "name": "stderr",
     "output_type": "stream",
     "text": [
      "100%|██████████| 50/50 [00:04<00:00, 11.16batch/s]\n",
      "100%|██████████| 148/148 [00:20<00:00,  7.17batch/s]\n"
     ]
    },
    {
     "name": "stdout",
     "output_type": "stream",
     "text": [
      "tensor(0.2775, device='cuda:0', grad_fn=<DivBackward0>)\n"
     ]
    },
    {
     "name": "stderr",
     "output_type": "stream",
     "text": [
      "100%|██████████| 50/50 [00:04<00:00, 11.30batch/s]\n",
      "100%|██████████| 148/148 [00:20<00:00,  7.15batch/s]\n"
     ]
    },
    {
     "name": "stdout",
     "output_type": "stream",
     "text": [
      "tensor(0.2607, device='cuda:0', grad_fn=<DivBackward0>)\n"
     ]
    },
    {
     "name": "stderr",
     "output_type": "stream",
     "text": [
      "100%|██████████| 50/50 [00:04<00:00, 11.26batch/s]\n",
      "100%|██████████| 148/148 [00:20<00:00,  7.16batch/s]\n"
     ]
    },
    {
     "name": "stdout",
     "output_type": "stream",
     "text": [
      "tensor(0.2457, device='cuda:0', grad_fn=<DivBackward0>)\n"
     ]
    },
    {
     "name": "stderr",
     "output_type": "stream",
     "text": [
      "100%|██████████| 50/50 [00:04<00:00, 11.23batch/s]\n",
      "100%|██████████| 148/148 [00:20<00:00,  7.12batch/s]\n"
     ]
    },
    {
     "name": "stdout",
     "output_type": "stream",
     "text": [
      "tensor(0.2317, device='cuda:0', grad_fn=<DivBackward0>)\n"
     ]
    },
    {
     "name": "stderr",
     "output_type": "stream",
     "text": [
      "100%|██████████| 50/50 [00:04<00:00, 11.20batch/s]\n",
      "100%|██████████| 148/148 [00:20<00:00,  7.15batch/s]\n"
     ]
    },
    {
     "name": "stdout",
     "output_type": "stream",
     "text": [
      "tensor(0.2194, device='cuda:0', grad_fn=<DivBackward0>)\n"
     ]
    },
    {
     "name": "stderr",
     "output_type": "stream",
     "text": [
      "100%|██████████| 50/50 [00:04<00:00, 11.29batch/s]\n",
      "100%|██████████| 148/148 [00:20<00:00,  7.15batch/s]\n"
     ]
    },
    {
     "name": "stdout",
     "output_type": "stream",
     "text": [
      "tensor(0.2087, device='cuda:0', grad_fn=<DivBackward0>)\n"
     ]
    },
    {
     "name": "stderr",
     "output_type": "stream",
     "text": [
      "100%|██████████| 50/50 [00:04<00:00, 11.31batch/s]\n",
      "100%|██████████| 148/148 [00:20<00:00,  7.17batch/s]\n"
     ]
    },
    {
     "name": "stdout",
     "output_type": "stream",
     "text": [
      "tensor(0.1978, device='cuda:0', grad_fn=<DivBackward0>)\n"
     ]
    },
    {
     "name": "stderr",
     "output_type": "stream",
     "text": [
      "100%|██████████| 50/50 [00:04<00:00, 11.25batch/s]\n",
      "100%|██████████| 148/148 [00:20<00:00,  7.16batch/s]\n"
     ]
    },
    {
     "name": "stdout",
     "output_type": "stream",
     "text": [
      "tensor(0.1886, device='cuda:0', grad_fn=<DivBackward0>)\n"
     ]
    },
    {
     "name": "stderr",
     "output_type": "stream",
     "text": [
      "100%|██████████| 50/50 [00:04<00:00, 11.23batch/s]\n",
      "100%|██████████| 148/148 [00:20<00:00,  7.11batch/s]\n"
     ]
    },
    {
     "name": "stdout",
     "output_type": "stream",
     "text": [
      "tensor(0.1810, device='cuda:0', grad_fn=<DivBackward0>)\n"
     ]
    },
    {
     "name": "stderr",
     "output_type": "stream",
     "text": [
      "100%|██████████| 50/50 [00:04<00:00, 11.22batch/s]\n",
      "100%|██████████| 148/148 [00:20<00:00,  7.12batch/s]\n"
     ]
    },
    {
     "name": "stdout",
     "output_type": "stream",
     "text": [
      "tensor(0.1748, device='cuda:0', grad_fn=<DivBackward0>)\n"
     ]
    },
    {
     "name": "stderr",
     "output_type": "stream",
     "text": [
      "100%|██████████| 50/50 [00:04<00:00, 11.14batch/s]\n",
      "100%|██████████| 148/148 [00:20<00:00,  7.10batch/s]\n"
     ]
    },
    {
     "name": "stdout",
     "output_type": "stream",
     "text": [
      "tensor(0.1681, device='cuda:0', grad_fn=<DivBackward0>)\n"
     ]
    },
    {
     "name": "stderr",
     "output_type": "stream",
     "text": [
      "100%|██████████| 50/50 [00:04<00:00, 11.16batch/s]\n",
      "100%|██████████| 148/148 [00:20<00:00,  7.14batch/s]\n"
     ]
    },
    {
     "name": "stdout",
     "output_type": "stream",
     "text": [
      "tensor(0.1635, device='cuda:0', grad_fn=<DivBackward0>)\n"
     ]
    },
    {
     "name": "stderr",
     "output_type": "stream",
     "text": [
      "100%|██████████| 50/50 [00:04<00:00, 11.31batch/s]\n",
      "100%|██████████| 148/148 [00:20<00:00,  7.08batch/s]\n"
     ]
    },
    {
     "name": "stdout",
     "output_type": "stream",
     "text": [
      "tensor(0.1545, device='cuda:0', grad_fn=<DivBackward0>)\n"
     ]
    },
    {
     "name": "stderr",
     "output_type": "stream",
     "text": [
      "100%|██████████| 50/50 [00:04<00:00, 11.22batch/s]\n",
      "100%|██████████| 148/148 [00:20<00:00,  7.12batch/s]\n"
     ]
    },
    {
     "name": "stdout",
     "output_type": "stream",
     "text": [
      "tensor(0.1487, device='cuda:0', grad_fn=<DivBackward0>)\n"
     ]
    },
    {
     "name": "stderr",
     "output_type": "stream",
     "text": [
      "100%|██████████| 50/50 [00:04<00:00, 11.22batch/s]\n",
      "100%|██████████| 148/148 [00:20<00:00,  7.15batch/s]\n"
     ]
    },
    {
     "name": "stdout",
     "output_type": "stream",
     "text": [
      "tensor(0.1453, device='cuda:0', grad_fn=<DivBackward0>)\n"
     ]
    },
    {
     "name": "stderr",
     "output_type": "stream",
     "text": [
      "100%|██████████| 50/50 [00:04<00:00, 11.19batch/s]\n",
      "100%|██████████| 148/148 [00:20<00:00,  7.16batch/s]\n"
     ]
    },
    {
     "name": "stdout",
     "output_type": "stream",
     "text": [
      "tensor(0.1408, device='cuda:0', grad_fn=<DivBackward0>)\n"
     ]
    },
    {
     "name": "stderr",
     "output_type": "stream",
     "text": [
      "100%|██████████| 50/50 [00:04<00:00, 11.19batch/s]\n",
      "100%|██████████| 148/148 [00:20<00:00,  7.08batch/s]\n"
     ]
    },
    {
     "name": "stdout",
     "output_type": "stream",
     "text": [
      "tensor(0.1345, device='cuda:0', grad_fn=<DivBackward0>)\n"
     ]
    },
    {
     "name": "stderr",
     "output_type": "stream",
     "text": [
      "100%|██████████| 50/50 [00:04<00:00, 11.27batch/s]\n",
      "100%|██████████| 148/148 [00:20<00:00,  7.16batch/s]\n"
     ]
    },
    {
     "name": "stdout",
     "output_type": "stream",
     "text": [
      "tensor(0.1324, device='cuda:0', grad_fn=<DivBackward0>)\n"
     ]
    },
    {
     "name": "stderr",
     "output_type": "stream",
     "text": [
      "100%|██████████| 50/50 [00:04<00:00, 11.19batch/s]\n",
      "100%|██████████| 148/148 [00:20<00:00,  7.16batch/s]\n"
     ]
    },
    {
     "name": "stdout",
     "output_type": "stream",
     "text": [
      "tensor(0.1289, device='cuda:0', grad_fn=<DivBackward0>)\n"
     ]
    },
    {
     "name": "stderr",
     "output_type": "stream",
     "text": [
      "100%|██████████| 50/50 [00:04<00:00, 11.27batch/s]\n",
      "100%|██████████| 148/148 [00:20<00:00,  7.15batch/s]\n"
     ]
    },
    {
     "name": "stdout",
     "output_type": "stream",
     "text": [
      "tensor(0.1268, device='cuda:0', grad_fn=<DivBackward0>)\n"
     ]
    },
    {
     "name": "stderr",
     "output_type": "stream",
     "text": [
      "100%|██████████| 50/50 [00:04<00:00, 11.25batch/s]\n",
      "100%|██████████| 148/148 [00:20<00:00,  7.13batch/s]\n"
     ]
    },
    {
     "name": "stdout",
     "output_type": "stream",
     "text": [
      "tensor(0.1242, device='cuda:0', grad_fn=<DivBackward0>)\n"
     ]
    },
    {
     "name": "stderr",
     "output_type": "stream",
     "text": [
      "100%|██████████| 50/50 [00:04<00:00, 11.19batch/s]\n",
      "100%|██████████| 148/148 [00:20<00:00,  7.09batch/s]\n"
     ]
    },
    {
     "name": "stdout",
     "output_type": "stream",
     "text": [
      "tensor(0.1207, device='cuda:0', grad_fn=<DivBackward0>)\n"
     ]
    },
    {
     "name": "stderr",
     "output_type": "stream",
     "text": [
      "100%|██████████| 50/50 [00:04<00:00, 11.13batch/s]\n",
      "100%|██████████| 148/148 [00:20<00:00,  7.14batch/s]\n"
     ]
    },
    {
     "name": "stdout",
     "output_type": "stream",
     "text": [
      "tensor(0.1192, device='cuda:0', grad_fn=<DivBackward0>)\n"
     ]
    },
    {
     "name": "stderr",
     "output_type": "stream",
     "text": [
      "100%|██████████| 50/50 [00:04<00:00, 11.15batch/s]\n",
      "100%|██████████| 148/148 [00:20<00:00,  7.09batch/s]\n"
     ]
    },
    {
     "name": "stdout",
     "output_type": "stream",
     "text": [
      "tensor(0.1159, device='cuda:0', grad_fn=<DivBackward0>)\n"
     ]
    },
    {
     "name": "stderr",
     "output_type": "stream",
     "text": [
      "100%|██████████| 50/50 [00:04<00:00, 10.57batch/s]\n",
      "100%|██████████| 148/148 [00:20<00:00,  7.08batch/s]\n"
     ]
    },
    {
     "name": "stdout",
     "output_type": "stream",
     "text": [
      "tensor(0.1152, device='cuda:0', grad_fn=<DivBackward0>)\n"
     ]
    },
    {
     "name": "stderr",
     "output_type": "stream",
     "text": [
      "100%|██████████| 50/50 [00:04<00:00, 11.16batch/s]\n",
      "100%|██████████| 148/148 [00:20<00:00,  7.14batch/s]\n"
     ]
    },
    {
     "name": "stdout",
     "output_type": "stream",
     "text": [
      "tensor(0.1135, device='cuda:0', grad_fn=<DivBackward0>)\n"
     ]
    },
    {
     "name": "stderr",
     "output_type": "stream",
     "text": [
      "100%|██████████| 50/50 [00:04<00:00, 11.11batch/s]\n",
      "100%|██████████| 148/148 [00:20<00:00,  7.13batch/s]\n"
     ]
    },
    {
     "name": "stdout",
     "output_type": "stream",
     "text": [
      "tensor(0.1101, device='cuda:0', grad_fn=<DivBackward0>)\n"
     ]
    },
    {
     "name": "stderr",
     "output_type": "stream",
     "text": [
      "100%|██████████| 50/50 [00:04<00:00, 11.23batch/s]\n",
      "100%|██████████| 148/148 [00:20<00:00,  7.14batch/s]\n"
     ]
    },
    {
     "name": "stdout",
     "output_type": "stream",
     "text": [
      "tensor(0.1089, device='cuda:0', grad_fn=<DivBackward0>)\n"
     ]
    },
    {
     "name": "stderr",
     "output_type": "stream",
     "text": [
      "100%|██████████| 50/50 [00:04<00:00, 11.22batch/s]\n",
      "100%|██████████| 148/148 [00:20<00:00,  7.12batch/s]\n"
     ]
    },
    {
     "name": "stdout",
     "output_type": "stream",
     "text": [
      "tensor(0.1059, device='cuda:0', grad_fn=<DivBackward0>)\n"
     ]
    },
    {
     "name": "stderr",
     "output_type": "stream",
     "text": [
      "100%|██████████| 50/50 [00:04<00:00, 11.05batch/s]\n",
      "100%|██████████| 148/148 [00:20<00:00,  7.14batch/s]\n"
     ]
    },
    {
     "name": "stdout",
     "output_type": "stream",
     "text": [
      "tensor(0.1077, device='cuda:0', grad_fn=<DivBackward0>)\n"
     ]
    },
    {
     "name": "stderr",
     "output_type": "stream",
     "text": [
      "100%|██████████| 50/50 [00:04<00:00, 11.12batch/s]\n",
      "100%|██████████| 148/148 [00:20<00:00,  7.06batch/s]\n"
     ]
    },
    {
     "name": "stdout",
     "output_type": "stream",
     "text": [
      "tensor(0.1063, device='cuda:0', grad_fn=<DivBackward0>)\n"
     ]
    },
    {
     "name": "stderr",
     "output_type": "stream",
     "text": [
      "100%|██████████| 50/50 [00:04<00:00, 11.16batch/s]\n",
      "100%|██████████| 148/148 [00:20<00:00,  7.14batch/s]\n"
     ]
    },
    {
     "name": "stdout",
     "output_type": "stream",
     "text": [
      "tensor(0.1081, device='cuda:0', grad_fn=<DivBackward0>)\n"
     ]
    },
    {
     "name": "stderr",
     "output_type": "stream",
     "text": [
      "100%|██████████| 50/50 [00:04<00:00, 11.20batch/s]\n",
      "100%|██████████| 148/148 [00:20<00:00,  7.12batch/s]\n"
     ]
    },
    {
     "name": "stdout",
     "output_type": "stream",
     "text": [
      "tensor(0.1044, device='cuda:0', grad_fn=<DivBackward0>)\n"
     ]
    },
    {
     "name": "stderr",
     "output_type": "stream",
     "text": [
      "100%|██████████| 50/50 [00:04<00:00, 11.22batch/s]\n",
      "100%|██████████| 148/148 [00:20<00:00,  7.12batch/s]\n"
     ]
    },
    {
     "name": "stdout",
     "output_type": "stream",
     "text": [
      "tensor(0.1022, device='cuda:0', grad_fn=<DivBackward0>)\n"
     ]
    },
    {
     "name": "stderr",
     "output_type": "stream",
     "text": [
      "100%|██████████| 50/50 [00:04<00:00, 11.22batch/s]\n",
      "100%|██████████| 148/148 [00:20<00:00,  7.11batch/s]\n"
     ]
    },
    {
     "name": "stdout",
     "output_type": "stream",
     "text": [
      "tensor(0.1035, device='cuda:0', grad_fn=<DivBackward0>)\n"
     ]
    },
    {
     "name": "stderr",
     "output_type": "stream",
     "text": [
      "100%|██████████| 50/50 [00:04<00:00, 11.13batch/s]\n",
      "100%|██████████| 148/148 [00:20<00:00,  7.13batch/s]\n"
     ]
    },
    {
     "name": "stdout",
     "output_type": "stream",
     "text": [
      "tensor(0.1002, device='cuda:0', grad_fn=<DivBackward0>)\n"
     ]
    },
    {
     "name": "stderr",
     "output_type": "stream",
     "text": [
      "100%|██████████| 50/50 [00:04<00:00, 11.23batch/s]\n",
      "100%|██████████| 148/148 [00:20<00:00,  7.08batch/s]\n"
     ]
    },
    {
     "name": "stdout",
     "output_type": "stream",
     "text": [
      "tensor(0.1028, device='cuda:0', grad_fn=<DivBackward0>)\n"
     ]
    },
    {
     "name": "stderr",
     "output_type": "stream",
     "text": [
      "100%|██████████| 50/50 [02:37<00:00,  3.15s/batch]\n"
     ]
    },
    {
     "data": {
      "text/plain": [
       "VBox(children=(Label(value='0.001 MB of 0.001 MB uploaded\\r'), FloatProgress(value=1.0, max=1.0)))"
      ],
      "application/vnd.jupyter.widget-view+json": {
       "version_major": 2,
       "version_minor": 0,
       "model_id": "0fd30212633c4b189bd17b0e8080a300"
      }
     },
     "metadata": {},
     "output_type": "display_data"
    },
    {
     "data": {
      "text/plain": [
       "<IPython.core.display.HTML object>"
      ],
      "text/html": [
       "<style>\n",
       "    table.wandb td:nth-child(1) { padding: 0 10px; text-align: left ; width: auto;} td:nth-child(2) {text-align: left ; width: 100%}\n",
       "    .wandb-row { display: flex; flex-direction: row; flex-wrap: wrap; justify-content: flex-start; width: 100% }\n",
       "    .wandb-col { display: flex; flex-direction: column; flex-basis: 100%; flex: 1; padding: 10px; }\n",
       "    </style>\n",
       "<div class=\"wandb-row\"><div class=\"wandb-col\"><h3>Run history:</h3><br/><table class=\"wandb\"><tr><td>psnr</td><td>▁</td></tr><tr><td>ssim</td><td>▁</td></tr><tr><td>train_loss</td><td>█▇▇▆▅▅▄▄▃▃▃▃▃▂▂▂▂▂▂▂▂▁▁▁▁▁▁▁▁▁▁▁▁▁▁▁▁▁▁▁</td></tr><tr><td>validation_loss</td><td>█▇▇▆▅▅▄▄▃▃▃▃▃▂▂▂▂▂▂▂▂▂▁▁▁▁▁▁▁▁▁▁▁▁▁▁▁▁▁▁</td></tr></table><br/></div><div class=\"wandb-col\"><h3>Run summary:</h3><br/><table class=\"wandb\"><tr><td>psnr</td><td>8.97627</td></tr><tr><td>ssim</td><td>0.02253</td></tr><tr><td>train_loss</td><td>0.10276</td></tr><tr><td>validation_loss</td><td>0.11252</td></tr></table><br/></div></div>"
      ]
     },
     "metadata": {},
     "output_type": "display_data"
    },
    {
     "data": {
      "text/plain": [
       "<IPython.core.display.HTML object>"
      ],
      "text/html": [
       " View run <strong style=\"color:#cdcd00\">SR3 with data aug</strong> at: <a href='https://wandb.ai/ladoscuro/SR%20model%20benchmarking/runs/mmpdx7td' target=\"_blank\">https://wandb.ai/ladoscuro/SR%20model%20benchmarking/runs/mmpdx7td</a><br/> View project at: <a href='https://wandb.ai/ladoscuro/SR%20model%20benchmarking' target=\"_blank\">https://wandb.ai/ladoscuro/SR%20model%20benchmarking</a><br/>Synced 5 W&B file(s), 0 media file(s), 0 artifact file(s) and 0 other file(s)"
      ]
     },
     "metadata": {},
     "output_type": "display_data"
    },
    {
     "data": {
      "text/plain": [
       "<IPython.core.display.HTML object>"
      ],
      "text/html": [
       "Find logs at: <code>.\\wandb\\run-20240511_045513-mmpdx7td\\logs</code>"
      ]
     },
     "metadata": {},
     "output_type": "display_data"
    }
   ],
   "execution_count": 7
  },
  {
   "metadata": {},
   "cell_type": "markdown",
   "source": "#### SR3+",
   "id": "169eea58514820d7"
  },
  {
   "metadata": {
    "ExecuteTime": {
     "end_time": "2024-05-11T04:19:09.052624Z",
     "start_time": "2024-05-11T04:19:08.995184Z"
    }
   },
   "cell_type": "code",
   "source": [
    "from models.SR3plus.diffusion import GaussianDiffusion\n",
    "from models.SR3plus.model import UNet\n",
    "hyperparams = {\n",
    "    \"steps\" : 8000,\n",
    "    \"sample_steps\" : 100,\n",
    "    \"lr\":0.0002,\n",
    "    \"epochs\":50,\n",
    "    \"eta_min\":1e-7,\n",
    "    \"decay_steps\": 100000,\n",
    "    \"gamma\" : 0.5,\n",
    "    \"model\" : \"SR3+\"\n",
    "}\n",
    "model = UNet(3, hyperparams[\"steps\"], channel_expansions= [1, 2, 4, 4, 4, 8, 8, 8])\n",
    "SR3plus_model = GaussianDiffusion(model, hyperparams[\"steps\"], hyperparams[\"sample_steps\"])\n",
    "SR3plus_model.to(device)"
   ],
   "id": "9f6bbb6f14180686",
   "outputs": [
    {
     "data": {
      "text/plain": [
       "GaussianDiffusion(\n",
       "  (model): UNet(\n",
       "    (emb): GammaEmbedding(\n",
       "      (linear1): Linear(\n",
       "        (linear): Linear(in_features=3, out_features=12, bias=True)\n",
       "      )\n",
       "      (silu): SiLU()\n",
       "      (linear2): Linear(\n",
       "        (linear): Linear(in_features=12, out_features=12, bias=True)\n",
       "      )\n",
       "    )\n",
       "    (conv1): Conv2d(\n",
       "      (conv): Conv2d(6, 3, kernel_size=(3, 3), stride=(1, 1), padding=(1, 1))\n",
       "    )\n",
       "    (down): ModuleList(\n",
       "      (0-2): 3 x WideResNetBlock(\n",
       "        (gn1): GroupNorm(\n",
       "          (group_norm): GroupNorm(3, 3, eps=1e-05, affine=True)\n",
       "        )\n",
       "        (silu1): SiLU()\n",
       "        (conv1): Conv2d(\n",
       "          (conv): Conv2d(3, 3, kernel_size=(3, 3), stride=(1, 1), padding=(1, 1))\n",
       "        )\n",
       "        (silu2): SiLU()\n",
       "        (linear1): Linear(\n",
       "          (linear): Linear(in_features=12, out_features=3, bias=True)\n",
       "        )\n",
       "        (gn2): GroupNorm(\n",
       "          (group_norm): GroupNorm(3, 3, eps=1e-05, affine=True)\n",
       "        )\n",
       "        (silu3): SiLU()\n",
       "        (dropout): Dropout(p=0.0, inplace=False)\n",
       "        (conv2): Conv2d(\n",
       "          (conv): Conv2d(3, 3, kernel_size=(3, 3), stride=(1, 1), padding=(1, 1))\n",
       "        )\n",
       "      )\n",
       "      (3): DownBlock(\n",
       "        (conv): Conv2d(\n",
       "          (conv): Conv2d(3, 3, kernel_size=(3, 3), stride=(2, 2), padding=(1, 1))\n",
       "        )\n",
       "      )\n",
       "      (4): WideResNetBlock(\n",
       "        (gn1): GroupNorm(\n",
       "          (group_norm): GroupNorm(3, 3, eps=1e-05, affine=True)\n",
       "        )\n",
       "        (silu1): SiLU()\n",
       "        (conv1): Conv2d(\n",
       "          (conv): Conv2d(3, 6, kernel_size=(3, 3), stride=(1, 1), padding=(1, 1))\n",
       "        )\n",
       "        (silu2): SiLU()\n",
       "        (linear1): Linear(\n",
       "          (linear): Linear(in_features=12, out_features=6, bias=True)\n",
       "        )\n",
       "        (gn2): GroupNorm(\n",
       "          (group_norm): GroupNorm(3, 6, eps=1e-05, affine=True)\n",
       "        )\n",
       "        (silu3): SiLU()\n",
       "        (dropout): Dropout(p=0.0, inplace=False)\n",
       "        (conv2): Conv2d(\n",
       "          (conv): Conv2d(6, 6, kernel_size=(3, 3), stride=(1, 1), padding=(1, 1))\n",
       "        )\n",
       "        (linear2): Linear(\n",
       "          (linear): Linear(in_features=3, out_features=6, bias=True)\n",
       "        )\n",
       "      )\n",
       "      (5-6): 2 x WideResNetBlock(\n",
       "        (gn1): GroupNorm(\n",
       "          (group_norm): GroupNorm(3, 6, eps=1e-05, affine=True)\n",
       "        )\n",
       "        (silu1): SiLU()\n",
       "        (conv1): Conv2d(\n",
       "          (conv): Conv2d(6, 6, kernel_size=(3, 3), stride=(1, 1), padding=(1, 1))\n",
       "        )\n",
       "        (silu2): SiLU()\n",
       "        (linear1): Linear(\n",
       "          (linear): Linear(in_features=12, out_features=6, bias=True)\n",
       "        )\n",
       "        (gn2): GroupNorm(\n",
       "          (group_norm): GroupNorm(3, 6, eps=1e-05, affine=True)\n",
       "        )\n",
       "        (silu3): SiLU()\n",
       "        (dropout): Dropout(p=0.0, inplace=False)\n",
       "        (conv2): Conv2d(\n",
       "          (conv): Conv2d(6, 6, kernel_size=(3, 3), stride=(1, 1), padding=(1, 1))\n",
       "        )\n",
       "      )\n",
       "      (7): DownBlock(\n",
       "        (conv): Conv2d(\n",
       "          (conv): Conv2d(6, 6, kernel_size=(3, 3), stride=(2, 2), padding=(1, 1))\n",
       "        )\n",
       "      )\n",
       "      (8): WideResNetBlock(\n",
       "        (gn1): GroupNorm(\n",
       "          (group_norm): GroupNorm(3, 6, eps=1e-05, affine=True)\n",
       "        )\n",
       "        (silu1): SiLU()\n",
       "        (conv1): Conv2d(\n",
       "          (conv): Conv2d(6, 12, kernel_size=(3, 3), stride=(1, 1), padding=(1, 1))\n",
       "        )\n",
       "        (silu2): SiLU()\n",
       "        (linear1): Linear(\n",
       "          (linear): Linear(in_features=12, out_features=12, bias=True)\n",
       "        )\n",
       "        (gn2): GroupNorm(\n",
       "          (group_norm): GroupNorm(3, 12, eps=1e-05, affine=True)\n",
       "        )\n",
       "        (silu3): SiLU()\n",
       "        (dropout): Dropout(p=0.0, inplace=False)\n",
       "        (conv2): Conv2d(\n",
       "          (conv): Conv2d(12, 12, kernel_size=(3, 3), stride=(1, 1), padding=(1, 1))\n",
       "        )\n",
       "        (linear2): Linear(\n",
       "          (linear): Linear(in_features=6, out_features=12, bias=True)\n",
       "        )\n",
       "      )\n",
       "      (9-10): 2 x WideResNetBlock(\n",
       "        (gn1): GroupNorm(\n",
       "          (group_norm): GroupNorm(3, 12, eps=1e-05, affine=True)\n",
       "        )\n",
       "        (silu1): SiLU()\n",
       "        (conv1): Conv2d(\n",
       "          (conv): Conv2d(12, 12, kernel_size=(3, 3), stride=(1, 1), padding=(1, 1))\n",
       "        )\n",
       "        (silu2): SiLU()\n",
       "        (linear1): Linear(\n",
       "          (linear): Linear(in_features=12, out_features=12, bias=True)\n",
       "        )\n",
       "        (gn2): GroupNorm(\n",
       "          (group_norm): GroupNorm(3, 12, eps=1e-05, affine=True)\n",
       "        )\n",
       "        (silu3): SiLU()\n",
       "        (dropout): Dropout(p=0.0, inplace=False)\n",
       "        (conv2): Conv2d(\n",
       "          (conv): Conv2d(12, 12, kernel_size=(3, 3), stride=(1, 1), padding=(1, 1))\n",
       "        )\n",
       "      )\n",
       "      (11): DownBlock(\n",
       "        (conv): Conv2d(\n",
       "          (conv): Conv2d(12, 12, kernel_size=(3, 3), stride=(2, 2), padding=(1, 1))\n",
       "        )\n",
       "      )\n",
       "      (12-14): 3 x WideResNetBlock(\n",
       "        (gn1): GroupNorm(\n",
       "          (group_norm): GroupNorm(3, 12, eps=1e-05, affine=True)\n",
       "        )\n",
       "        (silu1): SiLU()\n",
       "        (conv1): Conv2d(\n",
       "          (conv): Conv2d(12, 12, kernel_size=(3, 3), stride=(1, 1), padding=(1, 1))\n",
       "        )\n",
       "        (silu2): SiLU()\n",
       "        (linear1): Linear(\n",
       "          (linear): Linear(in_features=12, out_features=12, bias=True)\n",
       "        )\n",
       "        (gn2): GroupNorm(\n",
       "          (group_norm): GroupNorm(3, 12, eps=1e-05, affine=True)\n",
       "        )\n",
       "        (silu3): SiLU()\n",
       "        (dropout): Dropout(p=0.0, inplace=False)\n",
       "        (conv2): Conv2d(\n",
       "          (conv): Conv2d(12, 12, kernel_size=(3, 3), stride=(1, 1), padding=(1, 1))\n",
       "        )\n",
       "      )\n",
       "      (15): DownBlock(\n",
       "        (conv): Conv2d(\n",
       "          (conv): Conv2d(12, 12, kernel_size=(3, 3), stride=(2, 2), padding=(1, 1))\n",
       "        )\n",
       "      )\n",
       "      (16-18): 3 x WideResNetBlock(\n",
       "        (gn1): GroupNorm(\n",
       "          (group_norm): GroupNorm(3, 12, eps=1e-05, affine=True)\n",
       "        )\n",
       "        (silu1): SiLU()\n",
       "        (conv1): Conv2d(\n",
       "          (conv): Conv2d(12, 12, kernel_size=(3, 3), stride=(1, 1), padding=(1, 1))\n",
       "        )\n",
       "        (silu2): SiLU()\n",
       "        (linear1): Linear(\n",
       "          (linear): Linear(in_features=12, out_features=12, bias=True)\n",
       "        )\n",
       "        (gn2): GroupNorm(\n",
       "          (group_norm): GroupNorm(3, 12, eps=1e-05, affine=True)\n",
       "        )\n",
       "        (silu3): SiLU()\n",
       "        (dropout): Dropout(p=0.0, inplace=False)\n",
       "        (conv2): Conv2d(\n",
       "          (conv): Conv2d(12, 12, kernel_size=(3, 3), stride=(1, 1), padding=(1, 1))\n",
       "        )\n",
       "      )\n",
       "      (19): DownBlock(\n",
       "        (conv): Conv2d(\n",
       "          (conv): Conv2d(12, 12, kernel_size=(3, 3), stride=(2, 2), padding=(1, 1))\n",
       "        )\n",
       "      )\n",
       "      (20): WideResNetBlock(\n",
       "        (gn1): GroupNorm(\n",
       "          (group_norm): GroupNorm(3, 12, eps=1e-05, affine=True)\n",
       "        )\n",
       "        (silu1): SiLU()\n",
       "        (conv1): Conv2d(\n",
       "          (conv): Conv2d(12, 24, kernel_size=(3, 3), stride=(1, 1), padding=(1, 1))\n",
       "        )\n",
       "        (silu2): SiLU()\n",
       "        (linear1): Linear(\n",
       "          (linear): Linear(in_features=12, out_features=24, bias=True)\n",
       "        )\n",
       "        (gn2): GroupNorm(\n",
       "          (group_norm): GroupNorm(3, 24, eps=1e-05, affine=True)\n",
       "        )\n",
       "        (silu3): SiLU()\n",
       "        (dropout): Dropout(p=0.0, inplace=False)\n",
       "        (conv2): Conv2d(\n",
       "          (conv): Conv2d(24, 24, kernel_size=(3, 3), stride=(1, 1), padding=(1, 1))\n",
       "        )\n",
       "        (linear2): Linear(\n",
       "          (linear): Linear(in_features=12, out_features=24, bias=True)\n",
       "        )\n",
       "      )\n",
       "      (21-22): 2 x WideResNetBlock(\n",
       "        (gn1): GroupNorm(\n",
       "          (group_norm): GroupNorm(3, 24, eps=1e-05, affine=True)\n",
       "        )\n",
       "        (silu1): SiLU()\n",
       "        (conv1): Conv2d(\n",
       "          (conv): Conv2d(24, 24, kernel_size=(3, 3), stride=(1, 1), padding=(1, 1))\n",
       "        )\n",
       "        (silu2): SiLU()\n",
       "        (linear1): Linear(\n",
       "          (linear): Linear(in_features=12, out_features=24, bias=True)\n",
       "        )\n",
       "        (gn2): GroupNorm(\n",
       "          (group_norm): GroupNorm(3, 24, eps=1e-05, affine=True)\n",
       "        )\n",
       "        (silu3): SiLU()\n",
       "        (dropout): Dropout(p=0.0, inplace=False)\n",
       "        (conv2): Conv2d(\n",
       "          (conv): Conv2d(24, 24, kernel_size=(3, 3), stride=(1, 1), padding=(1, 1))\n",
       "        )\n",
       "      )\n",
       "      (23): DownBlock(\n",
       "        (conv): Conv2d(\n",
       "          (conv): Conv2d(24, 24, kernel_size=(3, 3), stride=(2, 2), padding=(1, 1))\n",
       "        )\n",
       "      )\n",
       "      (24-26): 3 x WideResNetBlock(\n",
       "        (gn1): GroupNorm(\n",
       "          (group_norm): GroupNorm(3, 24, eps=1e-05, affine=True)\n",
       "        )\n",
       "        (silu1): SiLU()\n",
       "        (conv1): Conv2d(\n",
       "          (conv): Conv2d(24, 24, kernel_size=(3, 3), stride=(1, 1), padding=(1, 1))\n",
       "        )\n",
       "        (silu2): SiLU()\n",
       "        (linear1): Linear(\n",
       "          (linear): Linear(in_features=12, out_features=24, bias=True)\n",
       "        )\n",
       "        (gn2): GroupNorm(\n",
       "          (group_norm): GroupNorm(3, 24, eps=1e-05, affine=True)\n",
       "        )\n",
       "        (silu3): SiLU()\n",
       "        (dropout): Dropout(p=0.0, inplace=False)\n",
       "        (conv2): Conv2d(\n",
       "          (conv): Conv2d(24, 24, kernel_size=(3, 3), stride=(1, 1), padding=(1, 1))\n",
       "        )\n",
       "      )\n",
       "      (27): DownBlock(\n",
       "        (conv): Conv2d(\n",
       "          (conv): Conv2d(24, 24, kernel_size=(3, 3), stride=(2, 2), padding=(1, 1))\n",
       "        )\n",
       "      )\n",
       "      (28-30): 3 x WideResNetBlock(\n",
       "        (gn1): GroupNorm(\n",
       "          (group_norm): GroupNorm(3, 24, eps=1e-05, affine=True)\n",
       "        )\n",
       "        (silu1): SiLU()\n",
       "        (conv1): Conv2d(\n",
       "          (conv): Conv2d(24, 24, kernel_size=(3, 3), stride=(1, 1), padding=(1, 1))\n",
       "        )\n",
       "        (silu2): SiLU()\n",
       "        (linear1): Linear(\n",
       "          (linear): Linear(in_features=12, out_features=24, bias=True)\n",
       "        )\n",
       "        (gn2): GroupNorm(\n",
       "          (group_norm): GroupNorm(3, 24, eps=1e-05, affine=True)\n",
       "        )\n",
       "        (silu3): SiLU()\n",
       "        (dropout): Dropout(p=0.0, inplace=False)\n",
       "        (conv2): Conv2d(\n",
       "          (conv): Conv2d(24, 24, kernel_size=(3, 3), stride=(1, 1), padding=(1, 1))\n",
       "        )\n",
       "      )\n",
       "    )\n",
       "    (mid): ModuleList(\n",
       "      (0-1): 2 x WideResNetBlock(\n",
       "        (gn1): GroupNorm(\n",
       "          (group_norm): GroupNorm(3, 24, eps=1e-05, affine=True)\n",
       "        )\n",
       "        (silu1): SiLU()\n",
       "        (conv1): Conv2d(\n",
       "          (conv): Conv2d(24, 24, kernel_size=(3, 3), stride=(1, 1), padding=(1, 1))\n",
       "        )\n",
       "        (silu2): SiLU()\n",
       "        (linear1): Linear(\n",
       "          (linear): Linear(in_features=12, out_features=24, bias=True)\n",
       "        )\n",
       "        (gn2): GroupNorm(\n",
       "          (group_norm): GroupNorm(3, 24, eps=1e-05, affine=True)\n",
       "        )\n",
       "        (silu3): SiLU()\n",
       "        (dropout): Dropout(p=0.0, inplace=False)\n",
       "        (conv2): Conv2d(\n",
       "          (conv): Conv2d(24, 24, kernel_size=(3, 3), stride=(1, 1), padding=(1, 1))\n",
       "        )\n",
       "      )\n",
       "    )\n",
       "    (up): ModuleList(\n",
       "      (0-3): 4 x WideResNetBlock(\n",
       "        (gn1): GroupNorm(\n",
       "          (group_norm): GroupNorm(3, 48, eps=1e-05, affine=True)\n",
       "        )\n",
       "        (silu1): SiLU()\n",
       "        (conv1): Conv2d(\n",
       "          (conv): Conv2d(48, 24, kernel_size=(3, 3), stride=(1, 1), padding=(1, 1))\n",
       "        )\n",
       "        (silu2): SiLU()\n",
       "        (linear1): Linear(\n",
       "          (linear): Linear(in_features=12, out_features=24, bias=True)\n",
       "        )\n",
       "        (gn2): GroupNorm(\n",
       "          (group_norm): GroupNorm(3, 24, eps=1e-05, affine=True)\n",
       "        )\n",
       "        (silu3): SiLU()\n",
       "        (dropout): Dropout(p=0.0, inplace=False)\n",
       "        (conv2): Conv2d(\n",
       "          (conv): Conv2d(24, 24, kernel_size=(3, 3), stride=(1, 1), padding=(1, 1))\n",
       "        )\n",
       "        (linear2): Linear(\n",
       "          (linear): Linear(in_features=48, out_features=24, bias=True)\n",
       "        )\n",
       "      )\n",
       "      (4): UpBlock(\n",
       "        (upsample): Upsample(scale_factor=2.0, mode='nearest')\n",
       "        (conv): Conv2d(\n",
       "          (conv): Conv2d(24, 24, kernel_size=(3, 3), stride=(1, 1), padding=(1, 1))\n",
       "        )\n",
       "      )\n",
       "      (5-8): 4 x WideResNetBlock(\n",
       "        (gn1): GroupNorm(\n",
       "          (group_norm): GroupNorm(3, 48, eps=1e-05, affine=True)\n",
       "        )\n",
       "        (silu1): SiLU()\n",
       "        (conv1): Conv2d(\n",
       "          (conv): Conv2d(48, 24, kernel_size=(3, 3), stride=(1, 1), padding=(1, 1))\n",
       "        )\n",
       "        (silu2): SiLU()\n",
       "        (linear1): Linear(\n",
       "          (linear): Linear(in_features=12, out_features=24, bias=True)\n",
       "        )\n",
       "        (gn2): GroupNorm(\n",
       "          (group_norm): GroupNorm(3, 24, eps=1e-05, affine=True)\n",
       "        )\n",
       "        (silu3): SiLU()\n",
       "        (dropout): Dropout(p=0.0, inplace=False)\n",
       "        (conv2): Conv2d(\n",
       "          (conv): Conv2d(24, 24, kernel_size=(3, 3), stride=(1, 1), padding=(1, 1))\n",
       "        )\n",
       "        (linear2): Linear(\n",
       "          (linear): Linear(in_features=48, out_features=24, bias=True)\n",
       "        )\n",
       "      )\n",
       "      (9): UpBlock(\n",
       "        (upsample): Upsample(scale_factor=2.0, mode='nearest')\n",
       "        (conv): Conv2d(\n",
       "          (conv): Conv2d(24, 24, kernel_size=(3, 3), stride=(1, 1), padding=(1, 1))\n",
       "        )\n",
       "      )\n",
       "      (10-12): 3 x WideResNetBlock(\n",
       "        (gn1): GroupNorm(\n",
       "          (group_norm): GroupNorm(3, 48, eps=1e-05, affine=True)\n",
       "        )\n",
       "        (silu1): SiLU()\n",
       "        (conv1): Conv2d(\n",
       "          (conv): Conv2d(48, 24, kernel_size=(3, 3), stride=(1, 1), padding=(1, 1))\n",
       "        )\n",
       "        (silu2): SiLU()\n",
       "        (linear1): Linear(\n",
       "          (linear): Linear(in_features=12, out_features=24, bias=True)\n",
       "        )\n",
       "        (gn2): GroupNorm(\n",
       "          (group_norm): GroupNorm(3, 24, eps=1e-05, affine=True)\n",
       "        )\n",
       "        (silu3): SiLU()\n",
       "        (dropout): Dropout(p=0.0, inplace=False)\n",
       "        (conv2): Conv2d(\n",
       "          (conv): Conv2d(24, 24, kernel_size=(3, 3), stride=(1, 1), padding=(1, 1))\n",
       "        )\n",
       "        (linear2): Linear(\n",
       "          (linear): Linear(in_features=48, out_features=24, bias=True)\n",
       "        )\n",
       "      )\n",
       "      (13): WideResNetBlock(\n",
       "        (gn1): GroupNorm(\n",
       "          (group_norm): GroupNorm(3, 36, eps=1e-05, affine=True)\n",
       "        )\n",
       "        (silu1): SiLU()\n",
       "        (conv1): Conv2d(\n",
       "          (conv): Conv2d(36, 24, kernel_size=(3, 3), stride=(1, 1), padding=(1, 1))\n",
       "        )\n",
       "        (silu2): SiLU()\n",
       "        (linear1): Linear(\n",
       "          (linear): Linear(in_features=12, out_features=24, bias=True)\n",
       "        )\n",
       "        (gn2): GroupNorm(\n",
       "          (group_norm): GroupNorm(3, 24, eps=1e-05, affine=True)\n",
       "        )\n",
       "        (silu3): SiLU()\n",
       "        (dropout): Dropout(p=0.0, inplace=False)\n",
       "        (conv2): Conv2d(\n",
       "          (conv): Conv2d(24, 24, kernel_size=(3, 3), stride=(1, 1), padding=(1, 1))\n",
       "        )\n",
       "        (linear2): Linear(\n",
       "          (linear): Linear(in_features=36, out_features=24, bias=True)\n",
       "        )\n",
       "      )\n",
       "      (14): UpBlock(\n",
       "        (upsample): Upsample(scale_factor=2.0, mode='nearest')\n",
       "        (conv): Conv2d(\n",
       "          (conv): Conv2d(24, 24, kernel_size=(3, 3), stride=(1, 1), padding=(1, 1))\n",
       "        )\n",
       "      )\n",
       "      (15): WideResNetBlock(\n",
       "        (gn1): GroupNorm(\n",
       "          (group_norm): GroupNorm(3, 36, eps=1e-05, affine=True)\n",
       "        )\n",
       "        (silu1): SiLU()\n",
       "        (conv1): Conv2d(\n",
       "          (conv): Conv2d(36, 12, kernel_size=(3, 3), stride=(1, 1), padding=(1, 1))\n",
       "        )\n",
       "        (silu2): SiLU()\n",
       "        (linear1): Linear(\n",
       "          (linear): Linear(in_features=12, out_features=12, bias=True)\n",
       "        )\n",
       "        (gn2): GroupNorm(\n",
       "          (group_norm): GroupNorm(3, 12, eps=1e-05, affine=True)\n",
       "        )\n",
       "        (silu3): SiLU()\n",
       "        (dropout): Dropout(p=0.0, inplace=False)\n",
       "        (conv2): Conv2d(\n",
       "          (conv): Conv2d(12, 12, kernel_size=(3, 3), stride=(1, 1), padding=(1, 1))\n",
       "        )\n",
       "        (linear2): Linear(\n",
       "          (linear): Linear(in_features=36, out_features=12, bias=True)\n",
       "        )\n",
       "      )\n",
       "      (16-18): 3 x WideResNetBlock(\n",
       "        (gn1): GroupNorm(\n",
       "          (group_norm): GroupNorm(3, 24, eps=1e-05, affine=True)\n",
       "        )\n",
       "        (silu1): SiLU()\n",
       "        (conv1): Conv2d(\n",
       "          (conv): Conv2d(24, 12, kernel_size=(3, 3), stride=(1, 1), padding=(1, 1))\n",
       "        )\n",
       "        (silu2): SiLU()\n",
       "        (linear1): Linear(\n",
       "          (linear): Linear(in_features=12, out_features=12, bias=True)\n",
       "        )\n",
       "        (gn2): GroupNorm(\n",
       "          (group_norm): GroupNorm(3, 12, eps=1e-05, affine=True)\n",
       "        )\n",
       "        (silu3): SiLU()\n",
       "        (dropout): Dropout(p=0.0, inplace=False)\n",
       "        (conv2): Conv2d(\n",
       "          (conv): Conv2d(12, 12, kernel_size=(3, 3), stride=(1, 1), padding=(1, 1))\n",
       "        )\n",
       "        (linear2): Linear(\n",
       "          (linear): Linear(in_features=24, out_features=12, bias=True)\n",
       "        )\n",
       "      )\n",
       "      (19): UpBlock(\n",
       "        (upsample): Upsample(scale_factor=2.0, mode='nearest')\n",
       "        (conv): Conv2d(\n",
       "          (conv): Conv2d(12, 12, kernel_size=(3, 3), stride=(1, 1), padding=(1, 1))\n",
       "        )\n",
       "      )\n",
       "      (20-23): 4 x WideResNetBlock(\n",
       "        (gn1): GroupNorm(\n",
       "          (group_norm): GroupNorm(3, 24, eps=1e-05, affine=True)\n",
       "        )\n",
       "        (silu1): SiLU()\n",
       "        (conv1): Conv2d(\n",
       "          (conv): Conv2d(24, 12, kernel_size=(3, 3), stride=(1, 1), padding=(1, 1))\n",
       "        )\n",
       "        (silu2): SiLU()\n",
       "        (linear1): Linear(\n",
       "          (linear): Linear(in_features=12, out_features=12, bias=True)\n",
       "        )\n",
       "        (gn2): GroupNorm(\n",
       "          (group_norm): GroupNorm(3, 12, eps=1e-05, affine=True)\n",
       "        )\n",
       "        (silu3): SiLU()\n",
       "        (dropout): Dropout(p=0.0, inplace=False)\n",
       "        (conv2): Conv2d(\n",
       "          (conv): Conv2d(12, 12, kernel_size=(3, 3), stride=(1, 1), padding=(1, 1))\n",
       "        )\n",
       "        (linear2): Linear(\n",
       "          (linear): Linear(in_features=24, out_features=12, bias=True)\n",
       "        )\n",
       "      )\n",
       "      (24): UpBlock(\n",
       "        (upsample): Upsample(scale_factor=2.0, mode='nearest')\n",
       "        (conv): Conv2d(\n",
       "          (conv): Conv2d(12, 12, kernel_size=(3, 3), stride=(1, 1), padding=(1, 1))\n",
       "        )\n",
       "      )\n",
       "      (25-27): 3 x WideResNetBlock(\n",
       "        (gn1): GroupNorm(\n",
       "          (group_norm): GroupNorm(3, 24, eps=1e-05, affine=True)\n",
       "        )\n",
       "        (silu1): SiLU()\n",
       "        (conv1): Conv2d(\n",
       "          (conv): Conv2d(24, 12, kernel_size=(3, 3), stride=(1, 1), padding=(1, 1))\n",
       "        )\n",
       "        (silu2): SiLU()\n",
       "        (linear1): Linear(\n",
       "          (linear): Linear(in_features=12, out_features=12, bias=True)\n",
       "        )\n",
       "        (gn2): GroupNorm(\n",
       "          (group_norm): GroupNorm(3, 12, eps=1e-05, affine=True)\n",
       "        )\n",
       "        (silu3): SiLU()\n",
       "        (dropout): Dropout(p=0.0, inplace=False)\n",
       "        (conv2): Conv2d(\n",
       "          (conv): Conv2d(12, 12, kernel_size=(3, 3), stride=(1, 1), padding=(1, 1))\n",
       "        )\n",
       "        (linear2): Linear(\n",
       "          (linear): Linear(in_features=24, out_features=12, bias=True)\n",
       "        )\n",
       "      )\n",
       "      (28): WideResNetBlock(\n",
       "        (gn1): GroupNorm(\n",
       "          (group_norm): GroupNorm(3, 18, eps=1e-05, affine=True)\n",
       "        )\n",
       "        (silu1): SiLU()\n",
       "        (conv1): Conv2d(\n",
       "          (conv): Conv2d(18, 12, kernel_size=(3, 3), stride=(1, 1), padding=(1, 1))\n",
       "        )\n",
       "        (silu2): SiLU()\n",
       "        (linear1): Linear(\n",
       "          (linear): Linear(in_features=12, out_features=12, bias=True)\n",
       "        )\n",
       "        (gn2): GroupNorm(\n",
       "          (group_norm): GroupNorm(3, 12, eps=1e-05, affine=True)\n",
       "        )\n",
       "        (silu3): SiLU()\n",
       "        (dropout): Dropout(p=0.0, inplace=False)\n",
       "        (conv2): Conv2d(\n",
       "          (conv): Conv2d(12, 12, kernel_size=(3, 3), stride=(1, 1), padding=(1, 1))\n",
       "        )\n",
       "        (linear2): Linear(\n",
       "          (linear): Linear(in_features=18, out_features=12, bias=True)\n",
       "        )\n",
       "      )\n",
       "      (29): UpBlock(\n",
       "        (upsample): Upsample(scale_factor=2.0, mode='nearest')\n",
       "        (conv): Conv2d(\n",
       "          (conv): Conv2d(12, 12, kernel_size=(3, 3), stride=(1, 1), padding=(1, 1))\n",
       "        )\n",
       "      )\n",
       "      (30): WideResNetBlock(\n",
       "        (gn1): GroupNorm(\n",
       "          (group_norm): GroupNorm(3, 18, eps=1e-05, affine=True)\n",
       "        )\n",
       "        (silu1): SiLU()\n",
       "        (conv1): Conv2d(\n",
       "          (conv): Conv2d(18, 6, kernel_size=(3, 3), stride=(1, 1), padding=(1, 1))\n",
       "        )\n",
       "        (silu2): SiLU()\n",
       "        (linear1): Linear(\n",
       "          (linear): Linear(in_features=12, out_features=6, bias=True)\n",
       "        )\n",
       "        (gn2): GroupNorm(\n",
       "          (group_norm): GroupNorm(3, 6, eps=1e-05, affine=True)\n",
       "        )\n",
       "        (silu3): SiLU()\n",
       "        (dropout): Dropout(p=0.0, inplace=False)\n",
       "        (conv2): Conv2d(\n",
       "          (conv): Conv2d(6, 6, kernel_size=(3, 3), stride=(1, 1), padding=(1, 1))\n",
       "        )\n",
       "        (linear2): Linear(\n",
       "          (linear): Linear(in_features=18, out_features=6, bias=True)\n",
       "        )\n",
       "      )\n",
       "      (31-32): 2 x WideResNetBlock(\n",
       "        (gn1): GroupNorm(\n",
       "          (group_norm): GroupNorm(3, 12, eps=1e-05, affine=True)\n",
       "        )\n",
       "        (silu1): SiLU()\n",
       "        (conv1): Conv2d(\n",
       "          (conv): Conv2d(12, 6, kernel_size=(3, 3), stride=(1, 1), padding=(1, 1))\n",
       "        )\n",
       "        (silu2): SiLU()\n",
       "        (linear1): Linear(\n",
       "          (linear): Linear(in_features=12, out_features=6, bias=True)\n",
       "        )\n",
       "        (gn2): GroupNorm(\n",
       "          (group_norm): GroupNorm(3, 6, eps=1e-05, affine=True)\n",
       "        )\n",
       "        (silu3): SiLU()\n",
       "        (dropout): Dropout(p=0.0, inplace=False)\n",
       "        (conv2): Conv2d(\n",
       "          (conv): Conv2d(6, 6, kernel_size=(3, 3), stride=(1, 1), padding=(1, 1))\n",
       "        )\n",
       "        (linear2): Linear(\n",
       "          (linear): Linear(in_features=12, out_features=6, bias=True)\n",
       "        )\n",
       "      )\n",
       "      (33): WideResNetBlock(\n",
       "        (gn1): GroupNorm(\n",
       "          (group_norm): GroupNorm(3, 9, eps=1e-05, affine=True)\n",
       "        )\n",
       "        (silu1): SiLU()\n",
       "        (conv1): Conv2d(\n",
       "          (conv): Conv2d(9, 6, kernel_size=(3, 3), stride=(1, 1), padding=(1, 1))\n",
       "        )\n",
       "        (silu2): SiLU()\n",
       "        (linear1): Linear(\n",
       "          (linear): Linear(in_features=12, out_features=6, bias=True)\n",
       "        )\n",
       "        (gn2): GroupNorm(\n",
       "          (group_norm): GroupNorm(3, 6, eps=1e-05, affine=True)\n",
       "        )\n",
       "        (silu3): SiLU()\n",
       "        (dropout): Dropout(p=0.0, inplace=False)\n",
       "        (conv2): Conv2d(\n",
       "          (conv): Conv2d(6, 6, kernel_size=(3, 3), stride=(1, 1), padding=(1, 1))\n",
       "        )\n",
       "        (linear2): Linear(\n",
       "          (linear): Linear(in_features=9, out_features=6, bias=True)\n",
       "        )\n",
       "      )\n",
       "      (34): UpBlock(\n",
       "        (upsample): Upsample(scale_factor=2.0, mode='nearest')\n",
       "        (conv): Conv2d(\n",
       "          (conv): Conv2d(6, 6, kernel_size=(3, 3), stride=(1, 1), padding=(1, 1))\n",
       "        )\n",
       "      )\n",
       "      (35): WideResNetBlock(\n",
       "        (gn1): GroupNorm(\n",
       "          (group_norm): GroupNorm(3, 9, eps=1e-05, affine=True)\n",
       "        )\n",
       "        (silu1): SiLU()\n",
       "        (conv1): Conv2d(\n",
       "          (conv): Conv2d(9, 3, kernel_size=(3, 3), stride=(1, 1), padding=(1, 1))\n",
       "        )\n",
       "        (silu2): SiLU()\n",
       "        (linear1): Linear(\n",
       "          (linear): Linear(in_features=12, out_features=3, bias=True)\n",
       "        )\n",
       "        (gn2): GroupNorm(\n",
       "          (group_norm): GroupNorm(3, 3, eps=1e-05, affine=True)\n",
       "        )\n",
       "        (silu3): SiLU()\n",
       "        (dropout): Dropout(p=0.0, inplace=False)\n",
       "        (conv2): Conv2d(\n",
       "          (conv): Conv2d(3, 3, kernel_size=(3, 3), stride=(1, 1), padding=(1, 1))\n",
       "        )\n",
       "        (linear2): Linear(\n",
       "          (linear): Linear(in_features=9, out_features=3, bias=True)\n",
       "        )\n",
       "      )\n",
       "      (36-38): 3 x WideResNetBlock(\n",
       "        (gn1): GroupNorm(\n",
       "          (group_norm): GroupNorm(3, 6, eps=1e-05, affine=True)\n",
       "        )\n",
       "        (silu1): SiLU()\n",
       "        (conv1): Conv2d(\n",
       "          (conv): Conv2d(6, 3, kernel_size=(3, 3), stride=(1, 1), padding=(1, 1))\n",
       "        )\n",
       "        (silu2): SiLU()\n",
       "        (linear1): Linear(\n",
       "          (linear): Linear(in_features=12, out_features=3, bias=True)\n",
       "        )\n",
       "        (gn2): GroupNorm(\n",
       "          (group_norm): GroupNorm(3, 3, eps=1e-05, affine=True)\n",
       "        )\n",
       "        (silu3): SiLU()\n",
       "        (dropout): Dropout(p=0.0, inplace=False)\n",
       "        (conv2): Conv2d(\n",
       "          (conv): Conv2d(3, 3, kernel_size=(3, 3), stride=(1, 1), padding=(1, 1))\n",
       "        )\n",
       "        (linear2): Linear(\n",
       "          (linear): Linear(in_features=6, out_features=3, bias=True)\n",
       "        )\n",
       "      )\n",
       "    )\n",
       "    (gn): GroupNorm(\n",
       "      (group_norm): GroupNorm(3, 3, eps=1e-05, affine=True)\n",
       "    )\n",
       "    (silu): SiLU()\n",
       "    (conv2): Conv2d(\n",
       "      (conv): Conv2d(3, 3, kernel_size=(3, 3), stride=(1, 1), padding=(1, 1))\n",
       "    )\n",
       "  )\n",
       ")"
      ]
     },
     "execution_count": 8,
     "metadata": {},
     "output_type": "execute_result"
    }
   ],
   "execution_count": 8
  },
  {
   "metadata": {
    "ExecuteTime": {
     "end_time": "2024-05-11T04:19:09.057301Z",
     "start_time": "2024-05-11T04:19:09.052624Z"
    }
   },
   "cell_type": "code",
   "source": [
    "optimizer = torch.optim.Adam(SR3plus_model.parameters(), lr=hyperparams[\"lr\"])\n",
    "scheduler = torch.optim.lr_scheduler.StepLR(optimizer, step_size=hyperparams[\"decay_steps\"], gamma=hyperparams[\"gamma\"])"
   ],
   "id": "2ec55b27c77c26fc",
   "outputs": [],
   "execution_count": 9
  },
  {
   "metadata": {
    "ExecuteTime": {
     "end_time": "2024-05-11T04:44:56.910025Z",
     "start_time": "2024-05-11T04:19:09.058304Z"
    }
   },
   "cell_type": "code",
   "source": [
    " project_name = \"SR model benchmarking\"\n",
    "run_name = \"SR3+ with data aug\"\n",
    "wandb.login()\n",
    "wandb.init(project=project_name, config=hyperparams, name=run_name)\n",
    "\n",
    "trainer = SR3Trainer(metrics_used=[\"ssim\", \"psnr\"], model_name=\"SR3+\")\n",
    "trainer.set_model(SR3plus_model)\n",
    "trainer.set_optimizer(optimizer)\n",
    "trainer.set_scheduler(scheduler)\n",
    "for step in range(hyperparams[\"epochs\"]):\n",
    "    with torch.no_grad():\n",
    "        val_loss = trainer.validate(val_dataloader)\n",
    "    train_loss = trainer.train(train_dataloader)\n",
    "    torch.cuda.empty_cache()\n",
    "    trainer.save_model(\"models_state_dic\") \n",
    "\n",
    "    torch.cuda.empty_cache()\n",
    "    wandb.log({\"train_loss\": train_loss, \"validation_loss\": val_loss})\n",
    "    \n",
    "test_metrics = trainer.test(test_dataloader)\n",
    "wandb.log(test_metrics)\n",
    "wandb.finish()   "
   ],
   "id": "18c1250e157ff968",
   "outputs": [
    {
     "data": {
      "text/plain": [
       "VBox(children=(Label(value='Waiting for wandb.init()...\\r'), FloatProgress(value=0.01127777777777131, max=1.0)…"
      ],
      "application/vnd.jupyter.widget-view+json": {
       "version_major": 2,
       "version_minor": 0,
       "model_id": "149ab6f6b22e4e5ebaa25de540393f92"
      }
     },
     "metadata": {},
     "output_type": "display_data"
    },
    {
     "data": {
      "text/plain": [
       "<IPython.core.display.HTML object>"
      ],
      "text/html": [
       "wandb version 0.17.0 is available!  To upgrade, please run:\n",
       " $ pip install wandb --upgrade"
      ]
     },
     "metadata": {},
     "output_type": "display_data"
    },
    {
     "data": {
      "text/plain": [
       "<IPython.core.display.HTML object>"
      ],
      "text/html": [
       "Tracking run with wandb version 0.16.6"
      ]
     },
     "metadata": {},
     "output_type": "display_data"
    },
    {
     "data": {
      "text/plain": [
       "<IPython.core.display.HTML object>"
      ],
      "text/html": [
       "Run data is saved locally in <code>C:\\Users\\adria\\Desktop\\TFG-code\\SR-model-benchmarking\\wandb\\run-20240511_051909-tfbi6smb</code>"
      ]
     },
     "metadata": {},
     "output_type": "display_data"
    },
    {
     "data": {
      "text/plain": [
       "<IPython.core.display.HTML object>"
      ],
      "text/html": [
       "Syncing run <strong><a href='https://wandb.ai/ladoscuro/SR%20model%20benchmarking/runs/tfbi6smb' target=\"_blank\">SR3+ with data aug</a></strong> to <a href='https://wandb.ai/ladoscuro/SR%20model%20benchmarking' target=\"_blank\">Weights & Biases</a> (<a href='https://wandb.me/run' target=\"_blank\">docs</a>)<br/>"
      ]
     },
     "metadata": {},
     "output_type": "display_data"
    },
    {
     "data": {
      "text/plain": [
       "<IPython.core.display.HTML object>"
      ],
      "text/html": [
       " View project at <a href='https://wandb.ai/ladoscuro/SR%20model%20benchmarking' target=\"_blank\">https://wandb.ai/ladoscuro/SR%20model%20benchmarking</a>"
      ]
     },
     "metadata": {},
     "output_type": "display_data"
    },
    {
     "data": {
      "text/plain": [
       "<IPython.core.display.HTML object>"
      ],
      "text/html": [
       " View run at <a href='https://wandb.ai/ladoscuro/SR%20model%20benchmarking/runs/tfbi6smb' target=\"_blank\">https://wandb.ai/ladoscuro/SR%20model%20benchmarking/runs/tfbi6smb</a>"
      ]
     },
     "metadata": {},
     "output_type": "display_data"
    },
    {
     "name": "stderr",
     "output_type": "stream",
     "text": [
      "100%|██████████| 50/50 [00:04<00:00, 10.10batch/s]\n",
      "100%|██████████| 148/148 [00:22<00:00,  6.53batch/s]\n",
      "100%|██████████| 50/50 [00:04<00:00, 10.74batch/s]\n",
      "100%|██████████| 148/148 [00:22<00:00,  6.55batch/s]\n",
      "100%|██████████| 50/50 [00:04<00:00, 10.69batch/s]\n",
      "100%|██████████| 148/148 [00:22<00:00,  6.55batch/s]\n",
      "100%|██████████| 50/50 [00:04<00:00, 10.75batch/s]\n",
      "100%|██████████| 148/148 [00:22<00:00,  6.54batch/s]\n",
      "100%|██████████| 50/50 [00:04<00:00, 10.73batch/s]\n",
      "100%|██████████| 148/148 [00:22<00:00,  6.57batch/s]\n",
      "100%|██████████| 50/50 [00:04<00:00, 10.74batch/s]\n",
      "100%|██████████| 148/148 [00:22<00:00,  6.60batch/s]\n",
      "100%|██████████| 50/50 [00:04<00:00, 10.80batch/s]\n",
      "100%|██████████| 148/148 [00:22<00:00,  6.56batch/s]\n",
      "100%|██████████| 50/50 [00:04<00:00, 10.75batch/s]\n",
      "100%|██████████| 148/148 [00:22<00:00,  6.59batch/s]\n",
      "100%|██████████| 50/50 [00:04<00:00, 10.79batch/s]\n",
      "100%|██████████| 148/148 [00:22<00:00,  6.58batch/s]\n",
      "100%|██████████| 50/50 [00:04<00:00, 10.77batch/s]\n",
      "100%|██████████| 148/148 [00:22<00:00,  6.61batch/s]\n",
      "100%|██████████| 50/50 [00:04<00:00, 10.83batch/s]\n",
      "100%|██████████| 148/148 [00:22<00:00,  6.56batch/s]\n",
      "100%|██████████| 50/50 [00:04<00:00, 10.73batch/s]\n",
      "100%|██████████| 148/148 [00:22<00:00,  6.59batch/s]\n",
      "100%|██████████| 50/50 [00:04<00:00, 10.76batch/s]\n",
      "100%|██████████| 148/148 [00:22<00:00,  6.57batch/s]\n",
      "100%|██████████| 50/50 [00:04<00:00, 10.77batch/s]\n",
      "100%|██████████| 148/148 [00:22<00:00,  6.57batch/s]\n",
      "100%|██████████| 50/50 [00:04<00:00, 10.80batch/s]\n",
      "100%|██████████| 148/148 [00:22<00:00,  6.53batch/s]\n",
      "100%|██████████| 50/50 [00:04<00:00, 10.68batch/s]\n",
      "100%|██████████| 148/148 [00:22<00:00,  6.56batch/s]\n",
      "100%|██████████| 50/50 [00:04<00:00, 10.71batch/s]\n",
      "100%|██████████| 148/148 [00:22<00:00,  6.59batch/s]\n",
      "100%|██████████| 50/50 [00:04<00:00, 10.69batch/s]\n",
      "100%|██████████| 148/148 [00:22<00:00,  6.58batch/s]\n",
      "100%|██████████| 50/50 [00:04<00:00, 10.75batch/s]\n",
      "100%|██████████| 148/148 [00:22<00:00,  6.59batch/s]\n",
      "100%|██████████| 50/50 [00:04<00:00, 10.72batch/s]\n",
      "100%|██████████| 148/148 [00:22<00:00,  6.60batch/s]\n",
      "100%|██████████| 50/50 [00:04<00:00, 10.74batch/s]\n",
      "100%|██████████| 148/148 [00:22<00:00,  6.55batch/s]\n",
      "100%|██████████| 50/50 [00:04<00:00, 10.58batch/s]\n",
      "100%|██████████| 148/148 [00:22<00:00,  6.58batch/s]\n",
      "100%|██████████| 50/50 [00:04<00:00, 10.82batch/s]\n",
      "100%|██████████| 148/148 [00:22<00:00,  6.61batch/s]\n",
      "100%|██████████| 50/50 [00:04<00:00, 10.79batch/s]\n",
      "100%|██████████| 148/148 [00:22<00:00,  6.57batch/s]\n",
      "100%|██████████| 50/50 [00:04<00:00, 10.76batch/s]\n",
      "100%|██████████| 148/148 [00:22<00:00,  6.59batch/s]\n",
      "100%|██████████| 50/50 [00:04<00:00, 10.73batch/s]\n",
      "100%|██████████| 148/148 [00:22<00:00,  6.59batch/s]\n",
      "100%|██████████| 50/50 [00:04<00:00, 10.68batch/s]\n",
      "100%|██████████| 148/148 [00:22<00:00,  6.53batch/s]\n",
      "100%|██████████| 50/50 [00:04<00:00, 10.86batch/s]\n",
      "100%|██████████| 148/148 [00:22<00:00,  6.58batch/s]\n",
      "100%|██████████| 50/50 [00:04<00:00, 10.68batch/s]\n",
      "100%|██████████| 148/148 [00:22<00:00,  6.58batch/s]\n",
      "100%|██████████| 50/50 [00:04<00:00, 10.88batch/s]\n",
      "100%|██████████| 148/148 [00:22<00:00,  6.57batch/s]\n",
      "100%|██████████| 50/50 [00:04<00:00, 10.80batch/s]\n",
      "100%|██████████| 148/148 [00:22<00:00,  6.58batch/s]\n",
      "100%|██████████| 50/50 [00:04<00:00, 10.79batch/s]\n",
      "100%|██████████| 148/148 [00:22<00:00,  6.57batch/s]\n",
      "100%|██████████| 50/50 [00:04<00:00, 10.70batch/s]\n",
      "100%|██████████| 148/148 [00:22<00:00,  6.59batch/s]\n",
      "100%|██████████| 50/50 [00:04<00:00, 10.76batch/s]\n",
      "100%|██████████| 148/148 [00:22<00:00,  6.55batch/s]\n",
      "100%|██████████| 50/50 [00:04<00:00, 10.91batch/s]\n",
      "100%|██████████| 148/148 [00:22<00:00,  6.58batch/s]\n",
      "100%|██████████| 50/50 [00:04<00:00, 10.75batch/s]\n",
      "100%|██████████| 148/148 [00:22<00:00,  6.50batch/s]\n",
      "100%|██████████| 50/50 [00:04<00:00, 10.51batch/s]\n",
      "100%|██████████| 148/148 [00:22<00:00,  6.55batch/s]\n",
      "100%|██████████| 50/50 [00:04<00:00, 10.68batch/s]\n",
      "100%|██████████| 148/148 [00:22<00:00,  6.54batch/s]\n",
      "100%|██████████| 50/50 [00:04<00:00, 10.64batch/s]\n",
      "100%|██████████| 148/148 [00:22<00:00,  6.57batch/s]\n",
      "100%|██████████| 50/50 [00:04<00:00, 10.75batch/s]\n",
      "100%|██████████| 148/148 [00:22<00:00,  6.54batch/s]\n",
      "100%|██████████| 50/50 [00:04<00:00, 10.81batch/s]\n",
      "100%|██████████| 148/148 [00:22<00:00,  6.56batch/s]\n",
      "100%|██████████| 50/50 [00:04<00:00, 10.75batch/s]\n",
      "100%|██████████| 148/148 [00:22<00:00,  6.54batch/s]\n",
      "100%|██████████| 50/50 [00:04<00:00, 10.71batch/s]\n",
      "100%|██████████| 148/148 [00:22<00:00,  6.56batch/s]\n",
      "100%|██████████| 50/50 [00:04<00:00, 10.62batch/s]\n",
      "100%|██████████| 148/148 [00:22<00:00,  6.53batch/s]\n",
      "100%|██████████| 50/50 [00:04<00:00, 10.57batch/s]\n",
      "100%|██████████| 148/148 [00:22<00:00,  6.53batch/s]\n",
      "100%|██████████| 50/50 [00:04<00:00, 10.82batch/s]\n",
      "100%|██████████| 148/148 [00:22<00:00,  6.59batch/s]\n",
      "100%|██████████| 50/50 [00:04<00:00, 10.73batch/s]\n",
      "100%|██████████| 148/148 [00:22<00:00,  6.56batch/s]\n",
      "100%|██████████| 50/50 [00:04<00:00, 10.74batch/s]\n",
      "100%|██████████| 148/148 [00:22<00:00,  6.48batch/s]\n",
      "100%|██████████| 50/50 [00:04<00:00, 10.72batch/s]\n",
      "100%|██████████| 148/148 [00:22<00:00,  6.52batch/s]\n",
      "100%|██████████| 50/50 [00:04<00:00, 10.80batch/s]\n",
      "100%|██████████| 148/148 [00:22<00:00,  6.53batch/s]\n",
      "100%|██████████| 50/50 [02:52<00:00,  3.45s/batch]\n"
     ]
    },
    {
     "data": {
      "text/plain": [
       "VBox(children=(Label(value='0.001 MB of 0.001 MB uploaded\\r'), FloatProgress(value=1.0, max=1.0)))"
      ],
      "application/vnd.jupyter.widget-view+json": {
       "version_major": 2,
       "version_minor": 0,
       "model_id": "2b56e2ff10ec473b803740f2d5aaf4aa"
      }
     },
     "metadata": {},
     "output_type": "display_data"
    },
    {
     "data": {
      "text/plain": [
       "<IPython.core.display.HTML object>"
      ],
      "text/html": [
       "<style>\n",
       "    table.wandb td:nth-child(1) { padding: 0 10px; text-align: left ; width: auto;} td:nth-child(2) {text-align: left ; width: 100%}\n",
       "    .wandb-row { display: flex; flex-direction: row; flex-wrap: wrap; justify-content: flex-start; width: 100% }\n",
       "    .wandb-col { display: flex; flex-direction: column; flex-basis: 100%; flex: 1; padding: 10px; }\n",
       "    </style>\n",
       "<div class=\"wandb-row\"><div class=\"wandb-col\"><h3>Run history:</h3><br/><table class=\"wandb\"><tr><td>psnr</td><td>▁</td></tr><tr><td>ssim</td><td>▁</td></tr><tr><td>train_loss</td><td>█▇▇▆▆▅▅▄▄▄▃▃▃▂▂▂▂▂▂▂▁▁▁▁▁▁▁▁▁▁▁▁▁▁▁▁▁▁▁▁</td></tr><tr><td>validation_loss</td><td>█▇▇▆▆▅▅▄▄▄▃▃▃▃▂▂▂▂▂▂▁▁▁▁▁▁▁▁▁▁▁▁▁▁▁▁▁▁▁▁</td></tr></table><br/></div><div class=\"wandb-col\"><h3>Run summary:</h3><br/><table class=\"wandb\"><tr><td>psnr</td><td>7.47231</td></tr><tr><td>ssim</td><td>0.02284</td></tr><tr><td>train_loss</td><td>0.06443</td></tr><tr><td>validation_loss</td><td>0.06818</td></tr></table><br/></div></div>"
      ]
     },
     "metadata": {},
     "output_type": "display_data"
    },
    {
     "data": {
      "text/plain": [
       "<IPython.core.display.HTML object>"
      ],
      "text/html": [
       " View run <strong style=\"color:#cdcd00\">SR3+ with data aug</strong> at: <a href='https://wandb.ai/ladoscuro/SR%20model%20benchmarking/runs/tfbi6smb' target=\"_blank\">https://wandb.ai/ladoscuro/SR%20model%20benchmarking/runs/tfbi6smb</a><br/> View project at: <a href='https://wandb.ai/ladoscuro/SR%20model%20benchmarking' target=\"_blank\">https://wandb.ai/ladoscuro/SR%20model%20benchmarking</a><br/>Synced 5 W&B file(s), 0 media file(s), 0 artifact file(s) and 0 other file(s)"
      ]
     },
     "metadata": {},
     "output_type": "display_data"
    },
    {
     "data": {
      "text/plain": [
       "<IPython.core.display.HTML object>"
      ],
      "text/html": [
       "Find logs at: <code>.\\wandb\\run-20240511_051909-tfbi6smb\\logs</code>"
      ]
     },
     "metadata": {},
     "output_type": "display_data"
    }
   ],
   "execution_count": 10
  }
 ],
 "metadata": {
  "kernelspec": {
   "display_name": "Python 3",
   "language": "python",
   "name": "python3"
  },
  "language_info": {
   "codemirror_mode": {
    "name": "ipython",
    "version": 2
   },
   "file_extension": ".py",
   "mimetype": "text/x-python",
   "name": "python",
   "nbconvert_exporter": "python",
   "pygments_lexer": "ipython2",
   "version": "2.7.6"
  }
 },
 "nbformat": 4,
 "nbformat_minor": 5
}
