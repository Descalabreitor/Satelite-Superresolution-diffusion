{
 "cells": [
  {
   "cell_type": "code",
   "id": "initial_id",
   "metadata": {
    "collapsed": true,
    "ExecuteTime": {
     "end_time": "2024-05-26T17:18:51.196835Z",
     "start_time": "2024-05-26T17:18:48.472475Z"
    }
   },
   "source": [
    "import PIL\n",
    "import numpy as np\n",
    "import torch\n",
    "import torchvision\n",
    "from torchvision.transforms.v2 import Compose, GaussianBlur, RandomEqualize, RandomSolarize, RandomApply\n",
    "\n",
    "import wandb\n",
    "from torch.utils.data import DataLoader\n",
    "from torch.utils.data import random_split\n",
    "\n",
    "from Dataset.AerialDataset import AerialDataset\n",
    "from tasks.SRDiffTrainer import SRDiffTrainer\n",
    "from tasks.SR3Trainer import SR3Trainer\n",
    "from utils.model_utils import load_model"
   ],
   "execution_count": 1,
   "outputs": []
  },
  {
   "metadata": {},
   "cell_type": "markdown",
   "source": [
    "- Generar imagenes bicubicas\n",
    "- Construir Dataset\n",
    "- Construir Dataloader\n",
    "- SR3\n",
    "- SRdiff\n",
    "- SR3+"
   ],
   "id": "77744e547aa8b8f0"
  },
  {
   "metadata": {},
   "cell_type": "markdown",
   "source": "## 64 -> 256",
   "id": "71bab7523f2c3892"
  },
  {
   "metadata": {},
   "cell_type": "markdown",
   "source": "## Entrenamiento",
   "id": "830b031f8230ceb3"
  },
  {
   "metadata": {
    "ExecuteTime": {
     "end_time": "2024-05-26T17:18:51.200302Z",
     "start_time": "2024-05-26T17:18:51.197838Z"
    }
   },
   "cell_type": "code",
   "source": [
    "lr_size = 64\n",
    "hr_size = 256\n",
    "batch_size = 16\n",
    "dataset_dir = 'E:\\\\TFG\\\\air_dataset'"
   ],
   "id": "4e91bfd9d2a1b993",
   "execution_count": 2,
   "outputs": []
  },
  {
   "metadata": {
    "ExecuteTime": {
     "end_time": "2024-05-26T17:18:51.277326Z",
     "start_time": "2024-05-26T17:18:51.200824Z"
    }
   },
   "cell_type": "code",
   "source": [
    "transforms = Compose(\n",
    "    [RandomApply(transforms= [GaussianBlur(7)], p = 0.5),\n",
    "    RandomEqualize()]\n",
    ")\n",
    "\n",
    "dataset = AerialDataset(dataset_dir, lr_size, hr_size, data_augmentation = transforms, aux_sat_prob= 0.5, sat_dataset_path= \"E:\\\\TFG\\\\satelite_dataset\\\\64_256\")\n",
    "train_dataset, val_dataset, test_dataset = random_split(dataset, [0.6, 0.2, 0.2], generator=torch.Generator().manual_seed(420))\n",
    "\n",
    "train_dataloader = DataLoader(train_dataset, batch_size=batch_size, shuffle=True)\n",
    "val_dataloader = DataLoader(val_dataset, batch_size=batch_size, shuffle=True)\n",
    "test_dataloader = DataLoader(test_dataset, batch_size=batch_size, shuffle=True)\n",
    "    \n",
    "device = torch.device('cuda' if torch.cuda.is_available() else 'cpu')"
   ],
   "id": "dc17da4936ebfe5e",
   "execution_count": 3,
   "outputs": []
  },
  {
   "metadata": {},
   "cell_type": "markdown",
   "source": "### SRDiff",
   "id": "ec73b68aba1d08bc"
  },
  {
   "metadata": {},
   "cell_type": "code",
   "source": [
    "from models.SRDiff.diffusion import GaussianDiffusion\n",
    "from models.SRDiff.diffsr_modules import Unet, RRDBNet\n",
    "losstype = \"l2\"\n",
    "model_name = f\"SRDiff{losstype}auxsatdata\"\n",
    "hidden_size = 64\n",
    "dim_mults = [1,2,2,4]\n",
    "rrdb_num_features = 32\n",
    "rrdb_num_blocks = 8\n",
    "timesteps = 100\n",
    "\n",
    "denoise_fn = Unet(\n",
    "    hidden_size, out_dim=3, cond_dim=rrdb_num_features, dim_mults=dim_mults, rrdb_num_block=rrdb_num_blocks, sr_scale=4)\n",
    "\n",
    "rrdb = RRDBNet(3, 3, rrdb_num_features, rrdb_num_blocks, rrdb_num_features// 2)\n",
    "\n",
    "model = GaussianDiffusion(\n",
    "    denoise_fn=denoise_fn,\n",
    "    rrdb_net=rrdb,\n",
    "    timesteps= timesteps,\n",
    "    loss_type=losstype,\n",
    "    aux_l1_loss=True,\n",
    "    aux_perceptual_loss=True\n",
    ")\n",
    "#model = load_model(model, f\"SRDiff{losstype}.pt\", \"models_state_dic\")\n",
    "model.to(device)  \n",
    "\n",
    "lr= 0.0002\n",
    "decay_steps= 100000\n",
    "gamma = 0.5\n",
    "\n",
    "optimizer = torch.optim.Adam(model.parameters(), lr=lr)\n",
    "scheduler = torch.optim.lr_scheduler.StepLR(optimizer, step_size=decay_steps, gamma=gamma)\n",
    "max_steps = 5\n",
    "hyperparams = {\n",
    "    \"max_steps\": 100,\n",
    "    \"model\": \"SRDifftrainedRRDB\",\n",
    "    \"learning_rate\": lr,\n",
    "    \"decay_steps\": decay_steps,\n",
    "    \"gamma\": gamma,\n",
    "    \"batch_size\": batch_size,\n",
    "    \"hidden_size\": hidden_size,\n",
    "    \"dim_mults\": dim_mults,\n",
    "    \"rrdb_num_features\": rrdb_num_features,\n",
    "    \"rrdb_num_blocks\": rrdb_num_blocks,\n",
    "    \"loss_type\": losstype,\n",
    "    \"epochs\": max_steps,\n",
    "    \"use_rrdb\": True,\n",
    "    \"fix_rrdb\": False\n",
    "}\n",
    "\n",
    "project_name = \"SR model benchmarking\"\n",
    "run_name = model_name\n",
    "wandb.login()\n",
    "wandb.init(project=project_name, config=hyperparams, name=run_name)\n",
    "\n",
    "trainer = SRDiffTrainer(metrics_used=[\"ssim\", \"psnr\"], model_name=model_name)\n",
    "trainer.set_model(model)\n",
    "trainer.set_optimizer(optimizer)\n",
    "trainer.set_scheduler(scheduler)\n",
    "for step in range(max_steps):\n",
    "    with torch.no_grad():\n",
    "        val_loss = trainer.validate(val_dataloader)\n",
    "    train_loss = trainer.train(train_dataloader, True, True)\n",
    "    torch.cuda.empty_cache()\n",
    "    trainer.save_model(\"models_state_dic\")\n",
    "    torch.cuda.empty_cache()\n",
    "    wandb.log({\"train_loss\": train_loss, \"validation_loss\": val_loss})\n",
    "    \n",
    "test_metrics = trainer.test(test_dataloader)\n",
    "wandb.log(test_metrics)\n",
    "wandb.finish()     "
   ],
   "id": "5c9bcb1d2dbd771e",
   "execution_count": null,
   "outputs": []
  },
  {
   "metadata": {},
   "cell_type": "markdown",
   "source": "   ### SR3",
   "id": "56832a9822772ac4"
  },
  {
   "metadata": {
    "ExecuteTime": {
     "end_time": "2024-05-26T17:18:55.392661Z",
     "start_time": "2024-05-26T17:18:55.269856Z"
    }
   },
   "cell_type": "code",
   "source": [
    "from models.SR3.diffusion import GaussianDiffusion\n",
    "from models.SR3.model import UNet\n",
    "hyperparams = {\n",
    "    \"steps\" : 2000,\n",
    "    \"sample_steps\" : 100,\n",
    "    \"lr\":0.0002,\n",
    "    \"epochs\":10,\n",
    "    \"eta_min\":1e-7,\n",
    "    \"decay_steps\": 100000,\n",
    "    \"gamma\" : 0.5,  \n",
    "    \"model\" : \"SR3\",\n",
    "    \"losstype\": \"l2\"\n",
    "}\n",
    "model = UNet(3, hyperparams[\"steps\"]) #Valores por defecto ya que la tarea base es la misma upsample por 4\n",
    "SR3_model = GaussianDiffusion(model, hyperparams[\"steps\"], hyperparams[\"sample_steps\"], losstype=\"l1\")\n",
    "SR3_model.to(device)"
   ],
   "id": "d9c705c5919a2ae7",
   "execution_count": 4,
   "outputs": []
  },
  {
   "metadata": {
    "ExecuteTime": {
     "end_time": "2024-05-26T17:18:58.642708Z",
     "start_time": "2024-05-26T17:18:58.637204Z"
    }
   },
   "cell_type": "code",
   "source": [
    "optimizer = torch.optim.Adam(SR3_model.parameters(), lr=hyperparams[\"lr\"])\n",
    "scheduler = torch.optim.lr_scheduler.StepLR(optimizer, step_size=hyperparams[\"decay_steps\"], gamma=hyperparams[\"gamma\"])"
   ],
   "id": "8de1ea6ba92768e5",
   "execution_count": 5,
   "outputs": []
  },
  {
   "metadata": {
    "ExecuteTime": {
     "end_time": "2024-05-26T17:19:06.398869Z",
     "start_time": "2024-05-26T17:18:59.714541Z"
    }
   },
   "cell_type": "code",
   "source": [
    "project_name = \"SR model benchmarking\"\n",
    "run_name = \"SR3 with aux satelite data\"\n",
    "wandb.login()\n",
    "wandb.init(project=project_name, config=hyperparams, name=run_name)\n",
    "\n",
    "trainer = SR3Trainer(metrics_used=[\"ssim\", \"psnr\"], model_name=\"SR3\")\n",
    "trainer.set_model(SR3_model)\n",
    "trainer.set_optimizer(optimizer)\n",
    "trainer.set_scheduler(scheduler)\n",
    "for step in range(hyperparams[\"epochs\"]):\n",
    "    with torch.no_grad():\n",
    "        val_loss = trainer.validate(val_dataloader)\n",
    "    \n",
    "    train_loss = trainer.train(train_dataloader)\n",
    "    torch.cuda.empty_cache()\n",
    "    trainer.save_model(\"models_state_dic\")\n",
    "\n",
    "    torch.cuda.empty_cache()\n",
    "    wandb.log({\"train_loss\": train_loss, \"validation_loss\": val_loss})\n",
    "    \n",
    "test_metrics = trainer.test(test_dataloader)\n",
    "wandb.log(test_metrics)\n",
    "wandb.finish()   "
   ],
   "id": "50a99affdb90aa21",
   "execution_count": 6,
   "outputs": []
  },
  {
   "metadata": {},
   "cell_type": "markdown",
   "source": "#### SR3+",
   "id": "169eea58514820d7"
  },
  {
   "metadata": {
    "ExecuteTime": {
     "end_time": "2024-05-23T07:55:29.859459Z",
     "start_time": "2024-05-23T07:55:29.801446Z"
    }
   },
   "cell_type": "code",
   "source": [
    "from models.SR3plus.diffusion import GaussianDiffusion\n",
    "from models.SR3plus.model import UNet\n",
    "hyperparams = {\n",
    "    \"steps\" : 8000,\n",
    "    \"sample_steps\" : 100,\n",
    "    \"lr\":0.0002,\n",
    "    \"epochs\":10,\n",
    "    \"eta_min\":1e-7,\n",
    "    \"decay_steps\": 100000,\n",
    "    \"gamma\" : 0.5,\n",
    "    \"model\" : \"SR3+\",\n",
    "    \"losstype\": \"l2\"\n",
    "}\n",
    "model = UNet(3, hyperparams[\"steps\"], channel_expansions= [1, 2, 4, 4, 4, 8, 8, 8])\n",
    "SR3plus_model = GaussianDiffusion(model, hyperparams[\"steps\"], hyperparams[\"sample_steps\"])\n",
    "SR3plus_model.to(device)"
   ],
   "id": "9f6bbb6f14180686",
   "execution_count": 7,
   "outputs": []
  },
  {
   "metadata": {
    "ExecuteTime": {
     "end_time": "2024-05-23T07:55:29.865453Z",
     "start_time": "2024-05-23T07:55:29.859459Z"
    }
   },
   "cell_type": "code",
   "source": [
    "optimizer = torch.optim.Adam(SR3plus_model.parameters(), lr=hyperparams[\"lr\"])\n",
    "scheduler = torch.optim.lr_scheduler.StepLR(optimizer, step_size=hyperparams[\"decay_steps\"], gamma=hyperparams[\"gamma\"])"
   ],
   "id": "2ec55b27c77c26fc",
   "execution_count": 8,
   "outputs": []
  },
  {
   "metadata": {
    "ExecuteTime": {
     "end_time": "2024-05-23T08:05:25.404417Z",
     "start_time": "2024-05-23T07:55:29.866458Z"
    }
   },
   "cell_type": "code",
   "source": [
    "project_name = \"SR model benchmarking\"\n",
    "run_name = \"SR3+  with aux satelite data\"\n",
    "wandb.login()\n",
    "wandb.init(project=project_name, config=hyperparams, name=run_name)\n",
    "\n",
    "trainer = SR3Trainer(metrics_used=[\"ssim\", \"psnr\"], model_name=\"SR3+\")\n",
    "trainer.set_model(SR3plus_model)\n",
    "trainer.set_optimizer(optimizer)\n",
    "trainer.set_scheduler(scheduler)\n",
    "for step in range(hyperparams[\"epochs\"]):\n",
    "    with torch.no_grad():\n",
    "        val_loss = trainer.validate(val_dataloader)\n",
    "    train_loss = trainer.train(train_dataloader)\n",
    "    torch.cuda.empty_cache()\n",
    "    trainer.save_model(\"models_state_dic\") \n",
    "\n",
    "    torch.cuda.empty_cache()\n",
    "    wandb.log({\"train_loss\": train_loss, \"validation_loss\": val_loss})\n",
    "    \n",
    "test_metrics = trainer.test(test_dataloader)\n",
    "wandb.log(test_metrics)\n",
    "wandb.finish()   "
   ],
   "id": "18c1250e157ff968",
   "execution_count": 9,
   "outputs": []
  }
 ],
 "metadata": {
  "kernelspec": {
   "display_name": "Python 3",
   "language": "python",
   "name": "python3"
  },
  "language_info": {
   "codemirror_mode": {
    "name": "ipython",
    "version": 2
   },
   "file_extension": ".py",
   "mimetype": "text/x-python",
   "name": "python",
   "nbconvert_exporter": "python",
   "pygments_lexer": "ipython2",
   "version": "2.7.6"
  }
 },
 "nbformat": 4,
 "nbformat_minor": 5
}
