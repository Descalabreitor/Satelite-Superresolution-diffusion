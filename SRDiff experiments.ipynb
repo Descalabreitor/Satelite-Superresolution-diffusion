{
 "cells": [
  {
   "cell_type": "code",
   "id": "initial_id",
   "metadata": {
    "collapsed": true,
    "ExecuteTime": {
     "end_time": "2024-05-30T17:21:23.060696Z",
     "start_time": "2024-05-30T17:21:22.944198Z"
    }
   },
   "source": [
    "import PIL\n",
    "import numpy as np\n",
    "import torch\n",
    "import torchvision\n",
    "from torchvision.transforms.v2 import Compose, GaussianBlur, RandomEqualize, RandomSolarize, RandomApply\n",
    "import wandb\n",
    "from torch.utils.data import DataLoader\n",
    "from torch.utils.data import random_split\n",
    "\n",
    "from Dataset.AerialDataset import AerialDataset\n",
    "from tasks.SRDiffTrainer import SRDiffTrainer\n",
    "from models.SRDIFFBuilder import SRDiffBuilder\n",
    "from utils.model_utils import load_model\n",
    "\n",
    "#Data\n",
    "lr_size = 64\n",
    "hr_size = 256\n",
    "batch_size = 20\n",
    "dataset_dir = 'C:\\\\Users\\\\adrianperera\\\\Desktop\\\\dataset_tfg'\n",
    "\n",
    "transforms = Compose(\n",
    "    [RandomApply(transforms= [GaussianBlur(7)], p = 0.5),\n",
    "    RandomEqualize()]\n",
    ")\n",
    "\n",
    "dataset = AerialDataset(dataset_dir, lr_size, hr_size, data_augmentation = transforms, aux_sat_prob= 0.5, sat_dataset_path= \"C:\\\\Users\\\\adrianperera\\\\Desktop\\\\dataset_tfg\\\\satelite_dataset\\\\64_256\")\n",
    "train_dataset, val_dataset, test_dataset = random_split(dataset, [0.6, 0.2, 0.2], generator=torch.Generator().manual_seed(420))\n",
    "\n",
    "train_dataloader = DataLoader(train_dataset, batch_size=batch_size, shuffle=True)\n",
    "val_dataloader = DataLoader(val_dataset, batch_size=batch_size, shuffle=True)\n",
    "test_dataloader = DataLoader(test_dataset, batch_size=batch_size, shuffle=True)\n",
    "    \n",
    "device = torch.device(0)"
   ],
   "outputs": [],
   "execution_count": 18
  },
  {
   "metadata": {
    "ExecuteTime": {
     "end_time": "2024-05-30T17:21:23.543793Z",
     "start_time": "2024-05-30T17:21:23.371794Z"
    }
   },
   "cell_type": "code",
   "source": [
    "model_builder = SRDiffBuilder()\n",
    "model = model_builder.build_standart()\n",
    "model.to(device)"
   ],
   "id": "7f21f8354f327860",
   "outputs": [
    {
     "data": {
      "text/plain": [
       "GaussianDiffusion(\n",
       "  (denoise_fn): Unet(\n",
       "    (cond_proj): ConvTranspose2d(96, 64, kernel_size=(8, 8), stride=(4, 4), padding=(2, 2))\n",
       "    (time_pos_emb): SinusoidalPosEmb()\n",
       "    (mlp): Sequential(\n",
       "      (0): Linear(in_features=64, out_features=256, bias=True)\n",
       "      (1): Mish()\n",
       "      (2): Linear(in_features=256, out_features=64, bias=True)\n",
       "    )\n",
       "    (downs): ModuleList(\n",
       "      (0): ModuleList(\n",
       "        (0): ResnetBlock(\n",
       "          (mlp): Sequential(\n",
       "            (0): Mish()\n",
       "            (1): Linear(in_features=64, out_features=64, bias=True)\n",
       "          )\n",
       "          (block1): Block(\n",
       "            (block): Sequential(\n",
       "              (0): ReflectionPad2d((1, 1, 1, 1))\n",
       "              (1): Conv2d(3, 64, kernel_size=(3, 3), stride=(1, 1))\n",
       "              (2): Mish()\n",
       "            )\n",
       "          )\n",
       "          (block2): Block(\n",
       "            (block): Sequential(\n",
       "              (0): ReflectionPad2d((1, 1, 1, 1))\n",
       "              (1): Conv2d(64, 64, kernel_size=(3, 3), stride=(1, 1))\n",
       "              (2): Mish()\n",
       "            )\n",
       "          )\n",
       "          (res_conv): Conv2d(3, 64, kernel_size=(1, 1), stride=(1, 1))\n",
       "        )\n",
       "        (1): ResnetBlock(\n",
       "          (mlp): Sequential(\n",
       "            (0): Mish()\n",
       "            (1): Linear(in_features=64, out_features=64, bias=True)\n",
       "          )\n",
       "          (block1): Block(\n",
       "            (block): Sequential(\n",
       "              (0): ReflectionPad2d((1, 1, 1, 1))\n",
       "              (1): Conv2d(64, 64, kernel_size=(3, 3), stride=(1, 1))\n",
       "              (2): Mish()\n",
       "            )\n",
       "          )\n",
       "          (block2): Block(\n",
       "            (block): Sequential(\n",
       "              (0): ReflectionPad2d((1, 1, 1, 1))\n",
       "              (1): Conv2d(64, 64, kernel_size=(3, 3), stride=(1, 1))\n",
       "              (2): Mish()\n",
       "            )\n",
       "          )\n",
       "          (res_conv): Identity()\n",
       "        )\n",
       "        (2): Downsample(\n",
       "          (conv): Sequential(\n",
       "            (0): ReflectionPad2d((1, 1, 1, 1))\n",
       "            (1): Conv2d(64, 64, kernel_size=(3, 3), stride=(2, 2))\n",
       "          )\n",
       "        )\n",
       "      )\n",
       "      (1): ModuleList(\n",
       "        (0): ResnetBlock(\n",
       "          (mlp): Sequential(\n",
       "            (0): Mish()\n",
       "            (1): Linear(in_features=64, out_features=128, bias=True)\n",
       "          )\n",
       "          (block1): Block(\n",
       "            (block): Sequential(\n",
       "              (0): ReflectionPad2d((1, 1, 1, 1))\n",
       "              (1): Conv2d(64, 128, kernel_size=(3, 3), stride=(1, 1))\n",
       "              (2): Mish()\n",
       "            )\n",
       "          )\n",
       "          (block2): Block(\n",
       "            (block): Sequential(\n",
       "              (0): ReflectionPad2d((1, 1, 1, 1))\n",
       "              (1): Conv2d(128, 128, kernel_size=(3, 3), stride=(1, 1))\n",
       "              (2): Mish()\n",
       "            )\n",
       "          )\n",
       "          (res_conv): Conv2d(64, 128, kernel_size=(1, 1), stride=(1, 1))\n",
       "        )\n",
       "        (1): ResnetBlock(\n",
       "          (mlp): Sequential(\n",
       "            (0): Mish()\n",
       "            (1): Linear(in_features=64, out_features=128, bias=True)\n",
       "          )\n",
       "          (block1): Block(\n",
       "            (block): Sequential(\n",
       "              (0): ReflectionPad2d((1, 1, 1, 1))\n",
       "              (1): Conv2d(128, 128, kernel_size=(3, 3), stride=(1, 1))\n",
       "              (2): Mish()\n",
       "            )\n",
       "          )\n",
       "          (block2): Block(\n",
       "            (block): Sequential(\n",
       "              (0): ReflectionPad2d((1, 1, 1, 1))\n",
       "              (1): Conv2d(128, 128, kernel_size=(3, 3), stride=(1, 1))\n",
       "              (2): Mish()\n",
       "            )\n",
       "          )\n",
       "          (res_conv): Identity()\n",
       "        )\n",
       "        (2): Downsample(\n",
       "          (conv): Sequential(\n",
       "            (0): ReflectionPad2d((1, 1, 1, 1))\n",
       "            (1): Conv2d(128, 128, kernel_size=(3, 3), stride=(2, 2))\n",
       "          )\n",
       "        )\n",
       "      )\n",
       "      (2): ModuleList(\n",
       "        (0-1): 2 x ResnetBlock(\n",
       "          (mlp): Sequential(\n",
       "            (0): Mish()\n",
       "            (1): Linear(in_features=64, out_features=128, bias=True)\n",
       "          )\n",
       "          (block1): Block(\n",
       "            (block): Sequential(\n",
       "              (0): ReflectionPad2d((1, 1, 1, 1))\n",
       "              (1): Conv2d(128, 128, kernel_size=(3, 3), stride=(1, 1))\n",
       "              (2): Mish()\n",
       "            )\n",
       "          )\n",
       "          (block2): Block(\n",
       "            (block): Sequential(\n",
       "              (0): ReflectionPad2d((1, 1, 1, 1))\n",
       "              (1): Conv2d(128, 128, kernel_size=(3, 3), stride=(1, 1))\n",
       "              (2): Mish()\n",
       "            )\n",
       "          )\n",
       "          (res_conv): Identity()\n",
       "        )\n",
       "        (2): Downsample(\n",
       "          (conv): Sequential(\n",
       "            (0): ReflectionPad2d((1, 1, 1, 1))\n",
       "            (1): Conv2d(128, 128, kernel_size=(3, 3), stride=(2, 2))\n",
       "          )\n",
       "        )\n",
       "      )\n",
       "      (3): ModuleList(\n",
       "        (0): ResnetBlock(\n",
       "          (mlp): Sequential(\n",
       "            (0): Mish()\n",
       "            (1): Linear(in_features=64, out_features=256, bias=True)\n",
       "          )\n",
       "          (block1): Block(\n",
       "            (block): Sequential(\n",
       "              (0): ReflectionPad2d((1, 1, 1, 1))\n",
       "              (1): Conv2d(128, 256, kernel_size=(3, 3), stride=(1, 1))\n",
       "              (2): Mish()\n",
       "            )\n",
       "          )\n",
       "          (block2): Block(\n",
       "            (block): Sequential(\n",
       "              (0): ReflectionPad2d((1, 1, 1, 1))\n",
       "              (1): Conv2d(256, 256, kernel_size=(3, 3), stride=(1, 1))\n",
       "              (2): Mish()\n",
       "            )\n",
       "          )\n",
       "          (res_conv): Conv2d(128, 256, kernel_size=(1, 1), stride=(1, 1))\n",
       "        )\n",
       "        (1): ResnetBlock(\n",
       "          (mlp): Sequential(\n",
       "            (0): Mish()\n",
       "            (1): Linear(in_features=64, out_features=256, bias=True)\n",
       "          )\n",
       "          (block1): Block(\n",
       "            (block): Sequential(\n",
       "              (0): ReflectionPad2d((1, 1, 1, 1))\n",
       "              (1): Conv2d(256, 256, kernel_size=(3, 3), stride=(1, 1))\n",
       "              (2): Mish()\n",
       "            )\n",
       "          )\n",
       "          (block2): Block(\n",
       "            (block): Sequential(\n",
       "              (0): ReflectionPad2d((1, 1, 1, 1))\n",
       "              (1): Conv2d(256, 256, kernel_size=(3, 3), stride=(1, 1))\n",
       "              (2): Mish()\n",
       "            )\n",
       "          )\n",
       "          (res_conv): Identity()\n",
       "        )\n",
       "        (2): Identity()\n",
       "      )\n",
       "    )\n",
       "    (ups): ModuleList(\n",
       "      (0): ModuleList(\n",
       "        (0): ResnetBlock(\n",
       "          (mlp): Sequential(\n",
       "            (0): Mish()\n",
       "            (1): Linear(in_features=64, out_features=128, bias=True)\n",
       "          )\n",
       "          (block1): Block(\n",
       "            (block): Sequential(\n",
       "              (0): ReflectionPad2d((1, 1, 1, 1))\n",
       "              (1): Conv2d(512, 128, kernel_size=(3, 3), stride=(1, 1))\n",
       "              (2): Mish()\n",
       "            )\n",
       "          )\n",
       "          (block2): Block(\n",
       "            (block): Sequential(\n",
       "              (0): ReflectionPad2d((1, 1, 1, 1))\n",
       "              (1): Conv2d(128, 128, kernel_size=(3, 3), stride=(1, 1))\n",
       "              (2): Mish()\n",
       "            )\n",
       "          )\n",
       "          (res_conv): Conv2d(512, 128, kernel_size=(1, 1), stride=(1, 1))\n",
       "        )\n",
       "        (1): ResnetBlock(\n",
       "          (mlp): Sequential(\n",
       "            (0): Mish()\n",
       "            (1): Linear(in_features=64, out_features=128, bias=True)\n",
       "          )\n",
       "          (block1): Block(\n",
       "            (block): Sequential(\n",
       "              (0): ReflectionPad2d((1, 1, 1, 1))\n",
       "              (1): Conv2d(128, 128, kernel_size=(3, 3), stride=(1, 1))\n",
       "              (2): Mish()\n",
       "            )\n",
       "          )\n",
       "          (block2): Block(\n",
       "            (block): Sequential(\n",
       "              (0): ReflectionPad2d((1, 1, 1, 1))\n",
       "              (1): Conv2d(128, 128, kernel_size=(3, 3), stride=(1, 1))\n",
       "              (2): Mish()\n",
       "            )\n",
       "          )\n",
       "          (res_conv): Identity()\n",
       "        )\n",
       "        (2): Upsample(\n",
       "          (conv): Sequential(\n",
       "            (0): ConvTranspose2d(128, 128, kernel_size=(4, 4), stride=(2, 2), padding=(1, 1))\n",
       "          )\n",
       "        )\n",
       "      )\n",
       "      (1): ModuleList(\n",
       "        (0): ResnetBlock(\n",
       "          (mlp): Sequential(\n",
       "            (0): Mish()\n",
       "            (1): Linear(in_features=64, out_features=128, bias=True)\n",
       "          )\n",
       "          (block1): Block(\n",
       "            (block): Sequential(\n",
       "              (0): ReflectionPad2d((1, 1, 1, 1))\n",
       "              (1): Conv2d(256, 128, kernel_size=(3, 3), stride=(1, 1))\n",
       "              (2): Mish()\n",
       "            )\n",
       "          )\n",
       "          (block2): Block(\n",
       "            (block): Sequential(\n",
       "              (0): ReflectionPad2d((1, 1, 1, 1))\n",
       "              (1): Conv2d(128, 128, kernel_size=(3, 3), stride=(1, 1))\n",
       "              (2): Mish()\n",
       "            )\n",
       "          )\n",
       "          (res_conv): Conv2d(256, 128, kernel_size=(1, 1), stride=(1, 1))\n",
       "        )\n",
       "        (1): ResnetBlock(\n",
       "          (mlp): Sequential(\n",
       "            (0): Mish()\n",
       "            (1): Linear(in_features=64, out_features=128, bias=True)\n",
       "          )\n",
       "          (block1): Block(\n",
       "            (block): Sequential(\n",
       "              (0): ReflectionPad2d((1, 1, 1, 1))\n",
       "              (1): Conv2d(128, 128, kernel_size=(3, 3), stride=(1, 1))\n",
       "              (2): Mish()\n",
       "            )\n",
       "          )\n",
       "          (block2): Block(\n",
       "            (block): Sequential(\n",
       "              (0): ReflectionPad2d((1, 1, 1, 1))\n",
       "              (1): Conv2d(128, 128, kernel_size=(3, 3), stride=(1, 1))\n",
       "              (2): Mish()\n",
       "            )\n",
       "          )\n",
       "          (res_conv): Identity()\n",
       "        )\n",
       "        (2): Upsample(\n",
       "          (conv): Sequential(\n",
       "            (0): ConvTranspose2d(128, 128, kernel_size=(4, 4), stride=(2, 2), padding=(1, 1))\n",
       "          )\n",
       "        )\n",
       "      )\n",
       "      (2): ModuleList(\n",
       "        (0): ResnetBlock(\n",
       "          (mlp): Sequential(\n",
       "            (0): Mish()\n",
       "            (1): Linear(in_features=64, out_features=64, bias=True)\n",
       "          )\n",
       "          (block1): Block(\n",
       "            (block): Sequential(\n",
       "              (0): ReflectionPad2d((1, 1, 1, 1))\n",
       "              (1): Conv2d(256, 64, kernel_size=(3, 3), stride=(1, 1))\n",
       "              (2): Mish()\n",
       "            )\n",
       "          )\n",
       "          (block2): Block(\n",
       "            (block): Sequential(\n",
       "              (0): ReflectionPad2d((1, 1, 1, 1))\n",
       "              (1): Conv2d(64, 64, kernel_size=(3, 3), stride=(1, 1))\n",
       "              (2): Mish()\n",
       "            )\n",
       "          )\n",
       "          (res_conv): Conv2d(256, 64, kernel_size=(1, 1), stride=(1, 1))\n",
       "        )\n",
       "        (1): ResnetBlock(\n",
       "          (mlp): Sequential(\n",
       "            (0): Mish()\n",
       "            (1): Linear(in_features=64, out_features=64, bias=True)\n",
       "          )\n",
       "          (block1): Block(\n",
       "            (block): Sequential(\n",
       "              (0): ReflectionPad2d((1, 1, 1, 1))\n",
       "              (1): Conv2d(64, 64, kernel_size=(3, 3), stride=(1, 1))\n",
       "              (2): Mish()\n",
       "            )\n",
       "          )\n",
       "          (block2): Block(\n",
       "            (block): Sequential(\n",
       "              (0): ReflectionPad2d((1, 1, 1, 1))\n",
       "              (1): Conv2d(64, 64, kernel_size=(3, 3), stride=(1, 1))\n",
       "              (2): Mish()\n",
       "            )\n",
       "          )\n",
       "          (res_conv): Identity()\n",
       "        )\n",
       "        (2): Upsample(\n",
       "          (conv): Sequential(\n",
       "            (0): ConvTranspose2d(64, 64, kernel_size=(4, 4), stride=(2, 2), padding=(1, 1))\n",
       "          )\n",
       "        )\n",
       "      )\n",
       "    )\n",
       "    (mid_block1): ResnetBlock(\n",
       "      (mlp): Sequential(\n",
       "        (0): Mish()\n",
       "        (1): Linear(in_features=64, out_features=256, bias=True)\n",
       "      )\n",
       "      (block1): Block(\n",
       "        (block): Sequential(\n",
       "          (0): ReflectionPad2d((1, 1, 1, 1))\n",
       "          (1): Conv2d(256, 256, kernel_size=(3, 3), stride=(1, 1))\n",
       "          (2): Mish()\n",
       "        )\n",
       "      )\n",
       "      (block2): Block(\n",
       "        (block): Sequential(\n",
       "          (0): ReflectionPad2d((1, 1, 1, 1))\n",
       "          (1): Conv2d(256, 256, kernel_size=(3, 3), stride=(1, 1))\n",
       "          (2): Mish()\n",
       "        )\n",
       "      )\n",
       "      (res_conv): Identity()\n",
       "    )\n",
       "    (mid_block2): ResnetBlock(\n",
       "      (mlp): Sequential(\n",
       "        (0): Mish()\n",
       "        (1): Linear(in_features=64, out_features=256, bias=True)\n",
       "      )\n",
       "      (block1): Block(\n",
       "        (block): Sequential(\n",
       "          (0): ReflectionPad2d((1, 1, 1, 1))\n",
       "          (1): Conv2d(256, 256, kernel_size=(3, 3), stride=(1, 1))\n",
       "          (2): Mish()\n",
       "        )\n",
       "      )\n",
       "      (block2): Block(\n",
       "        (block): Sequential(\n",
       "          (0): ReflectionPad2d((1, 1, 1, 1))\n",
       "          (1): Conv2d(256, 256, kernel_size=(3, 3), stride=(1, 1))\n",
       "          (2): Mish()\n",
       "        )\n",
       "      )\n",
       "      (res_conv): Identity()\n",
       "    )\n",
       "    (final_conv): Sequential(\n",
       "      (0): Block(\n",
       "        (block): Sequential(\n",
       "          (0): ReflectionPad2d((1, 1, 1, 1))\n",
       "          (1): Conv2d(64, 64, kernel_size=(3, 3), stride=(1, 1))\n",
       "          (2): Mish()\n",
       "        )\n",
       "      )\n",
       "      (1): Conv2d(64, 3, kernel_size=(1, 1), stride=(1, 1))\n",
       "    )\n",
       "  )\n",
       "  (rrdb): RRDBNet(\n",
       "    (conv_first): Conv2d(3, 32, kernel_size=(3, 3), stride=(1, 1), padding=(1, 1))\n",
       "    (RRDB_trunk): ModuleList(\n",
       "      (0-7): 8 x RRDB(\n",
       "        (RDB1): ResidualDenseBlock_5C(\n",
       "          (conv1): Conv2d(32, 16, kernel_size=(3, 3), stride=(1, 1), padding=(1, 1))\n",
       "          (conv2): Conv2d(48, 16, kernel_size=(3, 3), stride=(1, 1), padding=(1, 1))\n",
       "          (conv3): Conv2d(64, 16, kernel_size=(3, 3), stride=(1, 1), padding=(1, 1))\n",
       "          (conv4): Conv2d(80, 16, kernel_size=(3, 3), stride=(1, 1), padding=(1, 1))\n",
       "          (conv5): Conv2d(96, 32, kernel_size=(3, 3), stride=(1, 1), padding=(1, 1))\n",
       "          (lrelu): LeakyReLU(negative_slope=0.2, inplace=True)\n",
       "        )\n",
       "        (RDB2): ResidualDenseBlock_5C(\n",
       "          (conv1): Conv2d(32, 16, kernel_size=(3, 3), stride=(1, 1), padding=(1, 1))\n",
       "          (conv2): Conv2d(48, 16, kernel_size=(3, 3), stride=(1, 1), padding=(1, 1))\n",
       "          (conv3): Conv2d(64, 16, kernel_size=(3, 3), stride=(1, 1), padding=(1, 1))\n",
       "          (conv4): Conv2d(80, 16, kernel_size=(3, 3), stride=(1, 1), padding=(1, 1))\n",
       "          (conv5): Conv2d(96, 32, kernel_size=(3, 3), stride=(1, 1), padding=(1, 1))\n",
       "          (lrelu): LeakyReLU(negative_slope=0.2, inplace=True)\n",
       "        )\n",
       "        (RDB3): ResidualDenseBlock_5C(\n",
       "          (conv1): Conv2d(32, 16, kernel_size=(3, 3), stride=(1, 1), padding=(1, 1))\n",
       "          (conv2): Conv2d(48, 16, kernel_size=(3, 3), stride=(1, 1), padding=(1, 1))\n",
       "          (conv3): Conv2d(64, 16, kernel_size=(3, 3), stride=(1, 1), padding=(1, 1))\n",
       "          (conv4): Conv2d(80, 16, kernel_size=(3, 3), stride=(1, 1), padding=(1, 1))\n",
       "          (conv5): Conv2d(96, 32, kernel_size=(3, 3), stride=(1, 1), padding=(1, 1))\n",
       "          (lrelu): LeakyReLU(negative_slope=0.2, inplace=True)\n",
       "        )\n",
       "      )\n",
       "    )\n",
       "    (trunk_conv): Conv2d(32, 32, kernel_size=(3, 3), stride=(1, 1), padding=(1, 1))\n",
       "    (upconv1): Conv2d(32, 32, kernel_size=(3, 3), stride=(1, 1), padding=(1, 1))\n",
       "    (upconv2): Conv2d(32, 32, kernel_size=(3, 3), stride=(1, 1), padding=(1, 1))\n",
       "    (HRconv): Conv2d(32, 32, kernel_size=(3, 3), stride=(1, 1), padding=(1, 1))\n",
       "    (conv_last): Conv2d(32, 3, kernel_size=(3, 3), stride=(1, 1), padding=(1, 1))\n",
       "    (lrelu): LeakyReLU(negative_slope=0.2)\n",
       "  )\n",
       "  (ssim_loss): SSIM()\n",
       ")"
      ]
     },
     "execution_count": 19,
     "metadata": {},
     "output_type": "execute_result"
    }
   ],
   "execution_count": 19
  },
  {
   "metadata": {
    "ExecuteTime": {
     "end_time": "2024-05-30T17:21:24.267858Z",
     "start_time": "2024-05-30T17:21:24.241679Z"
    }
   },
   "cell_type": "code",
   "source": "torch.cuda.empty_cache()",
   "id": "f8212729b2f6281",
   "outputs": [],
   "execution_count": 20
  },
  {
   "metadata": {
    "ExecuteTime": {
     "end_time": "2024-05-30T17:54:14.634686Z",
     "start_time": "2024-05-30T17:21:24.737701Z"
    }
   },
   "cell_type": "code",
   "source": [
    "hyperparams = {\n",
    "    \"lr\":0.0002,\n",
    "    \"epochs\":20,\n",
    "    \"eta_min\":1e-7,\n",
    "    \"decay_steps\": 100000,\n",
    "    \"gamma\" : 0.5,  \n",
    "    \"model\" : \"SRDiff\",\n",
    "    \"batch_size\" : batch_size,\n",
    "    \"ddp\": False,\n",
    "    \"grad_acum\": 0,\n",
    "    \"use_rrdb\":True,\n",
    "    \"fix_rrdb\":True,\n",
    "    \"aux_l1_loss\":True,\n",
    "    \"aux_perceptual_loss\":False,\n",
    "    \"aux_ssim_loss\":False\n",
    "}\n",
    "hyperparams.update(model_builder.get_hyperparameters())\n",
    "optimizer = torch.optim.Adam(model.parameters(), lr=hyperparams[\"lr\"])\n",
    "scheduler = torch.optim.lr_scheduler.StepLR(optimizer, step_size=hyperparams[\"decay_steps\"], gamma=hyperparams[\"gamma\"])\n",
    "\n",
    "project_name = \"SR model benchmarking\"\n",
    "run_name = \"SRDiff Standart 20 bach 100 ep DA rrdbfix\"\n",
    "wandb.login()\n",
    "wandb.init(project=project_name, config=hyperparams, name=run_name)\n",
    "torch.backends.cudnn.benchmark = True\n",
    "\n",
    "trainer = SRDiffTrainer(metrics_used=(\"ssim\", \"psnr\"), model_name=\"SRDiff Standart 20 bach 100 ep DA rrdbfix\", device=device, \n",
    "                        use_rrdb=hyperparams[\"use_rrdb\"], fix_rrdb=hyperparams[\"fix_rrdb\"], aux_ssim_loss=hyperparams[\"aux_ssim_loss\"],\n",
    "                        aux_l1_loss=hyperparams[\"aux_l1_loss\"], aux_perceptual_loss=hyperparams[\"aux_perceptual_loss\"])\n",
    "trainer.set_model(model)\n",
    "trainer.set_optimizer(optimizer)\n",
    "trainer.set_scheduler(scheduler)\n",
    "for step in range(hyperparams[\"epochs\"]):\n",
    "    with torch.no_grad():\n",
    "        val_loss = trainer.validate(val_dataloader)\n",
    "    torch.cuda.empty_cache()\n",
    "    train_loss = trainer.train(train_dataloader)\n",
    "    torch.cuda.empty_cache()\n",
    "    if step % 10 == 0:\n",
    "        trainer.save_model(\"saved models\\\\SRDiff\")\n",
    "    torch.cuda.empty_cache()\n",
    "    wandb.log({\"train_loss\": train_loss, \"validation_loss\": val_loss})\n",
    "    \n",
    "test_metrics = trainer.test(test_dataloader)\n",
    "wandb.log(test_metrics)\n",
    "wandb.finish()"
   ],
   "id": "33b77f63a2a76c33",
   "outputs": [
    {
     "data": {
      "text/plain": [
       "<IPython.core.display.HTML object>"
      ],
      "text/html": [
       "wandb version 0.17.0 is available!  To upgrade, please run:\n",
       " $ pip install wandb --upgrade"
      ]
     },
     "metadata": {},
     "output_type": "display_data"
    },
    {
     "data": {
      "text/plain": [
       "<IPython.core.display.HTML object>"
      ],
      "text/html": [
       "Tracking run with wandb version 0.16.5"
      ]
     },
     "metadata": {},
     "output_type": "display_data"
    },
    {
     "data": {
      "text/plain": [
       "<IPython.core.display.HTML object>"
      ],
      "text/html": [
       "Run data is saved locally in <code>C:\\Users\\adrianperera\\Documents\\GitHub\\SR-model-benchmarking\\wandb\\run-20240530_182124-arj2lhtr</code>"
      ]
     },
     "metadata": {},
     "output_type": "display_data"
    },
    {
     "data": {
      "text/plain": [
       "<IPython.core.display.HTML object>"
      ],
      "text/html": [
       "Syncing run <strong><a href='https://wandb.ai/ladoscuro/SR%20model%20benchmarking/runs/arj2lhtr/workspace' target=\"_blank\">SRDiff Standart 20 bach 100 ep DA rrdbfix</a></strong> to <a href='https://wandb.ai/ladoscuro/SR%20model%20benchmarking' target=\"_blank\">Weights & Biases</a> (<a href='https://wandb.me/run' target=\"_blank\">docs</a>)<br/>"
      ]
     },
     "metadata": {},
     "output_type": "display_data"
    },
    {
     "data": {
      "text/plain": [
       "<IPython.core.display.HTML object>"
      ],
      "text/html": [
       " View project at <a href='https://wandb.ai/ladoscuro/SR%20model%20benchmarking' target=\"_blank\">https://wandb.ai/ladoscuro/SR%20model%20benchmarking</a>"
      ]
     },
     "metadata": {},
     "output_type": "display_data"
    },
    {
     "data": {
      "text/plain": [
       "<IPython.core.display.HTML object>"
      ],
      "text/html": [
       " View run at <a href='https://wandb.ai/ladoscuro/SR%20model%20benchmarking/runs/arj2lhtr/workspace' target=\"_blank\">https://wandb.ai/ladoscuro/SR%20model%20benchmarking/runs/arj2lhtr/workspace</a>"
      ]
     },
     "metadata": {},
     "output_type": "display_data"
    },
    {
     "name": "stderr",
     "output_type": "stream",
     "text": [
      "100%|██████████| 40/40 [00:11<00:00,  3.51batch/s, q=0.801]\n",
      "100%|██████████| 118/118 [01:01<00:00,  1.91batch/s, q=0.296]\n",
      "100%|██████████| 40/40 [00:10<00:00,  3.67batch/s, q=0.207]\n",
      "100%|██████████| 118/118 [01:01<00:00,  1.91batch/s, q=0.163]\n",
      "100%|██████████| 40/40 [00:10<00:00,  3.67batch/s, q=0.224]\n",
      "100%|██████████| 118/118 [01:02<00:00,  1.90batch/s, q=0.122]\n",
      "100%|██████████| 40/40 [00:10<00:00,  3.70batch/s, q=0.127]\n",
      "100%|██████████| 118/118 [01:02<00:00,  1.89batch/s, q=0.158] \n",
      "100%|██████████| 40/40 [00:11<00:00,  3.58batch/s, q=0.127] \n",
      "100%|██████████| 118/118 [01:02<00:00,  1.90batch/s, q=0.115] \n",
      "100%|██████████| 40/40 [00:10<00:00,  3.66batch/s, q=0.152] \n",
      "100%|██████████| 118/118 [01:02<00:00,  1.89batch/s, q=0.123] \n",
      "100%|██████████| 40/40 [00:11<00:00,  3.62batch/s, q=0.104] \n",
      "100%|██████████| 118/118 [01:02<00:00,  1.88batch/s, q=0.137] \n",
      "100%|██████████| 40/40 [00:10<00:00,  3.70batch/s, q=0.102] \n",
      "100%|██████████| 118/118 [01:01<00:00,  1.91batch/s, q=0.13]  \n",
      "100%|██████████| 40/40 [00:10<00:00,  3.73batch/s, q=0.147] \n",
      "100%|██████████| 118/118 [01:01<00:00,  1.92batch/s, q=0.119] \n",
      "100%|██████████| 40/40 [00:11<00:00,  3.64batch/s, q=0.0592]\n",
      "100%|██████████| 118/118 [01:01<00:00,  1.91batch/s, q=0.13]  \n",
      "100%|██████████| 40/40 [00:10<00:00,  3.72batch/s, q=0.0901]\n",
      "100%|██████████| 118/118 [01:01<00:00,  1.92batch/s, q=0.13]  \n",
      "100%|██████████| 40/40 [00:10<00:00,  3.71batch/s, q=0.0768]\n",
      "100%|██████████| 118/118 [01:01<00:00,  1.92batch/s, q=0.129] \n",
      "100%|██████████| 40/40 [00:10<00:00,  3.73batch/s, q=0.146] \n",
      "100%|██████████| 118/118 [01:01<00:00,  1.93batch/s, q=0.0978]\n",
      "100%|██████████| 40/40 [00:10<00:00,  3.75batch/s, q=0.0759]\n",
      "100%|██████████| 118/118 [01:01<00:00,  1.93batch/s, q=0.0814]\n",
      "100%|██████████| 40/40 [00:10<00:00,  3.74batch/s, q=0.144] \n",
      "100%|██████████| 118/118 [01:01<00:00,  1.93batch/s, q=0.102] \n",
      "100%|██████████| 40/40 [00:10<00:00,  3.73batch/s, q=0.0849]\n",
      "100%|██████████| 118/118 [01:01<00:00,  1.93batch/s, q=0.127] \n",
      "100%|██████████| 40/40 [00:10<00:00,  3.75batch/s, q=0.0685]\n",
      "100%|██████████| 118/118 [01:01<00:00,  1.93batch/s, q=0.0623]\n",
      "100%|██████████| 40/40 [00:10<00:00,  3.76batch/s, q=0.13]  \n",
      "100%|██████████| 118/118 [01:01<00:00,  1.93batch/s, q=0.0945]\n",
      "100%|██████████| 40/40 [00:10<00:00,  3.74batch/s, q=0.137] \n",
      "100%|██████████| 118/118 [01:01<00:00,  1.93batch/s, q=0.128] \n",
      "100%|██████████| 40/40 [00:10<00:00,  3.71batch/s, q=0.135] \n",
      "100%|██████████| 118/118 [01:01<00:00,  1.93batch/s, q=0.134] \n",
      "100%|██████████| 40/40 [08:30<00:00, 12.77s/batch, psnr=10.2, ssim=0.126] \n"
     ]
    },
    {
     "data": {
      "text/plain": [
       "VBox(children=(Label(value='0.007 MB of 0.015 MB uploaded (0.002 MB deduped)\\r'), FloatProgress(value=0.489822…"
      ],
      "application/vnd.jupyter.widget-view+json": {
       "version_major": 2,
       "version_minor": 0,
       "model_id": "b4e87b2c2a9249c1ba6b3e348a976e46"
      }
     },
     "metadata": {},
     "output_type": "display_data"
    },
    {
     "data": {
      "text/plain": [
       "<IPython.core.display.HTML object>"
      ],
      "text/html": [
       "W&B sync reduced upload amount by 15.7%             "
      ]
     },
     "metadata": {},
     "output_type": "display_data"
    },
    {
     "data": {
      "text/plain": [
       "<IPython.core.display.HTML object>"
      ],
      "text/html": [
       "<style>\n",
       "    table.wandb td:nth-child(1) { padding: 0 10px; text-align: left ; width: auto;} td:nth-child(2) {text-align: left ; width: 100%}\n",
       "    .wandb-row { display: flex; flex-direction: row; flex-wrap: wrap; justify-content: flex-start; width: 100% }\n",
       "    .wandb-col { display: flex; flex-direction: column; flex-basis: 100%; flex: 1; padding: 10px; }\n",
       "    </style>\n",
       "<div class=\"wandb-row\"><div class=\"wandb-col\"><h3>Run history:</h3><br/><table class=\"wandb\"><tr><td>psnr</td><td>▁</td></tr><tr><td>ssim</td><td>▁</td></tr><tr><td>train_loss</td><td>█▃▂▂▂▁▁▁▁▁▁▁▁▁▁▁▁▁▁▁</td></tr><tr><td>validation_loss</td><td>█▂▂▁▁▁▁▁▁▁▁▁▁▁▁▁▁▁▁▁</td></tr></table><br/></div><div class=\"wandb-col\"><h3>Run summary:</h3><br/><table class=\"wandb\"><tr><td>psnr</td><td>9.60174</td></tr><tr><td>ssim</td><td>0.13299</td></tr><tr><td>train_loss</td><td>0.10855</td></tr><tr><td>validation_loss</td><td>0.10602</td></tr></table><br/></div></div>"
      ]
     },
     "metadata": {},
     "output_type": "display_data"
    },
    {
     "data": {
      "text/plain": [
       "<IPython.core.display.HTML object>"
      ],
      "text/html": [
       " View run <strong style=\"color:#cdcd00\">SRDiff Standart 20 bach 100 ep DA rrdbfix</strong> at: <a href='https://wandb.ai/ladoscuro/SR%20model%20benchmarking/runs/arj2lhtr/workspace' target=\"_blank\">https://wandb.ai/ladoscuro/SR%20model%20benchmarking/runs/arj2lhtr/workspace</a><br/>Synced 5 W&B file(s), 0 media file(s), 2 artifact file(s) and 0 other file(s)"
      ]
     },
     "metadata": {},
     "output_type": "display_data"
    },
    {
     "data": {
      "text/plain": [
       "<IPython.core.display.HTML object>"
      ],
      "text/html": [
       "Find logs at: <code>.\\wandb\\run-20240530_182124-arj2lhtr\\logs</code>"
      ]
     },
     "metadata": {},
     "output_type": "display_data"
    }
   ],
   "execution_count": 21
  },
  {
   "metadata": {
    "ExecuteTime": {
     "end_time": "2024-05-29T14:51:25.711040Z",
     "start_time": "2024-05-29T14:11:41.308728Z"
    }
   },
   "cell_type": "code",
   "source": [
    "from models.SR3Builder import SR3Builder\n",
    "from tasks.SR3Trainer import SR3Trainer\n",
    "\n",
    "\n",
    "lr_size = 64\n",
    "hr_size = 256\n",
    "batch_size = 128\n",
    "dataset_dir = 'C:\\\\Users\\\\adrianperera\\\\Desktop\\\\dataset_tfg'\n",
    "\n",
    "dataset = AerialDataset(dataset_dir, lr_size, hr_size, data_augmentation = None, aux_sat_prob= 0.5, sat_dataset_path= \"C:\\\\Users\\\\adrianperera\\\\Desktop\\\\dataset_tfg\\\\satelite_dataset\\\\64_256\")\n",
    "train_dataset, val_dataset, test_dataset = random_split(dataset, [0.6, 0.2, 0.2], generator=torch.Generator().manual_seed(420))\n",
    "\n",
    "train_dataloader = DataLoader(train_dataset, batch_size=batch_size, shuffle=True)\n",
    "val_dataloader = DataLoader(val_dataset, batch_size=batch_size, shuffle=True)\n",
    "test_dataloader = DataLoader(test_dataset, batch_size=batch_size, shuffle=True)\n",
    "    \n",
    "device = torch.device(0)\n",
    "\n",
    "model_builder = SR3Builder()\n",
    "model_builder = model_builder.set_standart()\n",
    "model_builder = model_builder.set_sample_steps(1000)\n",
    "model_builder = model_builder.set_losstype(\"l1\")\n",
    "model = model_builder.build()\n",
    "model.to(device)\n",
    "\n",
    "hyperparams = {\n",
    "    \"lr\":0.0002,\n",
    "    \"epochs\":100,\n",
    "    \"eta_min\":1e-7,\n",
    "    \"decay_steps\": 100000,\n",
    "    \"gamma\" : 0.5,  \n",
    "    \"model\" : \"SR3\",\n",
    "    \"grad_acum\": 0,\n",
    "    \"ddp\": False,\n",
    "    \"batch_size\":batch_size\n",
    "}\n",
    "hyperparams.update(model_builder.get_hyperparameters())\n",
    "optimizer = torch.optim.Adam(model.parameters(), lr=hyperparams[\"lr\"])\n",
    "scheduler = torch.optim.lr_scheduler.StepLR(optimizer, step_size=hyperparams[\"decay_steps\"], gamma=hyperparams[\"gamma\"])\n",
    "\n",
    "project_name = \"SR model benchmarking\"\n",
    "run_name = \"SR3 standart l1, 128Batch, 100k sampling\"\n",
    "wandb.login()\n",
    "wandb.init(project=project_name, config=hyperparams, name=run_name)\n",
    "\n",
    "trainer = SR3Trainer(metrics_used=(\"ssim\", \"psnr\"), model_name=\"SR3 Standart l1 DA 128b 100k sampling\", grad_acum=hyperparams[\"grad_acum\"])\n",
    "trainer.set_model(model)\n",
    "trainer.set_optimizer(optimizer)\n",
    "trainer.set_scheduler(scheduler)\n",
    "for epoch in range(hyperparams[\"epochs\"]):  \n",
    "    with torch.no_grad():\n",
    "        val_loss = trainer.validate(val_dataloader)\n",
    "    \n",
    "    train_loss = trainer.train(train_dataloader, epoch)\n",
    "    torch.cuda.empty_cache()\n",
    "    if epoch % 10 == 0:\n",
    "        trainer.save_model(\"saved models\\\\SR3\")\n",
    "\n",
    "    torch.cuda.empty_cache()\n",
    "    wandb.log({\"train_loss\": train_loss, \"validation_loss\": val_loss})\n",
    "    \n",
    "test_metrics = trainer.test(test_dataloader)\n",
    "wandb.log(test_metrics)\n",
    "wandb.finish()   "
   ],
   "id": "4c12c3b65605707c",
   "outputs": [
    {
     "data": {
      "text/plain": [
       "<IPython.core.display.HTML object>"
      ],
      "text/html": [
       "wandb version 0.17.0 is available!  To upgrade, please run:\n",
       " $ pip install wandb --upgrade"
      ]
     },
     "metadata": {},
     "output_type": "display_data"
    },
    {
     "data": {
      "text/plain": [
       "<IPython.core.display.HTML object>"
      ],
      "text/html": [
       "Tracking run with wandb version 0.16.5"
      ]
     },
     "metadata": {},
     "output_type": "display_data"
    },
    {
     "data": {
      "text/plain": [
       "<IPython.core.display.HTML object>"
      ],
      "text/html": [
       "Run data is saved locally in <code>C:\\Users\\adrianperera\\Documents\\GitHub\\SR-model-benchmarking\\wandb\\run-20240529_151141-xuh10ojg</code>"
      ]
     },
     "metadata": {},
     "output_type": "display_data"
    },
    {
     "data": {
      "text/plain": [
       "<IPython.core.display.HTML object>"
      ],
      "text/html": [
       "Syncing run <strong><a href='https://wandb.ai/ladoscuro/SR%20model%20benchmarking/runs/xuh10ojg/workspace' target=\"_blank\">SR3 standart l1, 128Batch, 100k sampling</a></strong> to <a href='https://wandb.ai/ladoscuro/SR%20model%20benchmarking' target=\"_blank\">Weights & Biases</a> (<a href='https://wandb.me/run' target=\"_blank\">docs</a>)<br/>"
      ]
     },
     "metadata": {},
     "output_type": "display_data"
    },
    {
     "data": {
      "text/plain": [
       "<IPython.core.display.HTML object>"
      ],
      "text/html": [
       " View project at <a href='https://wandb.ai/ladoscuro/SR%20model%20benchmarking' target=\"_blank\">https://wandb.ai/ladoscuro/SR%20model%20benchmarking</a>"
      ]
     },
     "metadata": {},
     "output_type": "display_data"
    },
    {
     "data": {
      "text/plain": [
       "<IPython.core.display.HTML object>"
      ],
      "text/html": [
       " View run at <a href='https://wandb.ai/ladoscuro/SR%20model%20benchmarking/runs/xuh10ojg/workspace' target=\"_blank\">https://wandb.ai/ladoscuro/SR%20model%20benchmarking/runs/xuh10ojg/workspace</a>"
      ]
     },
     "metadata": {},
     "output_type": "display_data"
    },
    {
     "name": "stderr",
     "output_type": "stream",
     "text": [
      "100%|██████████| 7/7 [00:05<00:00,  1.29batch/s]\n",
      "100%|██████████| 19/19 [00:18<00:00,  1.06batch/s]\n",
      "100%|██████████| 7/7 [00:03<00:00,  1.80batch/s]\n",
      "100%|██████████| 19/19 [00:12<00:00,  1.54batch/s]\n",
      "100%|██████████| 7/7 [00:03<00:00,  1.82batch/s]\n",
      "100%|██████████| 19/19 [00:12<00:00,  1.55batch/s]\n",
      "100%|██████████| 7/7 [00:03<00:00,  1.84batch/s]\n",
      "100%|██████████| 19/19 [00:12<00:00,  1.55batch/s]\n",
      "100%|██████████| 7/7 [00:03<00:00,  1.82batch/s]\n",
      "100%|██████████| 19/19 [00:12<00:00,  1.54batch/s]\n",
      "100%|██████████| 7/7 [00:03<00:00,  1.80batch/s]\n",
      "100%|██████████| 19/19 [00:12<00:00,  1.54batch/s]\n",
      "100%|██████████| 7/7 [00:03<00:00,  1.79batch/s]\n",
      "100%|██████████| 19/19 [00:12<00:00,  1.54batch/s]\n",
      "100%|██████████| 7/7 [00:03<00:00,  1.79batch/s]\n",
      "100%|██████████| 19/19 [00:12<00:00,  1.54batch/s]\n",
      "100%|██████████| 7/7 [00:03<00:00,  1.80batch/s]\n",
      "100%|██████████| 19/19 [00:12<00:00,  1.54batch/s]\n",
      "100%|██████████| 7/7 [00:03<00:00,  1.80batch/s]\n",
      "100%|██████████| 19/19 [00:12<00:00,  1.55batch/s]\n",
      "100%|██████████| 7/7 [00:03<00:00,  1.82batch/s]\n",
      "100%|██████████| 19/19 [00:12<00:00,  1.55batch/s]\n",
      "100%|██████████| 7/7 [00:03<00:00,  1.81batch/s]\n",
      "100%|██████████| 19/19 [00:12<00:00,  1.54batch/s]\n",
      "100%|██████████| 7/7 [00:03<00:00,  1.82batch/s]\n",
      "100%|██████████| 19/19 [00:12<00:00,  1.55batch/s]\n",
      "100%|██████████| 7/7 [00:03<00:00,  1.79batch/s]\n",
      "100%|██████████| 19/19 [00:12<00:00,  1.54batch/s]\n",
      "100%|██████████| 7/7 [00:03<00:00,  1.82batch/s]\n",
      "100%|██████████| 19/19 [00:12<00:00,  1.54batch/s]\n",
      "100%|██████████| 7/7 [00:03<00:00,  1.82batch/s]\n",
      "100%|██████████| 19/19 [00:12<00:00,  1.55batch/s]\n",
      "100%|██████████| 7/7 [00:03<00:00,  1.81batch/s]\n",
      "100%|██████████| 19/19 [00:12<00:00,  1.55batch/s]\n",
      "100%|██████████| 7/7 [00:03<00:00,  1.82batch/s]\n",
      "100%|██████████| 19/19 [00:12<00:00,  1.54batch/s]\n",
      "100%|██████████| 7/7 [00:03<00:00,  1.82batch/s]\n",
      "100%|██████████| 19/19 [00:12<00:00,  1.54batch/s]\n",
      "100%|██████████| 7/7 [00:03<00:00,  1.78batch/s]\n",
      "100%|██████████| 19/19 [00:12<00:00,  1.54batch/s]\n",
      "100%|██████████| 7/7 [00:03<00:00,  1.79batch/s]\n",
      "100%|██████████| 19/19 [00:12<00:00,  1.54batch/s]\n",
      "100%|██████████| 7/7 [00:03<00:00,  1.81batch/s]\n",
      "100%|██████████| 19/19 [00:12<00:00,  1.54batch/s]\n",
      "100%|██████████| 7/7 [00:03<00:00,  1.80batch/s]\n",
      "100%|██████████| 19/19 [00:12<00:00,  1.54batch/s]\n",
      "100%|██████████| 7/7 [00:03<00:00,  1.83batch/s]\n",
      "100%|██████████| 19/19 [00:12<00:00,  1.54batch/s]\n",
      "100%|██████████| 7/7 [00:03<00:00,  1.82batch/s]\n",
      "100%|██████████| 19/19 [00:12<00:00,  1.54batch/s]\n",
      "100%|██████████| 7/7 [00:03<00:00,  1.79batch/s]\n",
      "100%|██████████| 19/19 [00:12<00:00,  1.55batch/s]\n",
      "100%|██████████| 7/7 [00:03<00:00,  1.80batch/s]\n",
      "100%|██████████| 19/19 [00:12<00:00,  1.53batch/s]\n",
      "100%|██████████| 7/7 [00:03<00:00,  1.80batch/s]\n",
      "100%|██████████| 19/19 [00:12<00:00,  1.54batch/s]\n",
      "100%|██████████| 7/7 [00:03<00:00,  1.80batch/s]\n",
      "100%|██████████| 19/19 [00:12<00:00,  1.54batch/s]\n",
      "100%|██████████| 7/7 [00:03<00:00,  1.78batch/s]\n",
      "100%|██████████| 19/19 [00:12<00:00,  1.54batch/s]\n",
      "100%|██████████| 7/7 [00:03<00:00,  1.80batch/s]\n",
      "100%|██████████| 19/19 [00:12<00:00,  1.54batch/s]\n",
      "100%|██████████| 7/7 [00:03<00:00,  1.81batch/s]\n",
      "100%|██████████| 19/19 [00:12<00:00,  1.54batch/s]\n",
      "100%|██████████| 7/7 [00:03<00:00,  1.79batch/s]\n",
      "100%|██████████| 19/19 [00:12<00:00,  1.54batch/s]\n",
      "100%|██████████| 7/7 [00:03<00:00,  1.82batch/s]\n",
      "100%|██████████| 19/19 [00:12<00:00,  1.54batch/s]\n",
      "100%|██████████| 7/7 [00:03<00:00,  1.81batch/s]\n",
      "100%|██████████| 19/19 [00:12<00:00,  1.53batch/s]\n",
      "100%|██████████| 7/7 [00:03<00:00,  1.80batch/s]\n",
      "100%|██████████| 19/19 [00:12<00:00,  1.55batch/s]\n",
      "100%|██████████| 7/7 [00:03<00:00,  1.81batch/s]\n",
      "100%|██████████| 19/19 [00:12<00:00,  1.54batch/s]\n",
      "100%|██████████| 7/7 [00:03<00:00,  1.82batch/s]\n",
      "100%|██████████| 19/19 [00:12<00:00,  1.53batch/s]\n",
      "100%|██████████| 7/7 [00:03<00:00,  1.80batch/s]\n",
      "100%|██████████| 19/19 [00:12<00:00,  1.54batch/s]\n",
      "100%|██████████| 7/7 [00:03<00:00,  1.83batch/s]\n",
      "100%|██████████| 19/19 [00:12<00:00,  1.54batch/s]\n",
      "100%|██████████| 7/7 [00:03<00:00,  1.82batch/s]\n",
      "100%|██████████| 19/19 [00:12<00:00,  1.55batch/s]\n",
      "100%|██████████| 7/7 [00:03<00:00,  1.79batch/s]\n",
      "100%|██████████| 19/19 [00:12<00:00,  1.55batch/s]\n",
      "100%|██████████| 7/7 [00:03<00:00,  1.79batch/s]\n",
      "100%|██████████| 19/19 [00:12<00:00,  1.54batch/s]\n",
      "100%|██████████| 7/7 [00:03<00:00,  1.81batch/s]\n",
      "100%|██████████| 19/19 [00:12<00:00,  1.54batch/s]\n",
      "100%|██████████| 7/7 [00:03<00:00,  1.81batch/s]\n",
      "100%|██████████| 19/19 [00:12<00:00,  1.54batch/s]\n",
      "100%|██████████| 7/7 [00:03<00:00,  1.82batch/s]\n",
      "100%|██████████| 19/19 [00:12<00:00,  1.54batch/s]\n",
      "100%|██████████| 7/7 [00:03<00:00,  1.80batch/s]\n",
      "100%|██████████| 19/19 [00:12<00:00,  1.54batch/s]\n",
      "100%|██████████| 7/7 [00:03<00:00,  1.79batch/s]\n",
      "100%|██████████| 19/19 [00:12<00:00,  1.54batch/s]\n",
      "100%|██████████| 7/7 [00:03<00:00,  1.81batch/s]\n",
      "100%|██████████| 19/19 [00:12<00:00,  1.54batch/s]\n",
      "100%|██████████| 7/7 [00:03<00:00,  1.81batch/s]\n",
      "100%|██████████| 19/19 [00:12<00:00,  1.54batch/s]\n",
      "100%|██████████| 7/7 [00:03<00:00,  1.81batch/s]\n",
      "100%|██████████| 19/19 [00:12<00:00,  1.54batch/s]\n",
      "100%|██████████| 7/7 [00:03<00:00,  1.82batch/s]\n",
      "100%|██████████| 19/19 [00:12<00:00,  1.55batch/s]\n",
      "100%|██████████| 7/7 [00:03<00:00,  1.81batch/s]\n",
      "100%|██████████| 19/19 [00:12<00:00,  1.54batch/s]\n",
      "100%|██████████| 7/7 [00:03<00:00,  1.79batch/s]\n",
      "100%|██████████| 19/19 [00:12<00:00,  1.55batch/s]\n",
      "100%|██████████| 7/7 [00:03<00:00,  1.78batch/s]\n",
      "100%|██████████| 19/19 [00:12<00:00,  1.53batch/s]\n",
      "100%|██████████| 7/7 [00:03<00:00,  1.83batch/s]\n",
      "100%|██████████| 19/19 [00:12<00:00,  1.54batch/s]\n",
      "100%|██████████| 7/7 [00:03<00:00,  1.80batch/s]\n",
      "100%|██████████| 19/19 [00:12<00:00,  1.54batch/s]\n",
      "100%|██████████| 7/7 [00:03<00:00,  1.79batch/s]\n",
      "100%|██████████| 19/19 [00:12<00:00,  1.53batch/s]\n",
      "100%|██████████| 7/7 [00:03<00:00,  1.80batch/s]\n",
      "100%|██████████| 19/19 [00:12<00:00,  1.53batch/s]\n",
      "100%|██████████| 7/7 [00:03<00:00,  1.81batch/s]\n",
      "100%|██████████| 19/19 [00:12<00:00,  1.54batch/s]\n",
      "100%|██████████| 7/7 [00:03<00:00,  1.83batch/s]\n",
      "100%|██████████| 19/19 [00:12<00:00,  1.53batch/s]\n",
      "100%|██████████| 7/7 [00:03<00:00,  1.80batch/s]\n",
      "100%|██████████| 19/19 [00:12<00:00,  1.54batch/s]\n",
      "100%|██████████| 7/7 [00:03<00:00,  1.80batch/s]\n",
      "100%|██████████| 19/19 [00:12<00:00,  1.54batch/s]\n",
      "100%|██████████| 7/7 [00:03<00:00,  1.77batch/s]\n",
      "100%|██████████| 19/19 [00:12<00:00,  1.55batch/s]\n",
      "100%|██████████| 7/7 [00:03<00:00,  1.80batch/s]\n",
      "100%|██████████| 19/19 [00:12<00:00,  1.54batch/s]\n",
      "100%|██████████| 7/7 [00:03<00:00,  1.80batch/s]\n",
      "100%|██████████| 19/19 [00:12<00:00,  1.55batch/s]\n",
      "100%|██████████| 7/7 [00:03<00:00,  1.80batch/s]\n",
      "100%|██████████| 19/19 [00:12<00:00,  1.54batch/s]\n",
      "100%|██████████| 7/7 [00:03<00:00,  1.81batch/s]\n",
      "100%|██████████| 19/19 [00:12<00:00,  1.53batch/s]\n",
      "100%|██████████| 7/7 [00:03<00:00,  1.79batch/s]\n",
      "100%|██████████| 19/19 [00:12<00:00,  1.55batch/s]\n",
      "100%|██████████| 7/7 [00:03<00:00,  1.80batch/s]\n",
      "100%|██████████| 19/19 [00:12<00:00,  1.55batch/s]\n",
      "100%|██████████| 7/7 [00:03<00:00,  1.81batch/s]\n",
      "100%|██████████| 19/19 [00:12<00:00,  1.54batch/s]\n",
      "100%|██████████| 7/7 [00:03<00:00,  1.83batch/s]\n",
      "100%|██████████| 19/19 [00:12<00:00,  1.54batch/s]\n",
      "100%|██████████| 7/7 [00:03<00:00,  1.79batch/s]\n",
      "100%|██████████| 19/19 [00:12<00:00,  1.55batch/s]\n",
      "100%|██████████| 7/7 [00:03<00:00,  1.83batch/s]\n",
      "100%|██████████| 19/19 [00:12<00:00,  1.53batch/s]\n",
      "100%|██████████| 7/7 [00:03<00:00,  1.80batch/s]\n",
      "100%|██████████| 19/19 [00:12<00:00,  1.54batch/s]\n",
      "100%|██████████| 7/7 [00:03<00:00,  1.78batch/s]\n",
      "100%|██████████| 19/19 [00:12<00:00,  1.53batch/s]\n",
      "100%|██████████| 7/7 [00:03<00:00,  1.81batch/s]\n",
      "100%|██████████| 19/19 [00:12<00:00,  1.54batch/s]\n",
      "100%|██████████| 7/7 [00:03<00:00,  1.82batch/s]\n",
      "100%|██████████| 19/19 [00:12<00:00,  1.53batch/s]\n",
      "100%|██████████| 7/7 [00:03<00:00,  1.81batch/s]\n",
      "100%|██████████| 19/19 [00:12<00:00,  1.54batch/s]\n",
      "100%|██████████| 7/7 [00:03<00:00,  1.80batch/s]\n",
      "100%|██████████| 19/19 [00:12<00:00,  1.54batch/s]\n",
      "100%|██████████| 7/7 [00:03<00:00,  1.83batch/s]\n",
      "100%|██████████| 19/19 [00:12<00:00,  1.54batch/s]\n",
      "100%|██████████| 7/7 [00:03<00:00,  1.81batch/s]\n",
      "100%|██████████| 19/19 [00:12<00:00,  1.54batch/s]\n",
      "100%|██████████| 7/7 [00:03<00:00,  1.80batch/s]\n",
      "100%|██████████| 19/19 [00:12<00:00,  1.54batch/s]\n",
      "100%|██████████| 7/7 [00:03<00:00,  1.80batch/s]\n",
      "100%|██████████| 19/19 [00:12<00:00,  1.55batch/s]\n",
      "100%|██████████| 7/7 [00:03<00:00,  1.80batch/s]\n",
      "100%|██████████| 19/19 [00:12<00:00,  1.54batch/s]\n",
      "100%|██████████| 7/7 [00:03<00:00,  1.82batch/s]\n",
      "100%|██████████| 19/19 [00:12<00:00,  1.55batch/s]\n",
      "100%|██████████| 7/7 [00:03<00:00,  1.79batch/s]\n",
      "100%|██████████| 19/19 [00:12<00:00,  1.54batch/s]\n",
      "100%|██████████| 7/7 [00:03<00:00,  1.79batch/s]\n",
      "100%|██████████| 19/19 [00:12<00:00,  1.54batch/s]\n",
      "100%|██████████| 7/7 [00:03<00:00,  1.82batch/s]\n",
      "100%|██████████| 19/19 [00:12<00:00,  1.55batch/s]\n",
      "100%|██████████| 7/7 [00:03<00:00,  1.78batch/s]\n",
      "100%|██████████| 19/19 [00:12<00:00,  1.54batch/s]\n",
      "100%|██████████| 7/7 [00:03<00:00,  1.83batch/s]\n",
      "100%|██████████| 19/19 [00:12<00:00,  1.54batch/s]\n",
      "100%|██████████| 7/7 [00:03<00:00,  1.80batch/s]\n",
      "100%|██████████| 19/19 [00:12<00:00,  1.55batch/s]\n",
      "100%|██████████| 7/7 [00:03<00:00,  1.81batch/s]\n",
      "100%|██████████| 19/19 [00:12<00:00,  1.54batch/s]\n",
      "100%|██████████| 7/7 [00:03<00:00,  1.82batch/s]\n",
      "100%|██████████| 19/19 [00:12<00:00,  1.54batch/s]\n",
      "100%|██████████| 7/7 [00:03<00:00,  1.81batch/s]\n",
      "100%|██████████| 19/19 [00:12<00:00,  1.55batch/s]\n",
      "100%|██████████| 7/7 [00:03<00:00,  1.81batch/s]\n",
      "100%|██████████| 19/19 [00:12<00:00,  1.54batch/s]\n",
      "100%|██████████| 7/7 [00:03<00:00,  1.79batch/s]\n",
      "100%|██████████| 19/19 [00:12<00:00,  1.54batch/s]\n",
      "100%|██████████| 7/7 [00:03<00:00,  1.79batch/s]\n",
      "100%|██████████| 19/19 [00:12<00:00,  1.55batch/s]\n",
      "100%|██████████| 7/7 [00:03<00:00,  1.80batch/s]\n",
      "100%|██████████| 19/19 [00:12<00:00,  1.54batch/s]\n",
      "100%|██████████| 7/7 [00:03<00:00,  1.80batch/s]\n",
      "100%|██████████| 19/19 [00:12<00:00,  1.53batch/s]\n",
      "100%|██████████| 7/7 [12:12<00:00, 104.63s/batch, psnr=2.51, ssim=0.00161]\n"
     ]
    },
    {
     "data": {
      "text/plain": [
       "VBox(children=(Label(value='0.007 MB of 0.042 MB uploaded (0.002 MB deduped)\\r'), FloatProgress(value=0.169956…"
      ],
      "application/vnd.jupyter.widget-view+json": {
       "version_major": 2,
       "version_minor": 0,
       "model_id": "14ce78fcb83e4da4b8460e24da02ef16"
      }
     },
     "metadata": {},
     "output_type": "display_data"
    },
    {
     "data": {
      "text/plain": [
       "<IPython.core.display.HTML object>"
      ],
      "text/html": [
       "W&B sync reduced upload amount by 5.6%             "
      ]
     },
     "metadata": {},
     "output_type": "display_data"
    },
    {
     "data": {
      "text/plain": [
       "<IPython.core.display.HTML object>"
      ],
      "text/html": [
       "<style>\n",
       "    table.wandb td:nth-child(1) { padding: 0 10px; text-align: left ; width: auto;} td:nth-child(2) {text-align: left ; width: 100%}\n",
       "    .wandb-row { display: flex; flex-direction: row; flex-wrap: wrap; justify-content: flex-start; width: 100% }\n",
       "    .wandb-col { display: flex; flex-direction: column; flex-basis: 100%; flex: 1; padding: 10px; }\n",
       "    </style>\n",
       "<div class=\"wandb-row\"><div class=\"wandb-col\"><h3>Run history:</h3><br/><table class=\"wandb\"><tr><td>psnr</td><td>▁</td></tr><tr><td>ssim</td><td>▁</td></tr><tr><td>train_loss</td><td>██▇▇▇▇▆▆▆▆▅▅▅▅▅▄▄▄▄▃▃▃▃▃▃▂▂▂▂▂▂▂▂▂▁▁▁▁▁▁</td></tr><tr><td>validation_loss</td><td>██▇▇▇▇▆▆▆▆▅▅▅▅▅▄▄▄▄▃▃▃▃▃▃▂▂▂▂▂▂▂▂▁▁▁▁▁▁▁</td></tr></table><br/></div><div class=\"wandb-col\"><h3>Run summary:</h3><br/><table class=\"wandb\"><tr><td>psnr</td><td>3.679</td></tr><tr><td>ssim</td><td>0.00189</td></tr><tr><td>train_loss</td><td>0.27829</td></tr><tr><td>validation_loss</td><td>0.28036</td></tr></table><br/></div></div>"
      ]
     },
     "metadata": {},
     "output_type": "display_data"
    },
    {
     "data": {
      "text/plain": [
       "<IPython.core.display.HTML object>"
      ],
      "text/html": [
       " View run <strong style=\"color:#cdcd00\">SR3 standart l1, 128Batch, 100k sampling</strong> at: <a href='https://wandb.ai/ladoscuro/SR%20model%20benchmarking/runs/xuh10ojg/workspace' target=\"_blank\">https://wandb.ai/ladoscuro/SR%20model%20benchmarking/runs/xuh10ojg/workspace</a><br/>Synced 5 W&B file(s), 0 media file(s), 2 artifact file(s) and 0 other file(s)"
      ]
     },
     "metadata": {},
     "output_type": "display_data"
    },
    {
     "data": {
      "text/plain": [
       "<IPython.core.display.HTML object>"
      ],
      "text/html": [
       "Find logs at: <code>.\\wandb\\run-20240529_151141-xuh10ojg\\logs</code>"
      ]
     },
     "metadata": {},
     "output_type": "display_data"
    }
   ],
   "execution_count": 9
  }
 ],
 "metadata": {
  "kernelspec": {
   "display_name": "Python 3",
   "language": "python",
   "name": "python3"
  },
  "language_info": {
   "codemirror_mode": {
    "name": "ipython",
    "version": 2
   },
   "file_extension": ".py",
   "mimetype": "text/x-python",
   "name": "python",
   "nbconvert_exporter": "python",
   "pygments_lexer": "ipython2",
   "version": "2.7.6"
  }
 },
 "nbformat": 4,
 "nbformat_minor": 5
}
