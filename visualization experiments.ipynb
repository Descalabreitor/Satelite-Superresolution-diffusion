{
 "cells": [
  {
   "metadata": {
    "ExecuteTime": {
     "end_time": "2024-05-31T20:29:10.295268Z",
     "start_time": "2024-05-31T20:29:08.050458Z"
    }
   },
   "cell_type": "code",
   "source": [
    "import PIL\n",
    "from torchvision import transforms\n",
    "\n",
    "def get_test_img(file):\n",
    "    test_img = PIL.Image.open(f'test pictures\\\\{file}')\n",
    "    return transforms.ToTensor()(test_img)"
   ],
   "id": "7663f02982214186",
   "outputs": [],
   "execution_count": 1
  },
  {
   "cell_type": "code",
   "id": "initial_id",
   "metadata": {
    "collapsed": true,
    "ExecuteTime": {
     "end_time": "2024-05-31T20:33:53.762268Z",
     "start_time": "2024-05-31T20:33:03.045679Z"
    }
   },
   "source": [
    "import torch\n",
    "import os\n",
    "from models.SR3Builder import SR3Builder\n",
    "from models.SRDIFFBuilder import SRDiffBuilder\n",
    "from utils.model_utils import load_model\n",
    "\n",
    "sr3_models = os.listdir('saved models\\\\SR3')\n",
    "device = torch.device(0)\n",
    "model_builder = SR3Builder()\n",
    "model = model_builder.set_standart().build()\n",
    "model.to(device)\n",
    "sr_images = []\n",
    "for sr3_model in sr3_models:\n",
    "    try:\n",
    "        torch.cuda.empty_cache()\n",
    "        model = load_model(model, sr3_model, 'saved models\\\\SR3\\\\')\n",
    "        bicubic = get_test_img(\"Amnesty POI-6-3-1.png\").unsqueeze(0).to(device)\n",
    "        lr = get_test_img(\"Amnesty POI-6-3-1-lr.png\").unsqueeze(0).to(device)    \n",
    "        sr = model.sample(bicubic)\n",
    "        torch.cuda.empty_cache()\n",
    "        sr_images.append(sr.squeeze().to('cpu').detach())\n",
    "    except Exception as e:\n",
    "        print(sr3_model, e)\n",
    "        continue"
   ],
   "outputs": [
    {
     "name": "stdout",
     "output_type": "stream",
     "text": [
      "The model weights have been loaded from 'saved models\\SR3\\SR3 standart 128 bach DA version 1.pt'\n",
      "The model weights have been loaded from 'saved models\\SR3\\SR3 Standart 128 bach DA.pt'\n",
      "The model weights have been loaded from 'saved models\\SR3\\SR3 Standart 128 bach.pt'\n",
      "The model weights have been loaded from 'saved models\\SR3\\SR3 standart 32 bach DA version 1.pt'\n",
      "The model weights have been loaded from 'saved models\\SR3\\SR3 Standart 32 bach DA.pt'\n",
      "The model weights have been loaded from 'saved models\\SR3\\SR3 Standart 32 bach.pt'\n",
      "The model weights have been loaded from 'saved models\\SR3\\SR3 standart 64 bach DA version 1.pt'\n",
      "The model weights have been loaded from 'saved models\\SR3\\SR3 Standart 64 bach DA.pt'\n",
      "The model weights have been loaded from 'saved models\\SR3\\SR3 Standart 64 bach.pt'\n",
      "The model weights have been loaded from 'saved models\\SR3\\SR3 Standart DA.pt'\n",
      "The model weights have been loaded from 'saved models\\SR3\\SR3 Standart l1 DA 128b.pt'\n",
      "The model weights have been loaded from 'saved models\\SR3\\SR3 Standart l1 DA GA2.pt'\n",
      "The model weights have been loaded from 'saved models\\SR3\\SR3 Standart l1 DA GA4.pt'\n",
      "The model weights have been loaded from 'saved models\\SR3\\SR3 Standart l1 DA.pt'\n",
      "The model weights have been loaded from 'saved models\\SR3\\SR3 Standart l2 loss.pt'\n",
      "The model weights have been loaded from 'saved models\\SR3\\SR3 Standart.pt'\n"
     ]
    }
   ],
   "execution_count": 4
  },
  {
   "metadata": {
    "ExecuteTime": {
     "end_time": "2024-05-31T20:34:18.259814Z",
     "start_time": "2024-05-31T20:34:17.958779Z"
    }
   },
   "cell_type": "code",
   "source": [
    "from utils.tensor_utils import tensor2img\n",
    "\n",
    "for idx, tensor in enumerate(sr_images):\n",
    "    img_np = tensor2img(tensor)\n",
    "    img = PIL.Image.fromarray(img_np)\n",
    "    img.save(f\"test pictures\\\\SR3\\\\{sr3_models[idx]}.png\")"
   ],
   "id": "89dd7956f1f269ed",
   "outputs": [],
   "execution_count": 5
  }
 ],
 "metadata": {
  "kernelspec": {
   "display_name": "Python 3",
   "language": "python",
   "name": "python3"
  },
  "language_info": {
   "codemirror_mode": {
    "name": "ipython",
    "version": 2
   },
   "file_extension": ".py",
   "mimetype": "text/x-python",
   "name": "python",
   "nbconvert_exporter": "python",
   "pygments_lexer": "ipython2",
   "version": "2.7.6"
  }
 },
 "nbformat": 4,
 "nbformat_minor": 5
}
