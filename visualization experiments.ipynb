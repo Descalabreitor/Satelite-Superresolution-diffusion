{
 "cells": [
  {
   "metadata": {
    "ExecuteTime": {
     "end_time": "2024-06-10T22:01:52.076359Z",
     "start_time": "2024-06-10T22:01:52.072867Z"
    }
   },
   "cell_type": "code",
   "source": [
    "import PIL\n",
    "from torchvision import transforms\n",
    "\n",
    "def get_test_img(file):\n",
    "    test_img = PIL.Image.open(f'test pictures\\\\{file}')\n",
    "    return transforms.ToTensor()(test_img)"
   ],
   "id": "7663f02982214186",
   "execution_count": 2,
   "outputs": []
  },
  {
   "cell_type": "code",
   "id": "initial_id",
   "metadata": {
    "collapsed": true,
    "ExecuteTime": {
     "end_time": "2024-06-11T08:07:22.137685Z",
     "start_time": "2024-06-11T08:07:16.120084Z"
    }
   },
   "source": [
    "import torch\n",
    "import os\n",
    "from models.SR3Builder import SR3Builder\n",
    "from models.SRDIFFBuilder import SRDiffBuilder\n",
    "from utils.model_utils import load_model\n",
    "\n",
    "sr3_models = os.listdir('saved models\\\\SRDiff\\\\Distributed\\\\Version 3')\n",
    "device = torch.device(0)\n",
    "model_builder = SRDiffBuilder()\n",
    "model = model_builder.set_standart().build()\n",
    "model.to(device)\n",
    "sr_images = []\n",
    "for sr3_model in sr3_models:\n",
    "    try:\n",
    "        torch.cuda.empty_cache()\n",
    "        model = load_model(model, sr3_model, 'saved models\\\\SRDiff\\\\Distributed\\\\Version 3')\n",
    "        bicubic = get_test_img(\"Amnesty POI-6-3-1.png\").unsqueeze(0).to(device)\n",
    "        lr = get_test_img(\"Amnesty POI-6-3-1-lr.png\").unsqueeze(0).to(device)    \n",
    "        sr, _ = model.sample(lr, bicubic, (1, 3, 256,256), use_rrdb=True)\n",
    "        torch.cuda.empty_cache()\n",
    "        sr.append(sr.squeeze().to('cpu').detach())\n",
    "    except Exception as e:\n",
    "        print(sr3_model, e)\n",
    "        continue"
   ],
   "execution_count": 11,
   "outputs": []
  },
  {
   "metadata": {
    "ExecuteTime": {
     "end_time": "2024-06-11T08:07:22.183685Z",
     "start_time": "2024-06-11T08:07:22.138698Z"
    }
   },
   "cell_type": "code",
   "source": [
    "from utils.tensor_utils import tensor2img\n",
    "\n",
    "for idx, tensor in enumerate(sr_images):\n",
    "    img_np = tensor2img(tensor)\n",
    "    img = PIL.Image.fromarray(img_np)\n",
    "    img.save(f\"test pictures\\\\SRDiff\\\\Distributed\\\\Version 3\\\\{sr3_models[idx]}.png\")"
   ],
   "id": "89dd7956f1f269ed",
   "execution_count": 12,
   "outputs": []
  }
 ],
 "metadata": {
  "kernelspec": {
   "display_name": "Python 3",
   "language": "python",
   "name": "python3"
  },
  "language_info": {
   "codemirror_mode": {
    "name": "ipython",
    "version": 2
   },
   "file_extension": ".py",
   "mimetype": "text/x-python",
   "name": "python",
   "nbconvert_exporter": "python",
   "pygments_lexer": "ipython2",
   "version": "2.7.6"
  }
 },
 "nbformat": 4,
 "nbformat_minor": 5
}
