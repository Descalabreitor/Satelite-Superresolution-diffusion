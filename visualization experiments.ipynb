{
 "cells": [
  {
   "metadata": {
    "ExecuteTime": {
     "end_time": "2024-07-05T13:42:30.058852Z",
     "start_time": "2024-07-05T13:42:30.054976Z"
    }
   },
   "cell_type": "code",
   "source": [
    "import PIL\n",
    "from torchvision import transforms\n",
    "\n",
    "def get_test_img(file):\n",
    "    test_img = PIL.Image.open(f'test pictures\\\\{file}')\n",
    "    return transforms.ToTensor()(test_img)"
   ],
   "id": "7663f02982214186",
   "outputs": [],
   "execution_count": 15
  },
  {
   "cell_type": "code",
   "id": "initial_id",
   "metadata": {
    "collapsed": true,
    "ExecuteTime": {
     "end_time": "2024-07-05T13:06:19.378282Z",
     "start_time": "2024-07-05T13:06:14.889250Z"
    }
   },
   "source": [
    "import torch\n",
    "import os\n",
    "from models.SRDIFFBuilder import SRDiffBuilder\n",
    "from utils.model_utils import load_model\n",
    "\n",
    "saved_dir = 'C:\\\\Users\\\\adria\\\\Desktop\\\\TFG-code\\\\SR-model-benchmarking\\\\final_models\\\\SRDiff'\n",
    "models_files = os.listdir(saved_dir)\n",
    "device = torch.device(0)\n",
    "model_builder = SRDiffBuilder()\n",
    "model_builder = model_builder.set_standart()\n",
    "sr_images = []\n",
    "for model_file, timesteps in zip(models_files[:-1], (200, 300) ):\n",
    "    try:\n",
    "        torch.cuda.empty_cache()\n",
    "        bicubic = get_test_img(\"Amnesty POI-6-3-1.png\").unsqueeze(0).to(device)\n",
    "        lr = get_test_img(\"Amnesty POI-6-3-1-lr.png\").unsqueeze(0).to(device)    \n",
    "        model_builder = model_builder.set_timesteps(timesteps)\n",
    "        model, _ = model_builder.build()\n",
    "        model.to(device)\n",
    "        model = load_model(model, model_file, saved_dir)\n",
    "        \n",
    "        sr, _ = model.sample(lr, bicubic, (1, 3, 256,256), use_rrdb=True)\n",
    "        torch.cuda.empty_cache()\n",
    "        sr_images.append(sr.squeeze().to('cpu').detach())\n",
    "    except Exception as e:\n",
    "        print(e)\n",
    "        continue"
   ],
   "outputs": [
    {
     "name": "stdout",
     "output_type": "stream",
     "text": [
      "The model weights have been loaded from 'C:\\Users\\adria\\Desktop\\TFG-code\\SR-model-benchmarking\\final_models\\SRDiff\\SRDiff_200steps_300epochs.pt'\n",
      "The model weights have been loaded from 'C:\\Users\\adria\\Desktop\\TFG-code\\SR-model-benchmarking\\final_models\\SRDiff\\SRDiff_300steps_100epochs.pt'\n"
     ]
    }
   ],
   "execution_count": 11
  },
  {
   "metadata": {
    "ExecuteTime": {
     "end_time": "2024-07-05T13:08:02.615480Z",
     "start_time": "2024-07-05T13:08:02.559265Z"
    }
   },
   "cell_type": "code",
   "source": [
    "from utils.tensor_utils import tensor2img\n",
    "\n",
    "for idx, tensor in enumerate(sr_images):\n",
    "    img_np = tensor2img(tensor)\n",
    "    img = PIL.Image.fromarray(img_np)\n",
    "    img.save(f\"test pictures\\\\SRDiff\\\\{models_files[idx]}.png\")"
   ],
   "id": "89dd7956f1f269ed",
   "outputs": [],
   "execution_count": 13
  },
  {
   "metadata": {
    "ExecuteTime": {
     "end_time": "2024-07-05T13:52:17.355380Z",
     "start_time": "2024-07-05T13:51:38.688993Z"
    }
   },
   "cell_type": "code",
   "source": [
    "from models.SR32Builder import SR32Builder \n",
    "\n",
    "model_dir = 'C:\\\\Users\\\\adria\\\\Desktop\\\\TFG-code\\\\SR-model-benchmarking\\\\final_models\\\\SR3\\\\SR3+ Epoch50.pt'\n",
    "model_builder = SR32Builder()\n",
    "model_builder = model_builder.set_plus()\n",
    "model = model_builder.build()\n",
    "model.to(device)\n",
    "\n",
    "bicubic = get_test_img(\"Amnesty POI-6-3-1.png\").unsqueeze(0).to(device)\n",
    "lr = get_test_img(\"Amnesty POI-6-3-1-lr.png\").unsqueeze(0).to(device)\n",
    "\n",
    "sr = model.super_resolution(bicubic)"
   ],
   "id": "eb34472ef7e2a0c9",
   "outputs": [
    {
     "name": "stderr",
     "output_type": "stream",
     "text": [
      "sampling loop time step: 100%|██████████| 2000/2000 [00:38<00:00, 52.32it/s]\n"
     ]
    }
   ],
   "execution_count": 21
  },
  {
   "metadata": {
    "ExecuteTime": {
     "end_time": "2024-07-05T13:52:52.652779Z",
     "start_time": "2024-07-05T13:52:52.626834Z"
    }
   },
   "cell_type": "code",
   "source": [
    "img_np = tensor2img(sr)\n",
    "img = PIL.Image.fromarray(img_np)\n",
    "img.save(f\"test pictures\\\\SR3_plus.png\")"
   ],
   "id": "7f2b80ff379eeb4f",
   "outputs": [],
   "execution_count": 22
  }
 ],
 "metadata": {
  "kernelspec": {
   "display_name": "Python 3",
   "language": "python",
   "name": "python3"
  },
  "language_info": {
   "codemirror_mode": {
    "name": "ipython",
    "version": 2
   },
   "file_extension": ".py",
   "mimetype": "text/x-python",
   "name": "python",
   "nbconvert_exporter": "python",
   "pygments_lexer": "ipython2",
   "version": "2.7.6"
  }
 },
 "nbformat": 4,
 "nbformat_minor": 5
}
