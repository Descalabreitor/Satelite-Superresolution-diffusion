{
 "cells": [
  {
   "metadata": {
    "ExecuteTime": {
     "end_time": "2024-05-31T10:09:52.460894Z",
     "start_time": "2024-05-31T10:09:50.566821Z"
    }
   },
   "cell_type": "code",
   "source": [
    "import PIL\n",
    "from torchvision import transforms\n",
    "\n",
    "def get_test_img(file):\n",
    "    test_img = PIL.Image.open(f'test pictures\\\\{file}')\n",
    "    return transforms.ToTensor()(test_img)"
   ],
   "id": "7663f02982214186",
   "outputs": [],
   "execution_count": 1
  },
  {
   "cell_type": "code",
   "id": "initial_id",
   "metadata": {
    "collapsed": true,
    "ExecuteTime": {
     "end_time": "2024-05-31T10:10:23.436726Z",
     "start_time": "2024-05-31T10:10:17.039817Z"
    }
   },
   "source": [
    "import torch\n",
    "import os\n",
    "from models.SR3Builder import SR3Builder\n",
    "from models.SRDIFFBuilder import SRDiffBuilder\n",
    "from utils.model_utils import load_model\n",
    "\n",
    "sr3_models = os.listdir('saved models\\\\SRDiff')\n",
    "device = torch.device(0)\n",
    "model_builder = SRDiffBuilder()\n",
    "model = model_builder.set_standart().build()\n",
    "model.to(device)\n",
    "sr_images = []\n",
    "for sr3_model in sr3_models:\n",
    "    torch.cuda.empty_cache()\n",
    "    model = load_model(model, sr3_model, 'saved models\\\\SRDiff\\\\')\n",
    "    bicubic = get_test_img(\"Amnesty POI-6-3-1.png\").unsqueeze(0).to(device)\n",
    "    lr = get_test_img(\"Amnesty POI-6-3-1-lr.png\").unsqueeze(0).to(device)    \n",
    "    sr, _ = model.sample(lr, bicubic, (1,3, 256, 256), True)\n",
    "    torch.cuda.empty_cache()\n",
    "    sr_images.append(sr.squeeze().to('cpu').detach())"
   ],
   "outputs": [
    {
     "name": "stdout",
     "output_type": "stream",
     "text": [
      "The model weights have been loaded from 'saved models\\SRDiff\\SRDiff Standart 128 bach.pt'\n",
      "The model weights have been loaded from 'saved models\\SRDiff\\SRDiff Standart 20 bach 100 ep DA rrdbfix.pt'\n",
      "The model weights have been loaded from 'saved models\\SRDiff\\SRDiff Standart 20 bach 20 ep DA rrdbfix.pt'\n",
      "The model weights have been loaded from 'saved models\\SRDiff\\SRDiff Standart 20 bach 20 ep DA.pt'\n",
      "The model weights have been loaded from 'saved models\\SRDiff\\SRDiff Standart 20 bach 50 ep DA.pt'\n",
      "The model weights have been loaded from 'saved models\\SRDiff\\SRDiff Standart 20 bach 50 ep.pt'\n",
      "The model weights have been loaded from 'saved models\\SRDiff\\SRDiff Standart 20 bach.pt'\n"
     ]
    }
   ],
   "execution_count": 3
  },
  {
   "metadata": {
    "ExecuteTime": {
     "end_time": "2024-05-31T10:10:54.714205Z",
     "start_time": "2024-05-31T10:10:54.613294Z"
    }
   },
   "cell_type": "code",
   "source": [
    "from utils.tensor_utils import tensor2img\n",
    "\n",
    "for idx, tensor in enumerate(sr_images):\n",
    "    img_np = tensor2img(tensor)\n",
    "    img = PIL.Image.fromarray(img_np)\n",
    "    img.save(f\"test pictures\\\\SRDiff\\\\{sr3_models[idx]}.png\")"
   ],
   "id": "89dd7956f1f269ed",
   "outputs": [],
   "execution_count": 4
  }
 ],
 "metadata": {
  "kernelspec": {
   "display_name": "Python 3",
   "language": "python",
   "name": "python3"
  },
  "language_info": {
   "codemirror_mode": {
    "name": "ipython",
    "version": 2
   },
   "file_extension": ".py",
   "mimetype": "text/x-python",
   "name": "python",
   "nbconvert_exporter": "python",
   "pygments_lexer": "ipython2",
   "version": "2.7.6"
  }
 },
 "nbformat": 4,
 "nbformat_minor": 5
}
