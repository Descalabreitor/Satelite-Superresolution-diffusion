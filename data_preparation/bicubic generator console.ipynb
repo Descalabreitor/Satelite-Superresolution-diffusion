{
 "cells": [
  {
   "cell_type": "code",
   "id": "initial_id",
   "metadata": {
    "collapsed": true,
    "ExecuteTime": {
     "end_time": "2024-05-22T17:31:30.337138Z",
     "start_time": "2024-05-22T17:22:23.639108Z"
    }
   },
   "source": [
    "import generate_bicubic\n",
    "\n",
    "parent_folder = \"E:\\\\TFG\\\\satelite_dataset\"\n",
    "\n",
    "generate_bicubic.process_images(f\"{parent_folder}\\\\64\", f\"{parent_folder}\\\\64_256\", (256, 256))"
   ],
   "outputs": [
    {
     "name": "stderr",
     "output_type": "stream",
     "text": [
      "100%|██████████| 31424/31424 [09:06<00:00, 57.48it/s] \n"
     ]
    }
   ],
   "execution_count": 2
  }
 ],
 "metadata": {
  "kernelspec": {
   "display_name": "Python 3",
   "language": "python",
   "name": "python3"
  },
  "language_info": {
   "codemirror_mode": {
    "name": "ipython",
    "version": 2
   },
   "file_extension": ".py",
   "mimetype": "text/x-python",
   "name": "python",
   "nbconvert_exporter": "python",
   "pygments_lexer": "ipython2",
   "version": "2.7.6"
  }
 },
 "nbformat": 4,
 "nbformat_minor": 5
}
