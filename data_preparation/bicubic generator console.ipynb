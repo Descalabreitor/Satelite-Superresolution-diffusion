{
 "cells": [
  {
   "cell_type": "code",
   "id": "initial_id",
   "metadata": {
    "collapsed": true,
    "ExecuteTime": {
     "end_time": "2024-05-26T19:06:59.336030Z",
     "start_time": "2024-05-26T19:05:56.791566Z"
    }
   },
   "source": [
    "import generate_bicubic\n",
    "\n",
    "parent_folder = \"E:\\\\TFG\\\\air_dataset\"\n",
    "\n",
    "generate_bicubic.process_images(f\"{parent_folder}\\\\64\", f\"{parent_folder}\\\\64_256\", (256, 256))"
   ],
   "outputs": [
    {
     "name": "stderr",
     "output_type": "stream",
     "text": [
      "100%|██████████| 3927/3927 [01:02<00:00, 63.06it/s]\n"
     ]
    }
   ],
   "execution_count": 1
  }
 ],
 "metadata": {
  "kernelspec": {
   "display_name": "Python 3",
   "language": "python",
   "name": "python3"
  },
  "language_info": {
   "codemirror_mode": {
    "name": "ipython",
    "version": 2
   },
   "file_extension": ".py",
   "mimetype": "text/x-python",
   "name": "python",
   "nbconvert_exporter": "python",
   "pygments_lexer": "ipython2",
   "version": "2.7.6"
  }
 },
 "nbformat": 4,
 "nbformat_minor": 5
}
