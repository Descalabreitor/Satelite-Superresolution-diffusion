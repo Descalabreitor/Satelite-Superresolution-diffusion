{
 "cells": [
  {
   "cell_type": "code",
   "id": "initial_id",
   "metadata": {
    "collapsed": true,
    "ExecuteTime": {
     "end_time": "2024-06-27T10:50:18.242131Z",
     "start_time": "2024-06-27T10:33:23.427982Z"
    }
   },
   "source": [
    "import generate_bicubic\n",
    " \n",
    "parent_folder = \"E:\\\\TFG\\\\satelite_dataset\"\n",
    "\n",
    "generate_bicubic.process_images(f\"{parent_folder}\\\\164\", f\"{parent_folder}\\\\164_256\", (256, 256), mehtod)"
   ],
   "outputs": [
    {
     "name": "stderr",
     "output_type": "stream",
     "text": [
      "100%|██████████| 31424/31424 [16:54<00:00, 30.98it/s]\n"
     ]
    }
   ],
   "execution_count": 1
  },
  {
   "metadata": {
    "ExecuteTime": {
     "end_time": "2024-06-27T11:28:35.062787Z",
     "start_time": "2024-06-27T11:28:34.537223Z"
    }
   },
   "cell_type": "code",
   "source": [
    "import files_syncronization\n",
    "\n",
    "files_syncronization.sync_revisitis(\"C:\\\\Users\\\\adria\\\\Desktop\\\\dataset_tfg\\\\256\", \"E:\\\\TFG\\\\satelite_dataset\\\\164_256\")"
   ],
   "id": "e93419477f4a4de3",
   "outputs": [
    {
     "name": "stderr",
     "output_type": "stream",
     "text": [
      "100%|██████████| 3850/3850 [00:00<00:00, 1924680.62it/s]\n",
      "100%|██████████| 31424/31424 [00:00<00:00, 62329.40it/s] \n"
     ]
    }
   ],
   "execution_count": 2
  }
 ],
 "metadata": {
  "kernelspec": {
   "display_name": "Python 3",
   "language": "python",
   "name": "python3"
  },
  "language_info": {
   "codemirror_mode": {
    "name": "ipython",
    "version": 2
   },
   "file_extension": ".py",
   "mimetype": "text/x-python",
   "name": "python",
   "nbconvert_exporter": "python",
   "pygments_lexer": "ipython2",
   "version": "2.7.6"
  }
 },
 "nbformat": 4,
 "nbformat_minor": 5
}
